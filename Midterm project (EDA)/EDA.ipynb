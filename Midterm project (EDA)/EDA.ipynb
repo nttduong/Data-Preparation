{
  "nbformat": 4,
  "nbformat_minor": 0,
  "metadata": {
    "colab": {
      "name": "EDA.ipynb",
      "provenance": [],
      "collapsed_sections": [
        "JrhLttS3n2p0",
        "QKvJHgeJoTf9"
      ]
    },
    "kernelspec": {
      "name": "python3",
      "display_name": "Python 3"
    },
    "language_info": {
      "name": "python"
    }
  },
  "cells": [
    {
      "cell_type": "markdown",
      "metadata": {
        "id": "0Cs7CVu3FFg6"
      },
      "source": [
        "# **BẦU CỬ TẠI ẤN ĐỘ NĂM 2019**\n",
        "\n",
        "\n"
      ]
    },
    {
      "cell_type": "markdown",
      "metadata": {
        "id": "XCQiir0s-l7R"
      },
      "source": [
        "Dữ liệu được thu thập từ MyNeta.info do Hiệp hội Cải cách Dân chủ và trang web của Ủy ban Bầu cử Ấn Độ duy trì. Dữ liệu nói về cuộc tổng tuyển cử vào Lok Sabha(Hạ viện) của nền dân chủ lớn nhất thế giới với hơn 600 triệu cử tri bỏ phiếu cho hơn 8500 ứng cử viên trên 543 khu vực bầu cử. Tập dữ liệu này sẽ cung cấp cho chúng ta những thông tin cá nhân cơ bản của từng ứng cử viên và số phiếu mà họ đã nhận được để có cái nhìn tổng quan về cuộc tổng tuyển cử."
      ]
    },
    {
      "cell_type": "markdown",
      "metadata": {
        "id": "5EeA5CKT9z6T"
      },
      "source": [
        "Nhiệm vụ chính trên tập dữ liệu: Phân tích EDA để hình dung tác động của các yếu tố ảnh hưởng như thế nào đến kết quả trúng cử của các ứng viên và sử dụng Machine Learning để dự đoán cơ hội chiến thắng của ứng viên"
      ]
    },
    {
      "cell_type": "markdown",
      "metadata": {
        "id": "JrhLttS3n2p0"
      },
      "source": [
        "## **XỬ LÝ DỮ LIỆU**"
      ]
    },
    {
      "cell_type": "code",
      "metadata": {
        "id": "Wbk_Xt_0EL50"
      },
      "source": [
        "import numpy as np\n",
        "import pandas as pd\n",
        "import matplotlib.pyplot as plt\n",
        "import seaborn as sns\n",
        "\n",
        "import plotly.graph_objects as go\n",
        "import plotly.offline as py\n",
        "import plotly.express as px"
      ],
      "execution_count": null,
      "outputs": []
    },
    {
      "cell_type": "code",
      "metadata": {
        "colab": {
          "base_uri": "https://localhost:8080/",
          "height": 408
        },
        "id": "tOnPT_syGMGj",
        "outputId": "2c2ee499-0183-41fc-f981-2bdc6eab9f71"
      },
      "source": [
        "df = pd.read_csv('/content/sample_data/LS_2.0.csv')\n",
        "df.head()"
      ],
      "execution_count": null,
      "outputs": [
        {
          "output_type": "execute_result",
          "data": {
            "text/html": [
              "<div>\n",
              "<style scoped>\n",
              "    .dataframe tbody tr th:only-of-type {\n",
              "        vertical-align: middle;\n",
              "    }\n",
              "\n",
              "    .dataframe tbody tr th {\n",
              "        vertical-align: top;\n",
              "    }\n",
              "\n",
              "    .dataframe thead th {\n",
              "        text-align: right;\n",
              "    }\n",
              "</style>\n",
              "<table border=\"1\" class=\"dataframe\">\n",
              "  <thead>\n",
              "    <tr style=\"text-align: right;\">\n",
              "      <th></th>\n",
              "      <th>STATE</th>\n",
              "      <th>CONSTITUENCY</th>\n",
              "      <th>NAME</th>\n",
              "      <th>WINNER</th>\n",
              "      <th>PARTY</th>\n",
              "      <th>SYMBOL</th>\n",
              "      <th>GENDER</th>\n",
              "      <th>CRIMINAL\\nCASES</th>\n",
              "      <th>AGE</th>\n",
              "      <th>CATEGORY</th>\n",
              "      <th>EDUCATION</th>\n",
              "      <th>ASSETS</th>\n",
              "      <th>LIABILITIES</th>\n",
              "      <th>GENERAL\\nVOTES</th>\n",
              "      <th>POSTAL\\nVOTES</th>\n",
              "      <th>TOTAL\\nVOTES</th>\n",
              "      <th>OVER TOTAL ELECTORS \\nIN CONSTITUENCY</th>\n",
              "      <th>OVER TOTAL VOTES POLLED \\nIN CONSTITUENCY</th>\n",
              "      <th>TOTAL ELECTORS</th>\n",
              "    </tr>\n",
              "  </thead>\n",
              "  <tbody>\n",
              "    <tr>\n",
              "      <th>0</th>\n",
              "      <td>Telangana</td>\n",
              "      <td>ADILABAD</td>\n",
              "      <td>SOYAM BAPU RAO</td>\n",
              "      <td>1</td>\n",
              "      <td>BJP</td>\n",
              "      <td>Lotus</td>\n",
              "      <td>MALE</td>\n",
              "      <td>52</td>\n",
              "      <td>52.0</td>\n",
              "      <td>ST</td>\n",
              "      <td>12th Pass</td>\n",
              "      <td>Rs 30,99,414\\n ~ 30 Lacs+</td>\n",
              "      <td>Rs 2,31,450\\n ~ 2 Lacs+</td>\n",
              "      <td>376892</td>\n",
              "      <td>482</td>\n",
              "      <td>377374</td>\n",
              "      <td>25.330684</td>\n",
              "      <td>35.468248</td>\n",
              "      <td>1489790</td>\n",
              "    </tr>\n",
              "    <tr>\n",
              "      <th>1</th>\n",
              "      <td>Telangana</td>\n",
              "      <td>ADILABAD</td>\n",
              "      <td>Godam Nagesh</td>\n",
              "      <td>0</td>\n",
              "      <td>TRS</td>\n",
              "      <td>Car</td>\n",
              "      <td>MALE</td>\n",
              "      <td>0</td>\n",
              "      <td>54.0</td>\n",
              "      <td>ST</td>\n",
              "      <td>Post Graduate</td>\n",
              "      <td>Rs 1,84,77,888\\n ~ 1 Crore+</td>\n",
              "      <td>Rs 8,47,000\\n ~ 8 Lacs+</td>\n",
              "      <td>318665</td>\n",
              "      <td>149</td>\n",
              "      <td>318814</td>\n",
              "      <td>21.399929</td>\n",
              "      <td>29.964370</td>\n",
              "      <td>1489790</td>\n",
              "    </tr>\n",
              "    <tr>\n",
              "      <th>2</th>\n",
              "      <td>Telangana</td>\n",
              "      <td>ADILABAD</td>\n",
              "      <td>RATHOD RAMESH</td>\n",
              "      <td>0</td>\n",
              "      <td>INC</td>\n",
              "      <td>Hand</td>\n",
              "      <td>MALE</td>\n",
              "      <td>3</td>\n",
              "      <td>52.0</td>\n",
              "      <td>ST</td>\n",
              "      <td>12th Pass</td>\n",
              "      <td>Rs 3,64,91,000\\n ~ 3 Crore+</td>\n",
              "      <td>Rs 1,53,00,000\\n ~ 1 Crore+</td>\n",
              "      <td>314057</td>\n",
              "      <td>181</td>\n",
              "      <td>314238</td>\n",
              "      <td>21.092771</td>\n",
              "      <td>29.534285</td>\n",
              "      <td>1489790</td>\n",
              "    </tr>\n",
              "    <tr>\n",
              "      <th>3</th>\n",
              "      <td>Telangana</td>\n",
              "      <td>ADILABAD</td>\n",
              "      <td>NOTA</td>\n",
              "      <td>0</td>\n",
              "      <td>NOTA</td>\n",
              "      <td>NaN</td>\n",
              "      <td>NaN</td>\n",
              "      <td>NaN</td>\n",
              "      <td>NaN</td>\n",
              "      <td>NaN</td>\n",
              "      <td>NaN</td>\n",
              "      <td>NaN</td>\n",
              "      <td>NaN</td>\n",
              "      <td>13030</td>\n",
              "      <td>6</td>\n",
              "      <td>13036</td>\n",
              "      <td>0.875023</td>\n",
              "      <td>1.225214</td>\n",
              "      <td>1489790</td>\n",
              "    </tr>\n",
              "    <tr>\n",
              "      <th>4</th>\n",
              "      <td>Uttar Pradesh</td>\n",
              "      <td>AGRA</td>\n",
              "      <td>Satyapal Singh Baghel</td>\n",
              "      <td>1</td>\n",
              "      <td>BJP</td>\n",
              "      <td>Lotus</td>\n",
              "      <td>MALE</td>\n",
              "      <td>5</td>\n",
              "      <td>58.0</td>\n",
              "      <td>SC</td>\n",
              "      <td>Doctorate</td>\n",
              "      <td>Rs 7,42,74,036\\n ~ 7 Crore+</td>\n",
              "      <td>Rs 86,06,522\\n ~ 86 Lacs+</td>\n",
              "      <td>644459</td>\n",
              "      <td>2416</td>\n",
              "      <td>646875</td>\n",
              "      <td>33.383823</td>\n",
              "      <td>56.464615</td>\n",
              "      <td>1937690</td>\n",
              "    </tr>\n",
              "  </tbody>\n",
              "</table>\n",
              "</div>"
            ],
            "text/plain": [
              "           STATE  ... TOTAL ELECTORS\n",
              "0      Telangana  ...        1489790\n",
              "1      Telangana  ...        1489790\n",
              "2      Telangana  ...        1489790\n",
              "3      Telangana  ...        1489790\n",
              "4  Uttar Pradesh  ...        1937690\n",
              "\n",
              "[5 rows x 19 columns]"
            ]
          },
          "metadata": {},
          "execution_count": 13
        }
      ]
    },
    {
      "cell_type": "code",
      "metadata": {
        "id": "zxk_jB_L60sn",
        "colab": {
          "base_uri": "https://localhost:8080/"
        },
        "outputId": "a7a2c359-1d14-49f2-d912-f2749b17f03a"
      },
      "source": [
        "df.shape"
      ],
      "execution_count": null,
      "outputs": [
        {
          "output_type": "execute_result",
          "data": {
            "text/plain": [
              "(2263, 19)"
            ]
          },
          "metadata": {},
          "execution_count": 14
        }
      ]
    },
    {
      "cell_type": "markdown",
      "metadata": {
        "id": "b5CfhlSv29uh"
      },
      "source": [
        "Nhìn vào đây thì ta thấy được tập dữ liệu có 2263 hàng và 19 cột"
      ]
    },
    {
      "cell_type": "markdown",
      "metadata": {
        "id": "i9jK5RWzIkUm"
      },
      "source": [
        "**Đổi tên các cột**"
      ]
    },
    {
      "cell_type": "code",
      "metadata": {
        "id": "h0zGkp9kHgiY",
        "colab": {
          "base_uri": "https://localhost:8080/",
          "height": 408
        },
        "outputId": "21707f9f-3d33-4115-d6e0-1e3fd6a6fb57"
      },
      "source": [
        "df.columns = df.columns.str.replace('\\n',' ')\n",
        "df.head()"
      ],
      "execution_count": null,
      "outputs": [
        {
          "output_type": "execute_result",
          "data": {
            "text/html": [
              "<div>\n",
              "<style scoped>\n",
              "    .dataframe tbody tr th:only-of-type {\n",
              "        vertical-align: middle;\n",
              "    }\n",
              "\n",
              "    .dataframe tbody tr th {\n",
              "        vertical-align: top;\n",
              "    }\n",
              "\n",
              "    .dataframe thead th {\n",
              "        text-align: right;\n",
              "    }\n",
              "</style>\n",
              "<table border=\"1\" class=\"dataframe\">\n",
              "  <thead>\n",
              "    <tr style=\"text-align: right;\">\n",
              "      <th></th>\n",
              "      <th>STATE</th>\n",
              "      <th>CONSTITUENCY</th>\n",
              "      <th>NAME</th>\n",
              "      <th>WINNER</th>\n",
              "      <th>PARTY</th>\n",
              "      <th>SYMBOL</th>\n",
              "      <th>GENDER</th>\n",
              "      <th>CRIMINAL CASES</th>\n",
              "      <th>AGE</th>\n",
              "      <th>CATEGORY</th>\n",
              "      <th>EDUCATION</th>\n",
              "      <th>ASSETS</th>\n",
              "      <th>LIABILITIES</th>\n",
              "      <th>GENERAL VOTES</th>\n",
              "      <th>POSTAL VOTES</th>\n",
              "      <th>TOTAL VOTES</th>\n",
              "      <th>OVER TOTAL ELECTORS  IN CONSTITUENCY</th>\n",
              "      <th>OVER TOTAL VOTES POLLED  IN CONSTITUENCY</th>\n",
              "      <th>TOTAL ELECTORS</th>\n",
              "    </tr>\n",
              "  </thead>\n",
              "  <tbody>\n",
              "    <tr>\n",
              "      <th>0</th>\n",
              "      <td>Telangana</td>\n",
              "      <td>ADILABAD</td>\n",
              "      <td>SOYAM BAPU RAO</td>\n",
              "      <td>1</td>\n",
              "      <td>BJP</td>\n",
              "      <td>Lotus</td>\n",
              "      <td>MALE</td>\n",
              "      <td>52</td>\n",
              "      <td>52.0</td>\n",
              "      <td>ST</td>\n",
              "      <td>12th Pass</td>\n",
              "      <td>Rs 30,99,414\\n ~ 30 Lacs+</td>\n",
              "      <td>Rs 2,31,450\\n ~ 2 Lacs+</td>\n",
              "      <td>376892</td>\n",
              "      <td>482</td>\n",
              "      <td>377374</td>\n",
              "      <td>25.330684</td>\n",
              "      <td>35.468248</td>\n",
              "      <td>1489790</td>\n",
              "    </tr>\n",
              "    <tr>\n",
              "      <th>1</th>\n",
              "      <td>Telangana</td>\n",
              "      <td>ADILABAD</td>\n",
              "      <td>Godam Nagesh</td>\n",
              "      <td>0</td>\n",
              "      <td>TRS</td>\n",
              "      <td>Car</td>\n",
              "      <td>MALE</td>\n",
              "      <td>0</td>\n",
              "      <td>54.0</td>\n",
              "      <td>ST</td>\n",
              "      <td>Post Graduate</td>\n",
              "      <td>Rs 1,84,77,888\\n ~ 1 Crore+</td>\n",
              "      <td>Rs 8,47,000\\n ~ 8 Lacs+</td>\n",
              "      <td>318665</td>\n",
              "      <td>149</td>\n",
              "      <td>318814</td>\n",
              "      <td>21.399929</td>\n",
              "      <td>29.964370</td>\n",
              "      <td>1489790</td>\n",
              "    </tr>\n",
              "    <tr>\n",
              "      <th>2</th>\n",
              "      <td>Telangana</td>\n",
              "      <td>ADILABAD</td>\n",
              "      <td>RATHOD RAMESH</td>\n",
              "      <td>0</td>\n",
              "      <td>INC</td>\n",
              "      <td>Hand</td>\n",
              "      <td>MALE</td>\n",
              "      <td>3</td>\n",
              "      <td>52.0</td>\n",
              "      <td>ST</td>\n",
              "      <td>12th Pass</td>\n",
              "      <td>Rs 3,64,91,000\\n ~ 3 Crore+</td>\n",
              "      <td>Rs 1,53,00,000\\n ~ 1 Crore+</td>\n",
              "      <td>314057</td>\n",
              "      <td>181</td>\n",
              "      <td>314238</td>\n",
              "      <td>21.092771</td>\n",
              "      <td>29.534285</td>\n",
              "      <td>1489790</td>\n",
              "    </tr>\n",
              "    <tr>\n",
              "      <th>3</th>\n",
              "      <td>Telangana</td>\n",
              "      <td>ADILABAD</td>\n",
              "      <td>NOTA</td>\n",
              "      <td>0</td>\n",
              "      <td>NOTA</td>\n",
              "      <td>NaN</td>\n",
              "      <td>NaN</td>\n",
              "      <td>NaN</td>\n",
              "      <td>NaN</td>\n",
              "      <td>NaN</td>\n",
              "      <td>NaN</td>\n",
              "      <td>NaN</td>\n",
              "      <td>NaN</td>\n",
              "      <td>13030</td>\n",
              "      <td>6</td>\n",
              "      <td>13036</td>\n",
              "      <td>0.875023</td>\n",
              "      <td>1.225214</td>\n",
              "      <td>1489790</td>\n",
              "    </tr>\n",
              "    <tr>\n",
              "      <th>4</th>\n",
              "      <td>Uttar Pradesh</td>\n",
              "      <td>AGRA</td>\n",
              "      <td>Satyapal Singh Baghel</td>\n",
              "      <td>1</td>\n",
              "      <td>BJP</td>\n",
              "      <td>Lotus</td>\n",
              "      <td>MALE</td>\n",
              "      <td>5</td>\n",
              "      <td>58.0</td>\n",
              "      <td>SC</td>\n",
              "      <td>Doctorate</td>\n",
              "      <td>Rs 7,42,74,036\\n ~ 7 Crore+</td>\n",
              "      <td>Rs 86,06,522\\n ~ 86 Lacs+</td>\n",
              "      <td>644459</td>\n",
              "      <td>2416</td>\n",
              "      <td>646875</td>\n",
              "      <td>33.383823</td>\n",
              "      <td>56.464615</td>\n",
              "      <td>1937690</td>\n",
              "    </tr>\n",
              "  </tbody>\n",
              "</table>\n",
              "</div>"
            ],
            "text/plain": [
              "           STATE  ... TOTAL ELECTORS\n",
              "0      Telangana  ...        1489790\n",
              "1      Telangana  ...        1489790\n",
              "2      Telangana  ...        1489790\n",
              "3      Telangana  ...        1489790\n",
              "4  Uttar Pradesh  ...        1937690\n",
              "\n",
              "[5 rows x 19 columns]"
            ]
          },
          "metadata": {},
          "execution_count": 15
        }
      ]
    },
    {
      "cell_type": "code",
      "metadata": {
        "id": "xWh7I91WJosj",
        "colab": {
          "base_uri": "https://localhost:8080/"
        },
        "outputId": "4711d108-8221-454c-d7dd-91efe4d31a39"
      },
      "source": [
        "df.info()"
      ],
      "execution_count": null,
      "outputs": [
        {
          "output_type": "stream",
          "name": "stdout",
          "text": [
            "<class 'pandas.core.frame.DataFrame'>\n",
            "RangeIndex: 2263 entries, 0 to 2262\n",
            "Data columns (total 19 columns):\n",
            " #   Column                                    Non-Null Count  Dtype  \n",
            "---  ------                                    --------------  -----  \n",
            " 0   STATE                                     2263 non-null   object \n",
            " 1   CONSTITUENCY                              2263 non-null   object \n",
            " 2   NAME                                      2263 non-null   object \n",
            " 3   WINNER                                    2263 non-null   int64  \n",
            " 4   PARTY                                     2263 non-null   object \n",
            " 5   SYMBOL                                    2018 non-null   object \n",
            " 6   GENDER                                    2018 non-null   object \n",
            " 7   CRIMINAL CASES                            2018 non-null   object \n",
            " 8   AGE                                       2018 non-null   float64\n",
            " 9   CATEGORY                                  2018 non-null   object \n",
            " 10  EDUCATION                                 2018 non-null   object \n",
            " 11  ASSETS                                    2018 non-null   object \n",
            " 12  LIABILITIES                               2018 non-null   object \n",
            " 13  GENERAL VOTES                             2263 non-null   int64  \n",
            " 14  POSTAL VOTES                              2263 non-null   int64  \n",
            " 15  TOTAL VOTES                               2263 non-null   int64  \n",
            " 16  OVER TOTAL ELECTORS  IN CONSTITUENCY      2263 non-null   float64\n",
            " 17  OVER TOTAL VOTES POLLED  IN CONSTITUENCY  2263 non-null   float64\n",
            " 18  TOTAL ELECTORS                            2263 non-null   int64  \n",
            "dtypes: float64(3), int64(5), object(11)\n",
            "memory usage: 336.0+ KB\n"
          ]
        }
      ]
    },
    {
      "cell_type": "markdown",
      "metadata": {
        "id": "PnctIDMn3Jxv"
      },
      "source": [
        "Thông tin cho ta thấy được có 8 cột bị thiếu dữ liệu như: SYMBOL, GENDER, CRIMINAL CASES, AGE, CATEGORY, EDUCATION, ASSETS và LIABILITIES. Có 3 kiểu dữ liệu trong tập dữ liệu này là object, int64 và float 64."
      ]
    },
    {
      "cell_type": "markdown",
      "metadata": {
        "id": "IEhgiWhzG5Yr"
      },
      "source": [
        "**Xác định các giá trị Null trong các cột**"
      ]
    },
    {
      "cell_type": "code",
      "metadata": {
        "id": "Ui-6G9trGhXO",
        "colab": {
          "base_uri": "https://localhost:8080/"
        },
        "outputId": "58efcf40-31e5-4223-838f-4512c7981618"
      },
      "source": [
        "df.isnull().sum()"
      ],
      "execution_count": null,
      "outputs": [
        {
          "output_type": "execute_result",
          "data": {
            "text/plain": [
              "STATE                                         0\n",
              "CONSTITUENCY                                  0\n",
              "NAME                                          0\n",
              "WINNER                                        0\n",
              "PARTY                                         0\n",
              "SYMBOL                                      245\n",
              "GENDER                                      245\n",
              "CRIMINAL CASES                              245\n",
              "AGE                                         245\n",
              "CATEGORY                                    245\n",
              "EDUCATION                                   245\n",
              "ASSETS                                      245\n",
              "LIABILITIES                                 245\n",
              "GENERAL VOTES                                 0\n",
              "POSTAL VOTES                                  0\n",
              "TOTAL VOTES                                   0\n",
              "OVER TOTAL ELECTORS  IN CONSTITUENCY          0\n",
              "OVER TOTAL VOTES POLLED  IN CONSTITUENCY      0\n",
              "TOTAL ELECTORS                                0\n",
              "dtype: int64"
            ]
          },
          "metadata": {},
          "execution_count": 17
        }
      ]
    },
    {
      "cell_type": "markdown",
      "metadata": {
        "id": "NyFHXN1CPKp_"
      },
      "source": [
        "Các cột \"SYMBOL, GENDER, CRIMINAL CASES, AGE, CATEGORY, EDUCATION, ASSETS và LIABILITIES\" đều có 245 giá trị bị thiếu."
      ]
    },
    {
      "cell_type": "markdown",
      "metadata": {
        "id": "eXHuJtXgHI7Z"
      },
      "source": [
        "**Xác định các mục nhập rỗng trong dữ liệu**"
      ]
    },
    {
      "cell_type": "code",
      "metadata": {
        "id": "FnGNi18SG_Y9",
        "colab": {
          "base_uri": "https://localhost:8080/"
        },
        "outputId": "62dd7af0-a90d-4c44-844b-6a30dedc817c"
      },
      "source": [
        "df[df.SYMBOL.isnull()==True]['NAME'].unique()"
      ],
      "execution_count": null,
      "outputs": [
        {
          "output_type": "execute_result",
          "data": {
            "text/plain": [
              "array(['NOTA'], dtype=object)"
            ]
          },
          "metadata": {},
          "execution_count": 18
        }
      ]
    },
    {
      "cell_type": "markdown",
      "metadata": {
        "id": "2IYZokC4MxZO"
      },
      "source": [
        "**Xóa các giá trị Null và các giá trị trùng của các cột**"
      ]
    },
    {
      "cell_type": "markdown",
      "metadata": {
        "id": "l_zViGw8R11j"
      },
      "source": [
        "Các giá trị NULL bao gồm các bản ghi NOTA (Không có ở trên). Vì lúc này nó không thật sự cần thiết nên chúng tôi sẽ tạo một bản sao từ dữ liệu gốc rồi loại trừ tất cả các bản ghi NOTA."
      ]
    },
    {
      "cell_type": "code",
      "metadata": {
        "id": "yfa_VhOwLs7C",
        "colab": {
          "base_uri": "https://localhost:8080/",
          "height": 442
        },
        "outputId": "2504ca41-27c1-4070-b8fa-eb9ab443b8e9"
      },
      "source": [
        "df1 = df.copy()\n",
        "df_exclude_NOTA= df1.dropna()\n",
        "df_exclude_NOTA.head()"
      ],
      "execution_count": null,
      "outputs": [
        {
          "output_type": "execute_result",
          "data": {
            "text/html": [
              "<div>\n",
              "<style scoped>\n",
              "    .dataframe tbody tr th:only-of-type {\n",
              "        vertical-align: middle;\n",
              "    }\n",
              "\n",
              "    .dataframe tbody tr th {\n",
              "        vertical-align: top;\n",
              "    }\n",
              "\n",
              "    .dataframe thead th {\n",
              "        text-align: right;\n",
              "    }\n",
              "</style>\n",
              "<table border=\"1\" class=\"dataframe\">\n",
              "  <thead>\n",
              "    <tr style=\"text-align: right;\">\n",
              "      <th></th>\n",
              "      <th>STATE</th>\n",
              "      <th>CONSTITUENCY</th>\n",
              "      <th>NAME</th>\n",
              "      <th>WINNER</th>\n",
              "      <th>PARTY</th>\n",
              "      <th>SYMBOL</th>\n",
              "      <th>GENDER</th>\n",
              "      <th>CRIMINAL CASES</th>\n",
              "      <th>AGE</th>\n",
              "      <th>CATEGORY</th>\n",
              "      <th>EDUCATION</th>\n",
              "      <th>ASSETS</th>\n",
              "      <th>LIABILITIES</th>\n",
              "      <th>GENERAL VOTES</th>\n",
              "      <th>POSTAL VOTES</th>\n",
              "      <th>TOTAL VOTES</th>\n",
              "      <th>OVER TOTAL ELECTORS  IN CONSTITUENCY</th>\n",
              "      <th>OVER TOTAL VOTES POLLED  IN CONSTITUENCY</th>\n",
              "      <th>TOTAL ELECTORS</th>\n",
              "    </tr>\n",
              "  </thead>\n",
              "  <tbody>\n",
              "    <tr>\n",
              "      <th>0</th>\n",
              "      <td>Telangana</td>\n",
              "      <td>ADILABAD</td>\n",
              "      <td>SOYAM BAPU RAO</td>\n",
              "      <td>1</td>\n",
              "      <td>BJP</td>\n",
              "      <td>Lotus</td>\n",
              "      <td>MALE</td>\n",
              "      <td>52</td>\n",
              "      <td>52.0</td>\n",
              "      <td>ST</td>\n",
              "      <td>12th Pass</td>\n",
              "      <td>Rs 30,99,414\\n ~ 30 Lacs+</td>\n",
              "      <td>Rs 2,31,450\\n ~ 2 Lacs+</td>\n",
              "      <td>376892</td>\n",
              "      <td>482</td>\n",
              "      <td>377374</td>\n",
              "      <td>25.330684</td>\n",
              "      <td>35.468248</td>\n",
              "      <td>1489790</td>\n",
              "    </tr>\n",
              "    <tr>\n",
              "      <th>1</th>\n",
              "      <td>Telangana</td>\n",
              "      <td>ADILABAD</td>\n",
              "      <td>Godam Nagesh</td>\n",
              "      <td>0</td>\n",
              "      <td>TRS</td>\n",
              "      <td>Car</td>\n",
              "      <td>MALE</td>\n",
              "      <td>0</td>\n",
              "      <td>54.0</td>\n",
              "      <td>ST</td>\n",
              "      <td>Post Graduate</td>\n",
              "      <td>Rs 1,84,77,888\\n ~ 1 Crore+</td>\n",
              "      <td>Rs 8,47,000\\n ~ 8 Lacs+</td>\n",
              "      <td>318665</td>\n",
              "      <td>149</td>\n",
              "      <td>318814</td>\n",
              "      <td>21.399929</td>\n",
              "      <td>29.964370</td>\n",
              "      <td>1489790</td>\n",
              "    </tr>\n",
              "    <tr>\n",
              "      <th>2</th>\n",
              "      <td>Telangana</td>\n",
              "      <td>ADILABAD</td>\n",
              "      <td>RATHOD RAMESH</td>\n",
              "      <td>0</td>\n",
              "      <td>INC</td>\n",
              "      <td>Hand</td>\n",
              "      <td>MALE</td>\n",
              "      <td>3</td>\n",
              "      <td>52.0</td>\n",
              "      <td>ST</td>\n",
              "      <td>12th Pass</td>\n",
              "      <td>Rs 3,64,91,000\\n ~ 3 Crore+</td>\n",
              "      <td>Rs 1,53,00,000\\n ~ 1 Crore+</td>\n",
              "      <td>314057</td>\n",
              "      <td>181</td>\n",
              "      <td>314238</td>\n",
              "      <td>21.092771</td>\n",
              "      <td>29.534285</td>\n",
              "      <td>1489790</td>\n",
              "    </tr>\n",
              "    <tr>\n",
              "      <th>4</th>\n",
              "      <td>Uttar Pradesh</td>\n",
              "      <td>AGRA</td>\n",
              "      <td>Satyapal Singh Baghel</td>\n",
              "      <td>1</td>\n",
              "      <td>BJP</td>\n",
              "      <td>Lotus</td>\n",
              "      <td>MALE</td>\n",
              "      <td>5</td>\n",
              "      <td>58.0</td>\n",
              "      <td>SC</td>\n",
              "      <td>Doctorate</td>\n",
              "      <td>Rs 7,42,74,036\\n ~ 7 Crore+</td>\n",
              "      <td>Rs 86,06,522\\n ~ 86 Lacs+</td>\n",
              "      <td>644459</td>\n",
              "      <td>2416</td>\n",
              "      <td>646875</td>\n",
              "      <td>33.383823</td>\n",
              "      <td>56.464615</td>\n",
              "      <td>1937690</td>\n",
              "    </tr>\n",
              "    <tr>\n",
              "      <th>5</th>\n",
              "      <td>Uttar Pradesh</td>\n",
              "      <td>AGRA</td>\n",
              "      <td>Manoj Kumar Soni</td>\n",
              "      <td>0</td>\n",
              "      <td>BSP</td>\n",
              "      <td>Elephant</td>\n",
              "      <td>MALE</td>\n",
              "      <td>0</td>\n",
              "      <td>47.0</td>\n",
              "      <td>SC</td>\n",
              "      <td>Post Graduate</td>\n",
              "      <td>Rs 13,37,84,385\\n ~ 13 Crore+</td>\n",
              "      <td>Rs 2,22,51,891\\n ~ 2 Crore+</td>\n",
              "      <td>434199</td>\n",
              "      <td>1130</td>\n",
              "      <td>435329</td>\n",
              "      <td>22.466390</td>\n",
              "      <td>37.999125</td>\n",
              "      <td>1937690</td>\n",
              "    </tr>\n",
              "  </tbody>\n",
              "</table>\n",
              "</div>"
            ],
            "text/plain": [
              "           STATE  ... TOTAL ELECTORS\n",
              "0      Telangana  ...        1489790\n",
              "1      Telangana  ...        1489790\n",
              "2      Telangana  ...        1489790\n",
              "4  Uttar Pradesh  ...        1937690\n",
              "5  Uttar Pradesh  ...        1937690\n",
              "\n",
              "[5 rows x 19 columns]"
            ]
          },
          "metadata": {},
          "execution_count": 19
        }
      ]
    },
    {
      "cell_type": "code",
      "metadata": {
        "id": "9lOOCnH5Sxqy",
        "colab": {
          "base_uri": "https://localhost:8080/",
          "height": 442
        },
        "outputId": "cbbb6b27-c860-4495-b63d-cff3c9fe50d1"
      },
      "source": [
        "df_exclude_NOTA = df_exclude_NOTA.drop_duplicates()\n",
        "df_exclude_NOTA.head()"
      ],
      "execution_count": null,
      "outputs": [
        {
          "output_type": "execute_result",
          "data": {
            "text/html": [
              "<div>\n",
              "<style scoped>\n",
              "    .dataframe tbody tr th:only-of-type {\n",
              "        vertical-align: middle;\n",
              "    }\n",
              "\n",
              "    .dataframe tbody tr th {\n",
              "        vertical-align: top;\n",
              "    }\n",
              "\n",
              "    .dataframe thead th {\n",
              "        text-align: right;\n",
              "    }\n",
              "</style>\n",
              "<table border=\"1\" class=\"dataframe\">\n",
              "  <thead>\n",
              "    <tr style=\"text-align: right;\">\n",
              "      <th></th>\n",
              "      <th>STATE</th>\n",
              "      <th>CONSTITUENCY</th>\n",
              "      <th>NAME</th>\n",
              "      <th>WINNER</th>\n",
              "      <th>PARTY</th>\n",
              "      <th>SYMBOL</th>\n",
              "      <th>GENDER</th>\n",
              "      <th>CRIMINAL CASES</th>\n",
              "      <th>AGE</th>\n",
              "      <th>CATEGORY</th>\n",
              "      <th>EDUCATION</th>\n",
              "      <th>ASSETS</th>\n",
              "      <th>LIABILITIES</th>\n",
              "      <th>GENERAL VOTES</th>\n",
              "      <th>POSTAL VOTES</th>\n",
              "      <th>TOTAL VOTES</th>\n",
              "      <th>OVER TOTAL ELECTORS  IN CONSTITUENCY</th>\n",
              "      <th>OVER TOTAL VOTES POLLED  IN CONSTITUENCY</th>\n",
              "      <th>TOTAL ELECTORS</th>\n",
              "    </tr>\n",
              "  </thead>\n",
              "  <tbody>\n",
              "    <tr>\n",
              "      <th>0</th>\n",
              "      <td>Telangana</td>\n",
              "      <td>ADILABAD</td>\n",
              "      <td>SOYAM BAPU RAO</td>\n",
              "      <td>1</td>\n",
              "      <td>BJP</td>\n",
              "      <td>Lotus</td>\n",
              "      <td>MALE</td>\n",
              "      <td>52</td>\n",
              "      <td>52.0</td>\n",
              "      <td>ST</td>\n",
              "      <td>12th Pass</td>\n",
              "      <td>Rs 30,99,414\\n ~ 30 Lacs+</td>\n",
              "      <td>Rs 2,31,450\\n ~ 2 Lacs+</td>\n",
              "      <td>376892</td>\n",
              "      <td>482</td>\n",
              "      <td>377374</td>\n",
              "      <td>25.330684</td>\n",
              "      <td>35.468248</td>\n",
              "      <td>1489790</td>\n",
              "    </tr>\n",
              "    <tr>\n",
              "      <th>1</th>\n",
              "      <td>Telangana</td>\n",
              "      <td>ADILABAD</td>\n",
              "      <td>Godam Nagesh</td>\n",
              "      <td>0</td>\n",
              "      <td>TRS</td>\n",
              "      <td>Car</td>\n",
              "      <td>MALE</td>\n",
              "      <td>0</td>\n",
              "      <td>54.0</td>\n",
              "      <td>ST</td>\n",
              "      <td>Post Graduate</td>\n",
              "      <td>Rs 1,84,77,888\\n ~ 1 Crore+</td>\n",
              "      <td>Rs 8,47,000\\n ~ 8 Lacs+</td>\n",
              "      <td>318665</td>\n",
              "      <td>149</td>\n",
              "      <td>318814</td>\n",
              "      <td>21.399929</td>\n",
              "      <td>29.964370</td>\n",
              "      <td>1489790</td>\n",
              "    </tr>\n",
              "    <tr>\n",
              "      <th>2</th>\n",
              "      <td>Telangana</td>\n",
              "      <td>ADILABAD</td>\n",
              "      <td>RATHOD RAMESH</td>\n",
              "      <td>0</td>\n",
              "      <td>INC</td>\n",
              "      <td>Hand</td>\n",
              "      <td>MALE</td>\n",
              "      <td>3</td>\n",
              "      <td>52.0</td>\n",
              "      <td>ST</td>\n",
              "      <td>12th Pass</td>\n",
              "      <td>Rs 3,64,91,000\\n ~ 3 Crore+</td>\n",
              "      <td>Rs 1,53,00,000\\n ~ 1 Crore+</td>\n",
              "      <td>314057</td>\n",
              "      <td>181</td>\n",
              "      <td>314238</td>\n",
              "      <td>21.092771</td>\n",
              "      <td>29.534285</td>\n",
              "      <td>1489790</td>\n",
              "    </tr>\n",
              "    <tr>\n",
              "      <th>4</th>\n",
              "      <td>Uttar Pradesh</td>\n",
              "      <td>AGRA</td>\n",
              "      <td>Satyapal Singh Baghel</td>\n",
              "      <td>1</td>\n",
              "      <td>BJP</td>\n",
              "      <td>Lotus</td>\n",
              "      <td>MALE</td>\n",
              "      <td>5</td>\n",
              "      <td>58.0</td>\n",
              "      <td>SC</td>\n",
              "      <td>Doctorate</td>\n",
              "      <td>Rs 7,42,74,036\\n ~ 7 Crore+</td>\n",
              "      <td>Rs 86,06,522\\n ~ 86 Lacs+</td>\n",
              "      <td>644459</td>\n",
              "      <td>2416</td>\n",
              "      <td>646875</td>\n",
              "      <td>33.383823</td>\n",
              "      <td>56.464615</td>\n",
              "      <td>1937690</td>\n",
              "    </tr>\n",
              "    <tr>\n",
              "      <th>5</th>\n",
              "      <td>Uttar Pradesh</td>\n",
              "      <td>AGRA</td>\n",
              "      <td>Manoj Kumar Soni</td>\n",
              "      <td>0</td>\n",
              "      <td>BSP</td>\n",
              "      <td>Elephant</td>\n",
              "      <td>MALE</td>\n",
              "      <td>0</td>\n",
              "      <td>47.0</td>\n",
              "      <td>SC</td>\n",
              "      <td>Post Graduate</td>\n",
              "      <td>Rs 13,37,84,385\\n ~ 13 Crore+</td>\n",
              "      <td>Rs 2,22,51,891\\n ~ 2 Crore+</td>\n",
              "      <td>434199</td>\n",
              "      <td>1130</td>\n",
              "      <td>435329</td>\n",
              "      <td>22.466390</td>\n",
              "      <td>37.999125</td>\n",
              "      <td>1937690</td>\n",
              "    </tr>\n",
              "  </tbody>\n",
              "</table>\n",
              "</div>"
            ],
            "text/plain": [
              "           STATE  ... TOTAL ELECTORS\n",
              "0      Telangana  ...        1489790\n",
              "1      Telangana  ...        1489790\n",
              "2      Telangana  ...        1489790\n",
              "4  Uttar Pradesh  ...        1937690\n",
              "5  Uttar Pradesh  ...        1937690\n",
              "\n",
              "[5 rows x 19 columns]"
            ]
          },
          "metadata": {},
          "execution_count": 20
        }
      ]
    },
    {
      "cell_type": "code",
      "metadata": {
        "id": "3P8Y_0PAVUpf",
        "colab": {
          "base_uri": "https://localhost:8080/"
        },
        "outputId": "fc5153bb-842b-4648-9ae2-703e7241bad6"
      },
      "source": [
        "df_exclude_NOTA.shape"
      ],
      "execution_count": null,
      "outputs": [
        {
          "output_type": "execute_result",
          "data": {
            "text/plain": [
              "(2018, 19)"
            ]
          },
          "metadata": {},
          "execution_count": 21
        }
      ]
    },
    {
      "cell_type": "markdown",
      "metadata": {
        "id": "v86UtOQyqXv5"
      },
      "source": [
        "**Xử lý cột ASSETS và cột LIABILITIES**"
      ]
    },
    {
      "cell_type": "code",
      "metadata": {
        "colab": {
          "base_uri": "https://localhost:8080/",
          "height": 408
        },
        "id": "K4SFKIyQqbBy",
        "outputId": "8afe92b6-3c98-4228-ffd8-cb0bbc5d93a0"
      },
      "source": [
        "def value_cleaner(x):\n",
        "    try:\n",
        "        str_temp = (x.split('Rs')[1].split('\\n')[0].strip())\n",
        "        str_temp_2 = ''\n",
        "        for i in str_temp.split(\",\"):\n",
        "            str_temp_2 = str_temp_2+i\n",
        "        return str_temp_2\n",
        "    except:\n",
        "        x = 0\n",
        "        return x\n",
        "df_exclude_NOTA['ASSETS'] = df_exclude_NOTA['ASSETS'].apply((value_cleaner))\n",
        "df_exclude_NOTA['LIABILITIES'] = df_exclude_NOTA['LIABILITIES'].apply((value_cleaner))\n",
        "df_exclude_NOTA.head()"
      ],
      "execution_count": null,
      "outputs": [
        {
          "output_type": "execute_result",
          "data": {
            "text/html": [
              "<div>\n",
              "<style scoped>\n",
              "    .dataframe tbody tr th:only-of-type {\n",
              "        vertical-align: middle;\n",
              "    }\n",
              "\n",
              "    .dataframe tbody tr th {\n",
              "        vertical-align: top;\n",
              "    }\n",
              "\n",
              "    .dataframe thead th {\n",
              "        text-align: right;\n",
              "    }\n",
              "</style>\n",
              "<table border=\"1\" class=\"dataframe\">\n",
              "  <thead>\n",
              "    <tr style=\"text-align: right;\">\n",
              "      <th></th>\n",
              "      <th>STATE</th>\n",
              "      <th>CONSTITUENCY</th>\n",
              "      <th>NAME</th>\n",
              "      <th>WINNER</th>\n",
              "      <th>PARTY</th>\n",
              "      <th>SYMBOL</th>\n",
              "      <th>GENDER</th>\n",
              "      <th>CRIMINAL CASES</th>\n",
              "      <th>AGE</th>\n",
              "      <th>CATEGORY</th>\n",
              "      <th>EDUCATION</th>\n",
              "      <th>ASSETS</th>\n",
              "      <th>LIABILITIES</th>\n",
              "      <th>GENERAL VOTES</th>\n",
              "      <th>POSTAL VOTES</th>\n",
              "      <th>TOTAL VOTES</th>\n",
              "      <th>OVER TOTAL ELECTORS  IN CONSTITUENCY</th>\n",
              "      <th>OVER TOTAL VOTES POLLED  IN CONSTITUENCY</th>\n",
              "      <th>TOTAL ELECTORS</th>\n",
              "    </tr>\n",
              "  </thead>\n",
              "  <tbody>\n",
              "    <tr>\n",
              "      <th>0</th>\n",
              "      <td>Telangana</td>\n",
              "      <td>ADILABAD</td>\n",
              "      <td>SOYAM BAPU RAO</td>\n",
              "      <td>1</td>\n",
              "      <td>BJP</td>\n",
              "      <td>Lotus</td>\n",
              "      <td>MALE</td>\n",
              "      <td>52</td>\n",
              "      <td>52.0</td>\n",
              "      <td>ST</td>\n",
              "      <td>12th Pass</td>\n",
              "      <td>3099414</td>\n",
              "      <td>231450</td>\n",
              "      <td>376892</td>\n",
              "      <td>482</td>\n",
              "      <td>377374</td>\n",
              "      <td>25.330684</td>\n",
              "      <td>35.468248</td>\n",
              "      <td>1489790</td>\n",
              "    </tr>\n",
              "    <tr>\n",
              "      <th>1</th>\n",
              "      <td>Telangana</td>\n",
              "      <td>ADILABAD</td>\n",
              "      <td>Godam Nagesh</td>\n",
              "      <td>0</td>\n",
              "      <td>TRS</td>\n",
              "      <td>Car</td>\n",
              "      <td>MALE</td>\n",
              "      <td>0</td>\n",
              "      <td>54.0</td>\n",
              "      <td>ST</td>\n",
              "      <td>Post Graduate</td>\n",
              "      <td>18477888</td>\n",
              "      <td>847000</td>\n",
              "      <td>318665</td>\n",
              "      <td>149</td>\n",
              "      <td>318814</td>\n",
              "      <td>21.399929</td>\n",
              "      <td>29.964370</td>\n",
              "      <td>1489790</td>\n",
              "    </tr>\n",
              "    <tr>\n",
              "      <th>2</th>\n",
              "      <td>Telangana</td>\n",
              "      <td>ADILABAD</td>\n",
              "      <td>RATHOD RAMESH</td>\n",
              "      <td>0</td>\n",
              "      <td>INC</td>\n",
              "      <td>Hand</td>\n",
              "      <td>MALE</td>\n",
              "      <td>3</td>\n",
              "      <td>52.0</td>\n",
              "      <td>ST</td>\n",
              "      <td>12th Pass</td>\n",
              "      <td>36491000</td>\n",
              "      <td>15300000</td>\n",
              "      <td>314057</td>\n",
              "      <td>181</td>\n",
              "      <td>314238</td>\n",
              "      <td>21.092771</td>\n",
              "      <td>29.534285</td>\n",
              "      <td>1489790</td>\n",
              "    </tr>\n",
              "    <tr>\n",
              "      <th>4</th>\n",
              "      <td>Uttar Pradesh</td>\n",
              "      <td>AGRA</td>\n",
              "      <td>Satyapal Singh Baghel</td>\n",
              "      <td>1</td>\n",
              "      <td>BJP</td>\n",
              "      <td>Lotus</td>\n",
              "      <td>MALE</td>\n",
              "      <td>5</td>\n",
              "      <td>58.0</td>\n",
              "      <td>SC</td>\n",
              "      <td>Doctorate</td>\n",
              "      <td>74274036</td>\n",
              "      <td>8606522</td>\n",
              "      <td>644459</td>\n",
              "      <td>2416</td>\n",
              "      <td>646875</td>\n",
              "      <td>33.383823</td>\n",
              "      <td>56.464615</td>\n",
              "      <td>1937690</td>\n",
              "    </tr>\n",
              "    <tr>\n",
              "      <th>5</th>\n",
              "      <td>Uttar Pradesh</td>\n",
              "      <td>AGRA</td>\n",
              "      <td>Manoj Kumar Soni</td>\n",
              "      <td>0</td>\n",
              "      <td>BSP</td>\n",
              "      <td>Elephant</td>\n",
              "      <td>MALE</td>\n",
              "      <td>0</td>\n",
              "      <td>47.0</td>\n",
              "      <td>SC</td>\n",
              "      <td>Post Graduate</td>\n",
              "      <td>133784385</td>\n",
              "      <td>22251891</td>\n",
              "      <td>434199</td>\n",
              "      <td>1130</td>\n",
              "      <td>435329</td>\n",
              "      <td>22.466390</td>\n",
              "      <td>37.999125</td>\n",
              "      <td>1937690</td>\n",
              "    </tr>\n",
              "  </tbody>\n",
              "</table>\n",
              "</div>"
            ],
            "text/plain": [
              "           STATE  ... TOTAL ELECTORS\n",
              "0      Telangana  ...        1489790\n",
              "1      Telangana  ...        1489790\n",
              "2      Telangana  ...        1489790\n",
              "4  Uttar Pradesh  ...        1937690\n",
              "5  Uttar Pradesh  ...        1937690\n",
              "\n",
              "[5 rows x 19 columns]"
            ]
          },
          "metadata": {},
          "execution_count": 22
        }
      ]
    },
    {
      "cell_type": "markdown",
      "metadata": {
        "id": "6rDm_sanLYqo"
      },
      "source": [
        "**Xử lý cột EDUCATION (trình độ học vấn) của các ứng cử viên**\n",
        "\n"
      ]
    },
    {
      "cell_type": "code",
      "metadata": {
        "id": "696m8M7oIbyb",
        "colab": {
          "base_uri": "https://localhost:8080/"
        },
        "outputId": "a8115d5b-5456-468f-f85d-a70686022e6c"
      },
      "source": [
        "df_exclude_NOTA.EDUCATION.unique()"
      ],
      "execution_count": null,
      "outputs": [
        {
          "output_type": "execute_result",
          "data": {
            "text/plain": [
              "array(['12th Pass', 'Post Graduate', 'Doctorate', 'Graduate', 'Others',\n",
              "       '10th Pass', '8th Pass', 'Graduate Professional', 'Literate',\n",
              "       'Illiterate', '5th Pass', 'Not Available', 'Post Graduate\\n'],\n",
              "      dtype=object)"
            ]
          },
          "metadata": {},
          "execution_count": 23
        }
      ]
    },
    {
      "cell_type": "code",
      "metadata": {
        "id": "WPu0wX9RLnxv",
        "colab": {
          "base_uri": "https://localhost:8080/"
        },
        "outputId": "c0b64058-823b-4c1b-a2b1-8913222559ac"
      },
      "source": [
        "df_exclude_NOTA.EDUCATION.replace({'Post Graduate\\n':'Post Graduate'},inplace=True)\n",
        "df_exclude_NOTA.EDUCATION.unique()"
      ],
      "execution_count": null,
      "outputs": [
        {
          "output_type": "execute_result",
          "data": {
            "text/plain": [
              "array(['12th Pass', 'Post Graduate', 'Doctorate', 'Graduate', 'Others',\n",
              "       '10th Pass', '8th Pass', 'Graduate Professional', 'Literate',\n",
              "       'Illiterate', '5th Pass', 'Not Available'], dtype=object)"
            ]
          },
          "metadata": {},
          "execution_count": 24
        }
      ]
    },
    {
      "cell_type": "markdown",
      "metadata": {
        "id": "BSCw8nY0WY1y"
      },
      "source": [
        "**Xác định các mục nhập chênh lệch trong các cột**"
      ]
    },
    {
      "cell_type": "code",
      "metadata": {
        "id": "FlfbFfE7WJMk",
        "colab": {
          "base_uri": "https://localhost:8080/",
          "height": 374
        },
        "outputId": "ae63f9f9-c37b-42c2-8dc2-cdfec83c522a"
      },
      "source": [
        "df_exclude_NOTA[df_exclude_NOTA['CRIMINAL CASES']=='Not Available'].head()"
      ],
      "execution_count": null,
      "outputs": [
        {
          "output_type": "execute_result",
          "data": {
            "text/html": [
              "<div>\n",
              "<style scoped>\n",
              "    .dataframe tbody tr th:only-of-type {\n",
              "        vertical-align: middle;\n",
              "    }\n",
              "\n",
              "    .dataframe tbody tr th {\n",
              "        vertical-align: top;\n",
              "    }\n",
              "\n",
              "    .dataframe thead th {\n",
              "        text-align: right;\n",
              "    }\n",
              "</style>\n",
              "<table border=\"1\" class=\"dataframe\">\n",
              "  <thead>\n",
              "    <tr style=\"text-align: right;\">\n",
              "      <th></th>\n",
              "      <th>STATE</th>\n",
              "      <th>CONSTITUENCY</th>\n",
              "      <th>NAME</th>\n",
              "      <th>WINNER</th>\n",
              "      <th>PARTY</th>\n",
              "      <th>SYMBOL</th>\n",
              "      <th>GENDER</th>\n",
              "      <th>CRIMINAL CASES</th>\n",
              "      <th>AGE</th>\n",
              "      <th>CATEGORY</th>\n",
              "      <th>EDUCATION</th>\n",
              "      <th>ASSETS</th>\n",
              "      <th>LIABILITIES</th>\n",
              "      <th>GENERAL VOTES</th>\n",
              "      <th>POSTAL VOTES</th>\n",
              "      <th>TOTAL VOTES</th>\n",
              "      <th>OVER TOTAL ELECTORS  IN CONSTITUENCY</th>\n",
              "      <th>OVER TOTAL VOTES POLLED  IN CONSTITUENCY</th>\n",
              "      <th>TOTAL ELECTORS</th>\n",
              "    </tr>\n",
              "  </thead>\n",
              "  <tbody>\n",
              "    <tr>\n",
              "      <th>468</th>\n",
              "      <td>Bihar</td>\n",
              "      <td>BUXAR</td>\n",
              "      <td>Ramchandra Singh Yadav</td>\n",
              "      <td>0</td>\n",
              "      <td>IND</td>\n",
              "      <td>Almirah</td>\n",
              "      <td>MALE</td>\n",
              "      <td>Not Available</td>\n",
              "      <td>42.0</td>\n",
              "      <td>GENERAL</td>\n",
              "      <td>Not Available</td>\n",
              "      <td>0</td>\n",
              "      <td>0</td>\n",
              "      <td>10721</td>\n",
              "      <td>9</td>\n",
              "      <td>10730</td>\n",
              "      <td>0.586540</td>\n",
              "      <td>1.087175</td>\n",
              "      <td>1829373</td>\n",
              "    </tr>\n",
              "    <tr>\n",
              "      <th>532</th>\n",
              "      <td>Tamil Nadu</td>\n",
              "      <td>CHIDAMBARAM</td>\n",
              "      <td>SIVAJOTHI M</td>\n",
              "      <td>0</td>\n",
              "      <td>NTK</td>\n",
              "      <td>Ganna Kisan</td>\n",
              "      <td>MALE</td>\n",
              "      <td>Not Available</td>\n",
              "      <td>35.0</td>\n",
              "      <td>SC</td>\n",
              "      <td>Not Available</td>\n",
              "      <td>0</td>\n",
              "      <td>0</td>\n",
              "      <td>37329</td>\n",
              "      <td>142</td>\n",
              "      <td>37471</td>\n",
              "      <td>2.531445</td>\n",
              "      <td>3.246331</td>\n",
              "      <td>1480222</td>\n",
              "    </tr>\n",
              "    <tr>\n",
              "      <th>612</th>\n",
              "      <td>Uttar Pradesh</td>\n",
              "      <td>DEORIA</td>\n",
              "      <td>BINOD KUMAR JAISWAL</td>\n",
              "      <td>0</td>\n",
              "      <td>BSP</td>\n",
              "      <td>Elephant</td>\n",
              "      <td>MALE</td>\n",
              "      <td>Not Available</td>\n",
              "      <td>56.0</td>\n",
              "      <td>GENERAL</td>\n",
              "      <td>Not Available</td>\n",
              "      <td>0</td>\n",
              "      <td>0</td>\n",
              "      <td>327728</td>\n",
              "      <td>2985</td>\n",
              "      <td>330713</td>\n",
              "      <td>18.852693</td>\n",
              "      <td>32.563441</td>\n",
              "      <td>1754195</td>\n",
              "    </tr>\n",
              "    <tr>\n",
              "      <th>613</th>\n",
              "      <td>Uttar Pradesh</td>\n",
              "      <td>DEORIA</td>\n",
              "      <td>NIYAZ AHMED</td>\n",
              "      <td>0</td>\n",
              "      <td>INC</td>\n",
              "      <td>Hand</td>\n",
              "      <td>MALE</td>\n",
              "      <td>Not Available</td>\n",
              "      <td>57.0</td>\n",
              "      <td>GENERAL</td>\n",
              "      <td>Not Available</td>\n",
              "      <td>0</td>\n",
              "      <td>0</td>\n",
              "      <td>50749</td>\n",
              "      <td>307</td>\n",
              "      <td>51056</td>\n",
              "      <td>2.910509</td>\n",
              "      <td>5.027196</td>\n",
              "      <td>1754195</td>\n",
              "    </tr>\n",
              "    <tr>\n",
              "      <th>654</th>\n",
              "      <td>Tamil Nadu</td>\n",
              "      <td>DINDIGUL</td>\n",
              "      <td>JOTHIMUTHU, K.</td>\n",
              "      <td>0</td>\n",
              "      <td>PMK</td>\n",
              "      <td>Mango</td>\n",
              "      <td>MALE</td>\n",
              "      <td>Not Available</td>\n",
              "      <td>48.0</td>\n",
              "      <td>GENERAL</td>\n",
              "      <td>Not Available</td>\n",
              "      <td>0</td>\n",
              "      <td>0</td>\n",
              "      <td>206782</td>\n",
              "      <td>769</td>\n",
              "      <td>207551</td>\n",
              "      <td>13.460896</td>\n",
              "      <td>17.877979</td>\n",
              "      <td>1541881</td>\n",
              "    </tr>\n",
              "  </tbody>\n",
              "</table>\n",
              "</div>"
            ],
            "text/plain": [
              "             STATE  ... TOTAL ELECTORS\n",
              "468          Bihar  ...        1829373\n",
              "532     Tamil Nadu  ...        1480222\n",
              "612  Uttar Pradesh  ...        1754195\n",
              "613  Uttar Pradesh  ...        1754195\n",
              "654     Tamil Nadu  ...        1541881\n",
              "\n",
              "[5 rows x 19 columns]"
            ]
          },
          "metadata": {},
          "execution_count": 25
        }
      ]
    },
    {
      "cell_type": "markdown",
      "metadata": {
        "id": "cbFHawT2SA-A"
      },
      "source": [
        "**Cập nhật các kiểu dữ liệu**"
      ]
    },
    {
      "cell_type": "code",
      "metadata": {
        "id": "QFkcpRAbR_Bd"
      },
      "source": [
        "df_exclude_NOTA['ASSETS'] = pd.to_numeric(df_exclude_NOTA['ASSETS'])\n",
        "df_exclude_NOTA['LIABILITIES']=pd.to_numeric(df_exclude_NOTA['LIABILITIES'])\n",
        "df_exclude_NOTA['CRIMINAL CASES'].replace({np.NaN:0})\n",
        "df_exclude_NOTA['CRIMINAL CASES'] = pd.to_numeric(df_exclude_NOTA['CRIMINAL CASES'], errors='coerce').fillna(0).astype(np.int64)"
      ],
      "execution_count": null,
      "outputs": []
    },
    {
      "cell_type": "markdown",
      "metadata": {
        "id": "HDG8_dkBV67P"
      },
      "source": [
        "**Dữ liệu sau khi được xử lý và cập nhật:**"
      ]
    },
    {
      "cell_type": "code",
      "metadata": {
        "id": "3EuaiwyzVdkT",
        "colab": {
          "base_uri": "https://localhost:8080/",
          "height": 312
        },
        "outputId": "84a73169-f452-43ae-96b0-45ff3b8aa56c"
      },
      "source": [
        "df_exclude_NOTA.describe()"
      ],
      "execution_count": null,
      "outputs": [
        {
          "output_type": "execute_result",
          "data": {
            "text/html": [
              "<div>\n",
              "<style scoped>\n",
              "    .dataframe tbody tr th:only-of-type {\n",
              "        vertical-align: middle;\n",
              "    }\n",
              "\n",
              "    .dataframe tbody tr th {\n",
              "        vertical-align: top;\n",
              "    }\n",
              "\n",
              "    .dataframe thead th {\n",
              "        text-align: right;\n",
              "    }\n",
              "</style>\n",
              "<table border=\"1\" class=\"dataframe\">\n",
              "  <thead>\n",
              "    <tr style=\"text-align: right;\">\n",
              "      <th></th>\n",
              "      <th>WINNER</th>\n",
              "      <th>CRIMINAL CASES</th>\n",
              "      <th>AGE</th>\n",
              "      <th>ASSETS</th>\n",
              "      <th>LIABILITIES</th>\n",
              "      <th>GENERAL VOTES</th>\n",
              "      <th>POSTAL VOTES</th>\n",
              "      <th>TOTAL VOTES</th>\n",
              "      <th>OVER TOTAL ELECTORS  IN CONSTITUENCY</th>\n",
              "      <th>OVER TOTAL VOTES POLLED  IN CONSTITUENCY</th>\n",
              "      <th>TOTAL ELECTORS</th>\n",
              "    </tr>\n",
              "  </thead>\n",
              "  <tbody>\n",
              "    <tr>\n",
              "      <th>count</th>\n",
              "      <td>2018.000000</td>\n",
              "      <td>2018.000000</td>\n",
              "      <td>2018.000000</td>\n",
              "      <td>2.018000e+03</td>\n",
              "      <td>2.018000e+03</td>\n",
              "      <td>2.018000e+03</td>\n",
              "      <td>2018.000000</td>\n",
              "      <td>2.018000e+03</td>\n",
              "      <td>2018.000000</td>\n",
              "      <td>2018.000000</td>\n",
              "      <td>2.018000e+03</td>\n",
              "    </tr>\n",
              "    <tr>\n",
              "      <th>mean</th>\n",
              "      <td>0.267096</td>\n",
              "      <td>1.453915</td>\n",
              "      <td>52.273538</td>\n",
              "      <td>1.315849e+08</td>\n",
              "      <td>1.973860e+07</td>\n",
              "      <td>2.911903e+05</td>\n",
              "      <td>1105.111001</td>\n",
              "      <td>2.922954e+05</td>\n",
              "      <td>17.596810</td>\n",
              "      <td>25.808492</td>\n",
              "      <td>1.660261e+06</td>\n",
              "    </tr>\n",
              "    <tr>\n",
              "      <th>std</th>\n",
              "      <td>0.442553</td>\n",
              "      <td>7.636973</td>\n",
              "      <td>11.869373</td>\n",
              "      <td>4.122697e+08</td>\n",
              "      <td>8.945292e+07</td>\n",
              "      <td>2.545964e+05</td>\n",
              "      <td>1661.283371</td>\n",
              "      <td>2.555874e+05</td>\n",
              "      <td>14.886247</td>\n",
              "      <td>21.403985</td>\n",
              "      <td>3.164246e+05</td>\n",
              "    </tr>\n",
              "    <tr>\n",
              "      <th>min</th>\n",
              "      <td>0.000000</td>\n",
              "      <td>0.000000</td>\n",
              "      <td>25.000000</td>\n",
              "      <td>0.000000e+00</td>\n",
              "      <td>0.000000e+00</td>\n",
              "      <td>1.339000e+03</td>\n",
              "      <td>0.000000</td>\n",
              "      <td>1.342000e+03</td>\n",
              "      <td>0.097941</td>\n",
              "      <td>1.000039</td>\n",
              "      <td>5.518900e+04</td>\n",
              "    </tr>\n",
              "    <tr>\n",
              "      <th>25%</th>\n",
              "      <td>0.000000</td>\n",
              "      <td>0.000000</td>\n",
              "      <td>43.250000</td>\n",
              "      <td>6.272526e+06</td>\n",
              "      <td>0.000000e+00</td>\n",
              "      <td>3.047625e+04</td>\n",
              "      <td>97.000000</td>\n",
              "      <td>3.074375e+04</td>\n",
              "      <td>1.953617</td>\n",
              "      <td>2.870669</td>\n",
              "      <td>1.530404e+06</td>\n",
              "    </tr>\n",
              "    <tr>\n",
              "      <th>50%</th>\n",
              "      <td>0.000000</td>\n",
              "      <td>0.000000</td>\n",
              "      <td>52.000000</td>\n",
              "      <td>2.404181e+07</td>\n",
              "      <td>9.039245e+05</td>\n",
              "      <td>2.846300e+05</td>\n",
              "      <td>463.000000</td>\n",
              "      <td>2.855250e+05</td>\n",
              "      <td>18.036861</td>\n",
              "      <td>27.749894</td>\n",
              "      <td>1.679891e+06</td>\n",
              "    </tr>\n",
              "    <tr>\n",
              "      <th>75%</th>\n",
              "      <td>1.000000</td>\n",
              "      <td>1.000000</td>\n",
              "      <td>61.000000</td>\n",
              "      <td>9.152498e+07</td>\n",
              "      <td>6.097971e+06</td>\n",
              "      <td>5.058620e+05</td>\n",
              "      <td>1545.500000</td>\n",
              "      <td>5.076175e+05</td>\n",
              "      <td>30.708115</td>\n",
              "      <td>44.349684</td>\n",
              "      <td>1.823404e+06</td>\n",
              "    </tr>\n",
              "    <tr>\n",
              "      <th>max</th>\n",
              "      <td>1.000000</td>\n",
              "      <td>240.000000</td>\n",
              "      <td>86.000000</td>\n",
              "      <td>8.950179e+09</td>\n",
              "      <td>1.547511e+09</td>\n",
              "      <td>1.066824e+06</td>\n",
              "      <td>19367.000000</td>\n",
              "      <td>1.068569e+06</td>\n",
              "      <td>51.951012</td>\n",
              "      <td>74.411856</td>\n",
              "      <td>3.150313e+06</td>\n",
              "    </tr>\n",
              "  </tbody>\n",
              "</table>\n",
              "</div>"
            ],
            "text/plain": [
              "            WINNER  ...  TOTAL ELECTORS\n",
              "count  2018.000000  ...    2.018000e+03\n",
              "mean      0.267096  ...    1.660261e+06\n",
              "std       0.442553  ...    3.164246e+05\n",
              "min       0.000000  ...    5.518900e+04\n",
              "25%       0.000000  ...    1.530404e+06\n",
              "50%       0.000000  ...    1.679891e+06\n",
              "75%       1.000000  ...    1.823404e+06\n",
              "max       1.000000  ...    3.150313e+06\n",
              "\n",
              "[8 rows x 11 columns]"
            ]
          },
          "metadata": {},
          "execution_count": 27
        }
      ]
    },
    {
      "cell_type": "markdown",
      "metadata": {
        "id": "yL4qJEzLLxiU"
      },
      "source": [
        "Sau khi xử lý và cập nhật dữ liệu thì:\n",
        "* Chỉ còn 2018 hàng tương ứng 2018 ứng cử viên đã tham gia tranh cử vào Lok Sabha.  \n",
        "* Độ tuổi trung bình của các ứng cử viên là 52. \n",
        "* Ứng cử viên trẻ nhất chỉ mới 25 tuổi còn ứng cử viên già nhất là 86.\n",
        "* Có 19367 phiếu bầu được thực hiện qua thư trong cuộc bầu cử."
      ]
    },
    {
      "cell_type": "code",
      "metadata": {
        "id": "UW_0RtjWTVSv",
        "colab": {
          "base_uri": "https://localhost:8080/",
          "height": 408
        },
        "outputId": "77b86dba-ebbc-46a4-abe9-651167f77b92"
      },
      "source": [
        "df_exclude_NOTA.head()"
      ],
      "execution_count": null,
      "outputs": [
        {
          "output_type": "execute_result",
          "data": {
            "text/html": [
              "<div>\n",
              "<style scoped>\n",
              "    .dataframe tbody tr th:only-of-type {\n",
              "        vertical-align: middle;\n",
              "    }\n",
              "\n",
              "    .dataframe tbody tr th {\n",
              "        vertical-align: top;\n",
              "    }\n",
              "\n",
              "    .dataframe thead th {\n",
              "        text-align: right;\n",
              "    }\n",
              "</style>\n",
              "<table border=\"1\" class=\"dataframe\">\n",
              "  <thead>\n",
              "    <tr style=\"text-align: right;\">\n",
              "      <th></th>\n",
              "      <th>STATE</th>\n",
              "      <th>CONSTITUENCY</th>\n",
              "      <th>NAME</th>\n",
              "      <th>WINNER</th>\n",
              "      <th>PARTY</th>\n",
              "      <th>SYMBOL</th>\n",
              "      <th>GENDER</th>\n",
              "      <th>CRIMINAL CASES</th>\n",
              "      <th>AGE</th>\n",
              "      <th>CATEGORY</th>\n",
              "      <th>EDUCATION</th>\n",
              "      <th>ASSETS</th>\n",
              "      <th>LIABILITIES</th>\n",
              "      <th>GENERAL VOTES</th>\n",
              "      <th>POSTAL VOTES</th>\n",
              "      <th>TOTAL VOTES</th>\n",
              "      <th>OVER TOTAL ELECTORS  IN CONSTITUENCY</th>\n",
              "      <th>OVER TOTAL VOTES POLLED  IN CONSTITUENCY</th>\n",
              "      <th>TOTAL ELECTORS</th>\n",
              "    </tr>\n",
              "  </thead>\n",
              "  <tbody>\n",
              "    <tr>\n",
              "      <th>0</th>\n",
              "      <td>Telangana</td>\n",
              "      <td>ADILABAD</td>\n",
              "      <td>SOYAM BAPU RAO</td>\n",
              "      <td>1</td>\n",
              "      <td>BJP</td>\n",
              "      <td>Lotus</td>\n",
              "      <td>MALE</td>\n",
              "      <td>52</td>\n",
              "      <td>52.0</td>\n",
              "      <td>ST</td>\n",
              "      <td>12th Pass</td>\n",
              "      <td>3099414</td>\n",
              "      <td>231450</td>\n",
              "      <td>376892</td>\n",
              "      <td>482</td>\n",
              "      <td>377374</td>\n",
              "      <td>25.330684</td>\n",
              "      <td>35.468248</td>\n",
              "      <td>1489790</td>\n",
              "    </tr>\n",
              "    <tr>\n",
              "      <th>1</th>\n",
              "      <td>Telangana</td>\n",
              "      <td>ADILABAD</td>\n",
              "      <td>Godam Nagesh</td>\n",
              "      <td>0</td>\n",
              "      <td>TRS</td>\n",
              "      <td>Car</td>\n",
              "      <td>MALE</td>\n",
              "      <td>0</td>\n",
              "      <td>54.0</td>\n",
              "      <td>ST</td>\n",
              "      <td>Post Graduate</td>\n",
              "      <td>18477888</td>\n",
              "      <td>847000</td>\n",
              "      <td>318665</td>\n",
              "      <td>149</td>\n",
              "      <td>318814</td>\n",
              "      <td>21.399929</td>\n",
              "      <td>29.964370</td>\n",
              "      <td>1489790</td>\n",
              "    </tr>\n",
              "    <tr>\n",
              "      <th>2</th>\n",
              "      <td>Telangana</td>\n",
              "      <td>ADILABAD</td>\n",
              "      <td>RATHOD RAMESH</td>\n",
              "      <td>0</td>\n",
              "      <td>INC</td>\n",
              "      <td>Hand</td>\n",
              "      <td>MALE</td>\n",
              "      <td>3</td>\n",
              "      <td>52.0</td>\n",
              "      <td>ST</td>\n",
              "      <td>12th Pass</td>\n",
              "      <td>36491000</td>\n",
              "      <td>15300000</td>\n",
              "      <td>314057</td>\n",
              "      <td>181</td>\n",
              "      <td>314238</td>\n",
              "      <td>21.092771</td>\n",
              "      <td>29.534285</td>\n",
              "      <td>1489790</td>\n",
              "    </tr>\n",
              "    <tr>\n",
              "      <th>4</th>\n",
              "      <td>Uttar Pradesh</td>\n",
              "      <td>AGRA</td>\n",
              "      <td>Satyapal Singh Baghel</td>\n",
              "      <td>1</td>\n",
              "      <td>BJP</td>\n",
              "      <td>Lotus</td>\n",
              "      <td>MALE</td>\n",
              "      <td>5</td>\n",
              "      <td>58.0</td>\n",
              "      <td>SC</td>\n",
              "      <td>Doctorate</td>\n",
              "      <td>74274036</td>\n",
              "      <td>8606522</td>\n",
              "      <td>644459</td>\n",
              "      <td>2416</td>\n",
              "      <td>646875</td>\n",
              "      <td>33.383823</td>\n",
              "      <td>56.464615</td>\n",
              "      <td>1937690</td>\n",
              "    </tr>\n",
              "    <tr>\n",
              "      <th>5</th>\n",
              "      <td>Uttar Pradesh</td>\n",
              "      <td>AGRA</td>\n",
              "      <td>Manoj Kumar Soni</td>\n",
              "      <td>0</td>\n",
              "      <td>BSP</td>\n",
              "      <td>Elephant</td>\n",
              "      <td>MALE</td>\n",
              "      <td>0</td>\n",
              "      <td>47.0</td>\n",
              "      <td>SC</td>\n",
              "      <td>Post Graduate</td>\n",
              "      <td>133784385</td>\n",
              "      <td>22251891</td>\n",
              "      <td>434199</td>\n",
              "      <td>1130</td>\n",
              "      <td>435329</td>\n",
              "      <td>22.466390</td>\n",
              "      <td>37.999125</td>\n",
              "      <td>1937690</td>\n",
              "    </tr>\n",
              "  </tbody>\n",
              "</table>\n",
              "</div>"
            ],
            "text/plain": [
              "           STATE  ... TOTAL ELECTORS\n",
              "0      Telangana  ...        1489790\n",
              "1      Telangana  ...        1489790\n",
              "2      Telangana  ...        1489790\n",
              "4  Uttar Pradesh  ...        1937690\n",
              "5  Uttar Pradesh  ...        1937690\n",
              "\n",
              "[5 rows x 19 columns]"
            ]
          },
          "metadata": {},
          "execution_count": 28
        }
      ]
    },
    {
      "cell_type": "markdown",
      "metadata": {
        "id": "o3e3ybjtWgyy"
      },
      "source": [
        "**Tương quan giữa các biến:**"
      ]
    },
    {
      "cell_type": "code",
      "metadata": {
        "id": "jhDGARyfLtFG",
        "colab": {
          "base_uri": "https://localhost:8080/",
          "height": 823
        },
        "outputId": "6d635563-bac7-4fae-83b9-9873efd0fd7e"
      },
      "source": [
        "plt.figure(figsize=(15,10))\n",
        "sns.heatmap(df_exclude_NOTA.corr(), annot=True)\n",
        "plt.show()"
      ],
      "execution_count": null,
      "outputs": [
        {
          "output_type": "display_data",
          "data": {
            "image/png": "[encoded data removed]",
            "text/plain": [
              "<Figure size 1080x720 with 2 Axes>"
            ]
          },
          "metadata": {
            "needs_background": "light"
          }
        }
      ]
    },
    {
      "cell_type": "markdown",
      "metadata": {
        "id": "o4AzYZGCNMnf"
      },
      "source": [
        "Biểu đồ heatmap thể hiện sự tương quan giữa các biến, nếu càng gần 1 thì tương quan cùng chiều sẽ càng mạnh, gần 0 thì sẽ hầu như không tương quan và càng gần -1 thì tương quan ngược chiều sẽ càng mạnh\n"
      ]
    },
    {
      "cell_type": "markdown",
      "metadata": {
        "id": "4XARJB3VoIog"
      },
      "source": [
        "## **PHÂN TÍCH CÁC ĐẢNG**"
      ]
    },
    {
      "cell_type": "markdown",
      "metadata": {
        "id": "p2IKe5IzTka5"
      },
      "source": [
        "**Tổng khu vực bầu cử mỗi bang**"
      ]
    },
    {
      "cell_type": "code",
      "metadata": {
        "id": "td8d1WZfl2US",
        "colab": {
          "base_uri": "https://localhost:8080/",
          "height": 617
        },
        "outputId": "6aff3321-8d0a-42fe-e389-67230afc559d"
      },
      "source": [
        "constituency= df_exclude_NOTA.groupby('STATE')['CONSTITUENCY'].nunique().reset_index().sort_values('CONSTITUENCY',ascending = False)\n",
        "fig = px.bar(constituency, title= \"Total Constituencies per State\",x='STATE', y='CONSTITUENCY', color='CONSTITUENCY', height=600)\n",
        "fig.show()"
      ],
      "execution_count": null,
      "outputs": [
        {
          "output_type": "display_data",
          "data": {
            "text/html": [
              "<html>\n",
              "<head><meta charset=\"utf-8\" /></head>\n",
              "<body>\n",
              "    <div>\n",
              "            <script src=\"https://cdnjs.cloudflare.com/ajax/libs/mathjax/2.7.5/MathJax.js?config=TeX-AMS-MML_SVG\"></script><script type=\"text/javascript\">if (window.MathJax) {MathJax.Hub.Config({SVG: {font: \"STIX-Web\"}});}</script>\n",
              "                <script type=\"text/javascript\">window.PlotlyConfig = {MathJaxConfig: 'local'};</script>\n",
              "        <script src=\"https://cdn.plot.ly/plotly-latest.min.js\"></script>    \n",
              "            <div id=\"cb4b7c45-2f15-4365-a189-83f6547ca3e7\" class=\"plotly-graph-div\" style=\"height:600px; width:100%;\"></div>\n",
              "            <script type=\"text/javascript\">\n",
              "                \n",
              "                    window.PLOTLYENV=window.PLOTLYENV || {};\n",
              "                    \n",
              "                if (document.getElementById(\"cb4b7c45-2f15-4365-a189-83f6547ca3e7\")) {\n",
              "                    Plotly.newPlot(\n",
              "                        'cb4b7c45-2f15-4365-a189-83f6547ca3e7',\n",
              "                        [{\"alignmentgroup\": \"True\", \"hoverlabel\": {\"namelength\": 0}, \"hovertemplate\": \"STATE=%{x}<br>CONSTITUENCY=%{marker.color}\", \"legendgroup\": \"\", \"marker\": {\"color\": [80, 48, 42, 40, 38, 29, 28, 26, 25, 25, 21, 20, 17, 14, 14, 13, 11, 10, 7, 6, 5, 4, 2, 2, 2, 2, 2, 1, 1, 1, 1, 1, 1, 1, 1, 1], \"coloraxis\": \"coloraxis\"}, \"name\": \"\", \"offsetgroup\": \"\", \"orientation\": \"v\", \"showlegend\": false, \"textposition\": \"auto\", \"type\": \"bar\", \"x\": [\"Uttar Pradesh\", \"Maharashtra\", \"West Bengal\", \"Bihar\", \"Tamil Nadu\", \"Madhya Pradesh\", \"Karnataka\", \"Gujarat\", \"Rajasthan\", \"Andhra Pradesh\", \"Odisha\", \"Kerala\", \"Telangana\", \"Assam\", \"Jharkhand\", \"Punjab\", \"Chhattisgarh\", \"Haryana\", \"NCT OF Delhi\", \"Jammu & Kashmir\", \"Uttarakhand\", \"Himachal Pradesh\", \"Tripura\", \"Arunachal Pradesh\", \"Meghalaya\", \"Manipur\", \"Goa\", \"Nagaland\", \"Puducherry\", \"Mizoram\", \"Dadra & Nagar Haveli\", \"Sikkim\", \"Chandigarh\", \"Lakshadweep\", \"Daman & Diu\", \"Andaman & Nicobar Islands\"], \"xaxis\": \"x\", \"y\": [80, 48, 42, 40, 38, 29, 28, 26, 25, 25, 21, 20, 17, 14, 14, 13, 11, 10, 7, 6, 5, 4, 2, 2, 2, 2, 2, 1, 1, 1, 1, 1, 1, 1, 1, 1], \"yaxis\": \"y\"}],\n",
              "                        {\"barmode\": \"relative\", \"coloraxis\": {\"colorbar\": {\"title\": {\"text\": \"CONSTITUENCY\"}}, \"colorscale\": [[0.0, \"#0d0887\"], [0.1111111111111111, \"#46039f\"], [0.2222222222222222, \"#7201a8\"], [0.3333333333333333, \"#9c179e\"], [0.4444444444444444, \"#bd3786\"], [0.5555555555555556, \"#d8576b\"], [0.6666666666666666, \"#ed7953\"], [0.7777777777777778, \"#fb9f3a\"], [0.8888888888888888, \"#fdca26\"], [1.0, \"#f0f921\"]]}, \"height\": 600, \"legend\": {\"tracegroupgap\": 0}, \"template\": {\"data\": {\"bar\": [{\"error_x\": {\"color\": \"#2a3f5f\"}, \"error_y\": {\"color\": \"#2a3f5f\"}, \"marker\": {\"line\": {\"color\": \"#E5ECF6\", \"width\": 0.5}}, \"type\": \"bar\"}], \"barpolar\": [{\"marker\": {\"line\": {\"color\": \"#E5ECF6\", \"width\": 0.5}}, \"type\": \"barpolar\"}], \"carpet\": [{\"aaxis\": {\"endlinecolor\": \"#2a3f5f\", \"gridcolor\": \"white\", \"linecolor\": \"white\", \"minorgridcolor\": \"white\", \"startlinecolor\": \"#2a3f5f\"}, \"baxis\": {\"endlinecolor\": \"#2a3f5f\", \"gridcolor\": \"white\", \"linecolor\": \"white\", \"minorgridcolor\": \"white\", \"startlinecolor\": \"#2a3f5f\"}, \"type\": \"carpet\"}], \"choropleth\": [{\"colorbar\": {\"outlinewidth\": 0, \"ticks\": \"\"}, \"type\": \"choropleth\"}], \"contour\": [{\"colorbar\": {\"outlinewidth\": 0, \"ticks\": \"\"}, \"colorscale\": [[0.0, \"#0d0887\"], [0.1111111111111111, \"#46039f\"], [0.2222222222222222, \"#7201a8\"], [0.3333333333333333, \"#9c179e\"], [0.4444444444444444, \"#bd3786\"], [0.5555555555555556, \"#d8576b\"], [0.6666666666666666, \"#ed7953\"], [0.7777777777777778, \"#fb9f3a\"], [0.8888888888888888, \"#fdca26\"], [1.0, \"#f0f921\"]], \"type\": \"contour\"}], \"contourcarpet\": [{\"colorbar\": {\"outlinewidth\": 0, \"ticks\": \"\"}, \"type\": \"contourcarpet\"}], \"heatmap\": [{\"colorbar\": {\"outlinewidth\": 0, \"ticks\": \"\"}, \"colorscale\": [[0.0, \"#0d0887\"], [0.1111111111111111, \"#46039f\"], [0.2222222222222222, \"#7201a8\"], [0.3333333333333333, \"#9c179e\"], [0.4444444444444444, \"#bd3786\"], [0.5555555555555556, \"#d8576b\"], [0.6666666666666666, \"#ed7953\"], [0.7777777777777778, \"#fb9f3a\"], [0.8888888888888888, \"#fdca26\"], [1.0, \"#f0f921\"]], \"type\": \"heatmap\"}], \"heatmapgl\": [{\"colorbar\": {\"outlinewidth\": 0, \"ticks\": \"\"}, \"colorscale\": [[0.0, \"#0d0887\"], [0.1111111111111111, \"#46039f\"], [0.2222222222222222, \"#7201a8\"], [0.3333333333333333, \"#9c179e\"], [0.4444444444444444, \"#bd3786\"], [0.5555555555555556, \"#d8576b\"], [0.6666666666666666, \"#ed7953\"], [0.7777777777777778, \"#fb9f3a\"], [0.8888888888888888, \"#fdca26\"], [1.0, \"#f0f921\"]], \"type\": \"heatmapgl\"}], \"histogram\": [{\"marker\": {\"colorbar\": {\"outlinewidth\": 0, \"ticks\": \"\"}}, \"type\": \"histogram\"}], \"histogram2d\": [{\"colorbar\": {\"outlinewidth\": 0, \"ticks\": \"\"}, \"colorscale\": [[0.0, \"#0d0887\"], [0.1111111111111111, \"#46039f\"], [0.2222222222222222, \"#7201a8\"], [0.3333333333333333, \"#9c179e\"], [0.4444444444444444, \"#bd3786\"], [0.5555555555555556, \"#d8576b\"], [0.6666666666666666, \"#ed7953\"], [0.7777777777777778, \"#fb9f3a\"], [0.8888888888888888, \"#fdca26\"], [1.0, \"#f0f921\"]], \"type\": \"histogram2d\"}], \"histogram2dcontour\": [{\"colorbar\": {\"outlinewidth\": 0, \"ticks\": \"\"}, \"colorscale\": [[0.0, \"#0d0887\"], [0.1111111111111111, \"#46039f\"], [0.2222222222222222, \"#7201a8\"], [0.3333333333333333, \"#9c179e\"], [0.4444444444444444, \"#bd3786\"], [0.5555555555555556, \"#d8576b\"], [0.6666666666666666, \"#ed7953\"], [0.7777777777777778, \"#fb9f3a\"], [0.8888888888888888, \"#fdca26\"], [1.0, \"#f0f921\"]], \"type\": \"histogram2dcontour\"}], \"mesh3d\": [{\"colorbar\": {\"outlinewidth\": 0, \"ticks\": \"\"}, \"type\": \"mesh3d\"}], \"parcoords\": [{\"line\": {\"colorbar\": {\"outlinewidth\": 0, \"ticks\": \"\"}}, \"type\": \"parcoords\"}], \"pie\": [{\"automargin\": true, \"type\": \"pie\"}], \"scatter\": [{\"marker\": {\"colorbar\": {\"outlinewidth\": 0, \"ticks\": \"\"}}, \"type\": \"scatter\"}], \"scatter3d\": [{\"line\": {\"colorbar\": {\"outlinewidth\": 0, \"ticks\": \"\"}}, \"marker\": {\"colorbar\": {\"outlinewidth\": 0, \"ticks\": \"\"}}, \"type\": \"scatter3d\"}], \"scattercarpet\": [{\"marker\": {\"colorbar\": {\"outlinewidth\": 0, \"ticks\": \"\"}}, \"type\": \"scattercarpet\"}], \"scattergeo\": [{\"marker\": {\"colorbar\": {\"outlinewidth\": 0, \"ticks\": \"\"}}, \"type\": \"scattergeo\"}], \"scattergl\": [{\"marker\": {\"colorbar\": {\"outlinewidth\": 0, \"ticks\": \"\"}}, \"type\": \"scattergl\"}], \"scattermapbox\": [{\"marker\": {\"colorbar\": {\"outlinewidth\": 0, \"ticks\": \"\"}}, \"type\": \"scattermapbox\"}], \"scatterpolar\": [{\"marker\": {\"colorbar\": {\"outlinewidth\": 0, \"ticks\": \"\"}}, \"type\": \"scatterpolar\"}], \"scatterpolargl\": [{\"marker\": {\"colorbar\": {\"outlinewidth\": 0, \"ticks\": \"\"}}, \"type\": \"scatterpolargl\"}], \"scatterternary\": [{\"marker\": {\"colorbar\": {\"outlinewidth\": 0, \"ticks\": \"\"}}, \"type\": \"scatterternary\"}], \"surface\": [{\"colorbar\": {\"outlinewidth\": 0, \"ticks\": \"\"}, \"colorscale\": [[0.0, \"#0d0887\"], [0.1111111111111111, \"#46039f\"], [0.2222222222222222, \"#7201a8\"], [0.3333333333333333, \"#9c179e\"], [0.4444444444444444, \"#bd3786\"], [0.5555555555555556, \"#d8576b\"], [0.6666666666666666, \"#ed7953\"], [0.7777777777777778, \"#fb9f3a\"], [0.8888888888888888, \"#fdca26\"], [1.0, \"#f0f921\"]], \"type\": \"surface\"}], \"table\": [{\"cells\": {\"fill\": {\"color\": \"#EBF0F8\"}, \"line\": {\"color\": \"white\"}}, \"header\": {\"fill\": {\"color\": \"#C8D4E3\"}, \"line\": {\"color\": \"white\"}}, \"type\": \"table\"}]}, \"layout\": {\"annotationdefaults\": {\"arrowcolor\": \"#2a3f5f\", \"arrowhead\": 0, \"arrowwidth\": 1}, \"coloraxis\": {\"colorbar\": {\"outlinewidth\": 0, \"ticks\": \"\"}}, \"colorscale\": {\"diverging\": [[0, \"#8e0152\"], [0.1, \"#c51b7d\"], [0.2, \"#de77ae\"], [0.3, \"#f1b6da\"], [0.4, \"#fde0ef\"], [0.5, \"#f7f7f7\"], [0.6, \"#e6f5d0\"], [0.7, \"#b8e186\"], [0.8, \"#7fbc41\"], [0.9, \"#4d9221\"], [1, \"#276419\"]], \"sequential\": [[0.0, \"#0d0887\"], [0.1111111111111111, \"#46039f\"], [0.2222222222222222, \"#7201a8\"], [0.3333333333333333, \"#9c179e\"], [0.4444444444444444, \"#bd3786\"], [0.5555555555555556, \"#d8576b\"], [0.6666666666666666, \"#ed7953\"], [0.7777777777777778, \"#fb9f3a\"], [0.8888888888888888, \"#fdca26\"], [1.0, \"#f0f921\"]], \"sequentialminus\": [[0.0, \"#0d0887\"], [0.1111111111111111, \"#46039f\"], [0.2222222222222222, \"#7201a8\"], [0.3333333333333333, \"#9c179e\"], [0.4444444444444444, \"#bd3786\"], [0.5555555555555556, \"#d8576b\"], [0.6666666666666666, \"#ed7953\"], [0.7777777777777778, \"#fb9f3a\"], [0.8888888888888888, \"#fdca26\"], [1.0, \"#f0f921\"]]}, \"colorway\": [\"#636efa\", \"#EF553B\", \"#00cc96\", \"#ab63fa\", \"#FFA15A\", \"#19d3f3\", \"#FF6692\", \"#B6E880\", \"#FF97FF\", \"#FECB52\"], \"font\": {\"color\": \"#2a3f5f\"}, \"geo\": {\"bgcolor\": \"white\", \"lakecolor\": \"white\", \"landcolor\": \"#E5ECF6\", \"showlakes\": true, \"showland\": true, \"subunitcolor\": \"white\"}, \"hoverlabel\": {\"align\": \"left\"}, \"hovermode\": \"closest\", \"mapbox\": {\"style\": \"light\"}, \"paper_bgcolor\": \"white\", \"plot_bgcolor\": \"#E5ECF6\", \"polar\": {\"angularaxis\": {\"gridcolor\": \"white\", \"linecolor\": \"white\", \"ticks\": \"\"}, \"bgcolor\": \"#E5ECF6\", \"radialaxis\": {\"gridcolor\": \"white\", \"linecolor\": \"white\", \"ticks\": \"\"}}, \"scene\": {\"xaxis\": {\"backgroundcolor\": \"#E5ECF6\", \"gridcolor\": \"white\", \"gridwidth\": 2, \"linecolor\": \"white\", \"showbackground\": true, \"ticks\": \"\", \"zerolinecolor\": \"white\"}, \"yaxis\": {\"backgroundcolor\": \"#E5ECF6\", \"gridcolor\": \"white\", \"gridwidth\": 2, \"linecolor\": \"white\", \"showbackground\": true, \"ticks\": \"\", \"zerolinecolor\": \"white\"}, \"zaxis\": {\"backgroundcolor\": \"#E5ECF6\", \"gridcolor\": \"white\", \"gridwidth\": 2, \"linecolor\": \"white\", \"showbackground\": true, \"ticks\": \"\", \"zerolinecolor\": \"white\"}}, \"shapedefaults\": {\"line\": {\"color\": \"#2a3f5f\"}}, \"ternary\": {\"aaxis\": {\"gridcolor\": \"white\", \"linecolor\": \"white\", \"ticks\": \"\"}, \"baxis\": {\"gridcolor\": \"white\", \"linecolor\": \"white\", \"ticks\": \"\"}, \"bgcolor\": \"#E5ECF6\", \"caxis\": {\"gridcolor\": \"white\", \"linecolor\": \"white\", \"ticks\": \"\"}}, \"title\": {\"x\": 0.05}, \"xaxis\": {\"automargin\": true, \"gridcolor\": \"white\", \"linecolor\": \"white\", \"ticks\": \"\", \"title\": {\"standoff\": 15}, \"zerolinecolor\": \"white\", \"zerolinewidth\": 2}, \"yaxis\": {\"automargin\": true, \"gridcolor\": \"white\", \"linecolor\": \"white\", \"ticks\": \"\", \"title\": {\"standoff\": 15}, \"zerolinecolor\": \"white\", \"zerolinewidth\": 2}}}, \"title\": {\"text\": \"Total Constituencies per State\"}, \"xaxis\": {\"anchor\": \"y\", \"domain\": [0.0, 1.0], \"title\": {\"text\": \"STATE\"}}, \"yaxis\": {\"anchor\": \"x\", \"domain\": [0.0, 1.0], \"title\": {\"text\": \"CONSTITUENCY\"}}},\n",
              "                        {\"responsive\": true}\n",
              "                    ).then(function(){\n",
              "                            \n",
              "var gd = document.getElementById('cb4b7c45-2f15-4365-a189-83f6547ca3e7');\n",
              "var x = new MutationObserver(function (mutations, observer) {{\n",
              "        var display = window.getComputedStyle(gd).display;\n",
              "        if (!display || display === 'none') {{\n",
              "            console.log([gd, 'removed!']);\n",
              "            Plotly.purge(gd);\n",
              "            observer.disconnect();\n",
              "        }}\n",
              "}});\n",
              "\n",
              "// Listen for the removal of the full notebook cells\n",
              "var notebookContainer = gd.closest('#notebook-container');\n",
              "if (notebookContainer) {{\n",
              "    x.observe(notebookContainer, {childList: true});\n",
              "}}\n",
              "\n",
              "// Listen for the clearing of the current output cell\n",
              "var outputEl = gd.closest('.output');\n",
              "if (outputEl) {{\n",
              "    x.observe(outputEl, {childList: true});\n",
              "}}\n",
              "\n",
              "                        })\n",
              "                };\n",
              "                \n",
              "            </script>\n",
              "        </div>\n",
              "</body>\n",
              "</html>"
            ]
          },
          "metadata": {}
        }
      ]
    },
    {
      "cell_type": "markdown",
      "metadata": {
        "id": "NySY8joPsD9k"
      },
      "source": [
        "Bang Uttar Pradesh là bang đông dân nhất với 200 triệu dân,đồng thời là nơi quan trọng nhất đất nước và có nhiều vấn đề xung đột tôn giáo sắc tộc phức tạp vì thế cũng là bang có tỷ lệ khu vực bầu cử cao nhất với 80 khu vực bầu cử.\n",
        "Thấp nhất là Andaman & Nicobar Islands, Goa, Nagaland, Puducherry, Mizoram, Dadra & Nagar Haveli, Sikkim, Chandiganrh,Lakshadweep, Daman & Diu với duy nhất một khu vực bầu cử. \n"
      ]
    },
    {
      "cell_type": "markdown",
      "metadata": {
        "id": "olJiHpIVXEVt"
      },
      "source": [
        "**Các ứng cử viên của Đảng phái**"
      ]
    },
    {
      "cell_type": "code",
      "metadata": {
        "id": "gn_hxWsiWSji",
        "colab": {
          "base_uri": "https://localhost:8080/",
          "height": 517
        },
        "outputId": "5fe95d72-05ca-4683-88fe-29796bddde7f"
      },
      "source": [
        "candidate = df_exclude_NOTA.PARTY.value_counts().reset_index().rename(columns = {'index':'Party','PARTY':'Total Candidates'}).head(50)\n",
        "candidate = candidate[candidate['Party'] != 'NOTA']\n",
        "fig = px.bar(candidate, title = \"Candidates by party \",x='Party', y='Total Candidates', color='Total Candidates', height=500)\n",
        "fig.show()"
      ],
      "execution_count": null,
      "outputs": [
        {
          "output_type": "display_data",
          "data": {
            "text/html": [
              "<html>\n",
              "<head><meta charset=\"utf-8\" /></head>\n",
              "<body>\n",
              "    <div>\n",
              "            <script src=\"https://cdnjs.cloudflare.com/ajax/libs/mathjax/2.7.5/MathJax.js?config=TeX-AMS-MML_SVG\"></script><script type=\"text/javascript\">if (window.MathJax) {MathJax.Hub.Config({SVG: {font: \"STIX-Web\"}});}</script>\n",
              "                <script type=\"text/javascript\">window.PlotlyConfig = {MathJaxConfig: 'local'};</script>\n",
              "        <script src=\"https://cdn.plot.ly/plotly-latest.min.js\"></script>    \n",
              "            <div id=\"ec1b95b4-48dc-4a4b-a3d2-c9c4675b83b7\" class=\"plotly-graph-div\" style=\"height:500px; width:100%;\"></div>\n",
              "            <script type=\"text/javascript\">\n",
              "                \n",
              "                    window.PLOTLYENV=window.PLOTLYENV || {};\n",
              "                    \n",
              "                if (document.getElementById(\"ec1b95b4-48dc-4a4b-a3d2-c9c4675b83b7\")) {\n",
              "                    Plotly.newPlot(\n",
              "                        'ec1b95b4-48dc-4a4b-a3d2-c9c4675b83b7',\n",
              "                        [{\"alignmentgroup\": \"True\", \"hoverlabel\": {\"namelength\": 0}, \"hovertemplate\": \"Party=%{x}<br>Total Candidates=%{marker.color}\", \"legendgroup\": \"\", \"marker\": {\"color\": [420, 413, 201, 163, 100, 47, 47, 39, 38, 36, 26, 25, 25, 25, 23, 21, 21, 21, 21, 20, 18, 17, 10, 10, 9, 9, 7, 6, 6, 6, 5, 5, 5, 5, 5, 5, 4, 4, 4, 4, 4, 3, 3, 3, 3, 3, 3, 3, 3, 3], \"coloraxis\": \"coloraxis\"}, \"name\": \"\", \"offsetgroup\": \"\", \"orientation\": \"v\", \"showlegend\": false, \"textposition\": \"auto\", \"type\": \"bar\", \"x\": [\"BJP\", \"INC\", \"IND\", \"BSP\", \"CPI(M)\", \"VBA\", \"AITC\", \"SP\", \"NTK\", \"MNM\", \"SHS\", \"AAP\", \"TDP\", \"YSRCP\", \"DMK\", \"RJD\", \"AIADMK\", \"NCP\", \"BJD\", \"JnP\", \"JD(U)\", \"TRS\", \"SBSP\", \"SAD\", \"APoI\", \"JD(S)\", \"PMK\", \"CPI(ML)(L)\", \"LJP\", \"JNJP\", \"JMM\", \"NPEP\", \"BMUP\", \"BLSP\", \"RSP\", \"GGP\", \"BTP\", \"BDJS\", \"SDPI\", \"DMDK\", \"INLD\", \"PPID\", \"RAHIS\", \"IUML\", \"AIFB\", \"JKN\", \"LIP\", \"PUNEKP\", \"RSPSR\", \"PSPL\"], \"xaxis\": \"x\", \"y\": [420, 413, 201, 163, 100, 47, 47, 39, 38, 36, 26, 25, 25, 25, 23, 21, 21, 21, 21, 20, 18, 17, 10, 10, 9, 9, 7, 6, 6, 6, 5, 5, 5, 5, 5, 5, 4, 4, 4, 4, 4, 3, 3, 3, 3, 3, 3, 3, 3, 3], \"yaxis\": \"y\"}],\n",
              "                        {\"barmode\": \"relative\", \"coloraxis\": {\"colorbar\": {\"title\": {\"text\": \"Total Candidates\"}}, \"colorscale\": [[0.0, \"#0d0887\"], [0.1111111111111111, \"#46039f\"], [0.2222222222222222, \"#7201a8\"], [0.3333333333333333, \"#9c179e\"], [0.4444444444444444, \"#bd3786\"], [0.5555555555555556, \"#d8576b\"], [0.6666666666666666, \"#ed7953\"], [0.7777777777777778, \"#fb9f3a\"], [0.8888888888888888, \"#fdca26\"], [1.0, \"#f0f921\"]]}, \"height\": 500, \"legend\": {\"tracegroupgap\": 0}, \"template\": {\"data\": {\"bar\": [{\"error_x\": {\"color\": \"#2a3f5f\"}, \"error_y\": {\"color\": \"#2a3f5f\"}, \"marker\": {\"line\": {\"color\": \"#E5ECF6\", \"width\": 0.5}}, \"type\": \"bar\"}], \"barpolar\": [{\"marker\": {\"line\": {\"color\": \"#E5ECF6\", \"width\": 0.5}}, \"type\": \"barpolar\"}], \"carpet\": [{\"aaxis\": {\"endlinecolor\": \"#2a3f5f\", \"gridcolor\": \"white\", \"linecolor\": \"white\", \"minorgridcolor\": \"white\", \"startlinecolor\": \"#2a3f5f\"}, \"baxis\": {\"endlinecolor\": \"#2a3f5f\", \"gridcolor\": \"white\", \"linecolor\": \"white\", \"minorgridcolor\": \"white\", \"startlinecolor\": \"#2a3f5f\"}, \"type\": \"carpet\"}], \"choropleth\": [{\"colorbar\": {\"outlinewidth\": 0, \"ticks\": \"\"}, \"type\": \"choropleth\"}], \"contour\": [{\"colorbar\": {\"outlinewidth\": 0, \"ticks\": \"\"}, \"colorscale\": [[0.0, \"#0d0887\"], [0.1111111111111111, \"#46039f\"], [0.2222222222222222, \"#7201a8\"], [0.3333333333333333, \"#9c179e\"], [0.4444444444444444, \"#bd3786\"], [0.5555555555555556, \"#d8576b\"], [0.6666666666666666, \"#ed7953\"], [0.7777777777777778, \"#fb9f3a\"], [0.8888888888888888, \"#fdca26\"], [1.0, \"#f0f921\"]], \"type\": \"contour\"}], \"contourcarpet\": [{\"colorbar\": {\"outlinewidth\": 0, \"ticks\": \"\"}, \"type\": \"contourcarpet\"}], \"heatmap\": [{\"colorbar\": {\"outlinewidth\": 0, \"ticks\": \"\"}, \"colorscale\": [[0.0, \"#0d0887\"], [0.1111111111111111, \"#46039f\"], [0.2222222222222222, \"#7201a8\"], [0.3333333333333333, \"#9c179e\"], [0.4444444444444444, \"#bd3786\"], [0.5555555555555556, \"#d8576b\"], [0.6666666666666666, \"#ed7953\"], [0.7777777777777778, \"#fb9f3a\"], [0.8888888888888888, \"#fdca26\"], [1.0, \"#f0f921\"]], \"type\": \"heatmap\"}], \"heatmapgl\": [{\"colorbar\": {\"outlinewidth\": 0, \"ticks\": \"\"}, \"colorscale\": [[0.0, \"#0d0887\"], [0.1111111111111111, \"#46039f\"], [0.2222222222222222, \"#7201a8\"], [0.3333333333333333, \"#9c179e\"], [0.4444444444444444, \"#bd3786\"], [0.5555555555555556, \"#d8576b\"], [0.6666666666666666, \"#ed7953\"], [0.7777777777777778, \"#fb9f3a\"], [0.8888888888888888, \"#fdca26\"], [1.0, \"#f0f921\"]], \"type\": \"heatmapgl\"}], \"histogram\": [{\"marker\": {\"colorbar\": {\"outlinewidth\": 0, \"ticks\": \"\"}}, \"type\": \"histogram\"}], \"histogram2d\": [{\"colorbar\": {\"outlinewidth\": 0, \"ticks\": \"\"}, \"colorscale\": [[0.0, \"#0d0887\"], [0.1111111111111111, \"#46039f\"], [0.2222222222222222, \"#7201a8\"], [0.3333333333333333, \"#9c179e\"], [0.4444444444444444, \"#bd3786\"], [0.5555555555555556, \"#d8576b\"], [0.6666666666666666, \"#ed7953\"], [0.7777777777777778, \"#fb9f3a\"], [0.8888888888888888, \"#fdca26\"], [1.0, \"#f0f921\"]], \"type\": \"histogram2d\"}], \"histogram2dcontour\": [{\"colorbar\": {\"outlinewidth\": 0, \"ticks\": \"\"}, \"colorscale\": [[0.0, \"#0d0887\"], [0.1111111111111111, \"#46039f\"], [0.2222222222222222, \"#7201a8\"], [0.3333333333333333, \"#9c179e\"], [0.4444444444444444, \"#bd3786\"], [0.5555555555555556, \"#d8576b\"], [0.6666666666666666, \"#ed7953\"], [0.7777777777777778, \"#fb9f3a\"], [0.8888888888888888, \"#fdca26\"], [1.0, \"#f0f921\"]], \"type\": \"histogram2dcontour\"}], \"mesh3d\": [{\"colorbar\": {\"outlinewidth\": 0, \"ticks\": \"\"}, \"type\": \"mesh3d\"}], \"parcoords\": [{\"line\": {\"colorbar\": {\"outlinewidth\": 0, \"ticks\": \"\"}}, \"type\": \"parcoords\"}], \"pie\": [{\"automargin\": true, \"type\": \"pie\"}], \"scatter\": [{\"marker\": {\"colorbar\": {\"outlinewidth\": 0, \"ticks\": \"\"}}, \"type\": \"scatter\"}], \"scatter3d\": [{\"line\": {\"colorbar\": {\"outlinewidth\": 0, \"ticks\": \"\"}}, \"marker\": {\"colorbar\": {\"outlinewidth\": 0, \"ticks\": \"\"}}, \"type\": \"scatter3d\"}], \"scattercarpet\": [{\"marker\": {\"colorbar\": {\"outlinewidth\": 0, \"ticks\": \"\"}}, \"type\": \"scattercarpet\"}], \"scattergeo\": [{\"marker\": {\"colorbar\": {\"outlinewidth\": 0, \"ticks\": \"\"}}, \"type\": \"scattergeo\"}], \"scattergl\": [{\"marker\": {\"colorbar\": {\"outlinewidth\": 0, \"ticks\": \"\"}}, \"type\": \"scattergl\"}], \"scattermapbox\": [{\"marker\": {\"colorbar\": {\"outlinewidth\": 0, \"ticks\": \"\"}}, \"type\": \"scattermapbox\"}], \"scatterpolar\": [{\"marker\": {\"colorbar\": {\"outlinewidth\": 0, \"ticks\": \"\"}}, \"type\": \"scatterpolar\"}], \"scatterpolargl\": [{\"marker\": {\"colorbar\": {\"outlinewidth\": 0, \"ticks\": \"\"}}, \"type\": \"scatterpolargl\"}], \"scatterternary\": [{\"marker\": {\"colorbar\": {\"outlinewidth\": 0, \"ticks\": \"\"}}, \"type\": \"scatterternary\"}], \"surface\": [{\"colorbar\": {\"outlinewidth\": 0, \"ticks\": \"\"}, \"colorscale\": [[0.0, \"#0d0887\"], [0.1111111111111111, \"#46039f\"], [0.2222222222222222, \"#7201a8\"], [0.3333333333333333, \"#9c179e\"], [0.4444444444444444, \"#bd3786\"], [0.5555555555555556, \"#d8576b\"], [0.6666666666666666, \"#ed7953\"], [0.7777777777777778, \"#fb9f3a\"], [0.8888888888888888, \"#fdca26\"], [1.0, \"#f0f921\"]], \"type\": \"surface\"}], \"table\": [{\"cells\": {\"fill\": {\"color\": \"#EBF0F8\"}, \"line\": {\"color\": \"white\"}}, \"header\": {\"fill\": {\"color\": \"#C8D4E3\"}, \"line\": {\"color\": \"white\"}}, \"type\": \"table\"}]}, \"layout\": {\"annotationdefaults\": {\"arrowcolor\": \"#2a3f5f\", \"arrowhead\": 0, \"arrowwidth\": 1}, \"coloraxis\": {\"colorbar\": {\"outlinewidth\": 0, \"ticks\": \"\"}}, \"colorscale\": {\"diverging\": [[0, \"#8e0152\"], [0.1, \"#c51b7d\"], [0.2, \"#de77ae\"], [0.3, \"#f1b6da\"], [0.4, \"#fde0ef\"], [0.5, \"#f7f7f7\"], [0.6, \"#e6f5d0\"], [0.7, \"#b8e186\"], [0.8, \"#7fbc41\"], [0.9, \"#4d9221\"], [1, \"#276419\"]], \"sequential\": [[0.0, \"#0d0887\"], [0.1111111111111111, \"#46039f\"], [0.2222222222222222, \"#7201a8\"], [0.3333333333333333, \"#9c179e\"], [0.4444444444444444, \"#bd3786\"], [0.5555555555555556, \"#d8576b\"], [0.6666666666666666, \"#ed7953\"], [0.7777777777777778, \"#fb9f3a\"], [0.8888888888888888, \"#fdca26\"], [1.0, \"#f0f921\"]], \"sequentialminus\": [[0.0, \"#0d0887\"], [0.1111111111111111, \"#46039f\"], [0.2222222222222222, \"#7201a8\"], [0.3333333333333333, \"#9c179e\"], [0.4444444444444444, \"#bd3786\"], [0.5555555555555556, \"#d8576b\"], [0.6666666666666666, \"#ed7953\"], [0.7777777777777778, \"#fb9f3a\"], [0.8888888888888888, \"#fdca26\"], [1.0, \"#f0f921\"]]}, \"colorway\": [\"#636efa\", \"#EF553B\", \"#00cc96\", \"#ab63fa\", \"#FFA15A\", \"#19d3f3\", \"#FF6692\", \"#B6E880\", \"#FF97FF\", \"#FECB52\"], \"font\": {\"color\": \"#2a3f5f\"}, \"geo\": {\"bgcolor\": \"white\", \"lakecolor\": \"white\", \"landcolor\": \"#E5ECF6\", \"showlakes\": true, \"showland\": true, \"subunitcolor\": \"white\"}, \"hoverlabel\": {\"align\": \"left\"}, \"hovermode\": \"closest\", \"mapbox\": {\"style\": \"light\"}, \"paper_bgcolor\": \"white\", \"plot_bgcolor\": \"#E5ECF6\", \"polar\": {\"angularaxis\": {\"gridcolor\": \"white\", \"linecolor\": \"white\", \"ticks\": \"\"}, \"bgcolor\": \"#E5ECF6\", \"radialaxis\": {\"gridcolor\": \"white\", \"linecolor\": \"white\", \"ticks\": \"\"}}, \"scene\": {\"xaxis\": {\"backgroundcolor\": \"#E5ECF6\", \"gridcolor\": \"white\", \"gridwidth\": 2, \"linecolor\": \"white\", \"showbackground\": true, \"ticks\": \"\", \"zerolinecolor\": \"white\"}, \"yaxis\": {\"backgroundcolor\": \"#E5ECF6\", \"gridcolor\": \"white\", \"gridwidth\": 2, \"linecolor\": \"white\", \"showbackground\": true, \"ticks\": \"\", \"zerolinecolor\": \"white\"}, \"zaxis\": {\"backgroundcolor\": \"#E5ECF6\", \"gridcolor\": \"white\", \"gridwidth\": 2, \"linecolor\": \"white\", \"showbackground\": true, \"ticks\": \"\", \"zerolinecolor\": \"white\"}}, \"shapedefaults\": {\"line\": {\"color\": \"#2a3f5f\"}}, \"ternary\": {\"aaxis\": {\"gridcolor\": \"white\", \"linecolor\": \"white\", \"ticks\": \"\"}, \"baxis\": {\"gridcolor\": \"white\", \"linecolor\": \"white\", \"ticks\": \"\"}, \"bgcolor\": \"#E5ECF6\", \"caxis\": {\"gridcolor\": \"white\", \"linecolor\": \"white\", \"ticks\": \"\"}}, \"title\": {\"x\": 0.05}, \"xaxis\": {\"automargin\": true, \"gridcolor\": \"white\", \"linecolor\": \"white\", \"ticks\": \"\", \"title\": {\"standoff\": 15}, \"zerolinecolor\": \"white\", \"zerolinewidth\": 2}, \"yaxis\": {\"automargin\": true, \"gridcolor\": \"white\", \"linecolor\": \"white\", \"ticks\": \"\", \"title\": {\"standoff\": 15}, \"zerolinecolor\": \"white\", \"zerolinewidth\": 2}}}, \"title\": {\"text\": \"Candidates by party \"}, \"xaxis\": {\"anchor\": \"y\", \"domain\": [0.0, 1.0], \"title\": {\"text\": \"Party\"}}, \"yaxis\": {\"anchor\": \"x\", \"domain\": [0.0, 1.0], \"title\": {\"text\": \"Total Candidates\"}}},\n",
              "                        {\"responsive\": true}\n",
              "                    ).then(function(){\n",
              "                            \n",
              "var gd = document.getElementById('ec1b95b4-48dc-4a4b-a3d2-c9c4675b83b7');\n",
              "var x = new MutationObserver(function (mutations, observer) {{\n",
              "        var display = window.getComputedStyle(gd).display;\n",
              "        if (!display || display === 'none') {{\n",
              "            console.log([gd, 'removed!']);\n",
              "            Plotly.purge(gd);\n",
              "            observer.disconnect();\n",
              "        }}\n",
              "}});\n",
              "\n",
              "// Listen for the removal of the full notebook cells\n",
              "var notebookContainer = gd.closest('#notebook-container');\n",
              "if (notebookContainer) {{\n",
              "    x.observe(notebookContainer, {childList: true});\n",
              "}}\n",
              "\n",
              "// Listen for the clearing of the current output cell\n",
              "var outputEl = gd.closest('.output');\n",
              "if (outputEl) {{\n",
              "    x.observe(outputEl, {childList: true});\n",
              "}}\n",
              "\n",
              "                        })\n",
              "                };\n",
              "                \n",
              "            </script>\n",
              "        </div>\n",
              "</body>\n",
              "</html>"
            ]
          },
          "metadata": {}
        }
      ]
    },
    {
      "cell_type": "markdown",
      "metadata": {
        "id": "_4ErsagWQIlT"
      },
      "source": [
        "Lượng ứng cử viên tham gia của 2 đảng BJP và INC lần lượt là 420 và 413 vượt trội hơn so với các Đảng còn lại. Chúng ta hãy xem xem, số lượng ứng cử viên nhiều có đồng nghĩa với việc Đảng ấy có nhiều người thắng hay không?"
      ]
    },
    {
      "cell_type": "markdown",
      "metadata": {
        "id": "rlFucDs1WLEe"
      },
      "source": [
        "**Cái nhìn tổng quan tổng lượt bỏ phiếu giữa các Đảng phái**\n",
        "\n",
        "\n",
        "\n",
        "\n",
        "\n",
        "\n"
      ]
    },
    {
      "cell_type": "code",
      "metadata": {
        "id": "iW_HVp1AVWIO",
        "colab": {
          "base_uri": "https://localhost:8080/"
        },
        "outputId": "2d96a54a-de38-4e82-9865-e96a07068ccf"
      },
      "source": [
        "top5_vote = df_exclude_NOTA.groupby('PARTY')['TOTAL VOTES'].sum().nlargest(5).index.tolist()\n",
        "def vote_share(row):\n",
        "    if row['PARTY'] not in top5_vote:\n",
        "        return 'Other'\n",
        "    else:\n",
        "        return row['PARTY']\n",
        "df_exclude_NOTA['Party New'] = df_exclude_NOTA.apply(vote_share,axis =1)\n",
        "counts = df_exclude_NOTA.groupby('Party New')['TOTAL VOTES'].sum()\n",
        "counts"
      ],
      "execution_count": null,
      "outputs": [
        {
          "output_type": "execute_result",
          "data": {
            "text/plain": [
              "Party New\n",
              "AITC      24832104\n",
              "BJP      228938556\n",
              "BSP       20808194\n",
              "INC      119418722\n",
              "Other    180238181\n",
              "SP        15616282\n",
              "Name: TOTAL VOTES, dtype: int64"
            ]
          },
          "metadata": {},
          "execution_count": 32
        }
      ]
    },
    {
      "cell_type": "code",
      "metadata": {
        "id": "Rzbzs7btWSdJ",
        "colab": {
          "base_uri": "https://localhost:8080/",
          "height": 542
        },
        "outputId": "87e78897-57e2-49cb-af6b-8665f344650f"
      },
      "source": [
        "labels = counts.index\n",
        "values = counts.values\n",
        "pie = go.Pie(labels=labels, values=values, marker=dict(line=dict(color='#000000', width=1)))\n",
        "layout = go.Layout(title='Partywise Vote Share')\n",
        "fig = go.Figure(data=[pie], layout=layout)\n",
        "py.iplot(fig)"
      ],
      "execution_count": null,
      "outputs": [
        {
          "output_type": "display_data",
          "data": {
            "text/html": [
              "<html>\n",
              "<head><meta charset=\"utf-8\" /></head>\n",
              "<body>\n",
              "    <div>\n",
              "            <script src=\"https://cdnjs.cloudflare.com/ajax/libs/mathjax/2.7.5/MathJax.js?config=TeX-AMS-MML_SVG\"></script><script type=\"text/javascript\">if (window.MathJax) {MathJax.Hub.Config({SVG: {font: \"STIX-Web\"}});}</script>\n",
              "                <script type=\"text/javascript\">window.PlotlyConfig = {MathJaxConfig: 'local'};</script>\n",
              "        <script src=\"https://cdn.plot.ly/plotly-latest.min.js\"></script>    \n",
              "            <div id=\"97d59d4c-1064-4648-9117-1f73774658f0\" class=\"plotly-graph-div\" style=\"height:525px; width:100%;\"></div>\n",
              "            <script type=\"text/javascript\">\n",
              "                \n",
              "                    window.PLOTLYENV=window.PLOTLYENV || {};\n",
              "                    \n",
              "                if (document.getElementById(\"97d59d4c-1064-4648-9117-1f73774658f0\")) {\n",
              "                    Plotly.newPlot(\n",
              "                        '97d59d4c-1064-4648-9117-1f73774658f0',\n",
              "                        [{\"labels\": [\"AITC\", \"BJP\", \"BSP\", \"INC\", \"Other\", \"SP\"], \"marker\": {\"line\": {\"color\": \"#000000\", \"width\": 1}}, \"type\": \"pie\", \"values\": [24832104, 228938556, 20808194, 119418722, 180238181, 15616282]}],\n",
              "                        {\"template\": {\"data\": {\"bar\": [{\"error_x\": {\"color\": \"#2a3f5f\"}, \"error_y\": {\"color\": \"#2a3f5f\"}, \"marker\": {\"line\": {\"color\": \"#E5ECF6\", \"width\": 0.5}}, \"type\": \"bar\"}], \"barpolar\": [{\"marker\": {\"line\": {\"color\": \"#E5ECF6\", \"width\": 0.5}}, \"type\": \"barpolar\"}], \"carpet\": [{\"aaxis\": {\"endlinecolor\": \"#2a3f5f\", \"gridcolor\": \"white\", \"linecolor\": \"white\", \"minorgridcolor\": \"white\", \"startlinecolor\": \"#2a3f5f\"}, \"baxis\": {\"endlinecolor\": \"#2a3f5f\", \"gridcolor\": \"white\", \"linecolor\": \"white\", \"minorgridcolor\": \"white\", \"startlinecolor\": \"#2a3f5f\"}, \"type\": \"carpet\"}], \"choropleth\": [{\"colorbar\": {\"outlinewidth\": 0, \"ticks\": \"\"}, \"type\": \"choropleth\"}], \"contour\": [{\"colorbar\": {\"outlinewidth\": 0, \"ticks\": \"\"}, \"colorscale\": [[0.0, \"#0d0887\"], [0.1111111111111111, \"#46039f\"], [0.2222222222222222, \"#7201a8\"], [0.3333333333333333, \"#9c179e\"], [0.4444444444444444, \"#bd3786\"], [0.5555555555555556, \"#d8576b\"], [0.6666666666666666, \"#ed7953\"], [0.7777777777777778, \"#fb9f3a\"], [0.8888888888888888, \"#fdca26\"], [1.0, \"#f0f921\"]], \"type\": \"contour\"}], \"contourcarpet\": [{\"colorbar\": {\"outlinewidth\": 0, \"ticks\": \"\"}, \"type\": \"contourcarpet\"}], \"heatmap\": [{\"colorbar\": {\"outlinewidth\": 0, \"ticks\": \"\"}, \"colorscale\": [[0.0, \"#0d0887\"], [0.1111111111111111, \"#46039f\"], [0.2222222222222222, \"#7201a8\"], [0.3333333333333333, \"#9c179e\"], [0.4444444444444444, \"#bd3786\"], [0.5555555555555556, \"#d8576b\"], [0.6666666666666666, \"#ed7953\"], [0.7777777777777778, \"#fb9f3a\"], [0.8888888888888888, \"#fdca26\"], [1.0, \"#f0f921\"]], \"type\": \"heatmap\"}], \"heatmapgl\": [{\"colorbar\": {\"outlinewidth\": 0, \"ticks\": \"\"}, \"colorscale\": [[0.0, \"#0d0887\"], [0.1111111111111111, \"#46039f\"], [0.2222222222222222, \"#7201a8\"], [0.3333333333333333, \"#9c179e\"], [0.4444444444444444, \"#bd3786\"], [0.5555555555555556, \"#d8576b\"], [0.6666666666666666, \"#ed7953\"], [0.7777777777777778, \"#fb9f3a\"], [0.8888888888888888, \"#fdca26\"], [1.0, \"#f0f921\"]], \"type\": \"heatmapgl\"}], \"histogram\": [{\"marker\": {\"colorbar\": {\"outlinewidth\": 0, \"ticks\": \"\"}}, \"type\": \"histogram\"}], \"histogram2d\": [{\"colorbar\": {\"outlinewidth\": 0, \"ticks\": \"\"}, \"colorscale\": [[0.0, \"#0d0887\"], [0.1111111111111111, \"#46039f\"], [0.2222222222222222, \"#7201a8\"], [0.3333333333333333, \"#9c179e\"], [0.4444444444444444, \"#bd3786\"], [0.5555555555555556, \"#d8576b\"], [0.6666666666666666, \"#ed7953\"], [0.7777777777777778, \"#fb9f3a\"], [0.8888888888888888, \"#fdca26\"], [1.0, \"#f0f921\"]], \"type\": \"histogram2d\"}], \"histogram2dcontour\": [{\"colorbar\": {\"outlinewidth\": 0, \"ticks\": \"\"}, \"colorscale\": [[0.0, \"#0d0887\"], [0.1111111111111111, \"#46039f\"], [0.2222222222222222, \"#7201a8\"], [0.3333333333333333, \"#9c179e\"], [0.4444444444444444, \"#bd3786\"], [0.5555555555555556, \"#d8576b\"], [0.6666666666666666, \"#ed7953\"], [0.7777777777777778, \"#fb9f3a\"], [0.8888888888888888, \"#fdca26\"], [1.0, \"#f0f921\"]], \"type\": \"histogram2dcontour\"}], \"mesh3d\": [{\"colorbar\": {\"outlinewidth\": 0, \"ticks\": \"\"}, \"type\": \"mesh3d\"}], \"parcoords\": [{\"line\": {\"colorbar\": {\"outlinewidth\": 0, \"ticks\": \"\"}}, \"type\": \"parcoords\"}], \"pie\": [{\"automargin\": true, \"type\": \"pie\"}], \"scatter\": [{\"marker\": {\"colorbar\": {\"outlinewidth\": 0, \"ticks\": \"\"}}, \"type\": \"scatter\"}], \"scatter3d\": [{\"line\": {\"colorbar\": {\"outlinewidth\": 0, \"ticks\": \"\"}}, \"marker\": {\"colorbar\": {\"outlinewidth\": 0, \"ticks\": \"\"}}, \"type\": \"scatter3d\"}], \"scattercarpet\": [{\"marker\": {\"colorbar\": {\"outlinewidth\": 0, \"ticks\": \"\"}}, \"type\": \"scattercarpet\"}], \"scattergeo\": [{\"marker\": {\"colorbar\": {\"outlinewidth\": 0, \"ticks\": \"\"}}, \"type\": \"scattergeo\"}], \"scattergl\": [{\"marker\": {\"colorbar\": {\"outlinewidth\": 0, \"ticks\": \"\"}}, \"type\": \"scattergl\"}], \"scattermapbox\": [{\"marker\": {\"colorbar\": {\"outlinewidth\": 0, \"ticks\": \"\"}}, \"type\": \"scattermapbox\"}], \"scatterpolar\": [{\"marker\": {\"colorbar\": {\"outlinewidth\": 0, \"ticks\": \"\"}}, \"type\": \"scatterpolar\"}], \"scatterpolargl\": [{\"marker\": {\"colorbar\": {\"outlinewidth\": 0, \"ticks\": \"\"}}, \"type\": \"scatterpolargl\"}], \"scatterternary\": [{\"marker\": {\"colorbar\": {\"outlinewidth\": 0, \"ticks\": \"\"}}, \"type\": \"scatterternary\"}], \"surface\": [{\"colorbar\": {\"outlinewidth\": 0, \"ticks\": \"\"}, \"colorscale\": [[0.0, \"#0d0887\"], [0.1111111111111111, \"#46039f\"], [0.2222222222222222, \"#7201a8\"], [0.3333333333333333, \"#9c179e\"], [0.4444444444444444, \"#bd3786\"], [0.5555555555555556, \"#d8576b\"], [0.6666666666666666, \"#ed7953\"], [0.7777777777777778, \"#fb9f3a\"], [0.8888888888888888, \"#fdca26\"], [1.0, \"#f0f921\"]], \"type\": \"surface\"}], \"table\": [{\"cells\": {\"fill\": {\"color\": \"#EBF0F8\"}, \"line\": {\"color\": \"white\"}}, \"header\": {\"fill\": {\"color\": \"#C8D4E3\"}, \"line\": {\"color\": \"white\"}}, \"type\": \"table\"}]}, \"layout\": {\"annotationdefaults\": {\"arrowcolor\": \"#2a3f5f\", \"arrowhead\": 0, \"arrowwidth\": 1}, \"coloraxis\": {\"colorbar\": {\"outlinewidth\": 0, \"ticks\": \"\"}}, \"colorscale\": {\"diverging\": [[0, \"#8e0152\"], [0.1, \"#c51b7d\"], [0.2, \"#de77ae\"], [0.3, \"#f1b6da\"], [0.4, \"#fde0ef\"], [0.5, \"#f7f7f7\"], [0.6, \"#e6f5d0\"], [0.7, \"#b8e186\"], [0.8, \"#7fbc41\"], [0.9, \"#4d9221\"], [1, \"#276419\"]], \"sequential\": [[0.0, \"#0d0887\"], [0.1111111111111111, \"#46039f\"], [0.2222222222222222, \"#7201a8\"], [0.3333333333333333, \"#9c179e\"], [0.4444444444444444, \"#bd3786\"], [0.5555555555555556, \"#d8576b\"], [0.6666666666666666, \"#ed7953\"], [0.7777777777777778, \"#fb9f3a\"], [0.8888888888888888, \"#fdca26\"], [1.0, \"#f0f921\"]], \"sequentialminus\": [[0.0, \"#0d0887\"], [0.1111111111111111, \"#46039f\"], [0.2222222222222222, \"#7201a8\"], [0.3333333333333333, \"#9c179e\"], [0.4444444444444444, \"#bd3786\"], [0.5555555555555556, \"#d8576b\"], [0.6666666666666666, \"#ed7953\"], [0.7777777777777778, \"#fb9f3a\"], [0.8888888888888888, \"#fdca26\"], [1.0, \"#f0f921\"]]}, \"colorway\": [\"#636efa\", \"#EF553B\", \"#00cc96\", \"#ab63fa\", \"#FFA15A\", \"#19d3f3\", \"#FF6692\", \"#B6E880\", \"#FF97FF\", \"#FECB52\"], \"font\": {\"color\": \"#2a3f5f\"}, \"geo\": {\"bgcolor\": \"white\", \"lakecolor\": \"white\", \"landcolor\": \"#E5ECF6\", \"showlakes\": true, \"showland\": true, \"subunitcolor\": \"white\"}, \"hoverlabel\": {\"align\": \"left\"}, \"hovermode\": \"closest\", \"mapbox\": {\"style\": \"light\"}, \"paper_bgcolor\": \"white\", \"plot_bgcolor\": \"#E5ECF6\", \"polar\": {\"angularaxis\": {\"gridcolor\": \"white\", \"linecolor\": \"white\", \"ticks\": \"\"}, \"bgcolor\": \"#E5ECF6\", \"radialaxis\": {\"gridcolor\": \"white\", \"linecolor\": \"white\", \"ticks\": \"\"}}, \"scene\": {\"xaxis\": {\"backgroundcolor\": \"#E5ECF6\", \"gridcolor\": \"white\", \"gridwidth\": 2, \"linecolor\": \"white\", \"showbackground\": true, \"ticks\": \"\", \"zerolinecolor\": \"white\"}, \"yaxis\": {\"backgroundcolor\": \"#E5ECF6\", \"gridcolor\": \"white\", \"gridwidth\": 2, \"linecolor\": \"white\", \"showbackground\": true, \"ticks\": \"\", \"zerolinecolor\": \"white\"}, \"zaxis\": {\"backgroundcolor\": \"#E5ECF6\", \"gridcolor\": \"white\", \"gridwidth\": 2, \"linecolor\": \"white\", \"showbackground\": true, \"ticks\": \"\", \"zerolinecolor\": \"white\"}}, \"shapedefaults\": {\"line\": {\"color\": \"#2a3f5f\"}}, \"ternary\": {\"aaxis\": {\"gridcolor\": \"white\", \"linecolor\": \"white\", \"ticks\": \"\"}, \"baxis\": {\"gridcolor\": \"white\", \"linecolor\": \"white\", \"ticks\": \"\"}, \"bgcolor\": \"#E5ECF6\", \"caxis\": {\"gridcolor\": \"white\", \"linecolor\": \"white\", \"ticks\": \"\"}}, \"title\": {\"x\": 0.05}, \"xaxis\": {\"automargin\": true, \"gridcolor\": \"white\", \"linecolor\": \"white\", \"ticks\": \"\", \"title\": {\"standoff\": 15}, \"zerolinecolor\": \"white\", \"zerolinewidth\": 2}, \"yaxis\": {\"automargin\": true, \"gridcolor\": \"white\", \"linecolor\": \"white\", \"ticks\": \"\", \"title\": {\"standoff\": 15}, \"zerolinecolor\": \"white\", \"zerolinewidth\": 2}}}, \"title\": {\"text\": \"Partywise Vote Share\"}},\n",
              "                        {\"responsive\": true}\n",
              "                    ).then(function(){\n",
              "                            \n",
              "var gd = document.getElementById('97d59d4c-1064-4648-9117-1f73774658f0');\n",
              "var x = new MutationObserver(function (mutations, observer) {{\n",
              "        var display = window.getComputedStyle(gd).display;\n",
              "        if (!display || display === 'none') {{\n",
              "            console.log([gd, 'removed!']);\n",
              "            Plotly.purge(gd);\n",
              "            observer.disconnect();\n",
              "        }}\n",
              "}});\n",
              "\n",
              "// Listen for the removal of the full notebook cells\n",
              "var notebookContainer = gd.closest('#notebook-container');\n",
              "if (notebookContainer) {{\n",
              "    x.observe(notebookContainer, {childList: true});\n",
              "}}\n",
              "\n",
              "// Listen for the clearing of the current output cell\n",
              "var outputEl = gd.closest('.output');\n",
              "if (outputEl) {{\n",
              "    x.observe(outputEl, {childList: true});\n",
              "}}\n",
              "\n",
              "                        })\n",
              "                };\n",
              "                \n",
              "            </script>\n",
              "        </div>\n",
              "</body>\n",
              "</html>"
            ]
          },
          "metadata": {}
        }
      ]
    },
    {
      "cell_type": "markdown",
      "metadata": {
        "id": "6plGQy_gOtm3"
      },
      "source": [
        "Ở trước đó chúng ta có thể thấy số ứng cử viên tham gia của Đảng INC cao gần bằng so với đảng BJP nhưng nhìn vào biểu đồ thì phần trăm bình chọn của BJP cao gần gấp đôi so với đảng INC cụ thể chúng ta sẽ đi vào phần lượng ghế thắng theo từng Đảng\n",
        "\n",
        "\n"
      ]
    },
    {
      "cell_type": "markdown",
      "metadata": {
        "id": "6yCSKxsvXsGE"
      },
      "source": [
        "**Lượng ghế thắng theo từng Đảng**"
      ]
    },
    {
      "cell_type": "code",
      "metadata": {
        "id": "G1LSKj0-WSp0",
        "colab": {
          "base_uri": "https://localhost:8080/",
          "height": 517
        },
        "outputId": "28a754fb-0031-47a8-9073-93d8f4bf0d9f"
      },
      "source": [
        "winning_seat = df_exclude_NOTA.groupby(['PARTY','SYMBOL'])['WINNER'].sum().reset_index().sort_values('WINNER',ascending = False)\n",
        "winning_seat = winning_seat[winning_seat['WINNER'] > 0]\n",
        "fig = px.bar(winning_seat, title = \"A number of seat won by party\", x='PARTY', y='WINNER',hover_data =['SYMBOL'], color='WINNER', height=500)\n",
        "fig.show()"
      ],
      "execution_count": null,
      "outputs": [
        {
          "output_type": "display_data",
          "data": {
            "text/html": [
              "<html>\n",
              "<head><meta charset=\"utf-8\" /></head>\n",
              "<body>\n",
              "    <div>\n",
              "            <script src=\"https://cdnjs.cloudflare.com/ajax/libs/mathjax/2.7.5/MathJax.js?config=TeX-AMS-MML_SVG\"></script><script type=\"text/javascript\">if (window.MathJax) {MathJax.Hub.Config({SVG: {font: \"STIX-Web\"}});}</script>\n",
              "                <script type=\"text/javascript\">window.PlotlyConfig = {MathJaxConfig: 'local'};</script>\n",
              "        <script src=\"https://cdn.plot.ly/plotly-latest.min.js\"></script>    \n",
              "            <div id=\"96a2eb2d-8196-48f0-b18e-82ca0e53cbd0\" class=\"plotly-graph-div\" style=\"height:500px; width:100%;\"></div>\n",
              "            <script type=\"text/javascript\">\n",
              "                \n",
              "                    window.PLOTLYENV=window.PLOTLYENV || {};\n",
              "                    \n",
              "                if (document.getElementById(\"96a2eb2d-8196-48f0-b18e-82ca0e53cbd0\")) {\n",
              "                    Plotly.newPlot(\n",
              "                        '96a2eb2d-8196-48f0-b18e-82ca0e53cbd0',\n",
              "                        [{\"alignmentgroup\": \"True\", \"customdata\": [[\"Lotus\"], [\"Hand\"], [\"Rising Sun\"], [\"Ceiling Fan\"], [\"Flowers and Grass\"], [\"Bow and Arrow\"], [\"Arrow\"], [\"Elephant\"], [\"Conch\"], [\"Car\"], [\"Bungalow\"], [\"Bicycle\"], [\"Clock\"], [\"Hammer, Sickle and Star\"], [\"Plough\"], [\"Bicycle\"], [\"Ladder\"], [\"Scales\"], [\"Cup & Saucer\"], [\"Ears of Corn And Sickle\"], [\"Kite\"], [\"Banana\"], [\"Two Leaves\"], [\"Two Leaves\"], [\"Man Blowing Turha\"], [\"Spade & Stoker\"], [\"Star\"], [\"Bow & Arrow\"], [\"Cock\"], [\"Broom\"], [\"Table Lamp\"], [\"Tyres\"], [\"Bow & Arrow\"], [\"A lady farmer carrying paddy on her head\"], [\"Spanner\"], [\"Battery Torch\"], [\"Batsman\"], [\"Lock and Key\"], [\"Pot\"], [\"Globe\"], [\"Book\"]], \"hoverlabel\": {\"namelength\": 0}, \"hovertemplate\": \"PARTY=%{x}<br>WINNER=%{marker.color}<br>SYMBOL=%{customdata[0]}\", \"legendgroup\": \"\", \"marker\": {\"color\": [300, 52, 23, 22, 22, 17, 16, 11, 11, 9, 6, 5, 5, 3, 3, 3, 3, 2, 2, 2, 2, 1, 1, 1, 1, 1, 1, 1, 1, 1, 1, 1, 1, 1, 1, 1, 1, 1, 1, 1, 1], \"coloraxis\": \"coloraxis\"}, \"name\": \"\", \"offsetgroup\": \"\", \"orientation\": \"v\", \"showlegend\": false, \"textposition\": \"auto\", \"type\": \"bar\", \"x\": [\"BJP\", \"INC\", \"DMK\", \"YSRCP\", \"AITC\", \"SHS\", \"JD(U)\", \"BSP\", \"BJD\", \"TRS\", \"LJP\", \"SP\", \"NCP\", \"CPI(M)\", \"JKN\", \"TDP\", \"IUML\", \"SAD\", \"ADAL\", \"CPI(M)\", \"AIMIM\", \"AJSUP\", \"AIADMK\", \"KEC(M)\", \"IND\", \"RSP\", \"MNF\", \"SHS\", \"NPF\", \"AAP\", \"SKM\", \"RLTP\", \"JMM\", \"JD(S)\", \"IND\", \"IND\", \"IND\", \"AIUDF\", \"VCK\", \"NDPP\", \"NPEP\"], \"xaxis\": \"x\", \"y\": [300, 52, 23, 22, 22, 17, 16, 11, 11, 9, 6, 5, 5, 3, 3, 3, 3, 2, 2, 2, 2, 1, 1, 1, 1, 1, 1, 1, 1, 1, 1, 1, 1, 1, 1, 1, 1, 1, 1, 1, 1], \"yaxis\": \"y\"}],\n",
              "                        {\"barmode\": \"relative\", \"coloraxis\": {\"colorbar\": {\"title\": {\"text\": \"WINNER\"}}, \"colorscale\": [[0.0, \"#0d0887\"], [0.1111111111111111, \"#46039f\"], [0.2222222222222222, \"#7201a8\"], [0.3333333333333333, \"#9c179e\"], [0.4444444444444444, \"#bd3786\"], [0.5555555555555556, \"#d8576b\"], [0.6666666666666666, \"#ed7953\"], [0.7777777777777778, \"#fb9f3a\"], [0.8888888888888888, \"#fdca26\"], [1.0, \"#f0f921\"]]}, \"height\": 500, \"legend\": {\"tracegroupgap\": 0}, \"template\": {\"data\": {\"bar\": [{\"error_x\": {\"color\": \"#2a3f5f\"}, \"error_y\": {\"color\": \"#2a3f5f\"}, \"marker\": {\"line\": {\"color\": \"#E5ECF6\", \"width\": 0.5}}, \"type\": \"bar\"}], \"barpolar\": [{\"marker\": {\"line\": {\"color\": \"#E5ECF6\", \"width\": 0.5}}, \"type\": \"barpolar\"}], \"carpet\": [{\"aaxis\": {\"endlinecolor\": \"#2a3f5f\", \"gridcolor\": \"white\", \"linecolor\": \"white\", \"minorgridcolor\": \"white\", \"startlinecolor\": \"#2a3f5f\"}, \"baxis\": {\"endlinecolor\": \"#2a3f5f\", \"gridcolor\": \"white\", \"linecolor\": \"white\", \"minorgridcolor\": \"white\", \"startlinecolor\": \"#2a3f5f\"}, \"type\": \"carpet\"}], \"choropleth\": [{\"colorbar\": {\"outlinewidth\": 0, \"ticks\": \"\"}, \"type\": \"choropleth\"}], \"contour\": [{\"colorbar\": {\"outlinewidth\": 0, \"ticks\": \"\"}, \"colorscale\": [[0.0, \"#0d0887\"], [0.1111111111111111, \"#46039f\"], [0.2222222222222222, \"#7201a8\"], [0.3333333333333333, \"#9c179e\"], [0.4444444444444444, \"#bd3786\"], [0.5555555555555556, \"#d8576b\"], [0.6666666666666666, \"#ed7953\"], [0.7777777777777778, \"#fb9f3a\"], [0.8888888888888888, \"#fdca26\"], [1.0, \"#f0f921\"]], \"type\": \"contour\"}], \"contourcarpet\": [{\"colorbar\": {\"outlinewidth\": 0, \"ticks\": \"\"}, \"type\": \"contourcarpet\"}], \"heatmap\": [{\"colorbar\": {\"outlinewidth\": 0, \"ticks\": \"\"}, \"colorscale\": [[0.0, \"#0d0887\"], [0.1111111111111111, \"#46039f\"], [0.2222222222222222, \"#7201a8\"], [0.3333333333333333, \"#9c179e\"], [0.4444444444444444, \"#bd3786\"], [0.5555555555555556, \"#d8576b\"], [0.6666666666666666, \"#ed7953\"], [0.7777777777777778, \"#fb9f3a\"], [0.8888888888888888, \"#fdca26\"], [1.0, \"#f0f921\"]], \"type\": \"heatmap\"}], \"heatmapgl\": [{\"colorbar\": {\"outlinewidth\": 0, \"ticks\": \"\"}, \"colorscale\": [[0.0, \"#0d0887\"], [0.1111111111111111, \"#46039f\"], [0.2222222222222222, \"#7201a8\"], [0.3333333333333333, \"#9c179e\"], [0.4444444444444444, \"#bd3786\"], [0.5555555555555556, \"#d8576b\"], [0.6666666666666666, \"#ed7953\"], [0.7777777777777778, \"#fb9f3a\"], [0.8888888888888888, \"#fdca26\"], [1.0, \"#f0f921\"]], \"type\": \"heatmapgl\"}], \"histogram\": [{\"marker\": {\"colorbar\": {\"outlinewidth\": 0, \"ticks\": \"\"}}, \"type\": \"histogram\"}], \"histogram2d\": [{\"colorbar\": {\"outlinewidth\": 0, \"ticks\": \"\"}, \"colorscale\": [[0.0, \"#0d0887\"], [0.1111111111111111, \"#46039f\"], [0.2222222222222222, \"#7201a8\"], [0.3333333333333333, \"#9c179e\"], [0.4444444444444444, \"#bd3786\"], [0.5555555555555556, \"#d8576b\"], [0.6666666666666666, \"#ed7953\"], [0.7777777777777778, \"#fb9f3a\"], [0.8888888888888888, \"#fdca26\"], [1.0, \"#f0f921\"]], \"type\": \"histogram2d\"}], \"histogram2dcontour\": [{\"colorbar\": {\"outlinewidth\": 0, \"ticks\": \"\"}, \"colorscale\": [[0.0, \"#0d0887\"], [0.1111111111111111, \"#46039f\"], [0.2222222222222222, \"#7201a8\"], [0.3333333333333333, \"#9c179e\"], [0.4444444444444444, \"#bd3786\"], [0.5555555555555556, \"#d8576b\"], [0.6666666666666666, \"#ed7953\"], [0.7777777777777778, \"#fb9f3a\"], [0.8888888888888888, \"#fdca26\"], [1.0, \"#f0f921\"]], \"type\": \"histogram2dcontour\"}], \"mesh3d\": [{\"colorbar\": {\"outlinewidth\": 0, \"ticks\": \"\"}, \"type\": \"mesh3d\"}], \"parcoords\": [{\"line\": {\"colorbar\": {\"outlinewidth\": 0, \"ticks\": \"\"}}, \"type\": \"parcoords\"}], \"pie\": [{\"automargin\": true, \"type\": \"pie\"}], \"scatter\": [{\"marker\": {\"colorbar\": {\"outlinewidth\": 0, \"ticks\": \"\"}}, \"type\": \"scatter\"}], \"scatter3d\": [{\"line\": {\"colorbar\": {\"outlinewidth\": 0, \"ticks\": \"\"}}, \"marker\": {\"colorbar\": {\"outlinewidth\": 0, \"ticks\": \"\"}}, \"type\": \"scatter3d\"}], \"scattercarpet\": [{\"marker\": {\"colorbar\": {\"outlinewidth\": 0, \"ticks\": \"\"}}, \"type\": \"scattercarpet\"}], \"scattergeo\": [{\"marker\": {\"colorbar\": {\"outlinewidth\": 0, \"ticks\": \"\"}}, \"type\": \"scattergeo\"}], \"scattergl\": [{\"marker\": {\"colorbar\": {\"outlinewidth\": 0, \"ticks\": \"\"}}, \"type\": \"scattergl\"}], \"scattermapbox\": [{\"marker\": {\"colorbar\": {\"outlinewidth\": 0, \"ticks\": \"\"}}, \"type\": \"scattermapbox\"}], \"scatterpolar\": [{\"marker\": {\"colorbar\": {\"outlinewidth\": 0, \"ticks\": \"\"}}, \"type\": \"scatterpolar\"}], \"scatterpolargl\": [{\"marker\": {\"colorbar\": {\"outlinewidth\": 0, \"ticks\": \"\"}}, \"type\": \"scatterpolargl\"}], \"scatterternary\": [{\"marker\": {\"colorbar\": {\"outlinewidth\": 0, \"ticks\": \"\"}}, \"type\": \"scatterternary\"}], \"surface\": [{\"colorbar\": {\"outlinewidth\": 0, \"ticks\": \"\"}, \"colorscale\": [[0.0, \"#0d0887\"], [0.1111111111111111, \"#46039f\"], [0.2222222222222222, \"#7201a8\"], [0.3333333333333333, \"#9c179e\"], [0.4444444444444444, \"#bd3786\"], [0.5555555555555556, \"#d8576b\"], [0.6666666666666666, \"#ed7953\"], [0.7777777777777778, \"#fb9f3a\"], [0.8888888888888888, \"#fdca26\"], [1.0, \"#f0f921\"]], \"type\": \"surface\"}], \"table\": [{\"cells\": {\"fill\": {\"color\": \"#EBF0F8\"}, \"line\": {\"color\": \"white\"}}, \"header\": {\"fill\": {\"color\": \"#C8D4E3\"}, \"line\": {\"color\": \"white\"}}, \"type\": \"table\"}]}, \"layout\": {\"annotationdefaults\": {\"arrowcolor\": \"#2a3f5f\", \"arrowhead\": 0, \"arrowwidth\": 1}, \"coloraxis\": {\"colorbar\": {\"outlinewidth\": 0, \"ticks\": \"\"}}, \"colorscale\": {\"diverging\": [[0, \"#8e0152\"], [0.1, \"#c51b7d\"], [0.2, \"#de77ae\"], [0.3, \"#f1b6da\"], [0.4, \"#fde0ef\"], [0.5, \"#f7f7f7\"], [0.6, \"#e6f5d0\"], [0.7, \"#b8e186\"], [0.8, \"#7fbc41\"], [0.9, \"#4d9221\"], [1, \"#276419\"]], \"sequential\": [[0.0, \"#0d0887\"], [0.1111111111111111, \"#46039f\"], [0.2222222222222222, \"#7201a8\"], [0.3333333333333333, \"#9c179e\"], [0.4444444444444444, \"#bd3786\"], [0.5555555555555556, \"#d8576b\"], [0.6666666666666666, \"#ed7953\"], [0.7777777777777778, \"#fb9f3a\"], [0.8888888888888888, \"#fdca26\"], [1.0, \"#f0f921\"]], \"sequentialminus\": [[0.0, \"#0d0887\"], [0.1111111111111111, \"#46039f\"], [0.2222222222222222, \"#7201a8\"], [0.3333333333333333, \"#9c179e\"], [0.4444444444444444, \"#bd3786\"], [0.5555555555555556, \"#d8576b\"], [0.6666666666666666, \"#ed7953\"], [0.7777777777777778, \"#fb9f3a\"], [0.8888888888888888, \"#fdca26\"], [1.0, \"#f0f921\"]]}, \"colorway\": [\"#636efa\", \"#EF553B\", \"#00cc96\", \"#ab63fa\", \"#FFA15A\", \"#19d3f3\", \"#FF6692\", \"#B6E880\", \"#FF97FF\", \"#FECB52\"], \"font\": {\"color\": \"#2a3f5f\"}, \"geo\": {\"bgcolor\": \"white\", \"lakecolor\": \"white\", \"landcolor\": \"#E5ECF6\", \"showlakes\": true, \"showland\": true, \"subunitcolor\": \"white\"}, \"hoverlabel\": {\"align\": \"left\"}, \"hovermode\": \"closest\", \"mapbox\": {\"style\": \"light\"}, \"paper_bgcolor\": \"white\", \"plot_bgcolor\": \"#E5ECF6\", \"polar\": {\"angularaxis\": {\"gridcolor\": \"white\", \"linecolor\": \"white\", \"ticks\": \"\"}, \"bgcolor\": \"#E5ECF6\", \"radialaxis\": {\"gridcolor\": \"white\", \"linecolor\": \"white\", \"ticks\": \"\"}}, \"scene\": {\"xaxis\": {\"backgroundcolor\": \"#E5ECF6\", \"gridcolor\": \"white\", \"gridwidth\": 2, \"linecolor\": \"white\", \"showbackground\": true, \"ticks\": \"\", \"zerolinecolor\": \"white\"}, \"yaxis\": {\"backgroundcolor\": \"#E5ECF6\", \"gridcolor\": \"white\", \"gridwidth\": 2, \"linecolor\": \"white\", \"showbackground\": true, \"ticks\": \"\", \"zerolinecolor\": \"white\"}, \"zaxis\": {\"backgroundcolor\": \"#E5ECF6\", \"gridcolor\": \"white\", \"gridwidth\": 2, \"linecolor\": \"white\", \"showbackground\": true, \"ticks\": \"\", \"zerolinecolor\": \"white\"}}, \"shapedefaults\": {\"line\": {\"color\": \"#2a3f5f\"}}, \"ternary\": {\"aaxis\": {\"gridcolor\": \"white\", \"linecolor\": \"white\", \"ticks\": \"\"}, \"baxis\": {\"gridcolor\": \"white\", \"linecolor\": \"white\", \"ticks\": \"\"}, \"bgcolor\": \"#E5ECF6\", \"caxis\": {\"gridcolor\": \"white\", \"linecolor\": \"white\", \"ticks\": \"\"}}, \"title\": {\"x\": 0.05}, \"xaxis\": {\"automargin\": true, \"gridcolor\": \"white\", \"linecolor\": \"white\", \"ticks\": \"\", \"title\": {\"standoff\": 15}, \"zerolinecolor\": \"white\", \"zerolinewidth\": 2}, \"yaxis\": {\"automargin\": true, \"gridcolor\": \"white\", \"linecolor\": \"white\", \"ticks\": \"\", \"title\": {\"standoff\": 15}, \"zerolinecolor\": \"white\", \"zerolinewidth\": 2}}}, \"title\": {\"text\": \"A number of seat won by party\"}, \"xaxis\": {\"anchor\": \"y\", \"domain\": [0.0, 1.0], \"title\": {\"text\": \"PARTY\"}}, \"yaxis\": {\"anchor\": \"x\", \"domain\": [0.0, 1.0], \"title\": {\"text\": \"WINNER\"}}},\n",
              "                        {\"responsive\": true}\n",
              "                    ).then(function(){\n",
              "                            \n",
              "var gd = document.getElementById('96a2eb2d-8196-48f0-b18e-82ca0e53cbd0');\n",
              "var x = new MutationObserver(function (mutations, observer) {{\n",
              "        var display = window.getComputedStyle(gd).display;\n",
              "        if (!display || display === 'none') {{\n",
              "            console.log([gd, 'removed!']);\n",
              "            Plotly.purge(gd);\n",
              "            observer.disconnect();\n",
              "        }}\n",
              "}});\n",
              "\n",
              "// Listen for the removal of the full notebook cells\n",
              "var notebookContainer = gd.closest('#notebook-container');\n",
              "if (notebookContainer) {{\n",
              "    x.observe(notebookContainer, {childList: true});\n",
              "}}\n",
              "\n",
              "// Listen for the clearing of the current output cell\n",
              "var outputEl = gd.closest('.output');\n",
              "if (outputEl) {{\n",
              "    x.observe(outputEl, {childList: true});\n",
              "}}\n",
              "\n",
              "                        })\n",
              "                };\n",
              "                \n",
              "            </script>\n",
              "        </div>\n",
              "</body>\n",
              "</html>"
            ]
          },
          "metadata": {}
        }
      ]
    },
    {
      "cell_type": "markdown",
      "metadata": {
        "id": "e1VaPlw8bZ15"
      },
      "source": [
        "Như ta đã thấy ở trên, 2 đảng BJP và đảng INC gần như luôn ở thế đối đầu với nhau khi các ứng cử viên của 2 bang là khá tương đương nhau. Tuy nhiên lượng ghế thắng của đảng BJP lại cao hơn rất nhiều cụ thể là gần gấp 6 đảng INC. Lợi thế khác giúp BJP giành chiến thắng trong cuộc đua này được cho là đến từ tiềm lực tài chính mạnh. Cụ thể, BJP đã chi nhiều gấp sáu lần so mức chi của INC cho quảng cáo trên hai nền tảng internet được nhiều người sử dụng nhất hiện nay là Facebook và Google. Tổng chi quảng cáo bầu cử của BJP nhiều gấp 20 lần so INC."
      ]
    },
    {
      "cell_type": "markdown",
      "metadata": {
        "id": "8wY__MuiYDZj"
      },
      "source": [
        "**Chênh lệch giữa ghế thắng và thua theo mỗi Đảng**"
      ]
    },
    {
      "cell_type": "code",
      "metadata": {
        "id": "uRwHH9MZWSuJ",
        "colab": {
          "base_uri": "https://localhost:8080/"
        },
        "outputId": "5af5fdee-e333-497e-ed14-43c08921363f"
      },
      "source": [
        "top20_parties = pd.Series(df_exclude_NOTA['PARTY'].value_counts().head(21))\n",
        "top20_parties = top20_parties.index.drop(['IND'])\n",
        "top20_parties\n"
      ],
      "execution_count": null,
      "outputs": [
        {
          "output_type": "execute_result",
          "data": {
            "text/plain": [
              "Index(['BJP', 'INC', 'BSP', 'CPI(M)', 'VBA', 'AITC', 'SP', 'NTK', 'MNM', 'SHS',\n",
              "       'AAP', 'TDP', 'YSRCP', 'DMK', 'RJD', 'AIADMK', 'NCP', 'BJD', 'JnP',\n",
              "       'JD(U)'],\n",
              "      dtype='object')"
            ]
          },
          "metadata": {},
          "execution_count": 35
        }
      ]
    },
    {
      "cell_type": "code",
      "metadata": {
        "id": "p3uH5baNY2UD"
      },
      "source": [
        "compare_seat = pd.DataFrame(columns=df_exclude_NOTA.columns)\n",
        "#Hàm enumerate thêm vào một bộ đếm vào trước mỗi iterable và trả về kết quả dưới dạng đối tượng liệt kê\n",
        "for count,party in enumerate(df['PARTY']): \n",
        "    if party in top20_parties:\n",
        "        compare_seat = compare_seat.append(df.loc[count],ignore_index=True)"
      ],
      "execution_count": null,
      "outputs": []
    },
    {
      "cell_type": "code",
      "metadata": {
        "id": "k8aN0lAdY2W_",
        "colab": {
          "base_uri": "https://localhost:8080/",
          "height": 414
        },
        "outputId": "bfb25e46-8a35-48d5-90f8-b6ec7bb0b1af"
      },
      "source": [
        "plt.figure(figsize=(17,6))\n",
        "ax = sns.countplot(x='PARTY',hue='WINNER',data= compare_seat,palette='Set1')\n",
        "ax.set_title('Comparison of Seats Won and Lost by Parties (TOP 20 PARTIES)',fontsize=20)\n",
        "ax.legend(['Seats Lost','Seats Won'],loc='upper right',frameon=False),\n",
        "ax.set_xlabel('Political Parties',fontsize=16)\n",
        "ax.set_ylabel('Number of Seats',fontsize=16)\n",
        "\n",
        "sns.despine(bottom=True,left=True)"
      ],
      "execution_count": null,
      "outputs": [
        {
          "output_type": "display_data",
          "data": {
            "image/png": "[encoded data removed]",
            "text/plain": [
              "<Figure size 1224x432 with 1 Axes>"
            ]
          },
          "metadata": {
            "needs_background": "light"
          }
        }
      ]
    },
    {
      "cell_type": "markdown",
      "metadata": {
        "id": "R0HRm72EcN_9"
      },
      "source": [
        "Như đã phân tích bên trên, tiềm lực kinh tế chính là bí quyết để đảng BJP thắng áp đảo các bang còn lại, đặc biệt là đảng INC. Trong khi số ghế thua của BJP chỉ trong khoảng 100 đến 150, thì số ghế thua của INC cao gần gấp 3 trong khoảng từ 350 đổ lên trên. Số ghế thắng của BJP một lần nữa lại gấp 6 lần số ghế thắng của INC. "
      ]
    },
    {
      "cell_type": "markdown",
      "metadata": {
        "id": "RBM-JoHDA4Jc"
      },
      "source": [
        "**Các ứng viên có tiền án thuộc những đảng phái nào(TOP 20)**"
      ]
    },
    {
      "cell_type": "code",
      "metadata": {
        "id": "qnwEQ6WbAtcM"
      },
      "source": [
        "def criminal_or_not(value):\n",
        "    if value != 0:\n",
        "        criminal_value = 1\n",
        "    else:\n",
        "        criminal_value = 0\n",
        "    return criminal_value"
      ],
      "execution_count": null,
      "outputs": []
    },
    {
      "cell_type": "code",
      "metadata": {
        "colab": {
          "base_uri": "https://localhost:8080/",
          "height": 408
        },
        "id": "7w4ZysoCPlkU",
        "outputId": "49f0793c-83d8-4b9f-b047-99238d75a764"
      },
      "source": [
        "df_exclude_NOTA['CRIMINAL BACKGROUND'] = df_exclude_NOTA['CRIMINAL CASES'].apply(criminal_or_not)\n",
        "df_exclude_NOTA.head()"
      ],
      "execution_count": null,
      "outputs": [
        {
          "output_type": "execute_result",
          "data": {
            "text/html": [
              "<div>\n",
              "<style scoped>\n",
              "    .dataframe tbody tr th:only-of-type {\n",
              "        vertical-align: middle;\n",
              "    }\n",
              "\n",
              "    .dataframe tbody tr th {\n",
              "        vertical-align: top;\n",
              "    }\n",
              "\n",
              "    .dataframe thead th {\n",
              "        text-align: right;\n",
              "    }\n",
              "</style>\n",
              "<table border=\"1\" class=\"dataframe\">\n",
              "  <thead>\n",
              "    <tr style=\"text-align: right;\">\n",
              "      <th></th>\n",
              "      <th>STATE</th>\n",
              "      <th>CONSTITUENCY</th>\n",
              "      <th>NAME</th>\n",
              "      <th>WINNER</th>\n",
              "      <th>PARTY</th>\n",
              "      <th>SYMBOL</th>\n",
              "      <th>GENDER</th>\n",
              "      <th>CRIMINAL CASES</th>\n",
              "      <th>AGE</th>\n",
              "      <th>CATEGORY</th>\n",
              "      <th>EDUCATION</th>\n",
              "      <th>ASSETS</th>\n",
              "      <th>LIABILITIES</th>\n",
              "      <th>GENERAL VOTES</th>\n",
              "      <th>POSTAL VOTES</th>\n",
              "      <th>TOTAL VOTES</th>\n",
              "      <th>OVER TOTAL ELECTORS  IN CONSTITUENCY</th>\n",
              "      <th>OVER TOTAL VOTES POLLED  IN CONSTITUENCY</th>\n",
              "      <th>TOTAL ELECTORS</th>\n",
              "      <th>Party New</th>\n",
              "      <th>CRIMINAL BACKGROUND</th>\n",
              "    </tr>\n",
              "  </thead>\n",
              "  <tbody>\n",
              "    <tr>\n",
              "      <th>0</th>\n",
              "      <td>Telangana</td>\n",
              "      <td>ADILABAD</td>\n",
              "      <td>SOYAM BAPU RAO</td>\n",
              "      <td>1</td>\n",
              "      <td>BJP</td>\n",
              "      <td>Lotus</td>\n",
              "      <td>MALE</td>\n",
              "      <td>52</td>\n",
              "      <td>52.0</td>\n",
              "      <td>ST</td>\n",
              "      <td>12th Pass</td>\n",
              "      <td>3099414</td>\n",
              "      <td>231450</td>\n",
              "      <td>376892</td>\n",
              "      <td>482</td>\n",
              "      <td>377374</td>\n",
              "      <td>25.330684</td>\n",
              "      <td>35.468248</td>\n",
              "      <td>1489790</td>\n",
              "      <td>BJP</td>\n",
              "      <td>1</td>\n",
              "    </tr>\n",
              "    <tr>\n",
              "      <th>1</th>\n",
              "      <td>Telangana</td>\n",
              "      <td>ADILABAD</td>\n",
              "      <td>Godam Nagesh</td>\n",
              "      <td>0</td>\n",
              "      <td>TRS</td>\n",
              "      <td>Car</td>\n",
              "      <td>MALE</td>\n",
              "      <td>0</td>\n",
              "      <td>54.0</td>\n",
              "      <td>ST</td>\n",
              "      <td>Post Graduate</td>\n",
              "      <td>18477888</td>\n",
              "      <td>847000</td>\n",
              "      <td>318665</td>\n",
              "      <td>149</td>\n",
              "      <td>318814</td>\n",
              "      <td>21.399929</td>\n",
              "      <td>29.964370</td>\n",
              "      <td>1489790</td>\n",
              "      <td>Other</td>\n",
              "      <td>0</td>\n",
              "    </tr>\n",
              "    <tr>\n",
              "      <th>2</th>\n",
              "      <td>Telangana</td>\n",
              "      <td>ADILABAD</td>\n",
              "      <td>RATHOD RAMESH</td>\n",
              "      <td>0</td>\n",
              "      <td>INC</td>\n",
              "      <td>Hand</td>\n",
              "      <td>MALE</td>\n",
              "      <td>3</td>\n",
              "      <td>52.0</td>\n",
              "      <td>ST</td>\n",
              "      <td>12th Pass</td>\n",
              "      <td>36491000</td>\n",
              "      <td>15300000</td>\n",
              "      <td>314057</td>\n",
              "      <td>181</td>\n",
              "      <td>314238</td>\n",
              "      <td>21.092771</td>\n",
              "      <td>29.534285</td>\n",
              "      <td>1489790</td>\n",
              "      <td>INC</td>\n",
              "      <td>1</td>\n",
              "    </tr>\n",
              "    <tr>\n",
              "      <th>4</th>\n",
              "      <td>Uttar Pradesh</td>\n",
              "      <td>AGRA</td>\n",
              "      <td>Satyapal Singh Baghel</td>\n",
              "      <td>1</td>\n",
              "      <td>BJP</td>\n",
              "      <td>Lotus</td>\n",
              "      <td>MALE</td>\n",
              "      <td>5</td>\n",
              "      <td>58.0</td>\n",
              "      <td>SC</td>\n",
              "      <td>Doctorate</td>\n",
              "      <td>74274036</td>\n",
              "      <td>8606522</td>\n",
              "      <td>644459</td>\n",
              "      <td>2416</td>\n",
              "      <td>646875</td>\n",
              "      <td>33.383823</td>\n",
              "      <td>56.464615</td>\n",
              "      <td>1937690</td>\n",
              "      <td>BJP</td>\n",
              "      <td>1</td>\n",
              "    </tr>\n",
              "    <tr>\n",
              "      <th>5</th>\n",
              "      <td>Uttar Pradesh</td>\n",
              "      <td>AGRA</td>\n",
              "      <td>Manoj Kumar Soni</td>\n",
              "      <td>0</td>\n",
              "      <td>BSP</td>\n",
              "      <td>Elephant</td>\n",
              "      <td>MALE</td>\n",
              "      <td>0</td>\n",
              "      <td>47.0</td>\n",
              "      <td>SC</td>\n",
              "      <td>Post Graduate</td>\n",
              "      <td>133784385</td>\n",
              "      <td>22251891</td>\n",
              "      <td>434199</td>\n",
              "      <td>1130</td>\n",
              "      <td>435329</td>\n",
              "      <td>22.466390</td>\n",
              "      <td>37.999125</td>\n",
              "      <td>1937690</td>\n",
              "      <td>BSP</td>\n",
              "      <td>0</td>\n",
              "    </tr>\n",
              "  </tbody>\n",
              "</table>\n",
              "</div>"
            ],
            "text/plain": [
              "           STATE CONSTITUENCY  ... Party New  CRIMINAL BACKGROUND\n",
              "0      Telangana     ADILABAD  ...       BJP                    1\n",
              "1      Telangana     ADILABAD  ...     Other                    0\n",
              "2      Telangana     ADILABAD  ...       INC                    1\n",
              "4  Uttar Pradesh         AGRA  ...       BJP                    1\n",
              "5  Uttar Pradesh         AGRA  ...       BSP                    0\n",
              "\n",
              "[5 rows x 21 columns]"
            ]
          },
          "metadata": {},
          "execution_count": 39
        }
      ]
    },
    {
      "cell_type": "code",
      "metadata": {
        "id": "nE_wNgeXPrUP",
        "colab": {
          "base_uri": "https://localhost:8080/"
        },
        "outputId": "f7ad1cb0-3ea3-4a9d-d44d-2601c16ed4c0"
      },
      "source": [
        "# Creating a Series consisting of Names of Top 20 Political Parties having most number of CRIMINAL CANDIDATES\n",
        "top_20_crim_cand_parties = df_exclude_NOTA['PARTY'][df_exclude_NOTA['CRIMINAL CASES']!='0'].sort_index().value_counts().head(20)\n",
        "top_20_crim_cand_parties = top_20_crim_cand_parties.index\n",
        "top_20_crim_cand_parties"
      ],
      "execution_count": null,
      "outputs": [
        {
          "output_type": "execute_result",
          "data": {
            "text/plain": [
              "Index(['BJP', 'INC', 'IND', 'BSP', 'CPI(M)', 'VBA', 'AITC', 'SP', 'NTK', 'MNM',\n",
              "       'SHS', 'AAP', 'TDP', 'YSRCP', 'DMK', 'RJD', 'AIADMK', 'NCP', 'BJD',\n",
              "       'JnP'],\n",
              "      dtype='object')"
            ]
          },
          "metadata": {},
          "execution_count": 40
        }
      ]
    },
    {
      "cell_type": "code",
      "metadata": {
        "id": "6wsaUVjhPyJ4"
      },
      "source": [
        "# Creating DataFrame consisting of Top 20 Political Parties having most number of CRIMINAL CANDIDATES\n",
        "df_top_20_criminal_parties = df_exclude_NOTA.copy()\n",
        "for party,index in zip(df_top_20_criminal_parties['PARTY'],df_top_20_criminal_parties['PARTY'].index):\n",
        "    if party not in top_20_crim_cand_parties:\n",
        "        df_top_20_criminal_parties.drop(index=index, inplace=True)"
      ],
      "execution_count": null,
      "outputs": []
    },
    {
      "cell_type": "code",
      "metadata": {
        "colab": {
          "base_uri": "https://localhost:8080/",
          "height": 360
        },
        "id": "RAJY5Wg0PxcN",
        "outputId": "b290328d-a06d-400f-b218-9a1daa19588d"
      },
      "source": [
        "plt.figure(figsize=(20,5))\n",
        "ax = sns.countplot(data=df_top_20_criminal_parties,x='PARTY',hue='CRIMINAL BACKGROUND')\n",
        "\n",
        "ax.legend(['CLEAN IMAGE','CRIMINAL BACKGROUND'],loc='upper right')\n",
        "ax.set_title('Political Party Candidates CRIMINAL BACKGROUND check (TOP 20)',fontsize=20)\n",
        "ax.set_ylabel('Number of Candidates',fontsize=16)\n",
        "ax.set_xlabel('Political Parties',fontsize=16)\n",
        "\n",
        "sns.despine(bottom=True,left=True)"
      ],
      "execution_count": null,
      "outputs": [
        {
          "output_type": "display_data",
          "data": {
            "image/png": "[encoded data removed]",
            "text/plain": [
              "<Figure size 1440x360 with 1 Axes>"
            ]
          },
          "metadata": {
            "needs_background": "light"
          }
        }
      ]
    },
    {
      "cell_type": "markdown",
      "metadata": {
        "id": "BgCGRLH-diDh"
      },
      "source": [
        "BJP và INC là 2 đảng có đông ứng cử viên nhất đồng thời là 2 đảng có nhiều ứng viên có tiền án nhất.Theo sau đó là IND với 201 ứng cử viên tham gia ứng cử và BSP là 163 ứng cử viên. Nhìn vào biểu đồ ta có thể thấy, gần 1/3 ứng cử viên của đảng IND tham gia ứng cử có tiền án và gần 1/2 ứng cử viên của đảng BSP có tiền án tiền sự ."
      ]
    },
    {
      "cell_type": "markdown",
      "metadata": {
        "id": "mwkz_p1gOq4g"
      },
      "source": [
        "**Ứng cử viên có tiền án và sự ảnh hưởng thắng thua theo các Đảng phái**\n"
      ]
    },
    {
      "cell_type": "code",
      "metadata": {
        "colab": {
          "base_uri": "https://localhost:8080/",
          "height": 360
        },
        "id": "H4XBXbH0OviP",
        "outputId": "305f17e3-347e-4b4f-c2d2-d6aecfdde1c4"
      },
      "source": [
        "# Creating DataFrame consisting of only Candidates having CRIMINAL BACKGROUND\n",
        "\n",
        "df_criminal = pd.DataFrame(columns=df_exclude_NOTA.columns)\n",
        "df_criminal = df_exclude_NOTA.copy()\n",
        "df_criminal = df_criminal[df_criminal['CRIMINAL BACKGROUND']==1]\n",
        "\n",
        "for party,index in zip(df_criminal['PARTY'],df_criminal['PARTY'].index):\n",
        "    if party not in top_20_crim_cand_parties:\n",
        "        df_criminal.drop(index=index, inplace=True)\n",
        "        \n",
        "# Comparison of Seats Won and Lost by CRIMINAL CANDIDATES of Parties (TOP 20 PARTIES)\n",
        "\n",
        "plt.figure(figsize=(17,5))\n",
        "ax = sns.countplot(x='PARTY',hue='WINNER',data=df_criminal,palette='husl')\n",
        "ax.set_title('Comparison of Seats Won and Lost by CRIMINAL CANDIDATES of Parties (TOP 20 PARTIES)',fontsize=20)\n",
        "ax.legend(['Seats Lost','Seats Won'],loc='upper right',frameon=False),\n",
        "ax.set_xlabel('CRIMINAL CANDIDATES of Political Parties',fontsize=16)\n",
        "ax.set_ylabel('Number of Seats',fontsize=16)\n",
        "\n",
        "sns.despine(bottom=True,left=True)"
      ],
      "execution_count": null,
      "outputs": [
        {
          "output_type": "display_data",
          "data": {
            "image/png": "[encoded data removed]",
            "text/plain": [
              "<Figure size 1224x360 with 1 Axes>"
            ]
          },
          "metadata": {
            "needs_background": "light"
          }
        }
      ]
    },
    {
      "cell_type": "markdown",
      "metadata": {
        "id": "WaaHAJp9hOA3"
      },
      "source": [
        "Biểu đồ trên đã thể hiện rõ số ghế thắng và thua của các ứng viên liên quan đến tiền án có sự ảnh hưởng và phụ thuộc vào các đảng. "
      ]
    },
    {
      "cell_type": "markdown",
      "metadata": {
        "id": "QKvJHgeJoTf9"
      },
      "source": [
        "## **PHÂN TÍCH ỨNG VIÊN**"
      ]
    },
    {
      "cell_type": "markdown",
      "metadata": {
        "id": "AAPqN1kAcPtD"
      },
      "source": [
        "**Phân hóa độ tuổi giữa các ứng cử viên**"
      ]
    },
    {
      "cell_type": "code",
      "metadata": {
        "id": "g7NDu5p3cZ4Y",
        "colab": {
          "base_uri": "https://localhost:8080/",
          "height": 542
        },
        "outputId": "602f82e4-b152-401d-db80-c014b066c796"
      },
      "source": [
        "fig = px.histogram(df_exclude_NOTA, x=\"AGE\")\n",
        "fig.show()"
      ],
      "execution_count": null,
      "outputs": [
        {
          "output_type": "display_data",
          "data": {
            "text/html": [
              "<html>\n",
              "<head><meta charset=\"utf-8\" /></head>\n",
              "<body>\n",
              "    <div>\n",
              "            <script src=\"https://cdnjs.cloudflare.com/ajax/libs/mathjax/2.7.5/MathJax.js?config=TeX-AMS-MML_SVG\"></script><script type=\"text/javascript\">if (window.MathJax) {MathJax.Hub.Config({SVG: {font: \"STIX-Web\"}});}</script>\n",
              "                <script type=\"text/javascript\">window.PlotlyConfig = {MathJaxConfig: 'local'};</script>\n",
              "        <script src=\"https://cdn.plot.ly/plotly-latest.min.js\"></script>    \n",
              "            <div id=\"bccb65fe-54cc-4f54-85c2-c5aaa0470af2\" class=\"plotly-graph-div\" style=\"height:525px; width:100%;\"></div>\n",
              "            <script type=\"text/javascript\">\n",
              "                \n",
              "                    window.PLOTLYENV=window.PLOTLYENV || {};\n",
              "                    \n",
              "                if (document.getElementById(\"bccb65fe-54cc-4f54-85c2-c5aaa0470af2\")) {\n",
              "                    Plotly.newPlot(\n",
              "                        'bccb65fe-54cc-4f54-85c2-c5aaa0470af2',\n",
              "                        [{\"alignmentgroup\": \"True\", \"bingroup\": \"x\", \"hoverlabel\": {\"namelength\": 0}, \"hovertemplate\": \"AGE=%{x}<br>count=%{y}\", \"legendgroup\": \"\", \"marker\": {\"color\": \"#636efa\"}, \"name\": \"\", \"offsetgroup\": \"\", \"orientation\": \"v\", \"showlegend\": false, \"type\": \"histogram\", \"x\": [52.0, 54.0, 52.0, 58.0, 47.0, 54.0, 37.0, 34.0, 62.0, 58.0, 38.0, 69.0, 68.0, 66.0, 64.0, 40.0, 60.0, 60.0, 64.0, 46.0, 58.0, 60.0, 64.0, 60.0, 54.0, 52.0, 64.0, 32.0, 44.0, 61.0, 46.0, 51.0, 62.0, 43.0, 52.0, 42.0, 44.0, 69.0, 63.0, 49.0, 77.0, 46.0, 60.0, 41.0, 35.0, 47.0, 31.0, 46.0, 28.0, 59.0, 67.0, 56.0, 55.0, 61.0, 38.0, 71.0, 36.0, 43.0, 48.0, 33.0, 71.0, 47.0, 56.0, 64.0, 42.0, 47.0, 46.0, 67.0, 58.0, 55.0, 43.0, 58.0, 35.0, 52.0, 43.0, 56.0, 65.0, 54.0, 65.0, 53.0, 69.0, 62.0, 51.0, 48.0, 45.0, 29.0, 58.0, 65.0, 60.0, 59.0, 53.0, 60.0, 45.0, 52.0, 46.0, 61.0, 49.0, 43.0, 50.0, 57.0, 64.0, 71.0, 55.0, 43.0, 40.0, 61.0, 33.0, 55.0, 59.0, 41.0, 46.0, 63.0, 55.0, 37.0, 41.0, 52.0, 50.0, 66.0, 36.0, 81.0, 70.0, 26.0, 72.0, 49.0, 54.0, 46.0, 61.0, 37.0, 54.0, 69.0, 47.0, 38.0, 68.0, 47.0, 51.0, 56.0, 42.0, 45.0, 48.0, 65.0, 59.0, 37.0, 62.0, 70.0, 47.0, 47.0, 63.0, 56.0, 49.0, 53.0, 50.0, 34.0, 55.0, 67.0, 41.0, 56.0, 62.0, 42.0, 43.0, 35.0, 58.0, 46.0, 49.0, 76.0, 68.0, 61.0, 39.0, 45.0, 40.0, 34.0, 40.0, 66.0, 68.0, 38.0, 63.0, 40.0, 63.0, 55.0, 55.0, 38.0, 66.0, 73.0, 60.0, 38.0, 66.0, 53.0, 68.0, 62.0, 64.0, 51.0, 46.0, 62.0, 56.0, 51.0, 39.0, 52.0, 50.0, 40.0, 70.0, 75.0, 39.0, 49.0, 33.0, 59.0, 74.0, 59.0, 37.0, 55.0, 39.0, 53.0, 66.0, 46.0, 52.0, 59.0, 43.0, 28.0, 64.0, 37.0, 51.0, 55.0, 28.0, 58.0, 65.0, 61.0, 44.0, 46.0, 38.0, 50.0, 65.0, 72.0, 67.0, 40.0, 42.0, 62.0, 62.0, 65.0, 43.0, 31.0, 26.0, 42.0, 65.0, 64.0, 65.0, 51.0, 68.0, 34.0, 49.0, 34.0, 43.0, 71.0, 67.0, 54.0, 59.0, 55.0, 65.0, 48.0, 60.0, 68.0, 61.0, 57.0, 67.0, 73.0, 50.0, 39.0, 61.0, 61.0, 58.0, 37.0, 49.0, 53.0, 70.0, 63.0, 61.0, 59.0, 69.0, 51.0, 45.0, 55.0, 39.0, 44.0, 66.0, 44.0, 65.0, 57.0, 68.0, 47.0, 44.0, 28.0, 42.0, 51.0, 70.0, 38.0, 46.0, 42.0, 55.0, 38.0, 29.0, 40.0, 45.0, 65.0, 50.0, 42.0, 52.0, 41.0, 33.0, 54.0, 36.0, 48.0, 62.0, 57.0, 66.0, 32.0, 59.0, 27.0, 63.0, 69.0, 67.0, 65.0, 68.0, 44.0, 52.0, 55.0, 31.0, 44.0, 44.0, 59.0, 59.0, 42.0, 49.0, 42.0, 41.0, 43.0, 50.0, 64.0, 37.0, 68.0, 56.0, 39.0, 59.0, 56.0, 61.0, 37.0, 73.0, 40.0, 55.0, 50.0, 62.0, 52.0, 40.0, 42.0, 45.0, 28.0, 67.0, 58.0, 62.0, 69.0, 27.0, 64.0, 43.0, 30.0, 46.0, 55.0, 60.0, 46.0, 54.0, 44.0, 49.0, 71.0, 49.0, 63.0, 71.0, 50.0, 57.0, 65.0, 66.0, 42.0, 33.0, 36.0, 53.0, 55.0, 59.0, 65.0, 55.0, 47.0, 51.0, 51.0, 47.0, 49.0, 63.0, 54.0, 51.0, 49.0, 38.0, 39.0, 72.0, 67.0, 57.0, 45.0, 45.0, 49.0, 63.0, 53.0, 61.0, 47.0, 44.0, 42.0, 50.0, 58.0, 58.0, 58.0, 57.0, 66.0, 75.0, 50.0, 34.0, 42.0, 66.0, 71.0, 59.0, 71.0, 58.0, 42.0, 62.0, 43.0, 52.0, 32.0, 66.0, 70.0, 78.0, 44.0, 64.0, 74.0, 52.0, 43.0, 64.0, 48.0, 55.0, 62.0, 52.0, 40.0, 36.0, 43.0, 66.0, 41.0, 52.0, 41.0, 54.0, 31.0, 48.0, 49.0, 65.0, 62.0, 33.0, 44.0, 56.0, 31.0, 40.0, 26.0, 55.0, 54.0, 59.0, 58.0, 44.0, 57.0, 56.0, 45.0, 47.0, 53.0, 48.0, 56.0, 46.0, 55.0, 35.0, 49.0, 76.0, 79.0, 65.0, 48.0, 55.0, 72.0, 49.0, 62.0, 64.0, 68.0, 67.0, 60.0, 45.0, 43.0, 68.0, 42.0, 58.0, 41.0, 57.0, 68.0, 61.0, 55.0, 36.0, 68.0, 33.0, 66.0, 61.0, 38.0, 48.0, 69.0, 49.0, 40.0, 44.0, 62.0, 63.0, 67.0, 56.0, 46.0, 40.0, 35.0, 33.0, 31.0, 52.0, 58.0, 64.0, 51.0, 52.0, 34.0, 57.0, 63.0, 44.0, 42.0, 59.0, 57.0, 34.0, 49.0, 67.0, 58.0, 64.0, 33.0, 71.0, 65.0, 46.0, 49.0, 71.0, 54.0, 36.0, 67.0, 51.0, 69.0, 56.0, 57.0, 35.0, 65.0, 43.0, 69.0, 58.0, 65.0, 38.0, 61.0, 41.0, 50.0, 57.0, 30.0, 43.0, 56.0, 52.0, 45.0, 63.0, 42.0, 58.0, 59.0, 77.0, 63.0, 52.0, 50.0, 66.0, 45.0, 46.0, 31.0, 43.0, 48.0, 49.0, 48.0, 67.0, 52.0, 48.0, 42.0, 56.0, 52.0, 40.0, 44.0, 70.0, 53.0, 68.0, 37.0, 37.0, 71.0, 53.0, 67.0, 37.0, 39.0, 72.0, 60.0, 45.0, 44.0, 45.0, 59.0, 61.0, 25.0, 37.0, 50.0, 37.0, 48.0, 46.0, 59.0, 71.0, 55.0, 35.0, 51.0, 65.0, 72.0, 52.0, 43.0, 43.0, 41.0, 58.0, 70.0, 54.0, 35.0, 45.0, 64.0, 55.0, 68.0, 62.0, 62.0, 43.0, 78.0, 61.0, 78.0, 61.0, 50.0, 54.0, 66.0, 65.0, 66.0, 44.0, 35.0, 52.0, 62.0, 63.0, 52.0, 68.0, 44.0, 68.0, 32.0, 64.0, 56.0, 56.0, 49.0, 54.0, 55.0, 48.0, 66.0, 44.0, 59.0, 54.0, 61.0, 48.0, 63.0, 74.0, 55.0, 50.0, 67.0, 52.0, 53.0, 59.0, 42.0, 30.0, 55.0, 73.0, 49.0, 61.0, 27.0, 46.0, 48.0, 38.0, 53.0, 49.0, 52.0, 36.0, 56.0, 63.0, 33.0, 67.0, 76.0, 34.0, 65.0, 59.0, 59.0, 46.0, 36.0, 78.0, 53.0, 70.0, 64.0, 50.0, 52.0, 47.0, 53.0, 46.0, 82.0, 36.0, 53.0, 52.0, 62.0, 61.0, 41.0, 29.0, 40.0, 46.0, 44.0, 51.0, 58.0, 64.0, 60.0, 77.0, 43.0, 48.0, 41.0, 53.0, 52.0, 50.0, 53.0, 59.0, 65.0, 37.0, 49.0, 69.0, 60.0, 58.0, 71.0, 56.0, 50.0, 66.0, 49.0, 32.0, 33.0, 47.0, 41.0, 44.0, 45.0, 42.0, 68.0, 64.0, 43.0, 61.0, 55.0, 46.0, 59.0, 70.0, 60.0, 28.0, 60.0, 29.0, 61.0, 68.0, 71.0, 38.0, 51.0, 56.0, 52.0, 72.0, 55.0, 74.0, 73.0, 42.0, 34.0, 50.0, 63.0, 41.0, 60.0, 48.0, 56.0, 60.0, 44.0, 46.0, 31.0, 26.0, 58.0, 45.0, 70.0, 54.0, 57.0, 54.0, 39.0, 68.0, 70.0, 49.0, 68.0, 42.0, 64.0, 60.0, 44.0, 61.0, 49.0, 67.0, 46.0, 46.0, 37.0, 49.0, 49.0, 57.0, 58.0, 67.0, 59.0, 69.0, 40.0, 59.0, 56.0, 63.0, 78.0, 30.0, 37.0, 68.0, 54.0, 55.0, 56.0, 68.0, 60.0, 60.0, 54.0, 38.0, 38.0, 68.0, 61.0, 44.0, 49.0, 41.0, 45.0, 61.0, 50.0, 72.0, 82.0, 40.0, 69.0, 60.0, 46.0, 56.0, 55.0, 40.0, 63.0, 50.0, 65.0, 50.0, 65.0, 42.0, 44.0, 51.0, 62.0, 62.0, 61.0, 56.0, 56.0, 44.0, 60.0, 56.0, 62.0, 37.0, 56.0, 40.0, 51.0, 60.0, 32.0, 58.0, 48.0, 59.0, 53.0, 65.0, 52.0, 42.0, 60.0, 65.0, 42.0, 48.0, 53.0, 43.0, 67.0, 64.0, 50.0, 48.0, 48.0, 63.0, 51.0, 29.0, 65.0, 45.0, 53.0, 54.0, 59.0, 47.0, 56.0, 48.0, 48.0, 54.0, 58.0, 64.0, 51.0, 38.0, 50.0, 44.0, 42.0, 36.0, 55.0, 48.0, 40.0, 52.0, 34.0, 61.0, 48.0, 48.0, 64.0, 62.0, 66.0, 54.0, 55.0, 49.0, 62.0, 58.0, 52.0, 60.0, 43.0, 42.0, 36.0, 41.0, 57.0, 44.0, 51.0, 69.0, 40.0, 40.0, 32.0, 52.0, 54.0, 35.0, 44.0, 36.0, 26.0, 51.0, 55.0, 66.0, 37.0, 67.0, 45.0, 61.0, 52.0, 39.0, 41.0, 68.0, 67.0, 41.0, 55.0, 70.0, 69.0, 70.0, 71.0, 74.0, 61.0, 77.0, 46.0, 38.0, 65.0, 64.0, 56.0, 63.0, 45.0, 48.0, 43.0, 49.0, 31.0, 44.0, 46.0, 66.0, 37.0, 47.0, 59.0, 52.0, 38.0, 51.0, 62.0, 31.0, 41.0, 56.0, 43.0, 73.0, 53.0, 52.0, 42.0, 65.0, 61.0, 52.0, 51.0, 68.0, 49.0, 57.0, 61.0, 44.0, 52.0, 37.0, 55.0, 65.0, 25.0, 49.0, 43.0, 48.0, 65.0, 65.0, 33.0, 52.0, 40.0, 31.0, 27.0, 35.0, 44.0, 38.0, 49.0, 39.0, 39.0, 62.0, 64.0, 54.0, 47.0, 46.0, 61.0, 66.0, 45.0, 60.0, 43.0, 55.0, 39.0, 33.0, 54.0, 58.0, 60.0, 29.0, 71.0, 68.0, 50.0, 57.0, 40.0, 50.0, 54.0, 54.0, 55.0, 42.0, 50.0, 61.0, 46.0, 28.0, 50.0, 69.0, 56.0, 50.0, 26.0, 44.0, 71.0, 54.0, 47.0, 37.0, 61.0, 58.0, 53.0, 44.0, 70.0, 55.0, 50.0, 57.0, 58.0, 55.0, 57.0, 64.0, 38.0, 40.0, 33.0, 63.0, 61.0, 67.0, 45.0, 27.0, 65.0, 52.0, 45.0, 45.0, 44.0, 56.0, 75.0, 66.0, 64.0, 68.0, 66.0, 55.0, 39.0, 58.0, 67.0, 37.0, 50.0, 44.0, 40.0, 57.0, 70.0, 52.0, 67.0, 42.0, 48.0, 58.0, 49.0, 66.0, 59.0, 57.0, 26.0, 50.0, 65.0, 55.0, 33.0, 37.0, 54.0, 61.0, 53.0, 51.0, 51.0, 43.0, 36.0, 64.0, 44.0, 43.0, 45.0, 29.0, 57.0, 59.0, 59.0, 52.0, 57.0, 53.0, 41.0, 26.0, 47.0, 67.0, 68.0, 56.0, 43.0, 48.0, 69.0, 32.0, 58.0, 70.0, 70.0, 50.0, 68.0, 44.0, 42.0, 50.0, 78.0, 43.0, 67.0, 71.0, 51.0, 57.0, 49.0, 46.0, 63.0, 57.0, 30.0, 39.0, 49.0, 36.0, 42.0, 52.0, 38.0, 39.0, 55.0, 33.0, 45.0, 37.0, 38.0, 49.0, 54.0, 55.0, 36.0, 55.0, 41.0, 51.0, 47.0, 67.0, 51.0, 66.0, 33.0, 60.0, 59.0, 38.0, 71.0, 73.0, 79.0, 60.0, 67.0, 30.0, 54.0, 48.0, 72.0, 54.0, 63.0, 59.0, 39.0, 47.0, 69.0, 51.0, 50.0, 59.0, 43.0, 60.0, 32.0, 48.0, 59.0, 58.0, 57.0, 43.0, 40.0, 59.0, 45.0, 55.0, 31.0, 36.0, 45.0, 67.0, 55.0, 70.0, 66.0, 63.0, 80.0, 46.0, 42.0, 63.0, 55.0, 29.0, 47.0, 56.0, 53.0, 64.0, 74.0, 64.0, 39.0, 27.0, 46.0, 54.0, 41.0, 47.0, 47.0, 53.0, 46.0, 54.0, 49.0, 61.0, 33.0, 54.0, 67.0, 50.0, 64.0, 68.0, 60.0, 68.0, 37.0, 54.0, 41.0, 64.0, 52.0, 44.0, 53.0, 62.0, 41.0, 59.0, 36.0, 54.0, 59.0, 49.0, 60.0, 60.0, 67.0, 32.0, 61.0, 59.0, 61.0, 65.0, 48.0, 48.0, 38.0, 52.0, 46.0, 46.0, 50.0, 50.0, 75.0, 54.0, 46.0, 67.0, 43.0, 68.0, 47.0, 79.0, 51.0, 41.0, 65.0, 48.0, 38.0, 50.0, 46.0, 42.0, 34.0, 57.0, 69.0, 56.0, 64.0, 46.0, 78.0, 50.0, 41.0, 70.0, 40.0, 42.0, 62.0, 46.0, 40.0, 43.0, 57.0, 59.0, 62.0, 75.0, 38.0, 63.0, 41.0, 36.0, 25.0, 61.0, 66.0, 68.0, 43.0, 53.0, 45.0, 47.0, 47.0, 41.0, 55.0, 56.0, 69.0, 62.0, 56.0, 47.0, 47.0, 57.0, 71.0, 46.0, 60.0, 46.0, 61.0, 60.0, 33.0, 33.0, 55.0, 63.0, 61.0, 45.0, 54.0, 70.0, 44.0, 57.0, 54.0, 57.0, 60.0, 42.0, 31.0, 61.0, 33.0, 58.0, 60.0, 57.0, 69.0, 33.0, 35.0, 75.0, 52.0, 64.0, 57.0, 48.0, 58.0, 71.0, 59.0, 48.0, 45.0, 61.0, 38.0, 64.0, 47.0, 36.0, 53.0, 33.0, 67.0, 70.0, 60.0, 67.0, 51.0, 55.0, 43.0, 55.0, 59.0, 55.0, 66.0, 43.0, 41.0, 61.0, 47.0, 81.0, 38.0, 43.0, 66.0, 52.0, 59.0, 57.0, 70.0, 53.0, 59.0, 46.0, 65.0, 61.0, 49.0, 35.0, 47.0, 39.0, 59.0, 36.0, 56.0, 64.0, 43.0, 49.0, 48.0, 48.0, 68.0, 51.0, 47.0, 40.0, 28.0, 65.0, 33.0, 51.0, 63.0, 55.0, 34.0, 43.0, 65.0, 69.0, 59.0, 68.0, 52.0, 39.0, 37.0, 52.0, 54.0, 41.0, 39.0, 39.0, 58.0, 42.0, 46.0, 64.0, 62.0, 62.0, 42.0, 49.0, 74.0, 68.0, 68.0, 47.0, 64.0, 73.0, 42.0, 60.0, 52.0, 42.0, 36.0, 77.0, 55.0, 36.0, 58.0, 62.0, 58.0, 38.0, 39.0, 43.0, 49.0, 47.0, 40.0, 35.0, 49.0, 72.0, 51.0, 61.0, 40.0, 36.0, 57.0, 57.0, 44.0, 48.0, 45.0, 57.0, 51.0, 68.0, 29.0, 72.0, 30.0, 68.0, 62.0, 35.0, 59.0, 45.0, 51.0, 43.0, 66.0, 32.0, 29.0, 49.0, 34.0, 56.0, 58.0, 73.0, 69.0, 27.0, 30.0, 42.0, 34.0, 55.0, 72.0, 51.0, 62.0, 53.0, 37.0, 64.0, 67.0, 61.0, 50.0, 48.0, 64.0, 61.0, 58.0, 43.0, 42.0, 58.0, 57.0, 53.0, 36.0, 45.0, 55.0, 55.0, 42.0, 68.0, 42.0, 48.0, 58.0, 50.0, 67.0, 61.0, 48.0, 36.0, 63.0, 56.0, 32.0, 65.0, 51.0, 60.0, 45.0, 48.0, 76.0, 45.0, 44.0, 39.0, 59.0, 38.0, 37.0, 30.0, 64.0, 57.0, 56.0, 53.0, 61.0, 29.0, 58.0, 56.0, 25.0, 56.0, 56.0, 60.0, 67.0, 77.0, 62.0, 68.0, 28.0, 65.0, 38.0, 62.0, 74.0, 28.0, 32.0, 31.0, 59.0, 39.0, 62.0, 34.0, 36.0, 49.0, 66.0, 67.0, 64.0, 28.0, 55.0, 64.0, 56.0, 41.0, 51.0, 32.0, 67.0, 46.0, 38.0, 51.0, 65.0, 47.0, 67.0, 44.0, 48.0, 49.0, 44.0, 28.0, 57.0, 57.0, 55.0, 62.0, 54.0, 61.0, 58.0, 64.0, 46.0, 37.0, 25.0, 40.0, 32.0, 47.0, 61.0, 62.0, 86.0, 64.0, 78.0, 54.0, 38.0, 36.0, 45.0, 68.0, 43.0, 74.0, 46.0, 30.0, 54.0, 60.0, 58.0, 61.0, 44.0, 53.0, 55.0, 72.0, 44.0, 40.0, 63.0, 74.0, 35.0, 48.0, 53.0, 44.0, 63.0, 56.0, 66.0, 62.0, 58.0, 32.0, 58.0, 44.0, 32.0, 50.0, 31.0, 65.0, 27.0, 42.0, 48.0, 47.0, 69.0, 52.0, 73.0, 44.0, 51.0, 30.0, 31.0, 51.0, 51.0, 54.0, 52.0, 48.0, 78.0, 46.0, 52.0, 56.0, 64.0, 39.0, 69.0, 58.0, 32.0, 38.0, 64.0, 36.0, 49.0, 52.0, 54.0, 63.0, 41.0, 63.0, 39.0, 48.0, 63.0, 34.0, 67.0, 61.0, 63.0, 30.0, 42.0, 33.0, 58.0, 48.0, 46.0, 35.0, 57.0, 29.0, 25.0, 31.0, 31.0, 51.0, 43.0, 37.0, 49.0, 50.0, 58.0, 47.0, 33.0, 48.0, 55.0, 48.0, 58.0, 53.0, 45.0, 47.0, 61.0, 43.0, 27.0, 46.0, 59.0, 33.0, 46.0, 54.0, 43.0, 46.0, 47.0, 63.0, 77.0, 64.0, 62.0, 72.0, 28.0, 44.0, 57.0, 30.0, 33.0, 52.0, 73.0, 52.0, 56.0, 62.0, 42.0, 44.0, 60.0, 32.0, 52.0, 53.0, 53.0, 83.0, 58.0, 41.0, 43.0, 77.0, 49.0, 46.0, 41.0, 59.0, 62.0, 43.0, 67.0, 42.0, 58.0, 39.0, 60.0, 48.0, 73.0, 46.0, 52.0, 26.0, 50.0, 32.0, 27.0, 41.0, 58.0, 45.0, 50.0, 79.0, 35.0, 36.0, 42.0, 50.0, 31.0, 73.0, 68.0, 60.0, 59.0, 44.0, 66.0, 32.0, 32.0, 44.0, 41.0, 60.0, 68.0, 57.0, 46.0, 47.0, 68.0, 52.0, 62.0, 44.0, 63.0, 53.0, 39.0, 70.0, 58.0, 59.0, 51.0, 69.0, 66.0, 35.0, 42.0, 43.0, 48.0, 63.0, 66.0, 76.0, 51.0, 57.0, 52.0, 55.0, 59.0, 58.0, 64.0, 60.0, 65.0, 47.0, 56.0, 69.0, 70.0, 60.0, 33.0, 53.0, 54.0, 47.0, 55.0, 41.0, 53.0, 63.0, 60.0, 64.0, 52.0, 44.0, 71.0, 56.0, 46.0, 65.0, 50.0, 45.0, 59.0, 47.0, 41.0, 44.0, 61.0, 75.0, 30.0, 43.0, 50.0, 60.0, 76.0, 50.0, 58.0, 62.0, 42.0, 78.0, 86.0, 74.0, 38.0, 53.0, 55.0, 54.0, 59.0, 65.0, 51.0, 53.0, 62.0, 54.0, 59.0, 60.0, 62.0, 52.0, 50.0, 43.0, 53.0, 56.0, 49.0, 31.0, 51.0, 42.0, 64.0, 41.0, 47.0, 56.0, 57.0, 56.0, 58.0, 40.0, 63.0, 61.0, 61.0, 51.0, 39.0, 62.0, 66.0, 43.0, 56.0, 44.0, 48.0, 72.0, 26.0, 36.0, 37.0, 46.0, 46.0, 62.0, 32.0, 42.0, 54.0, 35.0, 38.0, 69.0, 54.0, 54.0, 68.0, 47.0, 49.0, 65.0, 43.0, 51.0, 53.0, 48.0, 66.0, 48.0, 58.0, 58.0, 66.0, 55.0, 30.0, 48.0, 64.0, 44.0, 47.0, 45.0, 41.0, 36.0, 52.0, 29.0, 53.0, 58.0, 48.0, 57.0, 67.0, 39.0, 52.0, 51.0, 56.0, 65.0, 45.0, 37.0, 65.0, 53.0, 63.0, 37.0, 48.0, 50.0, 50.0, 41.0, 64.0, 47.0, 46.0, 64.0, 37.0, 64.0, 28.0, 43.0, 63.0, 49.0, 47.0], \"xaxis\": \"x\", \"yaxis\": \"y\"}],\n",
              "                        {\"barmode\": \"relative\", \"legend\": {\"tracegroupgap\": 0}, \"margin\": {\"t\": 60}, \"template\": {\"data\": {\"bar\": [{\"error_x\": {\"color\": \"#2a3f5f\"}, \"error_y\": {\"color\": \"#2a3f5f\"}, \"marker\": {\"line\": {\"color\": \"#E5ECF6\", \"width\": 0.5}}, \"type\": \"bar\"}], \"barpolar\": [{\"marker\": {\"line\": {\"color\": \"#E5ECF6\", \"width\": 0.5}}, \"type\": \"barpolar\"}], \"carpet\": [{\"aaxis\": {\"endlinecolor\": \"#2a3f5f\", \"gridcolor\": \"white\", \"linecolor\": \"white\", \"minorgridcolor\": \"white\", \"startlinecolor\": \"#2a3f5f\"}, \"baxis\": {\"endlinecolor\": \"#2a3f5f\", \"gridcolor\": \"white\", \"linecolor\": \"white\", \"minorgridcolor\": \"white\", \"startlinecolor\": \"#2a3f5f\"}, \"type\": \"carpet\"}], \"choropleth\": [{\"colorbar\": {\"outlinewidth\": 0, \"ticks\": \"\"}, \"type\": \"choropleth\"}], \"contour\": [{\"colorbar\": {\"outlinewidth\": 0, \"ticks\": \"\"}, \"colorscale\": [[0.0, \"#0d0887\"], [0.1111111111111111, \"#46039f\"], [0.2222222222222222, \"#7201a8\"], [0.3333333333333333, \"#9c179e\"], [0.4444444444444444, \"#bd3786\"], [0.5555555555555556, \"#d8576b\"], [0.6666666666666666, \"#ed7953\"], [0.7777777777777778, \"#fb9f3a\"], [0.8888888888888888, \"#fdca26\"], [1.0, \"#f0f921\"]], \"type\": \"contour\"}], \"contourcarpet\": [{\"colorbar\": {\"outlinewidth\": 0, \"ticks\": \"\"}, \"type\": \"contourcarpet\"}], \"heatmap\": [{\"colorbar\": {\"outlinewidth\": 0, \"ticks\": \"\"}, \"colorscale\": [[0.0, \"#0d0887\"], [0.1111111111111111, \"#46039f\"], [0.2222222222222222, \"#7201a8\"], [0.3333333333333333, \"#9c179e\"], [0.4444444444444444, \"#bd3786\"], [0.5555555555555556, \"#d8576b\"], [0.6666666666666666, \"#ed7953\"], [0.7777777777777778, \"#fb9f3a\"], [0.8888888888888888, \"#fdca26\"], [1.0, \"#f0f921\"]], \"type\": \"heatmap\"}], \"heatmapgl\": [{\"colorbar\": {\"outlinewidth\": 0, \"ticks\": \"\"}, \"colorscale\": [[0.0, \"#0d0887\"], [0.1111111111111111, \"#46039f\"], [0.2222222222222222, \"#7201a8\"], [0.3333333333333333, \"#9c179e\"], [0.4444444444444444, \"#bd3786\"], [0.5555555555555556, \"#d8576b\"], [0.6666666666666666, \"#ed7953\"], [0.7777777777777778, \"#fb9f3a\"], [0.8888888888888888, \"#fdca26\"], [1.0, \"#f0f921\"]], \"type\": \"heatmapgl\"}], \"histogram\": [{\"marker\": {\"colorbar\": {\"outlinewidth\": 0, \"ticks\": \"\"}}, \"type\": \"histogram\"}], \"histogram2d\": [{\"colorbar\": {\"outlinewidth\": 0, \"ticks\": \"\"}, \"colorscale\": [[0.0, \"#0d0887\"], [0.1111111111111111, \"#46039f\"], [0.2222222222222222, \"#7201a8\"], [0.3333333333333333, \"#9c179e\"], [0.4444444444444444, \"#bd3786\"], [0.5555555555555556, \"#d8576b\"], [0.6666666666666666, \"#ed7953\"], [0.7777777777777778, \"#fb9f3a\"], [0.8888888888888888, \"#fdca26\"], [1.0, \"#f0f921\"]], \"type\": \"histogram2d\"}], \"histogram2dcontour\": [{\"colorbar\": {\"outlinewidth\": 0, \"ticks\": \"\"}, \"colorscale\": [[0.0, \"#0d0887\"], [0.1111111111111111, \"#46039f\"], [0.2222222222222222, \"#7201a8\"], [0.3333333333333333, \"#9c179e\"], [0.4444444444444444, \"#bd3786\"], [0.5555555555555556, \"#d8576b\"], [0.6666666666666666, \"#ed7953\"], [0.7777777777777778, \"#fb9f3a\"], [0.8888888888888888, \"#fdca26\"], [1.0, \"#f0f921\"]], \"type\": \"histogram2dcontour\"}], \"mesh3d\": [{\"colorbar\": {\"outlinewidth\": 0, \"ticks\": \"\"}, \"type\": \"mesh3d\"}], \"parcoords\": [{\"line\": {\"colorbar\": {\"outlinewidth\": 0, \"ticks\": \"\"}}, \"type\": \"parcoords\"}], \"pie\": [{\"automargin\": true, \"type\": \"pie\"}], \"scatter\": [{\"marker\": {\"colorbar\": {\"outlinewidth\": 0, \"ticks\": \"\"}}, \"type\": \"scatter\"}], \"scatter3d\": [{\"line\": {\"colorbar\": {\"outlinewidth\": 0, \"ticks\": \"\"}}, \"marker\": {\"colorbar\": {\"outlinewidth\": 0, \"ticks\": \"\"}}, \"type\": \"scatter3d\"}], \"scattercarpet\": [{\"marker\": {\"colorbar\": {\"outlinewidth\": 0, \"ticks\": \"\"}}, \"type\": \"scattercarpet\"}], \"scattergeo\": [{\"marker\": {\"colorbar\": {\"outlinewidth\": 0, \"ticks\": \"\"}}, \"type\": \"scattergeo\"}], \"scattergl\": [{\"marker\": {\"colorbar\": {\"outlinewidth\": 0, \"ticks\": \"\"}}, \"type\": \"scattergl\"}], \"scattermapbox\": [{\"marker\": {\"colorbar\": {\"outlinewidth\": 0, \"ticks\": \"\"}}, \"type\": \"scattermapbox\"}], \"scatterpolar\": [{\"marker\": {\"colorbar\": {\"outlinewidth\": 0, \"ticks\": \"\"}}, \"type\": \"scatterpolar\"}], \"scatterpolargl\": [{\"marker\": {\"colorbar\": {\"outlinewidth\": 0, \"ticks\": \"\"}}, \"type\": \"scatterpolargl\"}], \"scatterternary\": [{\"marker\": {\"colorbar\": {\"outlinewidth\": 0, \"ticks\": \"\"}}, \"type\": \"scatterternary\"}], \"surface\": [{\"colorbar\": {\"outlinewidth\": 0, \"ticks\": \"\"}, \"colorscale\": [[0.0, \"#0d0887\"], [0.1111111111111111, \"#46039f\"], [0.2222222222222222, \"#7201a8\"], [0.3333333333333333, \"#9c179e\"], [0.4444444444444444, \"#bd3786\"], [0.5555555555555556, \"#d8576b\"], [0.6666666666666666, \"#ed7953\"], [0.7777777777777778, \"#fb9f3a\"], [0.8888888888888888, \"#fdca26\"], [1.0, \"#f0f921\"]], \"type\": \"surface\"}], \"table\": [{\"cells\": {\"fill\": {\"color\": \"#EBF0F8\"}, \"line\": {\"color\": \"white\"}}, \"header\": {\"fill\": {\"color\": \"#C8D4E3\"}, \"line\": {\"color\": \"white\"}}, \"type\": \"table\"}]}, \"layout\": {\"annotationdefaults\": {\"arrowcolor\": \"#2a3f5f\", \"arrowhead\": 0, \"arrowwidth\": 1}, \"coloraxis\": {\"colorbar\": {\"outlinewidth\": 0, \"ticks\": \"\"}}, \"colorscale\": {\"diverging\": [[0, \"#8e0152\"], [0.1, \"#c51b7d\"], [0.2, \"#de77ae\"], [0.3, \"#f1b6da\"], [0.4, \"#fde0ef\"], [0.5, \"#f7f7f7\"], [0.6, \"#e6f5d0\"], [0.7, \"#b8e186\"], [0.8, \"#7fbc41\"], [0.9, \"#4d9221\"], [1, \"#276419\"]], \"sequential\": [[0.0, \"#0d0887\"], [0.1111111111111111, \"#46039f\"], [0.2222222222222222, \"#7201a8\"], [0.3333333333333333, \"#9c179e\"], [0.4444444444444444, \"#bd3786\"], [0.5555555555555556, \"#d8576b\"], [0.6666666666666666, \"#ed7953\"], [0.7777777777777778, \"#fb9f3a\"], [0.8888888888888888, \"#fdca26\"], [1.0, \"#f0f921\"]], \"sequentialminus\": [[0.0, \"#0d0887\"], [0.1111111111111111, \"#46039f\"], [0.2222222222222222, \"#7201a8\"], [0.3333333333333333, \"#9c179e\"], [0.4444444444444444, \"#bd3786\"], [0.5555555555555556, \"#d8576b\"], [0.6666666666666666, \"#ed7953\"], [0.7777777777777778, \"#fb9f3a\"], [0.8888888888888888, \"#fdca26\"], [1.0, \"#f0f921\"]]}, \"colorway\": [\"#636efa\", \"#EF553B\", \"#00cc96\", \"#ab63fa\", \"#FFA15A\", \"#19d3f3\", \"#FF6692\", \"#B6E880\", \"#FF97FF\", \"#FECB52\"], \"font\": {\"color\": \"#2a3f5f\"}, \"geo\": {\"bgcolor\": \"white\", \"lakecolor\": \"white\", \"landcolor\": \"#E5ECF6\", \"showlakes\": true, \"showland\": true, \"subunitcolor\": \"white\"}, \"hoverlabel\": {\"align\": \"left\"}, \"hovermode\": \"closest\", \"mapbox\": {\"style\": \"light\"}, \"paper_bgcolor\": \"white\", \"plot_bgcolor\": \"#E5ECF6\", \"polar\": {\"angularaxis\": {\"gridcolor\": \"white\", \"linecolor\": \"white\", \"ticks\": \"\"}, \"bgcolor\": \"#E5ECF6\", \"radialaxis\": {\"gridcolor\": \"white\", \"linecolor\": \"white\", \"ticks\": \"\"}}, \"scene\": {\"xaxis\": {\"backgroundcolor\": \"#E5ECF6\", \"gridcolor\": \"white\", \"gridwidth\": 2, \"linecolor\": \"white\", \"showbackground\": true, \"ticks\": \"\", \"zerolinecolor\": \"white\"}, \"yaxis\": {\"backgroundcolor\": \"#E5ECF6\", \"gridcolor\": \"white\", \"gridwidth\": 2, \"linecolor\": \"white\", \"showbackground\": true, \"ticks\": \"\", \"zerolinecolor\": \"white\"}, \"zaxis\": {\"backgroundcolor\": \"#E5ECF6\", \"gridcolor\": \"white\", \"gridwidth\": 2, \"linecolor\": \"white\", \"showbackground\": true, \"ticks\": \"\", \"zerolinecolor\": \"white\"}}, \"shapedefaults\": {\"line\": {\"color\": \"#2a3f5f\"}}, \"ternary\": {\"aaxis\": {\"gridcolor\": \"white\", \"linecolor\": \"white\", \"ticks\": \"\"}, \"baxis\": {\"gridcolor\": \"white\", \"linecolor\": \"white\", \"ticks\": \"\"}, \"bgcolor\": \"#E5ECF6\", \"caxis\": {\"gridcolor\": \"white\", \"linecolor\": \"white\", \"ticks\": \"\"}}, \"title\": {\"x\": 0.05}, \"xaxis\": {\"automargin\": true, \"gridcolor\": \"white\", \"linecolor\": \"white\", \"ticks\": \"\", \"title\": {\"standoff\": 15}, \"zerolinecolor\": \"white\", \"zerolinewidth\": 2}, \"yaxis\": {\"automargin\": true, \"gridcolor\": \"white\", \"linecolor\": \"white\", \"ticks\": \"\", \"title\": {\"standoff\": 15}, \"zerolinecolor\": \"white\", \"zerolinewidth\": 2}}}, \"xaxis\": {\"anchor\": \"y\", \"domain\": [0.0, 1.0], \"title\": {\"text\": \"AGE\"}}, \"yaxis\": {\"anchor\": \"x\", \"domain\": [0.0, 1.0], \"title\": {\"text\": \"count\"}}},\n",
              "                        {\"responsive\": true}\n",
              "                    ).then(function(){\n",
              "                            \n",
              "var gd = document.getElementById('bccb65fe-54cc-4f54-85c2-c5aaa0470af2');\n",
              "var x = new MutationObserver(function (mutations, observer) {{\n",
              "        var display = window.getComputedStyle(gd).display;\n",
              "        if (!display || display === 'none') {{\n",
              "            console.log([gd, 'removed!']);\n",
              "            Plotly.purge(gd);\n",
              "            observer.disconnect();\n",
              "        }}\n",
              "}});\n",
              "\n",
              "// Listen for the removal of the full notebook cells\n",
              "var notebookContainer = gd.closest('#notebook-container');\n",
              "if (notebookContainer) {{\n",
              "    x.observe(notebookContainer, {childList: true});\n",
              "}}\n",
              "\n",
              "// Listen for the clearing of the current output cell\n",
              "var outputEl = gd.closest('.output');\n",
              "if (outputEl) {{\n",
              "    x.observe(outputEl, {childList: true});\n",
              "}}\n",
              "\n",
              "                        })\n",
              "                };\n",
              "                \n",
              "            </script>\n",
              "        </div>\n",
              "</body>\n",
              "</html>"
            ]
          },
          "metadata": {}
        }
      ]
    },
    {
      "cell_type": "markdown",
      "metadata": {
        "id": "rbFWK8nuVPdC"
      },
      "source": [
        "Độ tuổi của các ứng cử viên phân bố theo phân phối chuẩn với độ tuổi trung bình là 52 tuổi. Từ đây có thể thấy bộ máy nhà nước Ấn Độ đang bị già hóa"
      ]
    },
    {
      "cell_type": "markdown",
      "metadata": {
        "id": "R9aDb_hxdGcY"
      },
      "source": [
        "**Phân hóa độ tuổi chia theo giới tính của các ứng cử viên**"
      ]
    },
    {
      "cell_type": "code",
      "metadata": {
        "id": "igeSBQTIdI0m",
        "colab": {
          "base_uri": "https://localhost:8080/",
          "height": 542
        },
        "outputId": "c1dc111a-4e0b-4805-8ac7-185cb55ee9a8"
      },
      "source": [
        "fig = px.histogram(df_exclude_NOTA, x=\"AGE\", y=\"WINNER\", color=\"GENDER\")\n",
        "fig.show()"
      ],
      "execution_count": null,
      "outputs": [
        {
          "output_type": "display_data",
          "data": {
            "text/html": [
              "<html>\n",
              "<head><meta charset=\"utf-8\" /></head>\n",
              "<body>\n",
              "    <div>\n",
              "            <script src=\"https://cdnjs.cloudflare.com/ajax/libs/mathjax/2.7.5/MathJax.js?config=TeX-AMS-MML_SVG\"></script><script type=\"text/javascript\">if (window.MathJax) {MathJax.Hub.Config({SVG: {font: \"STIX-Web\"}});}</script>\n",
              "                <script type=\"text/javascript\">window.PlotlyConfig = {MathJaxConfig: 'local'};</script>\n",
              "        <script src=\"https://cdn.plot.ly/plotly-latest.min.js\"></script>    \n",
              "            <div id=\"6c601950-9403-44d6-bacd-6d1616aef4ea\" class=\"plotly-graph-div\" style=\"height:525px; width:100%;\"></div>\n",
              "            <script type=\"text/javascript\">\n",
              "                \n",
              "                    window.PLOTLYENV=window.PLOTLYENV || {};\n",
              "                    \n",
              "                if (document.getElementById(\"6c601950-9403-44d6-bacd-6d1616aef4ea\")) {\n",
              "                    Plotly.newPlot(\n",
              "                        '6c601950-9403-44d6-bacd-6d1616aef4ea',\n",
              "                        [{\"alignmentgroup\": \"True\", \"bingroup\": \"x\", \"hoverlabel\": {\"namelength\": 0}, \"hovertemplate\": \"GENDER=MALE<br>AGE=%{x}<br>count of WINNER=%{y}\", \"legendgroup\": \"GENDER=MALE\", \"marker\": {\"color\": \"#636efa\"}, \"name\": \"GENDER=MALE\", \"offsetgroup\": \"GENDER=MALE\", \"orientation\": \"v\", \"showlegend\": true, \"type\": \"histogram\", \"x\": [52.0, 54.0, 52.0, 58.0, 47.0, 37.0, 34.0, 62.0, 58.0, 69.0, 68.0, 66.0, 64.0, 40.0, 60.0, 60.0, 64.0, 58.0, 60.0, 64.0, 60.0, 54.0, 64.0, 44.0, 61.0, 46.0, 51.0, 62.0, 43.0, 52.0, 44.0, 63.0, 49.0, 77.0, 46.0, 60.0, 41.0, 35.0, 47.0, 31.0, 28.0, 59.0, 67.0, 55.0, 61.0, 38.0, 71.0, 36.0, 48.0, 71.0, 47.0, 56.0, 64.0, 42.0, 47.0, 46.0, 67.0, 58.0, 43.0, 58.0, 35.0, 43.0, 56.0, 65.0, 54.0, 65.0, 53.0, 69.0, 62.0, 51.0, 48.0, 45.0, 29.0, 58.0, 65.0, 60.0, 53.0, 60.0, 45.0, 52.0, 46.0, 61.0, 49.0, 43.0, 50.0, 64.0, 71.0, 55.0, 43.0, 40.0, 61.0, 55.0, 59.0, 46.0, 63.0, 55.0, 41.0, 52.0, 50.0, 66.0, 36.0, 81.0, 70.0, 72.0, 49.0, 54.0, 61.0, 54.0, 69.0, 47.0, 38.0, 68.0, 47.0, 51.0, 42.0, 45.0, 48.0, 59.0, 37.0, 62.0, 47.0, 63.0, 56.0, 53.0, 50.0, 34.0, 55.0, 67.0, 41.0, 56.0, 62.0, 42.0, 43.0, 35.0, 58.0, 46.0, 49.0, 76.0, 68.0, 61.0, 39.0, 45.0, 40.0, 40.0, 66.0, 68.0, 63.0, 40.0, 63.0, 55.0, 55.0, 38.0, 66.0, 73.0, 60.0, 66.0, 53.0, 68.0, 62.0, 64.0, 51.0, 46.0, 62.0, 56.0, 51.0, 39.0, 50.0, 40.0, 70.0, 75.0, 39.0, 49.0, 59.0, 74.0, 59.0, 37.0, 55.0, 39.0, 53.0, 66.0, 46.0, 52.0, 59.0, 43.0, 28.0, 64.0, 37.0, 55.0, 28.0, 58.0, 65.0, 44.0, 46.0, 38.0, 50.0, 65.0, 72.0, 67.0, 40.0, 42.0, 62.0, 62.0, 65.0, 43.0, 31.0, 26.0, 42.0, 65.0, 64.0, 65.0, 51.0, 68.0, 34.0, 43.0, 71.0, 67.0, 54.0, 59.0, 55.0, 65.0, 48.0, 68.0, 61.0, 67.0, 50.0, 39.0, 61.0, 61.0, 58.0, 37.0, 49.0, 53.0, 70.0, 63.0, 61.0, 59.0, 69.0, 51.0, 45.0, 55.0, 39.0, 44.0, 66.0, 44.0, 65.0, 57.0, 68.0, 44.0, 42.0, 51.0, 70.0, 38.0, 46.0, 42.0, 55.0, 38.0, 29.0, 40.0, 45.0, 65.0, 50.0, 42.0, 41.0, 54.0, 48.0, 62.0, 57.0, 66.0, 32.0, 59.0, 27.0, 63.0, 69.0, 67.0, 65.0, 68.0, 44.0, 52.0, 55.0, 31.0, 44.0, 44.0, 59.0, 59.0, 49.0, 41.0, 43.0, 50.0, 64.0, 68.0, 56.0, 59.0, 56.0, 61.0, 37.0, 73.0, 40.0, 50.0, 62.0, 52.0, 40.0, 42.0, 28.0, 67.0, 58.0, 62.0, 69.0, 27.0, 64.0, 46.0, 55.0, 60.0, 46.0, 54.0, 44.0, 71.0, 63.0, 71.0, 50.0, 57.0, 65.0, 66.0, 33.0, 36.0, 53.0, 55.0, 59.0, 65.0, 55.0, 47.0, 51.0, 51.0, 47.0, 63.0, 54.0, 51.0, 49.0, 38.0, 39.0, 72.0, 67.0, 45.0, 45.0, 49.0, 63.0, 53.0, 61.0, 47.0, 44.0, 42.0, 50.0, 58.0, 58.0, 58.0, 57.0, 66.0, 75.0, 50.0, 34.0, 42.0, 66.0, 71.0, 59.0, 71.0, 58.0, 42.0, 62.0, 43.0, 32.0, 70.0, 78.0, 44.0, 64.0, 74.0, 52.0, 43.0, 64.0, 48.0, 55.0, 62.0, 52.0, 40.0, 36.0, 43.0, 66.0, 41.0, 52.0, 41.0, 31.0, 48.0, 49.0, 65.0, 62.0, 44.0, 31.0, 40.0, 55.0, 54.0, 59.0, 58.0, 44.0, 57.0, 56.0, 45.0, 53.0, 48.0, 56.0, 46.0, 55.0, 35.0, 49.0, 76.0, 79.0, 65.0, 55.0, 72.0, 49.0, 62.0, 64.0, 68.0, 67.0, 60.0, 45.0, 43.0, 68.0, 42.0, 58.0, 41.0, 57.0, 68.0, 61.0, 55.0, 36.0, 68.0, 33.0, 66.0, 61.0, 48.0, 69.0, 49.0, 44.0, 62.0, 63.0, 67.0, 56.0, 46.0, 40.0, 33.0, 31.0, 52.0, 58.0, 64.0, 51.0, 52.0, 34.0, 57.0, 63.0, 44.0, 42.0, 59.0, 57.0, 34.0, 49.0, 67.0, 58.0, 64.0, 33.0, 71.0, 65.0, 46.0, 49.0, 36.0, 67.0, 51.0, 69.0, 56.0, 57.0, 35.0, 65.0, 43.0, 69.0, 58.0, 65.0, 38.0, 61.0, 41.0, 50.0, 57.0, 43.0, 56.0, 52.0, 63.0, 42.0, 58.0, 59.0, 77.0, 63.0, 52.0, 50.0, 66.0, 45.0, 46.0, 31.0, 43.0, 48.0, 49.0, 48.0, 67.0, 52.0, 48.0, 42.0, 56.0, 52.0, 44.0, 70.0, 53.0, 68.0, 37.0, 37.0, 71.0, 53.0, 67.0, 37.0, 39.0, 72.0, 60.0, 45.0, 44.0, 45.0, 59.0, 37.0, 50.0, 48.0, 46.0, 59.0, 71.0, 55.0, 35.0, 51.0, 65.0, 72.0, 52.0, 43.0, 41.0, 58.0, 70.0, 54.0, 35.0, 45.0, 64.0, 55.0, 68.0, 62.0, 62.0, 43.0, 78.0, 61.0, 78.0, 61.0, 50.0, 54.0, 66.0, 65.0, 66.0, 44.0, 35.0, 62.0, 63.0, 52.0, 68.0, 44.0, 68.0, 32.0, 64.0, 56.0, 56.0, 49.0, 54.0, 55.0, 48.0, 66.0, 44.0, 59.0, 54.0, 61.0, 48.0, 63.0, 74.0, 55.0, 50.0, 53.0, 59.0, 42.0, 30.0, 55.0, 73.0, 49.0, 61.0, 27.0, 46.0, 48.0, 38.0, 53.0, 49.0, 52.0, 36.0, 63.0, 33.0, 67.0, 76.0, 65.0, 59.0, 59.0, 46.0, 36.0, 78.0, 53.0, 70.0, 64.0, 50.0, 52.0, 47.0, 53.0, 46.0, 82.0, 36.0, 53.0, 52.0, 61.0, 41.0, 29.0, 40.0, 46.0, 44.0, 51.0, 58.0, 64.0, 60.0, 77.0, 43.0, 48.0, 41.0, 53.0, 52.0, 50.0, 53.0, 59.0, 65.0, 37.0, 49.0, 69.0, 60.0, 58.0, 71.0, 56.0, 66.0, 49.0, 32.0, 33.0, 47.0, 41.0, 44.0, 45.0, 42.0, 68.0, 64.0, 43.0, 61.0, 46.0, 59.0, 70.0, 60.0, 28.0, 60.0, 29.0, 61.0, 68.0, 71.0, 38.0, 51.0, 56.0, 52.0, 72.0, 55.0, 74.0, 73.0, 42.0, 34.0, 50.0, 63.0, 41.0, 60.0, 48.0, 56.0, 60.0, 44.0, 46.0, 31.0, 26.0, 58.0, 54.0, 57.0, 54.0, 39.0, 68.0, 70.0, 49.0, 68.0, 42.0, 64.0, 60.0, 44.0, 49.0, 67.0, 46.0, 46.0, 37.0, 49.0, 49.0, 57.0, 58.0, 67.0, 59.0, 69.0, 40.0, 59.0, 56.0, 63.0, 78.0, 37.0, 68.0, 55.0, 68.0, 60.0, 60.0, 38.0, 38.0, 68.0, 61.0, 49.0, 61.0, 50.0, 72.0, 82.0, 40.0, 69.0, 60.0, 46.0, 56.0, 55.0, 40.0, 63.0, 65.0, 50.0, 65.0, 42.0, 44.0, 51.0, 62.0, 62.0, 61.0, 56.0, 56.0, 60.0, 56.0, 62.0, 37.0, 56.0, 40.0, 51.0, 60.0, 58.0, 59.0, 53.0, 65.0, 52.0, 42.0, 60.0, 65.0, 42.0, 48.0, 43.0, 67.0, 64.0, 50.0, 48.0, 48.0, 63.0, 51.0, 29.0, 65.0, 45.0, 53.0, 54.0, 59.0, 47.0, 56.0, 54.0, 58.0, 64.0, 51.0, 38.0, 50.0, 44.0, 42.0, 36.0, 55.0, 48.0, 40.0, 52.0, 34.0, 61.0, 48.0, 64.0, 62.0, 66.0, 54.0, 49.0, 62.0, 58.0, 52.0, 60.0, 42.0, 36.0, 41.0, 57.0, 44.0, 51.0, 69.0, 40.0, 40.0, 32.0, 52.0, 54.0, 35.0, 44.0, 51.0, 55.0, 66.0, 37.0, 67.0, 45.0, 61.0, 52.0, 39.0, 68.0, 67.0, 41.0, 55.0, 70.0, 70.0, 71.0, 74.0, 61.0, 77.0, 46.0, 38.0, 65.0, 64.0, 56.0, 63.0, 45.0, 48.0, 49.0, 31.0, 44.0, 46.0, 66.0, 37.0, 47.0, 59.0, 52.0, 38.0, 51.0, 62.0, 31.0, 41.0, 56.0, 73.0, 53.0, 52.0, 42.0, 65.0, 61.0, 52.0, 51.0, 68.0, 49.0, 57.0, 61.0, 44.0, 52.0, 37.0, 55.0, 65.0, 49.0, 43.0, 48.0, 33.0, 52.0, 40.0, 31.0, 27.0, 35.0, 44.0, 38.0, 49.0, 39.0, 62.0, 54.0, 47.0, 46.0, 61.0, 66.0, 45.0, 60.0, 43.0, 55.0, 33.0, 54.0, 58.0, 60.0, 71.0, 68.0, 50.0, 57.0, 50.0, 54.0, 54.0, 55.0, 42.0, 61.0, 46.0, 50.0, 56.0, 50.0, 26.0, 44.0, 71.0, 54.0, 47.0, 58.0, 70.0, 55.0, 57.0, 58.0, 55.0, 57.0, 64.0, 38.0, 40.0, 63.0, 61.0, 67.0, 45.0, 27.0, 52.0, 45.0, 45.0, 44.0, 56.0, 75.0, 66.0, 64.0, 68.0, 66.0, 55.0, 39.0, 58.0, 67.0, 37.0, 50.0, 40.0, 57.0, 70.0, 52.0, 67.0, 42.0, 48.0, 58.0, 49.0, 66.0, 57.0, 26.0, 50.0, 65.0, 55.0, 33.0, 37.0, 54.0, 61.0, 53.0, 51.0, 51.0, 43.0, 36.0, 64.0, 45.0, 29.0, 57.0, 59.0, 59.0, 52.0, 57.0, 53.0, 41.0, 26.0, 47.0, 67.0, 56.0, 43.0, 48.0, 69.0, 32.0, 58.0, 70.0, 70.0, 50.0, 68.0, 44.0, 42.0, 50.0, 78.0, 43.0, 67.0, 71.0, 51.0, 57.0, 49.0, 46.0, 63.0, 30.0, 39.0, 49.0, 36.0, 42.0, 52.0, 55.0, 33.0, 45.0, 37.0, 38.0, 54.0, 55.0, 36.0, 55.0, 51.0, 47.0, 67.0, 51.0, 66.0, 33.0, 60.0, 38.0, 73.0, 79.0, 60.0, 67.0, 30.0, 54.0, 48.0, 72.0, 63.0, 59.0, 47.0, 69.0, 51.0, 50.0, 59.0, 43.0, 60.0, 32.0, 48.0, 59.0, 58.0, 57.0, 43.0, 40.0, 59.0, 31.0, 36.0, 45.0, 67.0, 55.0, 66.0, 63.0, 80.0, 46.0, 42.0, 63.0, 55.0, 29.0, 47.0, 56.0, 53.0, 64.0, 74.0, 64.0, 39.0, 46.0, 54.0, 41.0, 53.0, 46.0, 54.0, 49.0, 61.0, 33.0, 54.0, 67.0, 50.0, 64.0, 68.0, 60.0, 68.0, 54.0, 41.0, 64.0, 52.0, 62.0, 41.0, 59.0, 36.0, 54.0, 59.0, 49.0, 60.0, 60.0, 67.0, 32.0, 61.0, 59.0, 61.0, 65.0, 48.0, 46.0, 46.0, 50.0, 75.0, 54.0, 46.0, 67.0, 43.0, 68.0, 47.0, 79.0, 51.0, 41.0, 65.0, 38.0, 50.0, 46.0, 42.0, 34.0, 57.0, 69.0, 56.0, 64.0, 46.0, 78.0, 50.0, 41.0, 70.0, 40.0, 42.0, 62.0, 46.0, 40.0, 43.0, 57.0, 59.0, 62.0, 75.0, 38.0, 63.0, 41.0, 61.0, 66.0, 68.0, 53.0, 45.0, 47.0, 55.0, 56.0, 62.0, 56.0, 47.0, 47.0, 57.0, 71.0, 46.0, 60.0, 46.0, 61.0, 60.0, 33.0, 33.0, 55.0, 63.0, 61.0, 54.0, 70.0, 44.0, 57.0, 54.0, 57.0, 60.0, 42.0, 61.0, 33.0, 58.0, 60.0, 57.0, 69.0, 33.0, 35.0, 75.0, 52.0, 64.0, 57.0, 48.0, 58.0, 71.0, 59.0, 48.0, 45.0, 61.0, 38.0, 64.0, 47.0, 36.0, 33.0, 67.0, 70.0, 60.0, 67.0, 55.0, 43.0, 55.0, 59.0, 55.0, 66.0, 43.0, 61.0, 47.0, 38.0, 43.0, 66.0, 52.0, 59.0, 57.0, 70.0, 53.0, 59.0, 46.0, 65.0, 61.0, 49.0, 35.0, 47.0, 39.0, 59.0, 36.0, 56.0, 64.0, 43.0, 49.0, 48.0, 48.0, 68.0, 51.0, 40.0, 28.0, 65.0, 33.0, 51.0, 63.0, 55.0, 34.0, 43.0, 65.0, 69.0, 59.0, 68.0, 52.0, 39.0, 37.0, 52.0, 54.0, 41.0, 39.0, 39.0, 58.0, 46.0, 64.0, 62.0, 62.0, 49.0, 68.0, 68.0, 64.0, 73.0, 42.0, 60.0, 52.0, 42.0, 36.0, 77.0, 55.0, 58.0, 58.0, 38.0, 39.0, 43.0, 49.0, 47.0, 49.0, 72.0, 51.0, 40.0, 57.0, 57.0, 44.0, 48.0, 45.0, 51.0, 68.0, 29.0, 72.0, 68.0, 62.0, 35.0, 59.0, 45.0, 51.0, 43.0, 66.0, 32.0, 29.0, 49.0, 34.0, 56.0, 58.0, 73.0, 69.0, 27.0, 30.0, 34.0, 55.0, 51.0, 62.0, 53.0, 37.0, 64.0, 67.0, 50.0, 64.0, 61.0, 42.0, 58.0, 57.0, 53.0, 36.0, 55.0, 55.0, 42.0, 42.0, 48.0, 58.0, 67.0, 61.0, 48.0, 36.0, 63.0, 56.0, 65.0, 51.0, 60.0, 76.0, 45.0, 44.0, 39.0, 59.0, 38.0, 30.0, 64.0, 56.0, 53.0, 61.0, 29.0, 56.0, 60.0, 67.0, 77.0, 62.0, 68.0, 28.0, 65.0, 38.0, 62.0, 74.0, 28.0, 32.0, 59.0, 39.0, 62.0, 34.0, 36.0, 49.0, 66.0, 67.0, 64.0, 28.0, 55.0, 64.0, 56.0, 41.0, 51.0, 32.0, 67.0, 46.0, 38.0, 51.0, 65.0, 47.0, 67.0, 44.0, 48.0, 49.0, 44.0, 28.0, 57.0, 57.0, 55.0, 62.0, 54.0, 61.0, 58.0, 64.0, 46.0, 37.0, 40.0, 32.0, 47.0, 61.0, 62.0, 86.0, 64.0, 78.0, 54.0, 38.0, 36.0, 45.0, 68.0, 43.0, 74.0, 46.0, 30.0, 54.0, 60.0, 58.0, 61.0, 44.0, 53.0, 72.0, 63.0, 35.0, 48.0, 53.0, 44.0, 63.0, 56.0, 66.0, 62.0, 58.0, 32.0, 58.0, 44.0, 65.0, 27.0, 42.0, 48.0, 47.0, 52.0, 73.0, 44.0, 51.0, 30.0, 31.0, 51.0, 51.0, 54.0, 52.0, 48.0, 78.0, 46.0, 52.0, 56.0, 64.0, 39.0, 69.0, 58.0, 32.0, 38.0, 64.0, 36.0, 49.0, 52.0, 54.0, 63.0, 63.0, 39.0, 48.0, 63.0, 34.0, 67.0, 61.0, 63.0, 30.0, 42.0, 33.0, 58.0, 48.0, 57.0, 25.0, 31.0, 31.0, 43.0, 37.0, 49.0, 50.0, 58.0, 47.0, 33.0, 48.0, 55.0, 48.0, 58.0, 53.0, 47.0, 61.0, 43.0, 46.0, 59.0, 54.0, 43.0, 46.0, 63.0, 77.0, 64.0, 62.0, 72.0, 28.0, 57.0, 30.0, 33.0, 52.0, 73.0, 52.0, 56.0, 62.0, 42.0, 44.0, 60.0, 32.0, 52.0, 53.0, 53.0, 83.0, 58.0, 41.0, 43.0, 77.0, 49.0, 46.0, 41.0, 59.0, 43.0, 67.0, 58.0, 60.0, 73.0, 52.0, 26.0, 50.0, 32.0, 27.0, 41.0, 45.0, 50.0, 79.0, 35.0, 36.0, 42.0, 50.0, 31.0, 73.0, 60.0, 59.0, 44.0, 66.0, 32.0, 44.0, 41.0, 60.0, 68.0, 57.0, 46.0, 47.0, 68.0, 52.0, 62.0, 44.0, 63.0, 53.0, 39.0, 70.0, 58.0, 59.0, 51.0, 69.0, 66.0, 35.0, 43.0, 48.0, 63.0, 66.0, 76.0, 52.0, 55.0, 59.0, 58.0, 64.0, 60.0, 65.0, 56.0, 69.0, 70.0, 33.0, 53.0, 54.0, 47.0, 55.0, 53.0, 63.0, 64.0, 52.0, 44.0, 71.0, 56.0, 46.0, 65.0, 50.0, 45.0, 59.0, 47.0, 41.0, 44.0, 61.0, 75.0, 30.0, 43.0, 60.0, 76.0, 58.0, 62.0, 42.0, 78.0, 86.0, 74.0, 53.0, 55.0, 54.0, 59.0, 65.0, 51.0, 53.0, 62.0, 54.0, 59.0, 60.0, 62.0, 50.0, 43.0, 53.0, 56.0, 49.0, 51.0, 42.0, 64.0, 41.0, 47.0, 56.0, 56.0, 63.0, 61.0, 51.0, 39.0, 62.0, 66.0, 43.0, 44.0, 72.0, 36.0, 46.0, 46.0, 62.0, 32.0, 42.0, 54.0, 35.0, 69.0, 54.0, 54.0, 68.0, 49.0, 65.0, 43.0, 53.0, 48.0, 66.0, 48.0, 58.0, 58.0, 66.0, 55.0, 48.0, 64.0, 44.0, 47.0, 45.0, 41.0, 36.0, 52.0, 29.0, 53.0, 57.0, 67.0, 39.0, 52.0, 51.0, 56.0, 65.0, 37.0, 65.0, 63.0, 37.0, 48.0, 50.0, 50.0, 41.0, 64.0, 47.0, 64.0, 37.0, 64.0, 43.0, 63.0, 49.0, 47.0], \"xaxis\": \"x\", \"y\": [1, 0, 0, 1, 0, 1, 0, 0, 1, 1, 0, 0, 1, 0, 0, 0, 1, 0, 1, 0, 0, 1, 0, 0, 0, 1, 0, 0, 1, 0, 0, 0, 0, 0, 1, 0, 0, 1, 0, 0, 0, 0, 1, 0, 0, 1, 0, 0, 0, 0, 0, 0, 1, 0, 0, 1, 0, 0, 1, 0, 0, 0, 0, 0, 1, 0, 1, 0, 0, 0, 1, 0, 0, 0, 1, 0, 0, 0, 0, 1, 0, 0, 0, 0, 1, 0, 1, 0, 0, 0, 0, 0, 0, 1, 0, 0, 0, 1, 0, 1, 0, 0, 0, 0, 0, 0, 0, 1, 0, 0, 0, 0, 1, 0, 0, 0, 1, 0, 0, 0, 0, 1, 0, 1, 1, 1, 0, 0, 0, 0, 0, 0, 0, 0, 0, 0, 1, 0, 0, 0, 0, 1, 0, 0, 0, 1, 1, 0, 1, 0, 0, 0, 0, 1, 0, 1, 0, 0, 0, 1, 0, 0, 1, 0, 0, 1, 0, 0, 1, 0, 0, 0, 1, 0, 0, 0, 1, 0, 0, 1, 0, 1, 0, 0, 1, 0, 1, 0, 0, 1, 0, 0, 0, 0, 0, 1, 0, 0, 0, 1, 0, 1, 0, 0, 0, 0, 1, 0, 0, 0, 1, 0, 0, 0, 1, 0, 0, 0, 0, 0, 0, 0, 0, 1, 0, 0, 1, 0, 0, 0, 1, 0, 1, 0, 0, 1, 0, 0, 1, 0, 0, 1, 0, 0, 0, 1, 0, 0, 0, 0, 0, 1, 0, 0, 0, 0, 0, 0, 1, 0, 0, 0, 0, 0, 0, 0, 0, 1, 0, 0, 0, 1, 0, 1, 0, 1, 0, 0, 1, 0, 0, 1, 0, 0, 0, 1, 0, 1, 0, 0, 0, 0, 0, 1, 0, 0, 0, 0, 1, 0, 0, 0, 0, 0, 1, 0, 0, 0, 1, 0, 1, 0, 0, 0, 0, 0, 0, 0, 1, 0, 0, 1, 0, 0, 1, 0, 0, 1, 0, 0, 1, 0, 0, 0, 0, 0, 0, 1, 0, 0, 0, 0, 0, 0, 1, 0, 0, 0, 0, 1, 0, 0, 1, 0, 0, 1, 0, 0, 0, 0, 1, 0, 0, 1, 0, 0, 1, 0, 0, 0, 0, 0, 1, 0, 0, 1, 0, 0, 1, 0, 0, 0, 0, 0, 0, 0, 1, 0, 0, 0, 1, 0, 0, 0, 0, 0, 0, 1, 0, 0, 1, 0, 0, 0, 0, 0, 1, 0, 0, 0, 0, 1, 0, 0, 1, 0, 0, 1, 0, 1, 0, 0, 0, 1, 0, 1, 0, 0, 0, 1, 0, 0, 0, 0, 1, 0, 0, 1, 0, 0, 0, 1, 0, 0, 1, 0, 0, 0, 0, 1, 0, 0, 0, 1, 0, 0, 1, 0, 0, 1, 0, 0, 1, 0, 0, 0, 1, 0, 0, 0, 0, 0, 1, 0, 1, 0, 0, 1, 0, 0, 1, 0, 1, 0, 0, 1, 0, 0, 0, 1, 0, 0, 0, 1, 0, 0, 1, 0, 0, 1, 0, 0, 1, 0, 0, 0, 1, 0, 1, 0, 0, 0, 0, 0, 0, 0, 1, 0, 0, 1, 0, 0, 0, 1, 0, 0, 0, 0, 0, 1, 1, 0, 0, 1, 0, 0, 0, 1, 0, 0, 1, 0, 0, 0, 1, 0, 0, 0, 0, 1, 0, 0, 1, 0, 0, 1, 0, 0, 0, 1, 0, 0, 1, 0, 0, 0, 0, 0, 1, 0, 0, 1, 0, 0, 1, 0, 0, 0, 1, 0, 0, 0, 0, 1, 0, 1, 0, 0, 1, 0, 0, 1, 0, 0, 1, 0, 0, 0, 0, 0, 0, 0, 0, 0, 0, 1, 0, 0, 1, 0, 1, 0, 0, 0, 1, 0, 0, 0, 0, 1, 0, 1, 0, 0, 0, 0, 1, 0, 1, 0, 0, 0, 0, 0, 1, 0, 0, 1, 0, 1, 0, 0, 1, 0, 0, 0, 1, 0, 0, 0, 1, 0, 0, 1, 0, 1, 0, 0, 0, 0, 0, 1, 1, 0, 0, 0, 0, 1, 0, 1, 0, 0, 1, 0, 0, 1, 0, 0, 1, 0, 0, 1, 0, 1, 0, 0, 0, 0, 1, 0, 0, 0, 1, 0, 0, 0, 1, 0, 0, 0, 0, 0, 1, 0, 0, 1, 0, 0, 0, 1, 0, 0, 1, 0, 0, 0, 1, 0, 0, 1, 0, 1, 0, 0, 0, 0, 1, 0, 0, 0, 0, 0, 1, 0, 0, 0, 0, 0, 1, 1, 0, 0, 1, 0, 0, 0, 1, 0, 0, 0, 1, 0, 0, 0, 0, 1, 0, 1, 0, 0, 0, 1, 0, 0, 1, 0, 1, 0, 0, 0, 0, 1, 0, 0, 0, 1, 0, 0, 1, 0, 0, 0, 0, 0, 0, 1, 0, 1, 0, 0, 0, 0, 0, 1, 0, 0, 1, 0, 1, 0, 1, 0, 1, 0, 0, 1, 0, 0, 1, 0, 1, 0, 1, 0, 1, 0, 0, 0, 0, 1, 0, 0, 0, 1, 0, 0, 1, 0, 0, 0, 0, 1, 0, 0, 0, 1, 0, 1, 0, 0, 1, 0, 1, 0, 1, 1, 0, 0, 0, 1, 0, 1, 0, 0, 1, 0, 0, 0, 1, 0, 0, 0, 0, 1, 0, 0, 1, 0, 0, 1, 0, 0, 0, 1, 0, 0, 0, 0, 0, 0, 0, 0, 1, 0, 0, 1, 0, 1, 0, 0, 0, 0, 1, 0, 0, 0, 0, 1, 0, 1, 0, 0, 0, 0, 0, 0, 1, 0, 1, 0, 0, 0, 0, 1, 0, 0, 1, 0, 0, 1, 0, 1, 0, 0, 1, 0, 0, 1, 0, 0, 0, 0, 0, 1, 0, 0, 0, 1, 0, 1, 0, 0, 1, 0, 0, 1, 0, 0, 1, 0, 1, 0, 0, 0, 0, 0, 0, 0, 0, 0, 1, 0, 1, 0, 0, 1, 0, 0, 1, 0, 0, 0, 0, 0, 0, 1, 0, 0, 0, 0, 1, 0, 0, 0, 1, 0, 0, 1, 0, 0, 0, 1, 0, 0, 1, 0, 0, 0, 0, 1, 0, 0, 1, 0, 0, 0, 0, 0, 1, 0, 1, 0, 0, 0, 1, 0, 0, 1, 0, 0, 1, 0, 0, 0, 1, 0, 0, 0, 1, 0, 0, 0, 0, 1, 0, 0, 0, 0, 0, 0, 0, 0, 1, 1, 0, 0, 0, 0, 0, 1, 0, 0, 1, 0, 0, 1, 0, 1, 0, 0, 0, 1, 0, 1, 0, 0, 1, 0, 0, 0, 1, 0, 0, 1, 0, 0, 0, 0, 1, 0, 0, 1, 0, 0, 0, 0, 1, 0, 0, 0, 1, 0, 0, 1, 0, 0, 1, 0, 0, 0, 1, 0, 1, 0, 0, 0, 0, 0, 1, 0, 0, 0, 1, 0, 0, 0, 0, 0, 1, 1, 0, 0, 0, 0, 1, 0, 0, 1, 0, 0, 1, 0, 0, 1, 0, 0, 1, 0, 1, 0, 0, 1, 0, 0, 1, 0, 0, 0, 1, 0, 0, 0, 0, 0, 1, 0, 0, 0, 1, 0, 1, 0, 0, 0, 1, 0, 0, 1, 0, 0, 0, 1, 0, 0, 1, 0, 0, 1, 0, 0, 0, 1, 1, 0, 1, 0, 0, 0, 1, 0, 0, 1, 0, 0, 0, 0, 0, 1, 0, 0, 1, 0, 0, 0, 0, 1, 0, 0, 0, 0, 0, 1, 0, 0, 0, 1, 0, 0, 0, 1, 0, 0, 0, 0, 1, 0, 0, 0, 1, 0, 1, 0, 0, 1, 0, 0, 0, 0, 1, 0, 0, 0, 1, 0, 1, 0, 0, 1, 0, 0, 1, 0, 0, 1, 0, 1, 0, 0, 1, 0, 0, 1, 0, 0, 0, 0, 1, 0, 0, 1, 0, 0, 0, 0, 0, 1, 0, 0, 0, 0, 1, 0, 1, 0, 1, 0, 0, 0, 1, 0, 0, 0, 1, 0, 1, 0, 1, 0, 0, 0, 1, 0, 1, 0, 0, 0, 0, 1, 0, 0, 0, 0, 1, 0, 1, 0, 0, 1, 0, 0, 1, 0, 0, 1, 0, 0, 1, 0, 0, 1, 0, 0, 1, 0, 0, 1, 0, 0, 0, 0, 1, 0, 0, 0, 1, 0, 0, 0, 0, 0, 1, 0, 0, 1, 0, 0, 0, 0, 0, 0, 1, 0, 1, 0, 0, 1, 0, 0, 1, 1, 0, 0, 1, 0, 0, 0, 1, 0, 0, 0, 0, 1, 0, 0, 0, 1, 0, 1, 0, 0, 1, 1, 0, 0, 1, 0, 0, 1, 0, 0, 0, 0, 0, 0, 0, 1, 0, 0, 0, 1, 0, 0, 0, 0, 0, 1, 0, 0, 0, 1, 0, 0, 1, 0, 0, 1, 0, 0, 1, 0, 0, 0, 0, 1, 0, 0, 0, 1, 0, 0, 0, 0, 0, 1, 0, 0, 1, 0, 0, 1, 0, 0, 1, 0, 0, 0, 0, 1, 0, 0, 1, 0, 0, 0, 0, 1, 0, 0, 1, 0, 0, 1, 0, 0, 1, 0, 0, 0, 0, 0, 1, 0, 0, 0, 0, 0, 0, 0, 0, 0, 1, 0, 0, 1, 0, 1, 0, 1, 0, 0, 0, 0, 0, 1, 0, 0, 1, 0, 0, 0, 0, 0, 0, 0, 0, 1, 0, 0, 1, 0, 0, 0, 1, 0, 0, 0, 0, 0, 0, 0, 0, 1, 0, 0, 0, 0, 0, 1, 0, 1, 0, 0, 0, 0, 0, 0, 0, 1, 0, 0, 1, 0, 0, 1, 0, 0, 0, 1, 0, 0, 1, 0, 0, 0, 1, 0, 0, 0, 1, 0, 0, 0, 1, 0, 0, 0, 0, 0, 0, 1, 0, 1, 0, 0, 0, 0, 0, 0, 0, 1, 0, 0, 0, 1, 0, 0, 0, 0, 0, 1, 0, 0, 0, 1, 0, 0, 1, 0, 0, 1, 0, 0, 0, 0, 0, 1, 0, 0, 0, 0, 1, 0, 0, 0, 0, 1, 0, 0, 0, 0, 0, 1, 0, 0, 1, 0, 1, 0, 0, 0, 1, 0, 0, 0, 1, 0, 0, 0, 1, 0, 0, 0, 0, 1, 0, 0, 0, 0, 1, 0, 0, 1, 0, 0, 0, 0, 0, 1, 0, 0, 0, 0, 1, 0, 0, 0, 0, 1, 0, 0, 0, 0, 0, 0, 1, 0, 0, 0, 0, 0, 0, 1, 0, 0, 1, 0, 1, 0, 1, 0, 0, 0, 0, 0, 0, 0, 1, 0, 0, 0, 0, 1, 0, 0, 1, 0, 1, 0, 1, 0, 0, 0, 0, 1, 0, 0, 0, 0, 1, 0, 0, 0, 0, 1, 0, 0, 1, 0, 0, 0, 1, 0, 0, 0, 1, 0, 0, 1, 0, 0, 1, 0, 0, 0, 0, 0, 0, 1, 0, 0], \"yaxis\": \"y\"}, {\"alignmentgroup\": \"True\", \"bingroup\": \"x\", \"hoverlabel\": {\"namelength\": 0}, \"hovertemplate\": \"GENDER=FEMALE<br>AGE=%{x}<br>count of WINNER=%{y}\", \"legendgroup\": \"GENDER=FEMALE\", \"marker\": {\"color\": \"#EF553B\"}, \"name\": \"GENDER=FEMALE\", \"offsetgroup\": \"GENDER=FEMALE\", \"orientation\": \"v\", \"showlegend\": true, \"type\": \"histogram\", \"x\": [54.0, 38.0, 46.0, 52.0, 32.0, 42.0, 69.0, 46.0, 56.0, 43.0, 33.0, 55.0, 52.0, 59.0, 57.0, 33.0, 41.0, 37.0, 26.0, 46.0, 37.0, 56.0, 65.0, 70.0, 47.0, 49.0, 34.0, 38.0, 38.0, 52.0, 33.0, 51.0, 61.0, 49.0, 34.0, 60.0, 57.0, 73.0, 47.0, 28.0, 52.0, 33.0, 36.0, 42.0, 42.0, 37.0, 39.0, 55.0, 45.0, 43.0, 30.0, 49.0, 49.0, 42.0, 49.0, 57.0, 52.0, 66.0, 54.0, 33.0, 56.0, 26.0, 47.0, 48.0, 38.0, 40.0, 35.0, 71.0, 54.0, 30.0, 45.0, 40.0, 61.0, 25.0, 37.0, 43.0, 52.0, 67.0, 52.0, 56.0, 34.0, 62.0, 50.0, 55.0, 45.0, 70.0, 61.0, 30.0, 54.0, 56.0, 54.0, 44.0, 41.0, 45.0, 50.0, 44.0, 32.0, 48.0, 53.0, 48.0, 48.0, 48.0, 55.0, 43.0, 36.0, 26.0, 41.0, 69.0, 43.0, 43.0, 25.0, 65.0, 65.0, 39.0, 64.0, 39.0, 29.0, 40.0, 50.0, 28.0, 69.0, 37.0, 61.0, 53.0, 44.0, 50.0, 33.0, 65.0, 44.0, 59.0, 44.0, 43.0, 68.0, 57.0, 38.0, 39.0, 49.0, 41.0, 59.0, 71.0, 54.0, 39.0, 45.0, 55.0, 70.0, 27.0, 47.0, 47.0, 37.0, 44.0, 53.0, 48.0, 38.0, 52.0, 50.0, 48.0, 36.0, 25.0, 43.0, 47.0, 41.0, 69.0, 45.0, 31.0, 53.0, 51.0, 41.0, 81.0, 47.0, 42.0, 42.0, 74.0, 47.0, 36.0, 62.0, 40.0, 35.0, 61.0, 36.0, 57.0, 30.0, 42.0, 72.0, 61.0, 48.0, 58.0, 43.0, 45.0, 68.0, 50.0, 32.0, 45.0, 48.0, 37.0, 57.0, 58.0, 25.0, 56.0, 56.0, 31.0, 25.0, 55.0, 44.0, 40.0, 74.0, 32.0, 50.0, 31.0, 69.0, 41.0, 46.0, 35.0, 29.0, 51.0, 45.0, 27.0, 33.0, 46.0, 47.0, 44.0, 62.0, 42.0, 39.0, 48.0, 46.0, 58.0, 68.0, 32.0, 42.0, 51.0, 57.0, 47.0, 60.0, 41.0, 60.0, 50.0, 50.0, 38.0, 52.0, 31.0, 57.0, 58.0, 40.0, 61.0, 56.0, 48.0, 26.0, 37.0, 38.0, 47.0, 51.0, 30.0, 58.0, 48.0, 45.0, 53.0, 46.0, 28.0], \"xaxis\": \"x\", \"y\": [0, 0, 0, 0, 1, 0, 1, 1, 0, 1, 1, 0, 1, 0, 0, 1, 0, 0, 1, 0, 0, 0, 0, 1, 0, 0, 0, 0, 0, 0, 0, 0, 0, 1, 0, 1, 0, 0, 0, 1, 1, 0, 1, 1, 0, 0, 1, 1, 1, 0, 0, 1, 1, 0, 1, 1, 0, 1, 0, 0, 1, 0, 1, 0, 0, 0, 0, 1, 0, 0, 1, 1, 0, 0, 0, 0, 1, 1, 0, 0, 0, 0, 0, 0, 1, 0, 0, 1, 1, 0, 0, 0, 0, 1, 0, 1, 0, 0, 1, 0, 0, 0, 1, 0, 0, 0, 0, 0, 0, 1, 0, 0, 0, 0, 0, 0, 0, 0, 1, 0, 0, 0, 1, 0, 0, 0, 0, 1, 1, 0, 1, 0, 0, 0, 0, 1, 0, 0, 0, 1, 0, 0, 0, 1, 1, 0, 0, 0, 1, 0, 0, 0, 1, 0, 0, 0, 0, 0, 0, 0, 0, 0, 0, 1, 0, 1, 0, 0, 0, 0, 0, 1, 0, 0, 1, 0, 0, 0, 0, 0, 0, 0, 1, 0, 1, 0, 1, 0, 0, 0, 0, 0, 1, 0, 0, 0, 0, 0, 0, 1, 0, 1, 0, 0, 0, 1, 0, 0, 1, 1, 0, 1, 0, 1, 0, 0, 1, 0, 0, 0, 1, 0, 0, 0, 0, 1, 1, 0, 0, 1, 0, 0, 0, 0, 0, 0, 1, 1, 1, 0, 1, 0, 0, 0, 1, 1, 0, 0, 0, 0, 0, 0, 0, 0, 0, 0, 1, 0], \"yaxis\": \"y\"}],\n",
              "                        {\"barmode\": \"relative\", \"legend\": {\"tracegroupgap\": 0}, \"margin\": {\"t\": 60}, \"template\": {\"data\": {\"bar\": [{\"error_x\": {\"color\": \"#2a3f5f\"}, \"error_y\": {\"color\": \"#2a3f5f\"}, \"marker\": {\"line\": {\"color\": \"#E5ECF6\", \"width\": 0.5}}, \"type\": \"bar\"}], \"barpolar\": [{\"marker\": {\"line\": {\"color\": \"#E5ECF6\", \"width\": 0.5}}, \"type\": \"barpolar\"}], \"carpet\": [{\"aaxis\": {\"endlinecolor\": \"#2a3f5f\", \"gridcolor\": \"white\", \"linecolor\": \"white\", \"minorgridcolor\": \"white\", \"startlinecolor\": \"#2a3f5f\"}, \"baxis\": {\"endlinecolor\": \"#2a3f5f\", \"gridcolor\": \"white\", \"linecolor\": \"white\", \"minorgridcolor\": \"white\", \"startlinecolor\": \"#2a3f5f\"}, \"type\": \"carpet\"}], \"choropleth\": [{\"colorbar\": {\"outlinewidth\": 0, \"ticks\": \"\"}, \"type\": \"choropleth\"}], \"contour\": [{\"colorbar\": {\"outlinewidth\": 0, \"ticks\": \"\"}, \"colorscale\": [[0.0, \"#0d0887\"], [0.1111111111111111, \"#46039f\"], [0.2222222222222222, \"#7201a8\"], [0.3333333333333333, \"#9c179e\"], [0.4444444444444444, \"#bd3786\"], [0.5555555555555556, \"#d8576b\"], [0.6666666666666666, \"#ed7953\"], [0.7777777777777778, \"#fb9f3a\"], [0.8888888888888888, \"#fdca26\"], [1.0, \"#f0f921\"]], \"type\": \"contour\"}], \"contourcarpet\": [{\"colorbar\": {\"outlinewidth\": 0, \"ticks\": \"\"}, \"type\": \"contourcarpet\"}], \"heatmap\": [{\"colorbar\": {\"outlinewidth\": 0, \"ticks\": \"\"}, \"colorscale\": [[0.0, \"#0d0887\"], [0.1111111111111111, \"#46039f\"], [0.2222222222222222, \"#7201a8\"], [0.3333333333333333, \"#9c179e\"], [0.4444444444444444, \"#bd3786\"], [0.5555555555555556, \"#d8576b\"], [0.6666666666666666, \"#ed7953\"], [0.7777777777777778, \"#fb9f3a\"], [0.8888888888888888, \"#fdca26\"], [1.0, \"#f0f921\"]], \"type\": \"heatmap\"}], \"heatmapgl\": [{\"colorbar\": {\"outlinewidth\": 0, \"ticks\": \"\"}, \"colorscale\": [[0.0, \"#0d0887\"], [0.1111111111111111, \"#46039f\"], [0.2222222222222222, \"#7201a8\"], [0.3333333333333333, \"#9c179e\"], [0.4444444444444444, \"#bd3786\"], [0.5555555555555556, \"#d8576b\"], [0.6666666666666666, \"#ed7953\"], [0.7777777777777778, \"#fb9f3a\"], [0.8888888888888888, \"#fdca26\"], [1.0, \"#f0f921\"]], \"type\": \"heatmapgl\"}], \"histogram\": [{\"marker\": {\"colorbar\": {\"outlinewidth\": 0, \"ticks\": \"\"}}, \"type\": \"histogram\"}], \"histogram2d\": [{\"colorbar\": {\"outlinewidth\": 0, \"ticks\": \"\"}, \"colorscale\": [[0.0, \"#0d0887\"], [0.1111111111111111, \"#46039f\"], [0.2222222222222222, \"#7201a8\"], [0.3333333333333333, \"#9c179e\"], [0.4444444444444444, \"#bd3786\"], [0.5555555555555556, \"#d8576b\"], [0.6666666666666666, \"#ed7953\"], [0.7777777777777778, \"#fb9f3a\"], [0.8888888888888888, \"#fdca26\"], [1.0, \"#f0f921\"]], \"type\": \"histogram2d\"}], \"histogram2dcontour\": [{\"colorbar\": {\"outlinewidth\": 0, \"ticks\": \"\"}, \"colorscale\": [[0.0, \"#0d0887\"], [0.1111111111111111, \"#46039f\"], [0.2222222222222222, \"#7201a8\"], [0.3333333333333333, \"#9c179e\"], [0.4444444444444444, \"#bd3786\"], [0.5555555555555556, \"#d8576b\"], [0.6666666666666666, \"#ed7953\"], [0.7777777777777778, \"#fb9f3a\"], [0.8888888888888888, \"#fdca26\"], [1.0, \"#f0f921\"]], \"type\": \"histogram2dcontour\"}], \"mesh3d\": [{\"colorbar\": {\"outlinewidth\": 0, \"ticks\": \"\"}, \"type\": \"mesh3d\"}], \"parcoords\": [{\"line\": {\"colorbar\": {\"outlinewidth\": 0, \"ticks\": \"\"}}, \"type\": \"parcoords\"}], \"pie\": [{\"automargin\": true, \"type\": \"pie\"}], \"scatter\": [{\"marker\": {\"colorbar\": {\"outlinewidth\": 0, \"ticks\": \"\"}}, \"type\": \"scatter\"}], \"scatter3d\": [{\"line\": {\"colorbar\": {\"outlinewidth\": 0, \"ticks\": \"\"}}, \"marker\": {\"colorbar\": {\"outlinewidth\": 0, \"ticks\": \"\"}}, \"type\": \"scatter3d\"}], \"scattercarpet\": [{\"marker\": {\"colorbar\": {\"outlinewidth\": 0, \"ticks\": \"\"}}, \"type\": \"scattercarpet\"}], \"scattergeo\": [{\"marker\": {\"colorbar\": {\"outlinewidth\": 0, \"ticks\": \"\"}}, \"type\": \"scattergeo\"}], \"scattergl\": [{\"marker\": {\"colorbar\": {\"outlinewidth\": 0, \"ticks\": \"\"}}, \"type\": \"scattergl\"}], \"scattermapbox\": [{\"marker\": {\"colorbar\": {\"outlinewidth\": 0, \"ticks\": \"\"}}, \"type\": \"scattermapbox\"}], \"scatterpolar\": [{\"marker\": {\"colorbar\": {\"outlinewidth\": 0, \"ticks\": \"\"}}, \"type\": \"scatterpolar\"}], \"scatterpolargl\": [{\"marker\": {\"colorbar\": {\"outlinewidth\": 0, \"ticks\": \"\"}}, \"type\": \"scatterpolargl\"}], \"scatterternary\": [{\"marker\": {\"colorbar\": {\"outlinewidth\": 0, \"ticks\": \"\"}}, \"type\": \"scatterternary\"}], \"surface\": [{\"colorbar\": {\"outlinewidth\": 0, \"ticks\": \"\"}, \"colorscale\": [[0.0, \"#0d0887\"], [0.1111111111111111, \"#46039f\"], [0.2222222222222222, \"#7201a8\"], [0.3333333333333333, \"#9c179e\"], [0.4444444444444444, \"#bd3786\"], [0.5555555555555556, \"#d8576b\"], [0.6666666666666666, \"#ed7953\"], [0.7777777777777778, \"#fb9f3a\"], [0.8888888888888888, \"#fdca26\"], [1.0, \"#f0f921\"]], \"type\": \"surface\"}], \"table\": [{\"cells\": {\"fill\": {\"color\": \"#EBF0F8\"}, \"line\": {\"color\": \"white\"}}, \"header\": {\"fill\": {\"color\": \"#C8D4E3\"}, \"line\": {\"color\": \"white\"}}, \"type\": \"table\"}]}, \"layout\": {\"annotationdefaults\": {\"arrowcolor\": \"#2a3f5f\", \"arrowhead\": 0, \"arrowwidth\": 1}, \"coloraxis\": {\"colorbar\": {\"outlinewidth\": 0, \"ticks\": \"\"}}, \"colorscale\": {\"diverging\": [[0, \"#8e0152\"], [0.1, \"#c51b7d\"], [0.2, \"#de77ae\"], [0.3, \"#f1b6da\"], [0.4, \"#fde0ef\"], [0.5, \"#f7f7f7\"], [0.6, \"#e6f5d0\"], [0.7, \"#b8e186\"], [0.8, \"#7fbc41\"], [0.9, \"#4d9221\"], [1, \"#276419\"]], \"sequential\": [[0.0, \"#0d0887\"], [0.1111111111111111, \"#46039f\"], [0.2222222222222222, \"#7201a8\"], [0.3333333333333333, \"#9c179e\"], [0.4444444444444444, \"#bd3786\"], [0.5555555555555556, \"#d8576b\"], [0.6666666666666666, \"#ed7953\"], [0.7777777777777778, \"#fb9f3a\"], [0.8888888888888888, \"#fdca26\"], [1.0, \"#f0f921\"]], \"sequentialminus\": [[0.0, \"#0d0887\"], [0.1111111111111111, \"#46039f\"], [0.2222222222222222, \"#7201a8\"], [0.3333333333333333, \"#9c179e\"], [0.4444444444444444, \"#bd3786\"], [0.5555555555555556, \"#d8576b\"], [0.6666666666666666, \"#ed7953\"], [0.7777777777777778, \"#fb9f3a\"], [0.8888888888888888, \"#fdca26\"], [1.0, \"#f0f921\"]]}, \"colorway\": [\"#636efa\", \"#EF553B\", \"#00cc96\", \"#ab63fa\", \"#FFA15A\", \"#19d3f3\", \"#FF6692\", \"#B6E880\", \"#FF97FF\", \"#FECB52\"], \"font\": {\"color\": \"#2a3f5f\"}, \"geo\": {\"bgcolor\": \"white\", \"lakecolor\": \"white\", \"landcolor\": \"#E5ECF6\", \"showlakes\": true, \"showland\": true, \"subunitcolor\": \"white\"}, \"hoverlabel\": {\"align\": \"left\"}, \"hovermode\": \"closest\", \"mapbox\": {\"style\": \"light\"}, \"paper_bgcolor\": \"white\", \"plot_bgcolor\": \"#E5ECF6\", \"polar\": {\"angularaxis\": {\"gridcolor\": \"white\", \"linecolor\": \"white\", \"ticks\": \"\"}, \"bgcolor\": \"#E5ECF6\", \"radialaxis\": {\"gridcolor\": \"white\", \"linecolor\": \"white\", \"ticks\": \"\"}}, \"scene\": {\"xaxis\": {\"backgroundcolor\": \"#E5ECF6\", \"gridcolor\": \"white\", \"gridwidth\": 2, \"linecolor\": \"white\", \"showbackground\": true, \"ticks\": \"\", \"zerolinecolor\": \"white\"}, \"yaxis\": {\"backgroundcolor\": \"#E5ECF6\", \"gridcolor\": \"white\", \"gridwidth\": 2, \"linecolor\": \"white\", \"showbackground\": true, \"ticks\": \"\", \"zerolinecolor\": \"white\"}, \"zaxis\": {\"backgroundcolor\": \"#E5ECF6\", \"gridcolor\": \"white\", \"gridwidth\": 2, \"linecolor\": \"white\", \"showbackground\": true, \"ticks\": \"\", \"zerolinecolor\": \"white\"}}, \"shapedefaults\": {\"line\": {\"color\": \"#2a3f5f\"}}, \"ternary\": {\"aaxis\": {\"gridcolor\": \"white\", \"linecolor\": \"white\", \"ticks\": \"\"}, \"baxis\": {\"gridcolor\": \"white\", \"linecolor\": \"white\", \"ticks\": \"\"}, \"bgcolor\": \"#E5ECF6\", \"caxis\": {\"gridcolor\": \"white\", \"linecolor\": \"white\", \"ticks\": \"\"}}, \"title\": {\"x\": 0.05}, \"xaxis\": {\"automargin\": true, \"gridcolor\": \"white\", \"linecolor\": \"white\", \"ticks\": \"\", \"title\": {\"standoff\": 15}, \"zerolinecolor\": \"white\", \"zerolinewidth\": 2}, \"yaxis\": {\"automargin\": true, \"gridcolor\": \"white\", \"linecolor\": \"white\", \"ticks\": \"\", \"title\": {\"standoff\": 15}, \"zerolinecolor\": \"white\", \"zerolinewidth\": 2}}}, \"xaxis\": {\"anchor\": \"y\", \"domain\": [0.0, 1.0], \"title\": {\"text\": \"AGE\"}}, \"yaxis\": {\"anchor\": \"x\", \"domain\": [0.0, 1.0], \"title\": {\"text\": \"count of WINNER\"}}},\n",
              "                        {\"responsive\": true}\n",
              "                    ).then(function(){\n",
              "                            \n",
              "var gd = document.getElementById('6c601950-9403-44d6-bacd-6d1616aef4ea');\n",
              "var x = new MutationObserver(function (mutations, observer) {{\n",
              "        var display = window.getComputedStyle(gd).display;\n",
              "        if (!display || display === 'none') {{\n",
              "            console.log([gd, 'removed!']);\n",
              "            Plotly.purge(gd);\n",
              "            observer.disconnect();\n",
              "        }}\n",
              "}});\n",
              "\n",
              "// Listen for the removal of the full notebook cells\n",
              "var notebookContainer = gd.closest('#notebook-container');\n",
              "if (notebookContainer) {{\n",
              "    x.observe(notebookContainer, {childList: true});\n",
              "}}\n",
              "\n",
              "// Listen for the clearing of the current output cell\n",
              "var outputEl = gd.closest('.output');\n",
              "if (outputEl) {{\n",
              "    x.observe(outputEl, {childList: true});\n",
              "}}\n",
              "\n",
              "                        })\n",
              "                };\n",
              "                \n",
              "            </script>\n",
              "        </div>\n",
              "</body>\n",
              "</html>"
            ]
          },
          "metadata": {}
        }
      ]
    },
    {
      "cell_type": "markdown",
      "metadata": {
        "id": "tUDtKQwMZ6c9"
      },
      "source": [
        "Độ tuổi trung bình ở nữ thấp hơn độ tuổi trung bình ở nam (Ở nữ là 48 và ở nam là 52)\n"
      ]
    },
    {
      "cell_type": "markdown",
      "metadata": {
        "id": "tAPEE-7scRN3"
      },
      "source": [
        "**Liệu giới tính có ảnh hưởng đến kết quả thắng thua của các ứng cử viên?**"
      ]
    },
    {
      "cell_type": "code",
      "metadata": {
        "id": "SJt_HtSlZSgS",
        "colab": {
          "base_uri": "https://localhost:8080/",
          "height": 300
        },
        "outputId": "dec03d15-5ed2-49a4-b13c-30dde908b0e1"
      },
      "source": [
        "ax = sns.countplot(data=df_exclude_NOTA,x='GENDER',hue='WINNER',palette='hls')\n",
        "\n",
        "ax.legend(['seats lost','seats won'],frameon=False)\n",
        "ax.set_title('Comparison of Seats WON and LOST by Candidates',fontsize=20)\n",
        "sns.despine(bottom=True,left=True)"
      ],
      "execution_count": null,
      "outputs": [
        {
          "output_type": "display_data",
          "data": {
            "image/png": "[encoded data removed]",
            "text/plain": [
              "<Figure size 432x288 with 1 Axes>"
            ]
          },
          "metadata": {
            "needs_background": "light"
          }
        }
      ]
    },
    {
      "cell_type": "markdown",
      "metadata": {
        "id": "luelH_WMNjec"
      },
      "source": [
        "Là quốc gia có nạn phân biệt giới tính rất gay gắt thì không có bất ngờ gì khi số lượng nam trúng cử cao gấp 3 lần số lượng nữ  "
      ]
    },
    {
      "cell_type": "markdown",
      "metadata": {
        "id": "Sq_4q7vudVZg"
      },
      "source": [
        "**Chất lượng và tiêu chuẩn học vấn của người ứng cử**"
      ]
    },
    {
      "cell_type": "code",
      "metadata": {
        "id": "8Fo3PXe_dZJG",
        "colab": {
          "base_uri": "https://localhost:8080/"
        },
        "outputId": "14d9750a-3a22-4e37-a2cf-bdeb6cf2b366"
      },
      "source": [
        "education = df_exclude_NOTA[df_exclude_NOTA['EDUCATION'] != 'Not Available']\n",
        "education = education['EDUCATION'].value_counts().reset_index()\n",
        "education.columns = ['EDUCATION','COUNT']\n",
        "fig = px.bar(education, x='EDUCATION', y='COUNT', color='COUNT', height=500)\n",
        "fig.show()"
      ],
      "execution_count": null,
      "outputs": [
        {
          "output_type": "display_data",
          "data": {
            "text/html": [
              "<html>\n",
              "<head><meta charset=\"utf-8\" /></head>\n",
              "<body>\n",
              "    <div>\n",
              "            <script src=\"https://cdnjs.cloudflare.com/ajax/libs/mathjax/2.7.5/MathJax.js?config=TeX-AMS-MML_SVG\"></script><script type=\"text/javascript\">if (window.MathJax) {MathJax.Hub.Config({SVG: {font: \"STIX-Web\"}});}</script>\n",
              "                <script type=\"text/javascript\">window.PlotlyConfig = {MathJaxConfig: 'local'};</script>\n",
              "        <script src=\"https://cdn.plot.ly/plotly-latest.min.js\"></script>    \n",
              "            <div id=\"31469e86-58ee-4743-bfdd-28194a8db246\" class=\"plotly-graph-div\" style=\"height:500px; width:100%;\"></div>\n",
              "            <script type=\"text/javascript\">\n",
              "                \n",
              "                    window.PLOTLYENV=window.PLOTLYENV || {};\n",
              "                    \n",
              "                if (document.getElementById(\"31469e86-58ee-4743-bfdd-28194a8db246\")) {\n",
              "                    Plotly.newPlot(\n",
              "                        '31469e86-58ee-4743-bfdd-28194a8db246',\n",
              "                        [{\"alignmentgroup\": \"True\", \"hoverlabel\": {\"namelength\": 0}, \"hovertemplate\": \"EDUCATION=%{x}<br>COUNT=%{marker.color}\", \"legendgroup\": \"\", \"marker\": {\"color\": [503, 441, 336, 256, 196, 78, 73, 50, 30, 28, 5], \"coloraxis\": \"coloraxis\"}, \"name\": \"\", \"offsetgroup\": \"\", \"orientation\": \"v\", \"showlegend\": false, \"textposition\": \"auto\", \"type\": \"bar\", \"x\": [\"Post Graduate\", \"Graduate\", \"Graduate Professional\", \"12th Pass\", \"10th Pass\", \"8th Pass\", \"Doctorate\", \"Others\", \"Literate\", \"5th Pass\", \"Illiterate\"], \"xaxis\": \"x\", \"y\": [503, 441, 336, 256, 196, 78, 73, 50, 30, 28, 5], \"yaxis\": \"y\"}],\n",
              "                        {\"barmode\": \"relative\", \"coloraxis\": {\"colorbar\": {\"title\": {\"text\": \"COUNT\"}}, \"colorscale\": [[0.0, \"#0d0887\"], [0.1111111111111111, \"#46039f\"], [0.2222222222222222, \"#7201a8\"], [0.3333333333333333, \"#9c179e\"], [0.4444444444444444, \"#bd3786\"], [0.5555555555555556, \"#d8576b\"], [0.6666666666666666, \"#ed7953\"], [0.7777777777777778, \"#fb9f3a\"], [0.8888888888888888, \"#fdca26\"], [1.0, \"#f0f921\"]]}, \"height\": 500, \"legend\": {\"tracegroupgap\": 0}, \"margin\": {\"t\": 60}, \"template\": {\"data\": {\"bar\": [{\"error_x\": {\"color\": \"#2a3f5f\"}, \"error_y\": {\"color\": \"#2a3f5f\"}, \"marker\": {\"line\": {\"color\": \"#E5ECF6\", \"width\": 0.5}}, \"type\": \"bar\"}], \"barpolar\": [{\"marker\": {\"line\": {\"color\": \"#E5ECF6\", \"width\": 0.5}}, \"type\": \"barpolar\"}], \"carpet\": [{\"aaxis\": {\"endlinecolor\": \"#2a3f5f\", \"gridcolor\": \"white\", \"linecolor\": \"white\", \"minorgridcolor\": \"white\", \"startlinecolor\": \"#2a3f5f\"}, \"baxis\": {\"endlinecolor\": \"#2a3f5f\", \"gridcolor\": \"white\", \"linecolor\": \"white\", \"minorgridcolor\": \"white\", \"startlinecolor\": \"#2a3f5f\"}, \"type\": \"carpet\"}], \"choropleth\": [{\"colorbar\": {\"outlinewidth\": 0, \"ticks\": \"\"}, \"type\": \"choropleth\"}], \"contour\": [{\"colorbar\": {\"outlinewidth\": 0, \"ticks\": \"\"}, \"colorscale\": [[0.0, \"#0d0887\"], [0.1111111111111111, \"#46039f\"], [0.2222222222222222, \"#7201a8\"], [0.3333333333333333, \"#9c179e\"], [0.4444444444444444, \"#bd3786\"], [0.5555555555555556, \"#d8576b\"], [0.6666666666666666, \"#ed7953\"], [0.7777777777777778, \"#fb9f3a\"], [0.8888888888888888, \"#fdca26\"], [1.0, \"#f0f921\"]], \"type\": \"contour\"}], \"contourcarpet\": [{\"colorbar\": {\"outlinewidth\": 0, \"ticks\": \"\"}, \"type\": \"contourcarpet\"}], \"heatmap\": [{\"colorbar\": {\"outlinewidth\": 0, \"ticks\": \"\"}, \"colorscale\": [[0.0, \"#0d0887\"], [0.1111111111111111, \"#46039f\"], [0.2222222222222222, \"#7201a8\"], [0.3333333333333333, \"#9c179e\"], [0.4444444444444444, \"#bd3786\"], [0.5555555555555556, \"#d8576b\"], [0.6666666666666666, \"#ed7953\"], [0.7777777777777778, \"#fb9f3a\"], [0.8888888888888888, \"#fdca26\"], [1.0, \"#f0f921\"]], \"type\": \"heatmap\"}], \"heatmapgl\": [{\"colorbar\": {\"outlinewidth\": 0, \"ticks\": \"\"}, \"colorscale\": [[0.0, \"#0d0887\"], [0.1111111111111111, \"#46039f\"], [0.2222222222222222, \"#7201a8\"], [0.3333333333333333, \"#9c179e\"], [0.4444444444444444, \"#bd3786\"], [0.5555555555555556, \"#d8576b\"], [0.6666666666666666, \"#ed7953\"], [0.7777777777777778, \"#fb9f3a\"], [0.8888888888888888, \"#fdca26\"], [1.0, \"#f0f921\"]], \"type\": \"heatmapgl\"}], \"histogram\": [{\"marker\": {\"colorbar\": {\"outlinewidth\": 0, \"ticks\": \"\"}}, \"type\": \"histogram\"}], \"histogram2d\": [{\"colorbar\": {\"outlinewidth\": 0, \"ticks\": \"\"}, \"colorscale\": [[0.0, \"#0d0887\"], [0.1111111111111111, \"#46039f\"], [0.2222222222222222, \"#7201a8\"], [0.3333333333333333, \"#9c179e\"], [0.4444444444444444, \"#bd3786\"], [0.5555555555555556, \"#d8576b\"], [0.6666666666666666, \"#ed7953\"], [0.7777777777777778, \"#fb9f3a\"], [0.8888888888888888, \"#fdca26\"], [1.0, \"#f0f921\"]], \"type\": \"histogram2d\"}], \"histogram2dcontour\": [{\"colorbar\": {\"outlinewidth\": 0, \"ticks\": \"\"}, \"colorscale\": [[0.0, \"#0d0887\"], [0.1111111111111111, \"#46039f\"], [0.2222222222222222, \"#7201a8\"], [0.3333333333333333, \"#9c179e\"], [0.4444444444444444, \"#bd3786\"], [0.5555555555555556, \"#d8576b\"], [0.6666666666666666, \"#ed7953\"], [0.7777777777777778, \"#fb9f3a\"], [0.8888888888888888, \"#fdca26\"], [1.0, \"#f0f921\"]], \"type\": \"histogram2dcontour\"}], \"mesh3d\": [{\"colorbar\": {\"outlinewidth\": 0, \"ticks\": \"\"}, \"type\": \"mesh3d\"}], \"parcoords\": [{\"line\": {\"colorbar\": {\"outlinewidth\": 0, \"ticks\": \"\"}}, \"type\": \"parcoords\"}], \"pie\": [{\"automargin\": true, \"type\": \"pie\"}], \"scatter\": [{\"marker\": {\"colorbar\": {\"outlinewidth\": 0, \"ticks\": \"\"}}, \"type\": \"scatter\"}], \"scatter3d\": [{\"line\": {\"colorbar\": {\"outlinewidth\": 0, \"ticks\": \"\"}}, \"marker\": {\"colorbar\": {\"outlinewidth\": 0, \"ticks\": \"\"}}, \"type\": \"scatter3d\"}], \"scattercarpet\": [{\"marker\": {\"colorbar\": {\"outlinewidth\": 0, \"ticks\": \"\"}}, \"type\": \"scattercarpet\"}], \"scattergeo\": [{\"marker\": {\"colorbar\": {\"outlinewidth\": 0, \"ticks\": \"\"}}, \"type\": \"scattergeo\"}], \"scattergl\": [{\"marker\": {\"colorbar\": {\"outlinewidth\": 0, \"ticks\": \"\"}}, \"type\": \"scattergl\"}], \"scattermapbox\": [{\"marker\": {\"colorbar\": {\"outlinewidth\": 0, \"ticks\": \"\"}}, \"type\": \"scattermapbox\"}], \"scatterpolar\": [{\"marker\": {\"colorbar\": {\"outlinewidth\": 0, \"ticks\": \"\"}}, \"type\": \"scatterpolar\"}], \"scatterpolargl\": [{\"marker\": {\"colorbar\": {\"outlinewidth\": 0, \"ticks\": \"\"}}, \"type\": \"scatterpolargl\"}], \"scatterternary\": [{\"marker\": {\"colorbar\": {\"outlinewidth\": 0, \"ticks\": \"\"}}, \"type\": \"scatterternary\"}], \"surface\": [{\"colorbar\": {\"outlinewidth\": 0, \"ticks\": \"\"}, \"colorscale\": [[0.0, \"#0d0887\"], [0.1111111111111111, \"#46039f\"], [0.2222222222222222, \"#7201a8\"], [0.3333333333333333, \"#9c179e\"], [0.4444444444444444, \"#bd3786\"], [0.5555555555555556, \"#d8576b\"], [0.6666666666666666, \"#ed7953\"], [0.7777777777777778, \"#fb9f3a\"], [0.8888888888888888, \"#fdca26\"], [1.0, \"#f0f921\"]], \"type\": \"surface\"}], \"table\": [{\"cells\": {\"fill\": {\"color\": \"#EBF0F8\"}, \"line\": {\"color\": \"white\"}}, \"header\": {\"fill\": {\"color\": \"#C8D4E3\"}, \"line\": {\"color\": \"white\"}}, \"type\": \"table\"}]}, \"layout\": {\"annotationdefaults\": {\"arrowcolor\": \"#2a3f5f\", \"arrowhead\": 0, \"arrowwidth\": 1}, \"coloraxis\": {\"colorbar\": {\"outlinewidth\": 0, \"ticks\": \"\"}}, \"colorscale\": {\"diverging\": [[0, \"#8e0152\"], [0.1, \"#c51b7d\"], [0.2, \"#de77ae\"], [0.3, \"#f1b6da\"], [0.4, \"#fde0ef\"], [0.5, \"#f7f7f7\"], [0.6, \"#e6f5d0\"], [0.7, \"#b8e186\"], [0.8, \"#7fbc41\"], [0.9, \"#4d9221\"], [1, \"#276419\"]], \"sequential\": [[0.0, \"#0d0887\"], [0.1111111111111111, \"#46039f\"], [0.2222222222222222, \"#7201a8\"], [0.3333333333333333, \"#9c179e\"], [0.4444444444444444, \"#bd3786\"], [0.5555555555555556, \"#d8576b\"], [0.6666666666666666, \"#ed7953\"], [0.7777777777777778, \"#fb9f3a\"], [0.8888888888888888, \"#fdca26\"], [1.0, \"#f0f921\"]], \"sequentialminus\": [[0.0, \"#0d0887\"], [0.1111111111111111, \"#46039f\"], [0.2222222222222222, \"#7201a8\"], [0.3333333333333333, \"#9c179e\"], [0.4444444444444444, \"#bd3786\"], [0.5555555555555556, \"#d8576b\"], [0.6666666666666666, \"#ed7953\"], [0.7777777777777778, \"#fb9f3a\"], [0.8888888888888888, \"#fdca26\"], [1.0, \"#f0f921\"]]}, \"colorway\": [\"#636efa\", \"#EF553B\", \"#00cc96\", \"#ab63fa\", \"#FFA15A\", \"#19d3f3\", \"#FF6692\", \"#B6E880\", \"#FF97FF\", \"#FECB52\"], \"font\": {\"color\": \"#2a3f5f\"}, \"geo\": {\"bgcolor\": \"white\", \"lakecolor\": \"white\", \"landcolor\": \"#E5ECF6\", \"showlakes\": true, \"showland\": true, \"subunitcolor\": \"white\"}, \"hoverlabel\": {\"align\": \"left\"}, \"hovermode\": \"closest\", \"mapbox\": {\"style\": \"light\"}, \"paper_bgcolor\": \"white\", \"plot_bgcolor\": \"#E5ECF6\", \"polar\": {\"angularaxis\": {\"gridcolor\": \"white\", \"linecolor\": \"white\", \"ticks\": \"\"}, \"bgcolor\": \"#E5ECF6\", \"radialaxis\": {\"gridcolor\": \"white\", \"linecolor\": \"white\", \"ticks\": \"\"}}, \"scene\": {\"xaxis\": {\"backgroundcolor\": \"#E5ECF6\", \"gridcolor\": \"white\", \"gridwidth\": 2, \"linecolor\": \"white\", \"showbackground\": true, \"ticks\": \"\", \"zerolinecolor\": \"white\"}, \"yaxis\": {\"backgroundcolor\": \"#E5ECF6\", \"gridcolor\": \"white\", \"gridwidth\": 2, \"linecolor\": \"white\", \"showbackground\": true, \"ticks\": \"\", \"zerolinecolor\": \"white\"}, \"zaxis\": {\"backgroundcolor\": \"#E5ECF6\", \"gridcolor\": \"white\", \"gridwidth\": 2, \"linecolor\": \"white\", \"showbackground\": true, \"ticks\": \"\", \"zerolinecolor\": \"white\"}}, \"shapedefaults\": {\"line\": {\"color\": \"#2a3f5f\"}}, \"ternary\": {\"aaxis\": {\"gridcolor\": \"white\", \"linecolor\": \"white\", \"ticks\": \"\"}, \"baxis\": {\"gridcolor\": \"white\", \"linecolor\": \"white\", \"ticks\": \"\"}, \"bgcolor\": \"#E5ECF6\", \"caxis\": {\"gridcolor\": \"white\", \"linecolor\": \"white\", \"ticks\": \"\"}}, \"title\": {\"x\": 0.05}, \"xaxis\": {\"automargin\": true, \"gridcolor\": \"white\", \"linecolor\": \"white\", \"ticks\": \"\", \"title\": {\"standoff\": 15}, \"zerolinecolor\": \"white\", \"zerolinewidth\": 2}, \"yaxis\": {\"automargin\": true, \"gridcolor\": \"white\", \"linecolor\": \"white\", \"ticks\": \"\", \"title\": {\"standoff\": 15}, \"zerolinecolor\": \"white\", \"zerolinewidth\": 2}}}, \"xaxis\": {\"anchor\": \"y\", \"domain\": [0.0, 1.0], \"title\": {\"text\": \"EDUCATION\"}}, \"yaxis\": {\"anchor\": \"x\", \"domain\": [0.0, 1.0], \"title\": {\"text\": \"COUNT\"}}},\n",
              "                        {\"responsive\": true}\n",
              "                    ).then(function(){\n",
              "                            \n",
              "var gd = document.getElementById('31469e86-58ee-4743-bfdd-28194a8db246');\n",
              "var x = new MutationObserver(function (mutations, observer) {{\n",
              "        var display = window.getComputedStyle(gd).display;\n",
              "        if (!display || display === 'none') {{\n",
              "            console.log([gd, 'removed!']);\n",
              "            Plotly.purge(gd);\n",
              "            observer.disconnect();\n",
              "        }}\n",
              "}});\n",
              "\n",
              "// Listen for the removal of the full notebook cells\n",
              "var notebookContainer = gd.closest('#notebook-container');\n",
              "if (notebookContainer) {{\n",
              "    x.observe(notebookContainer, {childList: true});\n",
              "}}\n",
              "\n",
              "// Listen for the clearing of the current output cell\n",
              "var outputEl = gd.closest('.output');\n",
              "if (outputEl) {{\n",
              "    x.observe(outputEl, {childList: true});\n",
              "}}\n",
              "\n",
              "                        })\n",
              "                };\n",
              "                \n",
              "            </script>\n",
              "        </div>\n",
              "</body>\n",
              "</html>"
            ]
          },
          "metadata": {}
        }
      ]
    },
    {
      "cell_type": "markdown",
      "metadata": {
        "id": "qhIF6jNzP3Z_"
      },
      "source": [
        "Tổng tỷ lệ những người tốt nghiệp và có trình độ học vấn tham gia cuộc bầu cử là 67,12%, khá thấp so với các quốc gia phát triển khác"
      ]
    },
    {
      "cell_type": "markdown",
      "metadata": {
        "id": "gmSbqnn36He5"
      },
      "source": [
        "**Học vấn và sự thành công của trúng cử viên**"
      ]
    },
    {
      "cell_type": "code",
      "metadata": {
        "id": "cVxI-fXK1ZKN",
        "colab": {
          "base_uri": "https://localhost:8080/"
        },
        "outputId": "77f5d02f-4fc5-436c-cca4-a277f80b9b20"
      },
      "source": [
        "won_educated_candidates = df_exclude_NOTA[df_exclude_NOTA['WINNER']==1]\n",
        "fig = px.bar(won_educated_candidates, x='EDUCATION', y='WINNER', color='EDUCATION', height=500).update_xaxes(categoryorder = \"total descending\")\n",
        "fig.show()"
      ],
      "execution_count": null,
      "outputs": [
        {
          "output_type": "display_data",
          "data": {
            "text/html": [
              "<html>\n",
              "<head><meta charset=\"utf-8\" /></head>\n",
              "<body>\n",
              "    <div>\n",
              "            <script src=\"https://cdnjs.cloudflare.com/ajax/libs/mathjax/2.7.5/MathJax.js?config=TeX-AMS-MML_SVG\"></script><script type=\"text/javascript\">if (window.MathJax) {MathJax.Hub.Config({SVG: {font: \"STIX-Web\"}});}</script>\n",
              "                <script type=\"text/javascript\">window.PlotlyConfig = {MathJaxConfig: 'local'};</script>\n",
              "        <script src=\"https://cdn.plot.ly/plotly-latest.min.js\"></script>    \n",
              "            <div id=\"f13e03c2-f828-48e5-affd-e21f419b41a1\" class=\"plotly-graph-div\" style=\"height:500px; width:100%;\"></div>\n",
              "            <script type=\"text/javascript\">\n",
              "                \n",
              "                    window.PLOTLYENV=window.PLOTLYENV || {};\n",
              "                    \n",
              "                if (document.getElementById(\"f13e03c2-f828-48e5-affd-e21f419b41a1\")) {\n",
              "                    Plotly.newPlot(\n",
              "                        'f13e03c2-f828-48e5-affd-e21f419b41a1',\n",
              "                        [{\"alignmentgroup\": \"True\", \"hoverlabel\": {\"namelength\": 0}, \"hovertemplate\": \"EDUCATION=%{x}<br>WINNER=%{y}\", \"legendgroup\": \"EDUCATION=12th Pass\", \"marker\": {\"color\": \"#636efa\"}, \"name\": \"EDUCATION=12th Pass\", \"offsetgroup\": \"EDUCATION=12th Pass\", \"orientation\": \"v\", \"showlegend\": true, \"textposition\": \"auto\", \"type\": \"bar\", \"x\": [\"12th Pass\", \"12th Pass\", \"12th Pass\", \"12th Pass\", \"12th Pass\", \"12th Pass\", \"12th Pass\", \"12th Pass\", \"12th Pass\", \"12th Pass\", \"12th Pass\", \"12th Pass\", \"12th Pass\", \"12th Pass\", \"12th Pass\", \"12th Pass\", \"12th Pass\", \"12th Pass\", \"12th Pass\", \"12th Pass\", \"12th Pass\", \"12th Pass\", \"12th Pass\", \"12th Pass\", \"12th Pass\", \"12th Pass\", \"12th Pass\", \"12th Pass\", \"12th Pass\", \"12th Pass\", \"12th Pass\", \"12th Pass\", \"12th Pass\", \"12th Pass\", \"12th Pass\", \"12th Pass\", \"12th Pass\", \"12th Pass\", \"12th Pass\", \"12th Pass\", \"12th Pass\", \"12th Pass\", \"12th Pass\", \"12th Pass\", \"12th Pass\", \"12th Pass\", \"12th Pass\", \"12th Pass\", \"12th Pass\", \"12th Pass\", \"12th Pass\", \"12th Pass\", \"12th Pass\", \"12th Pass\", \"12th Pass\", \"12th Pass\", \"12th Pass\", \"12th Pass\", \"12th Pass\", \"12th Pass\", \"12th Pass\", \"12th Pass\", \"12th Pass\", \"12th Pass\", \"12th Pass\", \"12th Pass\", \"12th Pass\", \"12th Pass\", \"12th Pass\"], \"xaxis\": \"x\", \"y\": [1, 1, 1, 1, 1, 1, 1, 1, 1, 1, 1, 1, 1, 1, 1, 1, 1, 1, 1, 1, 1, 1, 1, 1, 1, 1, 1, 1, 1, 1, 1, 1, 1, 1, 1, 1, 1, 1, 1, 1, 1, 1, 1, 1, 1, 1, 1, 1, 1, 1, 1, 1, 1, 1, 1, 1, 1, 1, 1, 1, 1, 1, 1, 1, 1, 1, 1, 1, 1], \"yaxis\": \"y\"}, {\"alignmentgroup\": \"True\", \"hoverlabel\": {\"namelength\": 0}, \"hovertemplate\": \"EDUCATION=%{x}<br>WINNER=%{y}\", \"legendgroup\": \"EDUCATION=Doctorate\", \"marker\": {\"color\": \"#EF553B\"}, \"name\": \"EDUCATION=Doctorate\", \"offsetgroup\": \"EDUCATION=Doctorate\", \"orientation\": \"v\", \"showlegend\": true, \"textposition\": \"auto\", \"type\": \"bar\", \"x\": [\"Doctorate\", \"Doctorate\", \"Doctorate\", \"Doctorate\", \"Doctorate\", \"Doctorate\", \"Doctorate\", \"Doctorate\", \"Doctorate\", \"Doctorate\", \"Doctorate\", \"Doctorate\", \"Doctorate\", \"Doctorate\", \"Doctorate\", \"Doctorate\", \"Doctorate\", \"Doctorate\", \"Doctorate\", \"Doctorate\", \"Doctorate\", \"Doctorate\", \"Doctorate\"], \"xaxis\": \"x\", \"y\": [1, 1, 1, 1, 1, 1, 1, 1, 1, 1, 1, 1, 1, 1, 1, 1, 1, 1, 1, 1, 1, 1, 1], \"yaxis\": \"y\"}, {\"alignmentgroup\": \"True\", \"hoverlabel\": {\"namelength\": 0}, \"hovertemplate\": \"EDUCATION=%{x}<br>WINNER=%{y}\", \"legendgroup\": \"EDUCATION=Others\", \"marker\": {\"color\": \"#00cc96\"}, \"name\": \"EDUCATION=Others\", \"offsetgroup\": \"EDUCATION=Others\", \"orientation\": \"v\", \"showlegend\": true, \"textposition\": \"auto\", \"type\": \"bar\", \"x\": [\"Others\", \"Others\", \"Others\", \"Others\", \"Others\", \"Others\", \"Others\", \"Others\", \"Others\", \"Others\", \"Others\", \"Others\", \"Others\", \"Others\", \"Others\", \"Others\", \"Others\"], \"xaxis\": \"x\", \"y\": [1, 1, 1, 1, 1, 1, 1, 1, 1, 1, 1, 1, 1, 1, 1, 1, 1], \"yaxis\": \"y\"}, {\"alignmentgroup\": \"True\", \"hoverlabel\": {\"namelength\": 0}, \"hovertemplate\": \"EDUCATION=%{x}<br>WINNER=%{y}\", \"legendgroup\": \"EDUCATION=Post Graduate\", \"marker\": {\"color\": \"#ab63fa\"}, \"name\": \"EDUCATION=Post Graduate\", \"offsetgroup\": \"EDUCATION=Post Graduate\", \"orientation\": \"v\", \"showlegend\": true, \"textposition\": \"auto\", \"type\": \"bar\", \"x\": [\"Post Graduate\", \"Post Graduate\", \"Post Graduate\", \"Post Graduate\", \"Post Graduate\", \"Post Graduate\", \"Post Graduate\", \"Post Graduate\", \"Post Graduate\", \"Post Graduate\", \"Post Graduate\", \"Post Graduate\", \"Post Graduate\", \"Post Graduate\", \"Post Graduate\", \"Post Graduate\", \"Post Graduate\", \"Post Graduate\", \"Post Graduate\", \"Post Graduate\", \"Post Graduate\", \"Post Graduate\", \"Post Graduate\", \"Post Graduate\", \"Post Graduate\", \"Post Graduate\", \"Post Graduate\", \"Post Graduate\", \"Post Graduate\", \"Post Graduate\", \"Post Graduate\", \"Post Graduate\", \"Post Graduate\", \"Post Graduate\", \"Post Graduate\", \"Post Graduate\", \"Post Graduate\", \"Post Graduate\", \"Post Graduate\", \"Post Graduate\", \"Post Graduate\", \"Post Graduate\", \"Post Graduate\", \"Post Graduate\", \"Post Graduate\", \"Post Graduate\", \"Post Graduate\", \"Post Graduate\", \"Post Graduate\", \"Post Graduate\", \"Post Graduate\", \"Post Graduate\", \"Post Graduate\", \"Post Graduate\", \"Post Graduate\", \"Post Graduate\", \"Post Graduate\", \"Post Graduate\", \"Post Graduate\", \"Post Graduate\", \"Post Graduate\", \"Post Graduate\", \"Post Graduate\", \"Post Graduate\", \"Post Graduate\", \"Post Graduate\", \"Post Graduate\", \"Post Graduate\", \"Post Graduate\", \"Post Graduate\", \"Post Graduate\", \"Post Graduate\", \"Post Graduate\", \"Post Graduate\", \"Post Graduate\", \"Post Graduate\", \"Post Graduate\", \"Post Graduate\", \"Post Graduate\", \"Post Graduate\", \"Post Graduate\", \"Post Graduate\", \"Post Graduate\", \"Post Graduate\", \"Post Graduate\", \"Post Graduate\", \"Post Graduate\", \"Post Graduate\", \"Post Graduate\", \"Post Graduate\", \"Post Graduate\", \"Post Graduate\", \"Post Graduate\", \"Post Graduate\", \"Post Graduate\", \"Post Graduate\", \"Post Graduate\", \"Post Graduate\", \"Post Graduate\", \"Post Graduate\", \"Post Graduate\", \"Post Graduate\", \"Post Graduate\", \"Post Graduate\", \"Post Graduate\", \"Post Graduate\", \"Post Graduate\", \"Post Graduate\", \"Post Graduate\", \"Post Graduate\", \"Post Graduate\", \"Post Graduate\", \"Post Graduate\", \"Post Graduate\", \"Post Graduate\", \"Post Graduate\", \"Post Graduate\", \"Post Graduate\", \"Post Graduate\", \"Post Graduate\", \"Post Graduate\", \"Post Graduate\", \"Post Graduate\", \"Post Graduate\", \"Post Graduate\", \"Post Graduate\", \"Post Graduate\", \"Post Graduate\", \"Post Graduate\", \"Post Graduate\", \"Post Graduate\", \"Post Graduate\", \"Post Graduate\", \"Post Graduate\", \"Post Graduate\"], \"xaxis\": \"x\", \"y\": [1, 1, 1, 1, 1, 1, 1, 1, 1, 1, 1, 1, 1, 1, 1, 1, 1, 1, 1, 1, 1, 1, 1, 1, 1, 1, 1, 1, 1, 1, 1, 1, 1, 1, 1, 1, 1, 1, 1, 1, 1, 1, 1, 1, 1, 1, 1, 1, 1, 1, 1, 1, 1, 1, 1, 1, 1, 1, 1, 1, 1, 1, 1, 1, 1, 1, 1, 1, 1, 1, 1, 1, 1, 1, 1, 1, 1, 1, 1, 1, 1, 1, 1, 1, 1, 1, 1, 1, 1, 1, 1, 1, 1, 1, 1, 1, 1, 1, 1, 1, 1, 1, 1, 1, 1, 1, 1, 1, 1, 1, 1, 1, 1, 1, 1, 1, 1, 1, 1, 1, 1, 1, 1, 1, 1, 1, 1, 1, 1, 1, 1, 1, 1, 1, 1], \"yaxis\": \"y\"}, {\"alignmentgroup\": \"True\", \"hoverlabel\": {\"namelength\": 0}, \"hovertemplate\": \"EDUCATION=%{x}<br>WINNER=%{y}\", \"legendgroup\": \"EDUCATION=10th Pass\", \"marker\": {\"color\": \"#FFA15A\"}, \"name\": \"EDUCATION=10th Pass\", \"offsetgroup\": \"EDUCATION=10th Pass\", \"orientation\": \"v\", \"showlegend\": true, \"textposition\": \"auto\", \"type\": \"bar\", \"x\": [\"10th Pass\", \"10th Pass\", \"10th Pass\", \"10th Pass\", \"10th Pass\", \"10th Pass\", \"10th Pass\", \"10th Pass\", \"10th Pass\", \"10th Pass\", \"10th Pass\", \"10th Pass\", \"10th Pass\", \"10th Pass\", \"10th Pass\", \"10th Pass\", \"10th Pass\", \"10th Pass\", \"10th Pass\", \"10th Pass\", \"10th Pass\", \"10th Pass\", \"10th Pass\", \"10th Pass\", \"10th Pass\", \"10th Pass\", \"10th Pass\", \"10th Pass\", \"10th Pass\", \"10th Pass\", \"10th Pass\", \"10th Pass\", \"10th Pass\", \"10th Pass\", \"10th Pass\", \"10th Pass\", \"10th Pass\", \"10th Pass\", \"10th Pass\", \"10th Pass\", \"10th Pass\", \"10th Pass\", \"10th Pass\", \"10th Pass\", \"10th Pass\"], \"xaxis\": \"x\", \"y\": [1, 1, 1, 1, 1, 1, 1, 1, 1, 1, 1, 1, 1, 1, 1, 1, 1, 1, 1, 1, 1, 1, 1, 1, 1, 1, 1, 1, 1, 1, 1, 1, 1, 1, 1, 1, 1, 1, 1, 1, 1, 1, 1, 1, 1], \"yaxis\": \"y\"}, {\"alignmentgroup\": \"True\", \"hoverlabel\": {\"namelength\": 0}, \"hovertemplate\": \"EDUCATION=%{x}<br>WINNER=%{y}\", \"legendgroup\": \"EDUCATION=Graduate Professional\", \"marker\": {\"color\": \"#19d3f3\"}, \"name\": \"EDUCATION=Graduate Professional\", \"offsetgroup\": \"EDUCATION=Graduate Professional\", \"orientation\": \"v\", \"showlegend\": true, \"textposition\": \"auto\", \"type\": \"bar\", \"x\": [\"Graduate Professional\", \"Graduate Professional\", \"Graduate Professional\", \"Graduate Professional\", \"Graduate Professional\", \"Graduate Professional\", \"Graduate Professional\", \"Graduate Professional\", \"Graduate Professional\", \"Graduate Professional\", \"Graduate Professional\", \"Graduate Professional\", \"Graduate Professional\", \"Graduate Professional\", \"Graduate Professional\", \"Graduate Professional\", \"Graduate Professional\", \"Graduate Professional\", \"Graduate Professional\", \"Graduate Professional\", \"Graduate Professional\", \"Graduate Professional\", \"Graduate Professional\", \"Graduate Professional\", \"Graduate Professional\", \"Graduate Professional\", \"Graduate Professional\", \"Graduate Professional\", \"Graduate Professional\", \"Graduate Professional\", \"Graduate Professional\", \"Graduate Professional\", \"Graduate Professional\", \"Graduate Professional\", \"Graduate Professional\", \"Graduate Professional\", \"Graduate Professional\", \"Graduate Professional\", \"Graduate Professional\", \"Graduate Professional\", \"Graduate Professional\", \"Graduate Professional\", \"Graduate Professional\", \"Graduate Professional\", \"Graduate Professional\", \"Graduate Professional\", \"Graduate Professional\", \"Graduate Professional\", \"Graduate Professional\", \"Graduate Professional\", \"Graduate Professional\", \"Graduate Professional\", \"Graduate Professional\", \"Graduate Professional\", \"Graduate Professional\", \"Graduate Professional\", \"Graduate Professional\", \"Graduate Professional\", \"Graduate Professional\", \"Graduate Professional\", \"Graduate Professional\", \"Graduate Professional\", \"Graduate Professional\", \"Graduate Professional\", \"Graduate Professional\", \"Graduate Professional\", \"Graduate Professional\", \"Graduate Professional\", \"Graduate Professional\", \"Graduate Professional\", \"Graduate Professional\", \"Graduate Professional\", \"Graduate Professional\", \"Graduate Professional\", \"Graduate Professional\", \"Graduate Professional\", \"Graduate Professional\", \"Graduate Professional\", \"Graduate Professional\", \"Graduate Professional\", \"Graduate Professional\", \"Graduate Professional\", \"Graduate Professional\", \"Graduate Professional\", \"Graduate Professional\", \"Graduate Professional\", \"Graduate Professional\", \"Graduate Professional\", \"Graduate Professional\", \"Graduate Professional\", \"Graduate Professional\", \"Graduate Professional\", \"Graduate Professional\", \"Graduate Professional\", \"Graduate Professional\", \"Graduate Professional\", \"Graduate Professional\", \"Graduate Professional\", \"Graduate Professional\"], \"xaxis\": \"x\", \"y\": [1, 1, 1, 1, 1, 1, 1, 1, 1, 1, 1, 1, 1, 1, 1, 1, 1, 1, 1, 1, 1, 1, 1, 1, 1, 1, 1, 1, 1, 1, 1, 1, 1, 1, 1, 1, 1, 1, 1, 1, 1, 1, 1, 1, 1, 1, 1, 1, 1, 1, 1, 1, 1, 1, 1, 1, 1, 1, 1, 1, 1, 1, 1, 1, 1, 1, 1, 1, 1, 1, 1, 1, 1, 1, 1, 1, 1, 1, 1, 1, 1, 1, 1, 1, 1, 1, 1, 1, 1, 1, 1, 1, 1, 1, 1, 1, 1, 1, 1], \"yaxis\": \"y\"}, {\"alignmentgroup\": \"True\", \"hoverlabel\": {\"namelength\": 0}, \"hovertemplate\": \"EDUCATION=%{x}<br>WINNER=%{y}\", \"legendgroup\": \"EDUCATION=8th Pass\", \"marker\": {\"color\": \"#FF6692\"}, \"name\": \"EDUCATION=8th Pass\", \"offsetgroup\": \"EDUCATION=8th Pass\", \"orientation\": \"v\", \"showlegend\": true, \"textposition\": \"auto\", \"type\": \"bar\", \"x\": [\"8th Pass\", \"8th Pass\", \"8th Pass\", \"8th Pass\", \"8th Pass\", \"8th Pass\", \"8th Pass\", \"8th Pass\", \"8th Pass\", \"8th Pass\", \"8th Pass\", \"8th Pass\"], \"xaxis\": \"x\", \"y\": [1, 1, 1, 1, 1, 1, 1, 1, 1, 1, 1, 1], \"yaxis\": \"y\"}, {\"alignmentgroup\": \"True\", \"hoverlabel\": {\"namelength\": 0}, \"hovertemplate\": \"EDUCATION=%{x}<br>WINNER=%{y}\", \"legendgroup\": \"EDUCATION=Graduate\", \"marker\": {\"color\": \"#B6E880\"}, \"name\": \"EDUCATION=Graduate\", \"offsetgroup\": \"EDUCATION=Graduate\", \"orientation\": \"v\", \"showlegend\": true, \"textposition\": \"auto\", \"type\": \"bar\", \"x\": [\"Graduate\", \"Graduate\", \"Graduate\", \"Graduate\", \"Graduate\", \"Graduate\", \"Graduate\", \"Graduate\", \"Graduate\", \"Graduate\", \"Graduate\", \"Graduate\", \"Graduate\", \"Graduate\", \"Graduate\", \"Graduate\", \"Graduate\", \"Graduate\", \"Graduate\", \"Graduate\", \"Graduate\", \"Graduate\", \"Graduate\", \"Graduate\", \"Graduate\", \"Graduate\", \"Graduate\", \"Graduate\", \"Graduate\", \"Graduate\", \"Graduate\", \"Graduate\", \"Graduate\", \"Graduate\", \"Graduate\", \"Graduate\", \"Graduate\", \"Graduate\", \"Graduate\", \"Graduate\", \"Graduate\", \"Graduate\", \"Graduate\", \"Graduate\", \"Graduate\", \"Graduate\", \"Graduate\", \"Graduate\", \"Graduate\", \"Graduate\", \"Graduate\", \"Graduate\", \"Graduate\", \"Graduate\", \"Graduate\", \"Graduate\", \"Graduate\", \"Graduate\", \"Graduate\", \"Graduate\", \"Graduate\", \"Graduate\", \"Graduate\", \"Graduate\", \"Graduate\", \"Graduate\", \"Graduate\", \"Graduate\", \"Graduate\", \"Graduate\", \"Graduate\", \"Graduate\", \"Graduate\", \"Graduate\", \"Graduate\", \"Graduate\", \"Graduate\", \"Graduate\", \"Graduate\", \"Graduate\", \"Graduate\", \"Graduate\", \"Graduate\", \"Graduate\", \"Graduate\", \"Graduate\", \"Graduate\", \"Graduate\", \"Graduate\", \"Graduate\", \"Graduate\", \"Graduate\", \"Graduate\", \"Graduate\", \"Graduate\", \"Graduate\", \"Graduate\", \"Graduate\", \"Graduate\", \"Graduate\", \"Graduate\", \"Graduate\", \"Graduate\", \"Graduate\", \"Graduate\", \"Graduate\", \"Graduate\", \"Graduate\", \"Graduate\", \"Graduate\", \"Graduate\", \"Graduate\", \"Graduate\", \"Graduate\", \"Graduate\", \"Graduate\", \"Graduate\", \"Graduate\", \"Graduate\", \"Graduate\", \"Graduate\", \"Graduate\", \"Graduate\", \"Graduate\", \"Graduate\", \"Graduate\", \"Graduate\", \"Graduate\", \"Graduate\", \"Graduate\", \"Graduate\", \"Graduate\"], \"xaxis\": \"x\", \"y\": [1, 1, 1, 1, 1, 1, 1, 1, 1, 1, 1, 1, 1, 1, 1, 1, 1, 1, 1, 1, 1, 1, 1, 1, 1, 1, 1, 1, 1, 1, 1, 1, 1, 1, 1, 1, 1, 1, 1, 1, 1, 1, 1, 1, 1, 1, 1, 1, 1, 1, 1, 1, 1, 1, 1, 1, 1, 1, 1, 1, 1, 1, 1, 1, 1, 1, 1, 1, 1, 1, 1, 1, 1, 1, 1, 1, 1, 1, 1, 1, 1, 1, 1, 1, 1, 1, 1, 1, 1, 1, 1, 1, 1, 1, 1, 1, 1, 1, 1, 1, 1, 1, 1, 1, 1, 1, 1, 1, 1, 1, 1, 1, 1, 1, 1, 1, 1, 1, 1, 1, 1, 1, 1, 1, 1, 1, 1, 1, 1, 1, 1, 1], \"yaxis\": \"y\"}, {\"alignmentgroup\": \"True\", \"hoverlabel\": {\"namelength\": 0}, \"hovertemplate\": \"EDUCATION=%{x}<br>WINNER=%{y}\", \"legendgroup\": \"EDUCATION=5th Pass\", \"marker\": {\"color\": \"#FF97FF\"}, \"name\": \"EDUCATION=5th Pass\", \"offsetgroup\": \"EDUCATION=5th Pass\", \"orientation\": \"v\", \"showlegend\": true, \"textposition\": \"auto\", \"type\": \"bar\", \"x\": [\"5th Pass\", \"5th Pass\", \"5th Pass\", \"5th Pass\"], \"xaxis\": \"x\", \"y\": [1, 1, 1, 1], \"yaxis\": \"y\"}, {\"alignmentgroup\": \"True\", \"hoverlabel\": {\"namelength\": 0}, \"hovertemplate\": \"EDUCATION=%{x}<br>WINNER=%{y}\", \"legendgroup\": \"EDUCATION=Literate\", \"marker\": {\"color\": \"#FECB52\"}, \"name\": \"EDUCATION=Literate\", \"offsetgroup\": \"EDUCATION=Literate\", \"orientation\": \"v\", \"showlegend\": true, \"textposition\": \"auto\", \"type\": \"bar\", \"x\": [\"Literate\", \"Literate\"], \"xaxis\": \"x\", \"y\": [1, 1], \"yaxis\": \"y\"}, {\"alignmentgroup\": \"True\", \"hoverlabel\": {\"namelength\": 0}, \"hovertemplate\": \"EDUCATION=%{x}<br>WINNER=%{y}\", \"legendgroup\": \"EDUCATION=Illiterate\", \"marker\": {\"color\": \"#636efa\"}, \"name\": \"EDUCATION=Illiterate\", \"offsetgroup\": \"EDUCATION=Illiterate\", \"orientation\": \"v\", \"showlegend\": true, \"textposition\": \"auto\", \"type\": \"bar\", \"x\": [\"Illiterate\"], \"xaxis\": \"x\", \"y\": [1], \"yaxis\": \"y\"}],\n",
              "                        {\"barmode\": \"relative\", \"height\": 500, \"legend\": {\"tracegroupgap\": 0}, \"margin\": {\"t\": 60}, \"template\": {\"data\": {\"bar\": [{\"error_x\": {\"color\": \"#2a3f5f\"}, \"error_y\": {\"color\": \"#2a3f5f\"}, \"marker\": {\"line\": {\"color\": \"#E5ECF6\", \"width\": 0.5}}, \"type\": \"bar\"}], \"barpolar\": [{\"marker\": {\"line\": {\"color\": \"#E5ECF6\", \"width\": 0.5}}, \"type\": \"barpolar\"}], \"carpet\": [{\"aaxis\": {\"endlinecolor\": \"#2a3f5f\", \"gridcolor\": \"white\", \"linecolor\": \"white\", \"minorgridcolor\": \"white\", \"startlinecolor\": \"#2a3f5f\"}, \"baxis\": {\"endlinecolor\": \"#2a3f5f\", \"gridcolor\": \"white\", \"linecolor\": \"white\", \"minorgridcolor\": \"white\", \"startlinecolor\": \"#2a3f5f\"}, \"type\": \"carpet\"}], \"choropleth\": [{\"colorbar\": {\"outlinewidth\": 0, \"ticks\": \"\"}, \"type\": \"choropleth\"}], \"contour\": [{\"colorbar\": {\"outlinewidth\": 0, \"ticks\": \"\"}, \"colorscale\": [[0.0, \"#0d0887\"], [0.1111111111111111, \"#46039f\"], [0.2222222222222222, \"#7201a8\"], [0.3333333333333333, \"#9c179e\"], [0.4444444444444444, \"#bd3786\"], [0.5555555555555556, \"#d8576b\"], [0.6666666666666666, \"#ed7953\"], [0.7777777777777778, \"#fb9f3a\"], [0.8888888888888888, \"#fdca26\"], [1.0, \"#f0f921\"]], \"type\": \"contour\"}], \"contourcarpet\": [{\"colorbar\": {\"outlinewidth\": 0, \"ticks\": \"\"}, \"type\": \"contourcarpet\"}], \"heatmap\": [{\"colorbar\": {\"outlinewidth\": 0, \"ticks\": \"\"}, \"colorscale\": [[0.0, \"#0d0887\"], [0.1111111111111111, \"#46039f\"], [0.2222222222222222, \"#7201a8\"], [0.3333333333333333, \"#9c179e\"], [0.4444444444444444, \"#bd3786\"], [0.5555555555555556, \"#d8576b\"], [0.6666666666666666, \"#ed7953\"], [0.7777777777777778, \"#fb9f3a\"], [0.8888888888888888, \"#fdca26\"], [1.0, \"#f0f921\"]], \"type\": \"heatmap\"}], \"heatmapgl\": [{\"colorbar\": {\"outlinewidth\": 0, \"ticks\": \"\"}, \"colorscale\": [[0.0, \"#0d0887\"], [0.1111111111111111, \"#46039f\"], [0.2222222222222222, \"#7201a8\"], [0.3333333333333333, \"#9c179e\"], [0.4444444444444444, \"#bd3786\"], [0.5555555555555556, \"#d8576b\"], [0.6666666666666666, \"#ed7953\"], [0.7777777777777778, \"#fb9f3a\"], [0.8888888888888888, \"#fdca26\"], [1.0, \"#f0f921\"]], \"type\": \"heatmapgl\"}], \"histogram\": [{\"marker\": {\"colorbar\": {\"outlinewidth\": 0, \"ticks\": \"\"}}, \"type\": \"histogram\"}], \"histogram2d\": [{\"colorbar\": {\"outlinewidth\": 0, \"ticks\": \"\"}, \"colorscale\": [[0.0, \"#0d0887\"], [0.1111111111111111, \"#46039f\"], [0.2222222222222222, \"#7201a8\"], [0.3333333333333333, \"#9c179e\"], [0.4444444444444444, \"#bd3786\"], [0.5555555555555556, \"#d8576b\"], [0.6666666666666666, \"#ed7953\"], [0.7777777777777778, \"#fb9f3a\"], [0.8888888888888888, \"#fdca26\"], [1.0, \"#f0f921\"]], \"type\": \"histogram2d\"}], \"histogram2dcontour\": [{\"colorbar\": {\"outlinewidth\": 0, \"ticks\": \"\"}, \"colorscale\": [[0.0, \"#0d0887\"], [0.1111111111111111, \"#46039f\"], [0.2222222222222222, \"#7201a8\"], [0.3333333333333333, \"#9c179e\"], [0.4444444444444444, \"#bd3786\"], [0.5555555555555556, \"#d8576b\"], [0.6666666666666666, \"#ed7953\"], [0.7777777777777778, \"#fb9f3a\"], [0.8888888888888888, \"#fdca26\"], [1.0, \"#f0f921\"]], \"type\": \"histogram2dcontour\"}], \"mesh3d\": [{\"colorbar\": {\"outlinewidth\": 0, \"ticks\": \"\"}, \"type\": \"mesh3d\"}], \"parcoords\": [{\"line\": {\"colorbar\": {\"outlinewidth\": 0, \"ticks\": \"\"}}, \"type\": \"parcoords\"}], \"pie\": [{\"automargin\": true, \"type\": \"pie\"}], \"scatter\": [{\"marker\": {\"colorbar\": {\"outlinewidth\": 0, \"ticks\": \"\"}}, \"type\": \"scatter\"}], \"scatter3d\": [{\"line\": {\"colorbar\": {\"outlinewidth\": 0, \"ticks\": \"\"}}, \"marker\": {\"colorbar\": {\"outlinewidth\": 0, \"ticks\": \"\"}}, \"type\": \"scatter3d\"}], \"scattercarpet\": [{\"marker\": {\"colorbar\": {\"outlinewidth\": 0, \"ticks\": \"\"}}, \"type\": \"scattercarpet\"}], \"scattergeo\": [{\"marker\": {\"colorbar\": {\"outlinewidth\": 0, \"ticks\": \"\"}}, \"type\": \"scattergeo\"}], \"scattergl\": [{\"marker\": {\"colorbar\": {\"outlinewidth\": 0, \"ticks\": \"\"}}, \"type\": \"scattergl\"}], \"scattermapbox\": [{\"marker\": {\"colorbar\": {\"outlinewidth\": 0, \"ticks\": \"\"}}, \"type\": \"scattermapbox\"}], \"scatterpolar\": [{\"marker\": {\"colorbar\": {\"outlinewidth\": 0, \"ticks\": \"\"}}, \"type\": \"scatterpolar\"}], \"scatterpolargl\": [{\"marker\": {\"colorbar\": {\"outlinewidth\": 0, \"ticks\": \"\"}}, \"type\": \"scatterpolargl\"}], \"scatterternary\": [{\"marker\": {\"colorbar\": {\"outlinewidth\": 0, \"ticks\": \"\"}}, \"type\": \"scatterternary\"}], \"surface\": [{\"colorbar\": {\"outlinewidth\": 0, \"ticks\": \"\"}, \"colorscale\": [[0.0, \"#0d0887\"], [0.1111111111111111, \"#46039f\"], [0.2222222222222222, \"#7201a8\"], [0.3333333333333333, \"#9c179e\"], [0.4444444444444444, \"#bd3786\"], [0.5555555555555556, \"#d8576b\"], [0.6666666666666666, \"#ed7953\"], [0.7777777777777778, \"#fb9f3a\"], [0.8888888888888888, \"#fdca26\"], [1.0, \"#f0f921\"]], \"type\": \"surface\"}], \"table\": [{\"cells\": {\"fill\": {\"color\": \"#EBF0F8\"}, \"line\": {\"color\": \"white\"}}, \"header\": {\"fill\": {\"color\": \"#C8D4E3\"}, \"line\": {\"color\": \"white\"}}, \"type\": \"table\"}]}, \"layout\": {\"annotationdefaults\": {\"arrowcolor\": \"#2a3f5f\", \"arrowhead\": 0, \"arrowwidth\": 1}, \"coloraxis\": {\"colorbar\": {\"outlinewidth\": 0, \"ticks\": \"\"}}, \"colorscale\": {\"diverging\": [[0, \"#8e0152\"], [0.1, \"#c51b7d\"], [0.2, \"#de77ae\"], [0.3, \"#f1b6da\"], [0.4, \"#fde0ef\"], [0.5, \"#f7f7f7\"], [0.6, \"#e6f5d0\"], [0.7, \"#b8e186\"], [0.8, \"#7fbc41\"], [0.9, \"#4d9221\"], [1, \"#276419\"]], \"sequential\": [[0.0, \"#0d0887\"], [0.1111111111111111, \"#46039f\"], [0.2222222222222222, \"#7201a8\"], [0.3333333333333333, \"#9c179e\"], [0.4444444444444444, \"#bd3786\"], [0.5555555555555556, \"#d8576b\"], [0.6666666666666666, \"#ed7953\"], [0.7777777777777778, \"#fb9f3a\"], [0.8888888888888888, \"#fdca26\"], [1.0, \"#f0f921\"]], \"sequentialminus\": [[0.0, \"#0d0887\"], [0.1111111111111111, \"#46039f\"], [0.2222222222222222, \"#7201a8\"], [0.3333333333333333, \"#9c179e\"], [0.4444444444444444, \"#bd3786\"], [0.5555555555555556, \"#d8576b\"], [0.6666666666666666, \"#ed7953\"], [0.7777777777777778, \"#fb9f3a\"], [0.8888888888888888, \"#fdca26\"], [1.0, \"#f0f921\"]]}, \"colorway\": [\"#636efa\", \"#EF553B\", \"#00cc96\", \"#ab63fa\", \"#FFA15A\", \"#19d3f3\", \"#FF6692\", \"#B6E880\", \"#FF97FF\", \"#FECB52\"], \"font\": {\"color\": \"#2a3f5f\"}, \"geo\": {\"bgcolor\": \"white\", \"lakecolor\": \"white\", \"landcolor\": \"#E5ECF6\", \"showlakes\": true, \"showland\": true, \"subunitcolor\": \"white\"}, \"hoverlabel\": {\"align\": \"left\"}, \"hovermode\": \"closest\", \"mapbox\": {\"style\": \"light\"}, \"paper_bgcolor\": \"white\", \"plot_bgcolor\": \"#E5ECF6\", \"polar\": {\"angularaxis\": {\"gridcolor\": \"white\", \"linecolor\": \"white\", \"ticks\": \"\"}, \"bgcolor\": \"#E5ECF6\", \"radialaxis\": {\"gridcolor\": \"white\", \"linecolor\": \"white\", \"ticks\": \"\"}}, \"scene\": {\"xaxis\": {\"backgroundcolor\": \"#E5ECF6\", \"gridcolor\": \"white\", \"gridwidth\": 2, \"linecolor\": \"white\", \"showbackground\": true, \"ticks\": \"\", \"zerolinecolor\": \"white\"}, \"yaxis\": {\"backgroundcolor\": \"#E5ECF6\", \"gridcolor\": \"white\", \"gridwidth\": 2, \"linecolor\": \"white\", \"showbackground\": true, \"ticks\": \"\", \"zerolinecolor\": \"white\"}, \"zaxis\": {\"backgroundcolor\": \"#E5ECF6\", \"gridcolor\": \"white\", \"gridwidth\": 2, \"linecolor\": \"white\", \"showbackground\": true, \"ticks\": \"\", \"zerolinecolor\": \"white\"}}, \"shapedefaults\": {\"line\": {\"color\": \"#2a3f5f\"}}, \"ternary\": {\"aaxis\": {\"gridcolor\": \"white\", \"linecolor\": \"white\", \"ticks\": \"\"}, \"baxis\": {\"gridcolor\": \"white\", \"linecolor\": \"white\", \"ticks\": \"\"}, \"bgcolor\": \"#E5ECF6\", \"caxis\": {\"gridcolor\": \"white\", \"linecolor\": \"white\", \"ticks\": \"\"}}, \"title\": {\"x\": 0.05}, \"xaxis\": {\"automargin\": true, \"gridcolor\": \"white\", \"linecolor\": \"white\", \"ticks\": \"\", \"title\": {\"standoff\": 15}, \"zerolinecolor\": \"white\", \"zerolinewidth\": 2}, \"yaxis\": {\"automargin\": true, \"gridcolor\": \"white\", \"linecolor\": \"white\", \"ticks\": \"\", \"title\": {\"standoff\": 15}, \"zerolinecolor\": \"white\", \"zerolinewidth\": 2}}}, \"xaxis\": {\"anchor\": \"y\", \"categoryarray\": [\"12th Pass\", \"Doctorate\", \"Others\", \"Post Graduate\", \"10th Pass\", \"Graduate Professional\", \"8th Pass\", \"Graduate\", \"5th Pass\", \"Literate\", \"Illiterate\"], \"categoryorder\": \"total descending\", \"domain\": [0.0, 1.0], \"title\": {\"text\": \"EDUCATION\"}}, \"yaxis\": {\"anchor\": \"x\", \"domain\": [0.0, 1.0], \"title\": {\"text\": \"WINNER\"}}},\n",
              "                        {\"responsive\": true}\n",
              "                    ).then(function(){\n",
              "                            \n",
              "var gd = document.getElementById('f13e03c2-f828-48e5-affd-e21f419b41a1');\n",
              "var x = new MutationObserver(function (mutations, observer) {{\n",
              "        var display = window.getComputedStyle(gd).display;\n",
              "        if (!display || display === 'none') {{\n",
              "            console.log([gd, 'removed!']);\n",
              "            Plotly.purge(gd);\n",
              "            observer.disconnect();\n",
              "        }}\n",
              "}});\n",
              "\n",
              "// Listen for the removal of the full notebook cells\n",
              "var notebookContainer = gd.closest('#notebook-container');\n",
              "if (notebookContainer) {{\n",
              "    x.observe(notebookContainer, {childList: true});\n",
              "}}\n",
              "\n",
              "// Listen for the clearing of the current output cell\n",
              "var outputEl = gd.closest('.output');\n",
              "if (outputEl) {{\n",
              "    x.observe(outputEl, {childList: true});\n",
              "}}\n",
              "\n",
              "                        })\n",
              "                };\n",
              "                \n",
              "            </script>\n",
              "        </div>\n",
              "</body>\n",
              "</html>"
            ]
          },
          "metadata": {}
        }
      ]
    },
    {
      "cell_type": "markdown",
      "metadata": {
        "id": "mC1jO4KknTH7"
      },
      "source": [
        "Tổng tỷ lệ những người tốt nghiệp và có trình độ học vấn tham gia cuộc bầu cử là 67.12%, trong đó số người chiến thắng chiếm đến 72.17% . Đây thực sự là một dấu hiệu tích cực, vì các chính trị gia có học thức là một nhân tố rất quan trọng đối với sự phát triển của một đất nước. Nhưng vẫn còn khoảng 28% các chính trị gia không có bằng cấp chuyên nghiệp. Hy vọng với thời gian trôi qua, hội đồng bầu cử sẽ có thể cải thiện yếu tố này và coi bằng cấp giáo dục là yêu cầu chính trong khi bỏ phiếu!"
      ]
    },
    {
      "cell_type": "markdown",
      "metadata": {
        "id": "-eHzz9j08uD4"
      },
      "source": [
        "**Tổng tài sản và nợ của ứng cử viên chiến thắng**"
      ]
    },
    {
      "cell_type": "code",
      "metadata": {
        "id": "iOuRWVdE9Esy",
        "colab": {
          "base_uri": "https://localhost:8080/",
          "height": 778
        },
        "outputId": "89ceae46-3857-4724-f8cf-04c684cf8ad9"
      },
      "source": [
        "as_liab=df_exclude_NOTA[['NAME','PARTY','ASSETS','LIABILITIES','STATE','CONSTITUENCY','WINNER']]\n",
        "as_liab.WINNER.replace({1:'Yes',0:'No'},inplace=True)\n",
        "win_as_liab = as_liab[as_liab['WINNER']=='Yes']\n",
        "win_as_liab.sort_values(by='ASSETS',ascending=False,inplace=True)\n",
        "fig = px.scatter(win_as_liab, x='ASSETS', y='LIABILITIES', \n",
        "                 color='STATE',size='ASSETS', \n",
        "                 hover_data=(['NAME','PARTY','CONSTITUENCY','STATE','WINNER']))\n",
        "fig.update_layout(title_text='Assets vs Liabilities for the Winning Politicians',template='plotly_dark')\n",
        "fig.show()"
      ],
      "execution_count": null,
      "outputs": [
        {
          "output_type": "stream",
          "name": "stderr",
          "text": [
            "/usr/local/lib/python3.7/dist-packages/pandas/core/series.py:4582: SettingWithCopyWarning:\n",
            "\n",
            "\n",
            "A value is trying to be set on a copy of a slice from a DataFrame\n",
            "\n",
            "See the caveats in the documentation: https://pandas.pydata.org/pandas-docs/stable/user_guide/indexing.html#returning-a-view-versus-a-copy\n",
            "\n",
            "/usr/local/lib/python3.7/dist-packages/ipykernel_launcher.py:4: SettingWithCopyWarning:\n",
            "\n",
            "\n",
            "A value is trying to be set on a copy of a slice from a DataFrame\n",
            "\n",
            "See the caveats in the documentation: https://pandas.pydata.org/pandas-docs/stable/user_guide/indexing.html#returning-a-view-versus-a-copy\n",
            "\n"
          ]
        },
        {
          "output_type": "display_data",
          "data": {
            "text/html": [
              "<html>\n",
              "<head><meta charset=\"utf-8\" /></head>\n",
              "<body>\n",
              "    <div>\n",
              "            <script src=\"https://cdnjs.cloudflare.com/ajax/libs/mathjax/2.7.5/MathJax.js?config=TeX-AMS-MML_SVG\"></script><script type=\"text/javascript\">if (window.MathJax) {MathJax.Hub.Config({SVG: {font: \"STIX-Web\"}});}</script>\n",
              "                <script type=\"text/javascript\">window.PlotlyConfig = {MathJaxConfig: 'local'};</script>\n",
              "        <script src=\"https://cdn.plot.ly/plotly-latest.min.js\"></script>    \n",
              "            <div id=\"49aecc57-a229-45c6-97fd-d132d7fc3cae\" class=\"plotly-graph-div\" style=\"height:525px; width:100%;\"></div>\n",
              "            <script type=\"text/javascript\">\n",
              "                \n",
              "                    window.PLOTLYENV=window.PLOTLYENV || {};\n",
              "                    \n",
              "                if (document.getElementById(\"49aecc57-a229-45c6-97fd-d132d7fc3cae\")) {\n",
              "                    Plotly.newPlot(\n",
              "                        '49aecc57-a229-45c6-97fd-d132d7fc3cae',\n",
              "                        [{\"customdata\": [[\"NAKUL KAMAL NATH\", \"INC\", \"CHHINDWARA\", \"Madhya Pradesh\", \"Yes\"], [\"UDAY PRATAP SINGH\", \"BJP\", \"HOSHANGABAD\", \"Madhya Pradesh\", \"Yes\"], [\"Sudheer Gupta\", \"BJP\", \"MANDSOUR\", \"Madhya Pradesh\", \"Yes\"], [\"DR DHAL SINGH BISEN\", \"BJP\", \"BALAGHAT\", \"Madhya Pradesh\", \"Yes\"], [\"GAJENDRA UMRAO SINGH PATEL\", \"BJP\", \"KHARGONE\", \"Madhya Pradesh\", \"Yes\"], [\"SHANKAR LALWANI\", \"BJP\", \"INDORE\", \"Madhya Pradesh\", \"Yes\"], [\"VIVEK NARAYAN SHEJWALKAR\", \"BJP\", \"GWALIOR\", \"Madhya Pradesh\", \"Yes\"], [\"Riti Pathak\", \"BJP\", \"SIDHI\", \"Madhya Pradesh\", \"Yes\"], [\"SANDHYA RAY\", \"BJP\", \"BHIND\", \"Madhya Pradesh\", \"Yes\"], [\"PRAHALAD SINGH PATEL\", \"BJP\", \"DAMOH\", \"Madhya Pradesh\", \"Yes\"], [\"RAKESH SINGH\", \"BJP\", \"JABALPUR\", \"Madhya Pradesh\", \"Yes\"], [\"GUMAN SINGH DAMOR\", \"BJP\", \"RATLAM\", \"Madhya Pradesh\", \"Yes\"], [\"GANESH SINGH\", \"BJP\", \"SATNA\", \"Madhya Pradesh\", \"Yes\"], [\"RODMAL NAGAR\", \"BJP\", \"RAJGARH\", \"Madhya Pradesh\", \"Yes\"], [\"HIMADRI SINGH\", \"BJP\", \"SHAHDOL\", \"Madhya Pradesh\", \"Yes\"], [\"Ramakant Bhargava\", \"BJP\", \"VIDISHA\", \"Madhya Pradesh\", \"Yes\"], [\"FAGGAN SINGH KULASTE\", \"BJP\", \"MANDLA\", \"Madhya Pradesh\", \"Yes\"], [\"ANIL FIROJIYA\", \"BJP\", \"UJJAIN\", \"Madhya Pradesh\", \"Yes\"], [\"CHATTARSINGH DARBAR\", \"BJP\", \"DHAR\", \"Madhya Pradesh\", \"Yes\"], [\"NARENDRA SINGH TOMAR\", \"BJP\", \"MORENA\", \"Madhya Pradesh\", \"Yes\"], [\"Dr Virendra Kumar\", \"BJP\", \"TIKAMGARH\", \"Madhya Pradesh\", \"Yes\"], [\"JANARDAN MISHRA\", \"BJP\", \"REWA\", \"Madhya Pradesh\", \"Yes\"], [\"NANDKUMAR SINGH CHOUHAN (NANDU BHAIYA)\", \"BJP\", \"KHANDWA\", \"Madhya Pradesh\", \"Yes\"], [\"RAJBAHADUR SINGH\", \"BJP\", \"SAGAR\", \"Madhya Pradesh\", \"Yes\"], [\"KRISHNA PAL SINGH \\\"Dr. K. P. YADAV\\\"\", \"BJP\", \"GUNA\", \"Madhya Pradesh\", \"Yes\"], [\"DURGA DAS (D.D.) UIKEY\", \"BJP\", \"BETUL\", \"Madhya Pradesh\", \"Yes\"], [\"V.D. SHARMA (VISHNU DATT SHARMA)\", \"BJP\", \"KHAJURAHO\", \"Madhya Pradesh\", \"Yes\"], [\"MAHENDRA SINGH SOLANKY\", \"BJP\", \"DEWAS\", \"Madhya Pradesh\", \"Yes\"], [\"SADHVI PRAGYA SINGH THAKUR\", \"BJP\", \"BHOPAL\", \"Madhya Pradesh\", \"Yes\"]], \"hoverlabel\": {\"namelength\": 0}, \"hovertemplate\": \"STATE=%{customdata[3]}<br>ASSETS=%{marker.size}<br>LIABILITIES=%{y}<br>NAME=%{customdata[0]}<br>PARTY=%{customdata[1]}<br>CONSTITUENCY=%{customdata[2]}<br>WINNER=%{customdata[4]}\", \"legendgroup\": \"STATE=Madhya Pradesh\", \"marker\": {\"color\": \"#636efa\", \"size\": [6601946757, 154783105, 90908944, 88648133, 67303990, 59038508, 58911673, 51541791, 51108660, 43292483, 43134351, 42072262, 41719076, 40198295, 36564408, 30032282, 26702373, 26417937, 23198238, 23062224, 21503766, 20359750, 19076515, 16416828, 16266408, 15413532, 10589334, 3812464, 444224], \"sizemode\": \"area\", \"sizeref\": 16504866.8925, \"symbol\": \"circle\"}, \"mode\": \"markers\", \"name\": \"STATE=Madhya Pradesh\", \"showlegend\": true, \"type\": \"scatter\", \"x\": [6601946757, 154783105, 90908944, 88648133, 67303990, 59038508, 58911673, 51541791, 51108660, 43292483, 43134351, 42072262, 41719076, 40198295, 36564408, 30032282, 26702373, 26417937, 23198238, 23062224, 21503766, 20359750, 19076515, 16416828, 16266408, 15413532, 10589334, 3812464, 444224], \"xaxis\": \"x\", \"y\": [8791712, 9103300, 799283, 1530693, 1885020, 2106382, 0, 505922, 13400000, 4230614, 1387000, 4890940, 0, 3921362, 1736289, 3332012, 1000075, 3203766, 2471613, 6689767, 1974216, 580627, 4819099, 547428, 494053, 875803, 2507176, 1832631, 0], \"yaxis\": \"y\"}, {\"customdata\": [[\"Vasanthakumar. H\", \"INC\", \"KANNIYAKUMARI\", \"Tamil Nadu\", \"Yes\"], [\"S. JAGATHRAKSHAKAN\", \"DMK\", \"ARAKKONAM\", \"Tamil Nadu\", \"Yes\"], [\"Dr.PAARIVENDHAR, T. R\", \"DMK\", \"PERAMBALUR\", \"Tamil Nadu\", \"Yes\"], [\"KARTI P CHIDAMBARAM\", \"INC\", \"SIVAGANGA\", \"Tamil Nadu\", \"Yes\"], [\"CHINRAJ A.K.P\", \"DMK\", \"NAMAKKAL\", \"Tamil Nadu\", \"Yes\"], [\"Gautham Sigamani Pon\", \"DMK\", \"KALLAKURICHI\", \"Tamil Nadu\", \"Yes\"], [\"T. R. V .S. RAMESH\", \"DMK\", \"CUDDALORE\", \"Tamil Nadu\", \"Yes\"], [\"Dr. KALANIDHI VEERASWAMY\", \"DMK\", \"CHENNAI NORTH\", \"Tamil Nadu\", \"Yes\"], [\"K. NAVASKANI\", \"IUML\", \"RAMANATHAPURAM\", \"Tamil Nadu\", \"Yes\"], [\"KANIMOZHI KARUNANIDHI\", \"DMK\", \"THOOTHUKKUDI\", \"Tamil Nadu\", \"Yes\"], [\"VISHNU PRASAD M K\", \"INC\", \"ARANI\", \"Tamil Nadu\", \"Yes\"], [\"GNANATHIRAVIAM S\", \"DMK\", \"TIRUNELVELI\", \"Tamil Nadu\", \"Yes\"], [\"Baalu.T.R.\", \"DMK\", \"SRIPERUMBUDUR\", \"Tamil Nadu\", \"Yes\"], [\"VELUSAMY, P.\", \"DMK\", \"DINDIGUL\", \"Tamil Nadu\", \"Yes\"], [\"ANNADURAI C N\", \"DMK\", \"TIRUVANNAMALAI\", \"Tamil Nadu\", \"Yes\"], [\"SHANMUGA SUNDARAM. K\", \"DMK\", \"POLLACHI\", \"Tamil Nadu\", \"Yes\"], [\"Dr.A.CHELLAKUMAR\", \"INC\", \"KRISHNAGIRI\", \"Tamil Nadu\", \"Yes\"], [\"DAYANIDHI MARAN\", \"DMK\", \"CHENNAI CENTRAL\", \"Tamil Nadu\", \"Yes\"], [\"T.SUMATHY (A) THAMIZHACHI THANGAPANDIAN\", \"DMK\", \"CHENNAI SOUTH\", \"Tamil Nadu\", \"Yes\"], [\"RAVEENDRANATH KUMAR, P\", \"AIADMK\", \"THENI\", \"Tamil Nadu\", \"Yes\"], [\"PARTHIBAN.S.R\", \"DMK\", \"SALEM\", \"Tamil Nadu\", \"Yes\"], [\"DHANUSH.M.KUMAR\", \"DMK\", \"TENKASI\", \"Tamil Nadu\", \"Yes\"], [\"RAJA, A.\", \"DMK\", \"NILGIRIS\", \"Tamil Nadu\", \"Yes\"], [\"DNV SENTHILKUMAR. S.\", \"DMK\", \"DHARMAPURI\", \"Tamil Nadu\", \"Yes\"], [\"Selvam.G\", \"DMK\", \"KANCHEEPURAM\", \"Tamil Nadu\", \"Yes\"], [\"GANESHAMURTHI A\", \"DMK\", \"ERODE\", \"Tamil Nadu\", \"Yes\"], [\"PALANIMANICKAM,S.S.\", \"DMK\", \"THANJAVUR\", \"Tamil Nadu\", \"Yes\"], [\"Thirunavukkarasar. SU\", \"INC\", \"TIRUCHIRAPPALLI\", \"Tamil Nadu\", \"Yes\"], [\"Dr.K.Jayakumar\", \"INC\", \"THIRUVALLUR\", \"Tamil Nadu\", \"Yes\"], [\"NATARAJAN. P.R\", \"CPI(M)\", \"COIMBATORE\", \"Tamil Nadu\", \"Yes\"], [\"MANICKAM TAGORE, B.\", \"INC\", \"VIRUDHUNAGAR\", \"Tamil Nadu\", \"Yes\"], [\"RAMALINGAM. S\", \"DMK\", \"MAYILADUTHURAI\", \"Tamil Nadu\", \"Yes\"], [\"THIRUMAAVALAVAN THOL\", \"VCK\", \"CHIDAMBARAM\", \"Tamil Nadu\", \"Yes\"], [\"SUBBARAYAN, K.\", \"CPI(M)\", \"TIRUPPUR\", \"Tamil Nadu\", \"Yes\"], [\"RAVIKUMAR D\", \"DMK\", \"VILUPPURAM\", \"Tamil Nadu\", \"Yes\"], [\"Jothimani S\", \"INC\", \"KARUR\", \"Tamil Nadu\", \"Yes\"], [\"SELVARAJ M\", \"CPI(M)\", \"NAGAPATTINAM\", \"Tamil Nadu\", \"Yes\"], [\"VENKATESAN S\", \"CPI(M)\", \"MADURAI\", \"Tamil Nadu\", \"Yes\"]], \"hoverlabel\": {\"namelength\": 0}, \"hovertemplate\": \"STATE=%{customdata[3]}<br>ASSETS=%{marker.size}<br>LIABILITIES=%{y}<br>NAME=%{customdata[0]}<br>PARTY=%{customdata[1]}<br>CONSTITUENCY=%{customdata[2]}<br>WINNER=%{customdata[4]}\", \"legendgroup\": \"STATE=Tamil Nadu\", \"marker\": {\"color\": \"#EF553B\", \"size\": [4174930444, 1146984897, 972730368, 793729024, 485205173, 471186830, 423378552, 405294714, 364738171, 303373130, 234564815, 232759237, 208806446, 148076407, 134897466, 133109284, 121087979, 116790616, 91793460, 65803231, 60045532, 51360700, 49591024, 48477451, 48172936, 43110000, 42452076, 32182184, 24583769, 20284430, 17292470, 13355095, 9244092, 8035576, 6509860, 6046055, 4572837, 1811456], \"sizemode\": \"area\", \"sizeref\": 16504866.8925, \"symbol\": \"circle\"}, \"mode\": \"markers\", \"name\": \"STATE=Tamil Nadu\", \"showlegend\": true, \"type\": \"scatter\", \"x\": [4174930444, 1146984897, 972730368, 793729024, 485205173, 471186830, 423378552, 405294714, 364738171, 303373130, 234564815, 232759237, 208806446, 148076407, 134897466, 133109284, 121087979, 116790616, 91793460, 65803231, 60045532, 51360700, 49591024, 48477451, 48172936, 43110000, 42452076, 32182184, 24583769, 20284430, 17292470, 13355095, 9244092, 8035576, 6509860, 6046055, 4572837, 1811456], \"xaxis\": \"x\", \"y\": [1547511439, 166365972, 65935070, 174081116, 18642484, 81131909, 102828604, 258386550, 47008615, 19290928, 33409505, 46149049, 0, 31474526, 32243604, 13360639, 66817959, 0, 500000, 32734079, 4039841, 2896862, 1424914, 6053502, 0, 2060000, 2368600, 40208, 0, 3234168, 4953498, 215000, 394248, 500000, 1369031, 379000, 1251381, 0], \"yaxis\": \"y\"}, {\"customdata\": [[\"D.K. SURESH\", \"INC\", \"BANGALORE RURAL\", \"Karnataka\", \"Yes\"], [\"B.N.Bache Gowda\", \"BJP\", \"CHIKKBALLAPUR\", \"Karnataka\", \"Yes\"], [\"P. C. Mohan\", \"BJP\", \"BANGALORE CENTRAL\", \"Karnataka\", \"Yes\"], [\"UDASI. S.C.\", \"BJP\", \"HAVERI\", \"Karnataka\", \"Yes\"], [\"B.Y.RAGHAVENDRA.\", \"BJP\", \"SHIMOGA\", \"Karnataka\", \"Yes\"], [\"G. S. BASAVARAJ\", \"BJP\", \"TUMKUR\", \"Karnataka\", \"Yes\"], [\"JIGAJINAGI RAMESH CHANDAPPA\", \"BJP\", \"BIJAPUR\", \"Karnataka\", \"Yes\"], [\"G M SIDDESHWAR\", \"BJP\", \"DAVANAGERE\", \"Karnataka\", \"Yes\"], [\"ANGADI SURESH CHANNABASAPPA\", \"BJP\", \"BELGAUM\", \"Karnataka\", \"Yes\"], [\"ANNASAHEB SHANKAR JOLLE\", \"BJP\", \"CHIKKODI\", \"Karnataka\", \"Yes\"], [\"SUMALATHA AMBAREESH\", \"IND\", \"MANDYA\", \"Karnataka\", \"Yes\"], [\"D.V. Sadananda Gowda\", \"BJP\", \"BANGALORE NORTH\", \"Karnataka\", \"Yes\"], [\"S. MUNISWAMY\", \"BJP\", \"KOLAR\", \"Karnataka\", \"Yes\"], [\"V. SRINIVAS PRASAD\", \"BJP\", \"CHAMARAJANAGAR\", \"Karnataka\", \"Yes\"], [\"Pralhad Joshi\", \"BJP\", \"DHARWAD\", \"Karnataka\", \"Yes\"], [\"SHOBHA KARANDLAJE\", \"BJP\", \"UDUPI CHIKMAGALUR\", \"Karnataka\", \"Yes\"], [\"PRAJWAL REVANNA\", \"JD(S)\", \"HASSAN\", \"Karnataka\", \"Yes\"], [\"A NARAYANASWAMY\", \"BJP\", \"CHITRADURGA\", \"Karnataka\", \"Yes\"], [\"ANANTKUMAR HEGDE\", \"BJP\", \"UTTARA KANNADA\", \"Karnataka\", \"Yes\"], [\"BHAGWANTH KHUBA\", \"BJP\", \"BIDAR\", \"Karnataka\", \"Yes\"], [\"Gaddigoudar Parvatagouda Chandanagouda\", \"BJP\", \"BAGALKOT\", \"Karnataka\", \"Yes\"], [\"Y. DEVENDRAPPA\", \"BJP\", \"BELLARY\", \"Karnataka\", \"Yes\"], [\"DR. UMESH G JADHAV\", \"BJP\", \"GULBARGA\", \"Karnataka\", \"Yes\"], [\"RAJA AMARESHWARA NAIK\", \"BJP\", \"RAICHUR\", \"Karnataka\", \"Yes\"], [\"KARADI SANGANNA AMARAPPA\", \"BJP\", \"KOPPAL\", \"Karnataka\", \"Yes\"], [\"PRATHAP SIMHA\", \"BJP\", \"MYSORE\", \"Karnataka\", \"Yes\"], [\"NALIN KUMAR KATEEL\", \"BJP\", \"DAKSHINA KANNADA\", \"Karnataka\", \"Yes\"], [\"TEJASVI SURYA\", \"BJP\", \"BANGALORE SOUTH\", \"Karnataka\", \"Yes\"]], \"hoverlabel\": {\"namelength\": 0}, \"hovertemplate\": \"STATE=%{customdata[3]}<br>ASSETS=%{marker.size}<br>LIABILITIES=%{y}<br>NAME=%{customdata[0]}<br>PARTY=%{customdata[1]}<br>CONSTITUENCY=%{customdata[2]}<br>WINNER=%{customdata[4]}\", \"legendgroup\": \"STATE=Karnataka\", \"marker\": {\"color\": \"#00cc96\", \"size\": [3388920717, 1153501141, 755529306, 718499195, 674093851, 510779150, 504122985, 380164932, 366164525, 344922831, 234154139, 209384539, 174557500, 143804441, 111384447, 104872668, 97848632, 96197642, 84755455, 51836416, 43980663, 40107878, 37490597, 30638375, 28725791, 18723762, 14678300, 1346593], \"sizemode\": \"area\", \"sizeref\": 16504866.8925, \"symbol\": \"circle\"}, \"mode\": \"markers\", \"name\": \"STATE=Karnataka\", \"showlegend\": true, \"type\": \"scatter\", \"x\": [3388920717, 1153501141, 755529306, 718499195, 674093851, 510779150, 504122985, 380164932, 366164525, 344922831, 234154139, 209384539, 174557500, 143804441, 111384447, 104872668, 97848632, 96197642, 84755455, 51836416, 43980663, 40107878, 37490597, 30638375, 28725791, 18723762, 14678300, 1346593], \"xaxis\": \"x\", \"y\": [519320305, 0, 312521957, 165566495, 14150647, 113844867, 1600000, 14670809, 198479638, 195595693, 14232295, 104302653, 19865690, 324909, 51736254, 49936840, 37253210, 0, 41016655, 10239000, 7987991, 250000, 0, 678532, 22475333, 6586698, 4450945, 0], \"yaxis\": \"y\"}, {\"customdata\": [[\"KANUMURU RAGHU RAMA KRISHNA RAJU\", \"YSRCP\", \"NARSAPURAM\", \"Andhra Pradesh\", \"Yes\"], [\"Jayadev Galla\", \"TDP\", \"GUNTUR\", \"Andhra Pradesh\", \"Yes\"], [\"Adala Prabhakara Reddy\", \"YSRCP\", \"NELLORE\", \"Andhra Pradesh\", \"Yes\"], [\"M V V SATYANARAYANA\", \"YSRCP\", \"VISAKHAPATNAM\", \"Andhra Pradesh\", \"Yes\"], [\"BALASHOWRY VALLABHANENI\", \"YSRCP\", \"MACHILIPATNAM\", \"Andhra Pradesh\", \"Yes\"], [\"KESINENI SRINIVAS (NANI)\", \"TDP\", \"VIJAYAWADA\", \"Andhra Pradesh\", \"Yes\"], [\"P.V.MIDHUN REDDY\", \"YSRCP\", \"RAJAMPET\", \"Andhra Pradesh\", \"Yes\"], [\"POCHA . BRAHMANANDA REDDY\", \"YSRCP\", \"NANDYAL\", \"Andhra Pradesh\", \"Yes\"], [\"KOTAGIRI SRIDHAR\", \"YSRCP\", \"ELURU\", \"Andhra Pradesh\", \"Yes\"], [\"MARGANI BHARAT\", \"YSRCP\", \"RAJAHMUNDRY\", \"Andhra Pradesh\", \"Yes\"], [\"AYUSHMAN DOCTOR SANJEEV KUMAR\", \"YSRCP\", \"KURNOOL\", \"Andhra Pradesh\", \"Yes\"], [\"MAGUNTA SREENIVASULU REDDY\", \"YSRCP\", \"ONGOLE\", \"Andhra Pradesh\", \"Yes\"], [\"VANGA GEETHAVISWANATH\", \"YSRCP\", \"KAKINADA\", \"Andhra Pradesh\", \"Yes\"], [\"Y.S.Avinash Reddy\", \"YSRCP\", \"KADAPA\", \"Andhra Pradesh\", \"Yes\"], [\"LAVU SRI KRISHNA DEVARAYALU\", \"YSRCP\", \"NARASARAOPET\", \"Andhra Pradesh\", \"Yes\"], [\"KINJARAPU RAM MOHAN NAIDU\", \"TDP\", \"SRIKAKULAM\", \"Andhra Pradesh\", \"Yes\"], [\"Dr.Beesetti Venkata Satyavathi\", \"YSRCP\", \"ANAKAPALLI\", \"Andhra Pradesh\", \"Yes\"], [\"CHINTA ANURADHA\", \"YSRCP\", \"AMALAPURAM\", \"Andhra Pradesh\", \"Yes\"], [\"Bellana Chandra Sekhar\", \"YSRCP\", \"VIZIANAGARAM\", \"Andhra Pradesh\", \"Yes\"], [\"Balli Durga Prasad Rao\", \"YSRCP\", \"TIRUPATI\", \"Andhra Pradesh\", \"Yes\"], [\"N. REDDEPPA\", \"YSRCP\", \"CHITTOOR\", \"Andhra Pradesh\", \"Yes\"], [\"TALARI RANGAIAH\", \"YSRCP\", \"ANANTAPUR\", \"Andhra Pradesh\", \"Yes\"], [\"NANDIGAM SURESH\", \"YSRCP\", \"BAPATLA\", \"Andhra Pradesh\", \"Yes\"], [\"KURUVA GORANTLA MADHAV\", \"YSRCP\", \"HINDUPUR\", \"Andhra Pradesh\", \"Yes\"], [\"GODDETI. MADHAVI\", \"YSRCP\", \"ARUKU\", \"Andhra Pradesh\", \"Yes\"]], \"hoverlabel\": {\"namelength\": 0}, \"hovertemplate\": \"STATE=%{customdata[3]}<br>ASSETS=%{marker.size}<br>LIABILITIES=%{y}<br>NAME=%{customdata[0]}<br>PARTY=%{customdata[1]}<br>CONSTITUENCY=%{customdata[2]}<br>WINNER=%{customdata[4]}\", \"legendgroup\": \"STATE=Andhra Pradesh\", \"marker\": {\"color\": \"#ab63fa\", \"size\": [3259405378, 3051485242, 2211663364, 2023905124, 990575840, 808152415, 665085701, 585932911, 462808829, 458205360, 325914387, 266583686, 202528594, 186969794, 177710073, 122791042, 91526244, 85993362, 21035766, 17426921, 17355862, 11773091, 4158610, 1787356, 141179], \"sizemode\": \"area\", \"sizeref\": 16504866.8925, \"symbol\": \"circle\"}, \"mode\": \"markers\", \"name\": \"STATE=Andhra Pradesh\", \"showlegend\": true, \"type\": \"scatter\", \"x\": [3259405378, 3051485242, 2211663364, 2023905124, 990575840, 808152415, 665085701, 585932911, 462808829, 458205360, 325914387, 266583686, 202528594, 186969794, 177710073, 122791042, 91526244, 85993362, 21035766, 17426921, 17355862, 11773091, 4158610, 1787356, 141179], \"xaxis\": \"x\", \"y\": [1014467354, 203452417, 152281255, 160030959, 746310844, 512332955, 205473477, 177035582, 33560974, 17814757, 62070621, 91302133, 34416887, 22833319, 10142413, 12000000, 11139279, 2431407, 11130148, 0, 1341542, 1135547, 269000, 730332, 0], \"yaxis\": \"y\"}, {\"customdata\": [[\"HEMA MALINI\", \"BJP\", \"MATHURA\", \"Uttar Pradesh\", \"Yes\"], [\"MALOOK NAGAR\", \"BSP\", \"BIJNOR\", \"Uttar Pradesh\", \"Yes\"], [\"Anurag Sharma\", \"BJP\", \"JHANSI\", \"Uttar Pradesh\", \"Yes\"], [\"Feroze Varun Gandhi\", \"BJP\", \"PILIBHIT\", \"Uttar Pradesh\", \"Yes\"], [\"MANEKA SANJAI GANDHI\", \"BJP\", \"SULTANPUR\", \"Uttar Pradesh\", \"Yes\"], [\"Dr. MAHESH SHARMA\", \"BJP\", \"GAUTAM BUDDHA NAGAR\", \"Uttar Pradesh\", \"Yes\"], [\"Rajveer Singh (Raju Bhaiya)\", \"BJP\", \"ETAH\", \"Uttar Pradesh\", \"Yes\"], [\"Akhilesh Yadav\", \"SP\", \"AZAMGARH\", \"Uttar Pradesh\", \"Yes\"], [\"PANKAJ CHOUDHARY\", \"BJP\", \"MAHARAJGANJ\", \"Uttar Pradesh\", \"Yes\"], [\"Ritesh Pandey\", \"BSP\", \"AMBEDKAR NAGAR\", \"Uttar Pradesh\", \"Yes\"], [\"Bholanath (B.P. Saroj)\", \"BJP\", \"MACHHLISHAHR\", \"Uttar Pradesh\", \"Yes\"], [\"SANGAM LAL GUPTA\", \"BJP\", \"PRATAPGARH\", \"Uttar Pradesh\", \"Yes\"], [\"Jai Prakash\", \"BJP\", \"HARDOI\", \"Uttar Pradesh\", \"Yes\"], [\"KIRTI VARDHAN SINGH ALIAS RAJA BHAIYA\", \"BJP\", \"GONDA\", \"Uttar Pradesh\", \"Yes\"], [\"Ravindra Shyamnarayan Shukla alias Ravi Kishan\", \"BJP\", \"GORAKHPUR\", \"Uttar Pradesh\", \"Yes\"], [\"MULAYAM SINGH YADAV\", \"SP\", \"MAINPURI\", \"Uttar Pradesh\", \"Yes\"], [\"Keshari Devi Patel\", \"BJP\", \"PHULPUR\", \"Uttar Pradesh\", \"Yes\"], [\"Kamlesh Paswan\", \"BJP\", \"BANSGAON\", \"Uttar Pradesh\", \"Yes\"], [\"KUNWAR PUSHPENDRA SINGH CHANDEL\", \"BJP\", \"HAMIRPUR\", \"Uttar Pradesh\", \"Yes\"], [\"SHYAM SINGH YADAV\", \"BSP\", \"JAUNPUR\", \"Uttar Pradesh\", \"Yes\"], [\"AFZAL ANSARI\", \"BSP\", \"GHAZIPUR\", \"Uttar Pradesh\", \"Yes\"], [\"Satyadev Pachauri\", \"BJP\", \"KANPUR\", \"Uttar Pradesh\", \"Yes\"], [\"SANTOSH KUMAR GANGWAR\", \"BJP\", \"BAREILLY\", \"Uttar Pradesh\", \"Yes\"], [\"SONIA GANDHI\", \"INC\", \"RAE BARELI\", \"Uttar Pradesh\", \"Yes\"], [\"Smriti Irani\", \"BJP\", \"AMETHI\", \"Uttar Pradesh\", \"Yes\"], [\"SATISH KUMAR GAUTAM\", \"BJP\", \"ALIGARH\", \"Uttar Pradesh\", \"Yes\"], [\"JAGDAMBIKA PAL\", \"BJP\", \"DOMARIYAGANJ\", \"Uttar Pradesh\", \"Yes\"], [\"Brijbhusan Sharan Singh\", \"BJP\", \"KAISERGANJ\", \"Uttar Pradesh\", \"Yes\"], [\"RAMESH CHAND\", \"BJP\", \"BHADOHI\", \"Uttar Pradesh\", \"Yes\"], [\"Sangeeta Azad\", \"BSP\", \"LALGANJ\", \"Uttar Pradesh\", \"Yes\"], [\"Dr. SATYAPAL SINGH\", \"BJP\", \"BAGHPAT\", \"Uttar Pradesh\", \"Yes\"], [\"Mukesh Rajput\", \"BJP\", \"FARRUKHABAD\", \"Uttar Pradesh\", \"Yes\"], [\"KUNWAR DANISH ALI\", \"BSP\", \"AMROHA\", \"Uttar Pradesh\", \"Yes\"], [\"Satyapal Singh Baghel\", \"BJP\", \"AGRA\", \"Uttar Pradesh\", \"Yes\"], [\"Rajesh Verma\", \"BJP\", \"SITAPUR\", \"Uttar Pradesh\", \"Yes\"], [\"ATUL KUMAR SINGH\", \"BSP\", \"GHOSI\", \"Uttar Pradesh\", \"Yes\"], [\"VINOD KUMAR SONKAR\", \"BJP\", \"KAUSHAMBI\", \"Uttar Pradesh\", \"Yes\"], [\"Vijay Kumar Singh\", \"BJP\", \"GHAZIABAD\", \"Uttar Pradesh\", \"Yes\"], [\"Dr. S.T. HASAN\", \"SP\", \"MORADABAD\", \"Uttar Pradesh\", \"Yes\"], [\"R.K. SINGH PATEL\", \"BJP\", \"BANDA\", \"Uttar Pradesh\", \"Yes\"], [\"Kaushal Kishore\", \"BJP\", \"MOHANLALGANJ\", \"Uttar Pradesh\", \"Yes\"], [\"SUBRAT PATHAK\", \"BJP\", \"KANNAUJ\", \"Uttar Pradesh\", \"Yes\"], [\"Rajnath Singh\", \"BJP\", \"LUCKNOW\", \"Uttar Pradesh\", \"Yes\"], [\"Ashok Kumar Rawat\", \"BJP\", \"MISRIKH\", \"Uttar Pradesh\", \"Yes\"], [\"HAJI FAZLUR REHMAN\", \"BSP\", \"SAHARANPUR\", \"Uttar Pradesh\", \"Yes\"], [\"Mohammad Azam Khan\", \"SP\", \"RAMPUR\", \"Uttar Pradesh\", \"Yes\"], [\"AKSHAIBAR LAL\", \"BJP\", \"BAHRAICH\", \"Uttar Pradesh\", \"Yes\"], [\"Ajay Kumar\", \"BJP\", \"KHERI\", \"Uttar Pradesh\", \"Yes\"], [\"Arun Kumar Sagar\", \"BJP\", \"SHAHJAHANPUR\", \"Uttar Pradesh\", \"Yes\"], [\"Dr. Chandra Sen Jadon\", \"BJP\", \"FIROZABAD\", \"Uttar Pradesh\", \"Yes\"], [\"Swami Sakshi Ji Maharaj\", \"BJP\", \"UNNAO\", \"Uttar Pradesh\", \"Yes\"], [\"Dr. Mahendra Nath Pandey\", \"BJP\", \"CHANDAULI\", \"Uttar Pradesh\", \"Yes\"], [\"LALLU SINGH\", \"BJP\", \"FAIZABAD\", \"Uttar Pradesh\", \"Yes\"], [\"RAMAPATI RAM TRIPATHI\", \"BJP\", \"DEORIA\", \"Uttar Pradesh\", \"Yes\"], [\"GIRISH CHANDRA\", \"BSP\", \"NAGINA\", \"Uttar Pradesh\", \"Yes\"], [\"Devendra Singh 'Bhole'\", \"BJP\", \"AKBARPUR\", \"Uttar Pradesh\", \"Yes\"], [\"RAVINDER\", \"BJP\", \"SALEMPUR\", \"Uttar Pradesh\", \"Yes\"], [\"Rita Bahuguna Joshi\", \"BJP\", \"ALLAHABAD\", \"Uttar Pradesh\", \"Yes\"], [\"Anupriya Singh Patel\", \"ADAL\", \"MIRZAPUR\", \"Uttar Pradesh\", \"Yes\"], [\"NARENDRA MODI\", \"BJP\", \"VARANASI\", \"Uttar Pradesh\", \"Yes\"], [\"REKHA VERMA\", \"BJP\", \"DHAURAHRA\", \"Uttar Pradesh\", \"Yes\"], [\"Virendra Singh\", \"BJP\", \"BALLIA\", \"Uttar Pradesh\", \"Yes\"], [\"PAKAURI LAL KOL\", \"ADAL\", \"ROBERTSGANJ\", \"Uttar Pradesh\", \"Yes\"], [\"VIJAY KUMAR DUBEY\", \"BJP\", \"KUSHI NAGAR\", \"Uttar Pradesh\", \"Yes\"], [\"DHARMENDRA KASHYAP\", \"BJP\", \"AONLA\", \"Uttar Pradesh\", \"Yes\"], [\"RAM SHIROMANI\", \"BSP\", \"SHRAWASTI\", \"Uttar Pradesh\", \"Yes\"], [\"BHOLA SINGH\", \"BJP\", \"BULANDSHAHR\", \"Uttar Pradesh\", \"Yes\"], [\"Upendra Singh Rawat\", \"BJP\", \"BARABANKI\", \"Uttar Pradesh\", \"Yes\"], [\"Pradeep Kumar\", \"BJP\", \"KAIRANA\", \"Uttar Pradesh\", \"Yes\"], [\"Sanjeev Kumar Balyan\", \"BJP\", \"MUZAFFARNAGAR\", \"Uttar Pradesh\", \"Yes\"], [\"RAJVIR DILER\", \"BJP\", \"HATHRAS\", \"Uttar Pradesh\", \"Yes\"], [\"RAJKUMAR CHAHAR\", \"BJP\", \"FATEHPUR SIKRI\", \"Uttar Pradesh\", \"Yes\"], [\"RAJENDRA AGARWAL\", \"BJP\", \"MEERUT\", \"Uttar Pradesh\", \"Yes\"], [\"DR. SHAFIQUR REHMAN BARQ\", \"SP\", \"SAMBHAL\", \"Uttar Pradesh\", \"Yes\"], [\"BHANU PRATAP SINGH VERMA\", \"BJP\", \"JALAUN\", \"Uttar Pradesh\", \"Yes\"], [\"NIRANJAN JYOTI\", \"BJP\", \"FATEHPUR\", \"Uttar Pradesh\", \"Yes\"], [\"HARISH CHANDRA ALIAS HARISH DWIVEDI\", \"BJP\", \"BASTI\", \"Uttar Pradesh\", \"Yes\"], [\"PRAVEEN KUMAR NISHAD\", \"BJP\", \"SANT KABIR NAGAR\", \"Uttar Pradesh\", \"Yes\"]], \"hoverlabel\": {\"namelength\": 0}, \"hovertemplate\": \"STATE=%{customdata[3]}<br>ASSETS=%{marker.size}<br>LIABILITIES=%{y}<br>NAME=%{customdata[0]}<br>PARTY=%{customdata[1]}<br>CONSTITUENCY=%{customdata[2]}<br>WINNER=%{customdata[4]}\", \"legendgroup\": \"STATE=Uttar Pradesh\", \"marker\": {\"color\": \"#FFA15A\", \"size\": [2508270292, 2499628021, 1243060113, 603200539, 556926451, 478759568, 383629735, 377859166, 371827109, 307265103, 259027394, 248789514, 234032624, 232735285, 208494688, 205604593, 172707104, 171706883, 167159924, 140717620, 137938756, 132382819, 126356142, 118263916, 111099609, 109522559, 103366710, 98905402, 94089148, 88451770, 78195793, 74964501, 74920879, 74274036, 73129716, 66536025, 59336113, 56545702, 55795546, 55794086, 55530561, 54287991, 51492709, 48771207, 46146135, 46124814, 45691463, 45295455, 43448049, 42872395, 40886941, 33359734, 31884642, 29451678, 28659644, 28546617, 27031724, 26919330, 26900662, 25136119, 24735488, 24498319, 23048078, 21860780, 21766502, 19108216, 18728861, 18050127, 17292937, 15781189, 14930000, 14854247, 13489377, 13296671, 10699516, 10667372, 8662344, 4300614], \"sizemode\": \"area\", \"sizeref\": 16504866.8925, \"symbol\": \"circle\"}, \"mode\": \"markers\", \"name\": \"STATE=Uttar Pradesh\", \"showlegend\": true, \"type\": \"scatter\", \"x\": [2508270292, 2499628021, 1243060113, 603200539, 556926451, 478759568, 383629735, 377859166, 371827109, 307265103, 259027394, 248789514, 234032624, 232735285, 208494688, 205604593, 172707104, 171706883, 167159924, 140717620, 137938756, 132382819, 126356142, 118263916, 111099609, 109522559, 103366710, 98905402, 94089148, 88451770, 78195793, 74964501, 74920879, 74274036, 73129716, 66536025, 59336113, 56545702, 55795546, 55794086, 55530561, 54287991, 51492709, 48771207, 46146135, 46124814, 45691463, 45295455, 43448049, 42872395, 40886941, 33359734, 31884642, 29451678, 28659644, 28546617, 27031724, 26919330, 26900662, 25136119, 24735488, 24498319, 23048078, 21860780, 21766502, 19108216, 18728861, 18050127, 17292937, 15781189, 14930000, 14854247, 13489377, 13296671, 10699516, 10667372, 8662344, 4300614], \"xaxis\": \"x\", \"y\": [131288062, 1016148176, 14212970, 28952800, 11935800, 43863749, 100220000, 2853000, 4483048, 24739098, 11194163, 8895225, 2615368, 23201603, 17711043, 22055657, 6505194, 6049264, 35502582, 3577000, 0, 31052190, 13055209, 0, 0, 28095176, 2838478, 61524736, 21696413, 0, 0, 388246, 19579691, 8606522, 108148, 3454591, 20730086, 0, 500000, 0, 0, 28993930, 0, 5735470, 60000, 0, 3028133, 0, 1179697, 0, 699025, 0, 11276478, 9310684, 9062600, 559965, 249400, 1600000, 1805603, 0, 7095916, 0, 684133, 316847, 3324300, 350000, 0, 3171774, 1300000, 2373645, 0, 356404, 1990094, 0, 12265, 910148, 322490, 2326248], \"yaxis\": \"y\"}, {\"customdata\": [[\"SUKHBIR SINGH BADAL\", \"SAD\", \"FIROZPUR\", \"Punjab\", \"Yes\"], [\"Harsimrat Kaur Badal\", \"SAD\", \"BATHINDA\", \"Punjab\", \"Yes\"], [\"SUNNY DEOL\", \"BJP\", \"GURDASPUR\", \"Punjab\", \"Yes\"], [\"Preneet Kaur\", \"INC\", \"PATIALA\", \"Punjab\", \"Yes\"], [\"Manish Tewari\", \"INC\", \"ANANDPUR SAHIB\", \"Punjab\", \"Yes\"], [\"Santokh Singh Chaudhary\", \"INC\", \"JALANDHAR\", \"Punjab\", \"Yes\"], [\"JASBIR SINGH GILL (DIMPA)\", \"INC\", \"KHADOOR SAHIB\", \"Punjab\", \"Yes\"], [\"RAVNEET SINGH BITTU\", \"INC\", \"LUDHIANA\", \"Punjab\", \"Yes\"], [\"GURJEET SINGH AUJLA\", \"INC\", \"AMRITSAR\", \"Punjab\", \"Yes\"], [\"AMAR SINGH\", \"INC\", \"FATEHGARH SAHIB\", \"Punjab\", \"Yes\"], [\"SOM PARKASH\", \"BJP\", \"HOSHIARPUR\", \"Punjab\", \"Yes\"], [\"Mohammad Sadique\", \"INC\", \"FARIDKOT\", \"Punjab\", \"Yes\"], [\"BHAGWANT MANN\", \"AAP\", \"SANGRUR\", \"Punjab\", \"Yes\"]], \"hoverlabel\": {\"namelength\": 0}, \"hovertemplate\": \"STATE=%{customdata[3]}<br>ASSETS=%{marker.size}<br>LIABILITIES=%{y}<br>NAME=%{customdata[0]}<br>PARTY=%{customdata[1]}<br>CONSTITUENCY=%{customdata[2]}<br>WINNER=%{customdata[4]}\", \"legendgroup\": \"STATE=Punjab\", \"marker\": {\"color\": \"#19d3f3\", \"size\": [2179919870, 2179919870, 871925679, 635973757, 154637860, 99925185, 81393500, 54281096, 34011739, 32808836, 29404519, 19793884, 16427274], \"sizemode\": \"area\", \"sizeref\": 16504866.8925, \"symbol\": \"circle\"}, \"mode\": \"markers\", \"name\": \"STATE=Punjab\", \"showlegend\": true, \"type\": \"scatter\", \"x\": [2179919870, 2179919870, 871925679, 635973757, 154637860, 99925185, 81393500, 54281096, 34011739, 32808836, 29404519, 19793884, 16427274], \"xaxis\": \"x\", \"y\": [954852600, 954852600, 534644785, 42453369, 0, 2534363, 4655000, 3331266, 9031565, 0, 0, 311043, 0], \"yaxis\": \"y\"}, {\"customdata\": [[\"SHRIMANT CHH. UDAYANRAJE PRATAPSINHMAHARAJ BHONSLE\", \"NCP\", \"SATARA\", \"Maharashtra\", \"Yes\"], [\"Supriya Sule\", \"NCP\", \"BARAMATI\", \"Maharashtra\", \"Yes\"], [\"Ranjeetsinha Hindurao Naik- Nimbalkar\", \"BJP\", \"MADHA\", \"Maharashtra\", \"Yes\"], [\"SHRIRANG APPA CHANDU BARNE\", \"SHS\", \"MAVAL\", \"Maharashtra\", \"Yes\"], [\"Sunil Baburao Mendhe\", \"BJP\", \"BHANDARA - GONDIYA\", \"Maharashtra\", \"Yes\"], [\"KAPIL MORESHWAR PATIL\", \"BJP\", \"BHIWANDI\", \"Maharashtra\", \"Yes\"], [\"Sudhakar Tukaram Shrangare\", \"BJP\", \"LATUR\", \"Maharashtra\", \"Yes\"], [\"Dr. Heena Vijaykumar Gavit\", \"BJP\", \"NANDURBAR\", \"Maharashtra\", \"Yes\"], [\"Sanjaykaka Patil\", \"BJP\", \"SANGLI\", \"Maharashtra\", \"Yes\"], [\"NITIN JAIRAM GADKARI\", \"BJP\", \"NAGPUR\", \"Maharashtra\", \"Yes\"], [\"RAJAN BABURAO VICHARE\", \"SHS\", \"THANE\", \"Maharashtra\", \"Yes\"], [\"Khadse Raksha Nikhil\", \"BJP\", \"RAVER\", \"Maharashtra\", \"Yes\"], [\"Dr. SUJAY RADHAKRISHNA VIKHEPATIL\", \"BJP\", \"AHMADNAGAR\", \"Maharashtra\", \"Yes\"], [\"Bhamre Subhash Ramrao\", \"BJP\", \"DHULE\", \"Maharashtra\", \"Yes\"], [\"Gopal Shetty\", \"BJP\", \"MUMBAI NORTH\", \"Maharashtra\", \"Yes\"], [\"Godse Hemant Tukaram\", \"SHS\", \"NASHIK\", \"Maharashtra\", \"Yes\"], [\"Balubhau alias Suresh Narayan Dhanorkar\", \"INC\", \"CHANDRAPUR\", \"Maharashtra\", \"Yes\"], [\"Tatkare Sunil Dattatray\", \"NCP\", \"RAIGAD\", \"Maharashtra\", \"Yes\"], [\"Navnit Ravi Rana\", \"IND\", \"AMRAVATI\", \"Maharashtra\", \"Yes\"], [\"Dr. Bharati Pravin Pawar\", \"BJP\", \"DINDORI\", \"Maharashtra\", \"Yes\"], [\"Jadhav Prataprao Ganpatrao\", \"SHS\", \"BULDHANA\", \"Maharashtra\", \"Yes\"], [\"SADASHIV KISAN LOKHANDE\", \"SHS\", \"SHIRDI\", \"Maharashtra\", \"Yes\"], [\"Gajanan Kirtikar\", \"SHS\", \"MUMBAI NORTH WEST\", \"Maharashtra\", \"Yes\"], [\"Bhavana Pundlikrao Gawali\", \"SHS\", \"YAVATMAL-WASHIM\", \"Maharashtra\", \"Yes\"], [\"Krupal Balaji Tumane\", \"SHS\", \"RAMTEK\", \"Maharashtra\", \"Yes\"], [\"Sanjay Sadashivrao Mandlik\", \"SHS\", \"KOLHAPUR\", \"Maharashtra\", \"Yes\"], [\"Rajendra Dhedya Gavit\", \"SHS\", \"PALGHAR\", \"Maharashtra\", \"Yes\"], [\"Dhotre Sanjay Shamrao\", \"BJP\", \"AKOLA\", \"Maharashtra\", \"Yes\"], [\"Ramdas Chandrabhanji Tadas\", \"BJP\", \"WARDHA\", \"Maharashtra\", \"Yes\"], [\"Girish Bhalchandra Bapat\", \"BJP\", \"PUNE\", \"Maharashtra\", \"Yes\"], [\"Manoj Kotak\", \"BJP\", \"MUMBAI NORTH EAST\", \"Maharashtra\", \"Yes\"], [\"Prataprao Patil Chikhalikar\", \"BJP\", \"NANDED\", \"Maharashtra\", \"Yes\"], [\"Vinayak Raut\", \"SHS\", \"RATNAGIRI - SINDHUDURG\", \"Maharashtra\", \"Yes\"], [\"Omprakash Bhupalsinh Alias Pawan Rajenimbalkar\", \"SHS\", \"OSMANABAD\", \"Maharashtra\", \"Yes\"], [\"ASHOK MAHADEORAO NETE\", \"BJP\", \"GADCHIROLI-CHIMUR\", \"Maharashtra\", \"Yes\"], [\"Dhairyasheel Sambhajirao Mane\", \"SHS\", \"HATKANANGLE\", \"Maharashtra\", \"Yes\"], [\"Dr. Amol Ramsing Kolhe\", \"NCP\", \"SHIRUR\", \"Maharashtra\", \"Yes\"], [\"JADHAV SANJAY (BANDU) HARIBHAU\", \"SHS\", \"PARBHANI\", \"Maharashtra\", \"Yes\"], [\"Imtiaz Jaleel Syed\", \"AIMIM\", \"AURANGABAD\", \"Maharashtra\", \"Yes\"], [\"SHRI. SHA. BRA. DR. JAI SIDHESHWAR SHIVACHARY MAHASWAMIJI\", \"BJP\", \"SOLAPUR\", \"Maharashtra\", \"Yes\"], [\"Arvind Ganpat Sawant\", \"SHS\", \"MUMBAI SOUTH\", \"Maharashtra\", \"Yes\"], [\"POONAM MAHAJAN\", \"BJP\", \"MUMBAI NORTH CENTRAL\", \"Maharashtra\", \"Yes\"], [\"Dr. SHRIKANT EKNATH SHINDE\", \"SHS\", \"KALYAN\", \"Maharashtra\", \"Yes\"], [\"Rahul Ramesh Shewale\", \"SHS\", \"MUMBAI SOUTH CENTRAL\", \"Maharashtra\", \"Yes\"], [\"Hemant Patil\", \"SHS\", \"HINGOLI\", \"Maharashtra\", \"Yes\"], [\"Unmesh Bhaiyyasaheb Patil\", \"BJP\", \"JALGAON\", \"Maharashtra\", \"Yes\"], [\"Pritam Gopinathrao Munde\", \"BJP\", \"BEED\", \"Maharashtra\", \"Yes\"]], \"hoverlabel\": {\"namelength\": 0}, \"hovertemplate\": \"STATE=%{customdata[3]}<br>ASSETS=%{marker.size}<br>LIABILITIES=%{y}<br>NAME=%{customdata[0]}<br>PARTY=%{customdata[1]}<br>CONSTITUENCY=%{customdata[2]}<br>WINNER=%{customdata[4]}\", \"legendgroup\": \"STATE=Maharashtra\", \"marker\": {\"color\": \"#FF6692\", \"size\": [1996813173, 1408888704, 1275160578, 1023310134, 627543615, 418850781, 286478302, 271634532, 191192187, 187916075, 181441465, 172713734, 168664576, 158651112, 157535232, 146869996, 137455342, 127487277, 124554656, 122885349, 116272966, 113710526, 105392000, 96873189, 95603165, 95171892, 87616920, 77153230, 65807822, 57959302, 54661944, 52178606, 50660534, 50299295, 50136369, 47771462, 43351521, 41040011, 29562768, 27870079, 27181577, 22242513, 19616515, 18881363, 18594458, 12324604, 4654000], \"sizemode\": \"area\", \"sizeref\": 16504866.8925, \"symbol\": \"circle\"}, \"mode\": \"markers\", \"name\": \"STATE=Maharashtra\", \"showlegend\": true, \"type\": \"scatter\", \"x\": [1996813173, 1408888704, 1275160578, 1023310134, 627543615, 418850781, 286478302, 271634532, 191192187, 187916075, 181441465, 172713734, 168664576, 158651112, 157535232, 146869996, 137455342, 127487277, 124554656, 122885349, 116272966, 113710526, 105392000, 96873189, 95603165, 95171892, 87616920, 77153230, 65807822, 57959302, 54661944, 52178606, 50660534, 50299295, 50136369, 47771462, 43351521, 41040011, 29562768, 27870079, 27181577, 22242513, 19616515, 18881363, 18594458, 12324604, 4654000], \"xaxis\": \"x\", \"y\": [12340338, 5500000, 896315287, 416612, 19861338, 5645459, 100250602, 15291251, 23345328, 40729055, 54080733, 0, 2623964, 1000000, 21136135, 41083126, 22752880, 3221073, 70576979, 1449572, 735482, 205100, 4032000, 7396250, 4228793, 10580414, 30223375, 14985774, 8961387, 1793891, 2048000, 594000, 2830000, 10045858, 15682840, 41599959, 1488116, 4519583, 6800000, 0, 0, 0, 1241233, 7778954, 1299983, 2529954, 1622000], \"yaxis\": \"y\"}, {\"customdata\": [[\"MALA RAJYA LAXMI SHAH\", \"BJP\", \"TEHRI GARHWAL\", \"Uttarakhand\", \"Yes\"], [\"Ramesh Pokhriyal 'Nishank'\", \"BJP\", \"HARDWAR\", \"Uttarakhand\", \"Yes\"], [\"Ajay Bhatt\", \"BJP\", \"NAINITAL-UDHAMSINGH NAGAR\", \"Uttarakhand\", \"Yes\"], [\"Tirath Singh Rawat\", \"BJP\", \"GARHWAL\", \"Uttarakhand\", \"Yes\"], [\"Ajay Tamta\", \"BJP\", \"ALMORA\", \"Uttarakhand\", \"Yes\"]], \"hoverlabel\": {\"namelength\": 0}, \"hovertemplate\": \"STATE=%{customdata[3]}<br>ASSETS=%{marker.size}<br>LIABILITIES=%{y}<br>NAME=%{customdata[0]}<br>PARTY=%{customdata[1]}<br>CONSTITUENCY=%{customdata[2]}<br>WINNER=%{customdata[4]}\", \"legendgroup\": \"STATE=Uttarakhand\", \"marker\": {\"color\": \"#B6E880\", \"size\": [1846640100, 28739888, 19699529, 15032657, 9910448], \"sizemode\": \"area\", \"sizeref\": 16504866.8925, \"symbol\": \"circle\"}, \"mode\": \"markers\", \"name\": \"STATE=Uttarakhand\", \"showlegend\": true, \"type\": \"scatter\", \"x\": [1846640100, 28739888, 19699529, 15032657, 9910448], \"xaxis\": \"x\", \"y\": [1350000000, 16444, 0, 3500000, 55845], \"yaxis\": \"y\"}, {\"customdata\": [[\"Dr. G. Ranjith Reddy\", \"TRS\", \"CHEVELLA\", \"Telangana\", \"Yes\"], [\"B.B.PATIL\", \"TRS\", \"ZAHIRABAD\", \"Telangana\", \"Yes\"], [\"Kotha Prabhakar Reddy\", \"TRS\", \"MEDAK\", \"Telangana\", \"Yes\"], [\"NAMA NAGESWR RAO\", \"TRS\", \"KHAMMAM\", \"Telangana\", \"Yes\"], [\"ARVIND DHARMAPURI\", \"BJP\", \"NIZAMABAD\", \"Telangana\", \"Yes\"], [\"ANUMULA REVANTH REDDY\", \"INC\", \"MALKAJGIRI\", \"Telangana\", \"Yes\"], [\"ASADUDDIN OWAISI\", \"AIMIM\", \"HYDERABAD\", \"Telangana\", \"Yes\"], [\"Komati Reddy Venkat Reddy\", \"INC\", \"BHONGIR\", \"Telangana\", \"Yes\"], [\"G . KISHAN REDDY\", \"BJP\", \"SECUNDRABAD\", \"Telangana\", \"Yes\"], [\"MANNE SRINIVAS REDDY\", \"TRS\", \"MAHBUBNAGAR\", \"Telangana\", \"Yes\"], [\"UTTAM KUMAR REDDY NALAMADA\", \"INC\", \"NALGONDA\", \"Telangana\", \"Yes\"], [\"DAYAKAR PASUNOORI\", \"TRS\", \"WARANGAL\", \"Telangana\", \"Yes\"], [\"Kavitha Malothu\", \"TRS\", \"MAHABUBABAD\", \"Telangana\", \"Yes\"], [\"Venkatesh Netha Borlakunta\", \"TRS\", \"PEDDAPALLE\", \"Telangana\", \"Yes\"], [\"POTHUGANTI RAMULU\", \"TRS\", \"NAGARKURNOOL\", \"Telangana\", \"Yes\"], [\"SOYAM BAPU RAO\", \"BJP\", \"ADILABAD\", \"Telangana\", \"Yes\"], [\"BANDI SANJAY KUMAR\", \"BJP\", \"KARIMNAGAR\", \"Telangana\", \"Yes\"]], \"hoverlabel\": {\"namelength\": 0}, \"hovertemplate\": \"STATE=%{customdata[3]}<br>ASSETS=%{marker.size}<br>LIABILITIES=%{y}<br>NAME=%{customdata[0]}<br>PARTY=%{customdata[1]}<br>CONSTITUENCY=%{customdata[2]}<br>WINNER=%{customdata[4]}\", \"legendgroup\": \"STATE=Telangana\", \"marker\": {\"color\": \"#FF97FF\", \"size\": [1634695131, 1287851556, 1266581773, 1074671341, 876930468, 245357182, 179044376, 162543845, 81430778, 63353123, 31501349, 24889712, 19731269, 16597300, 10778684, 3099414, 2270000], \"sizemode\": \"area\", \"sizeref\": 16504866.8925, \"symbol\": \"circle\"}, \"mode\": \"markers\", \"name\": \"STATE=Telangana\", \"showlegend\": true, \"type\": \"scatter\", \"x\": [1634695131, 1287851556, 1266581773, 1074671341, 876930468, 245357182, 179044376, 162543845, 81430778, 63353123, 31501349, 24889712, 19731269, 16597300, 10778684, 3099414, 2270000], \"xaxis\": \"x\", \"y\": [197007553, 11535000, 268266203, 80721594, 337580746, 27807304, 120500000, 24069129, 4500000, 4569251, 1200000, 1428227, 1252068, 0, 0, 231450, 1341800], \"yaxis\": \"y\"}, {\"customdata\": [[\"GAUTAM GAMBHIR\", \"BJP\", \"EAST DELHI\", \"NCT OF Delhi\", \"Yes\"], [\"MEENAKASHI LEKHI\", \"BJP\", \"NEW DELHI\", \"NCT OF Delhi\", \"Yes\"], [\"MANOJ TIWARI\", \"BJP\", \"NORTH EAST DELHI\", \"NCT OF Delhi\", \"Yes\"], [\"RAMESH BIDHURI\", \"BJP\", \"SOUTH DELHI\", \"NCT OF Delhi\", \"Yes\"], [\"PARVESH SAHIB SINGH VERMA\", \"BJP\", \"WEST DELHI\", \"NCT OF Delhi\", \"Yes\"], [\"HANS RAJ HANS\", \"BJP\", \"NORTH WEST DELHI\", \"NCT OF Delhi\", \"Yes\"], [\"HARSH VARDHAN\", \"BJP\", \"CHANDNI CHOWK\", \"NCT OF Delhi\", \"Yes\"]], \"hoverlabel\": {\"namelength\": 0}, \"hovertemplate\": \"STATE=%{customdata[3]}<br>ASSETS=%{marker.size}<br>LIABILITIES=%{y}<br>NAME=%{customdata[0]}<br>PARTY=%{customdata[1]}<br>CONSTITUENCY=%{customdata[2]}<br>WINNER=%{customdata[4]}\", \"legendgroup\": \"STATE=NCT OF Delhi\", \"marker\": {\"color\": \"#FECB52\", \"size\": [1471587789, 361441689, 242817031, 180052708, 155195014, 130937732, 30171897], \"sizemode\": \"area\", \"sizeref\": 16504866.8925, \"symbol\": \"circle\"}, \"mode\": \"markers\", \"name\": \"STATE=NCT OF Delhi\", \"showlegend\": true, \"type\": \"scatter\", \"x\": [1471587789, 361441689, 242817031, 180052708, 155195014, 130937732, 30171897], \"xaxis\": \"x\", \"y\": [342035860, 7938378, 13618755, 2038454, 40097329, 47897494, 0], \"yaxis\": \"y\"}, {\"customdata\": [[\"Sukhbir Singh Jaunapuria\", \"BJP\", \"TONK-SAWAI MADHOPUR\", \"Rajasthan\", \"Yes\"], [\"P. P. CHAUDHARY\", \"BJP\", \"PALI\", \"Rajasthan\", \"Yes\"], [\"DUSHYANT SINGH\", \"BJP\", \"JHALAWAR-BARAN\", \"Rajasthan\", \"Yes\"], [\"SUBHASH CHANDRA BAHERIA\", \"BJP\", \"BHILWARA\", \"Rajasthan\", \"Yes\"], [\"Diya Kumari\", \"BJP\", \"RAJSAMAND\", \"Rajasthan\", \"Yes\"], [\"Ramcharan Bohra\", \"BJP\", \"JAIPUR\", \"Rajasthan\", \"Yes\"], [\"Jaskaur Meena\", \"BJP\", \"DAUSA\", \"Rajasthan\", \"Yes\"], [\"Gajendra Singh Shekhawat\", \"BJP\", \"JODHPUR\", \"Rajasthan\", \"Yes\"], [\"COL. RAJYAVARDHAN RATHORE\", \"BJP\", \"JAIPUR RURAL\", \"Rajasthan\", \"Yes\"], [\"Devaji Patel\", \"BJP\", \"JALORE\", \"Rajasthan\", \"Yes\"], [\"Bhagirath Chaudhary\", \"BJP\", \"AJMER\", \"Rajasthan\", \"Yes\"], [\"MANOJ RAJORIA\", \"BJP\", \"KARAULI-DHOLPUR\", \"Rajasthan\", \"Yes\"], [\"KANAKMAL KATARA\", \"BJP\", \"BANSWARA\", \"Rajasthan\", \"Yes\"], [\"OM BIRLA\", \"BJP\", \"KOTA\", \"Rajasthan\", \"Yes\"], [\"ARJUNLAL MEENA\", \"BJP\", \"UDAIPUR\", \"Rajasthan\", \"Yes\"], [\"NARENDRA KUMAR\", \"BJP\", \"JHUNJHUNU\", \"Rajasthan\", \"Yes\"], [\"RAHUL KASWAN\", \"BJP\", \"CHURU\", \"Rajasthan\", \"Yes\"], [\"ARJUN RAM MEGHWAL\", \"BJP\", \"BIKANER (SC)\", \"Rajasthan\", \"Yes\"], [\"NIHAL CHAND\", \"BJP\", \"GANGANAGAR\", \"Rajasthan\", \"Yes\"], [\"Chandra Prakash Joshi\", \"BJP\", \"CHITTORGARH\", \"Rajasthan\", \"Yes\"], [\"HANUMAN BENIWAL\", \"RLTP\", \"NAGAUR\", \"Rajasthan\", \"Yes\"], [\"RANJEETA KOLI\", \"BJP\", \"BHARATPUR\", \"Rajasthan\", \"Yes\"], [\"Sumedhanand Saraswati\", \"BJP\", \"SIKAR\", \"Rajasthan\", \"Yes\"], [\"KAILASH CHOUDHARY\", \"BJP\", \"BARMER\", \"Rajasthan\", \"Yes\"], [\"Balak Nath\", \"BJP\", \"ALWAR\", \"Rajasthan\", \"Yes\"]], \"hoverlabel\": {\"namelength\": 0}, \"hovertemplate\": \"STATE=%{customdata[3]}<br>ASSETS=%{marker.size}<br>LIABILITIES=%{y}<br>NAME=%{customdata[0]}<br>PARTY=%{customdata[1]}<br>CONSTITUENCY=%{customdata[2]}<br>WINNER=%{customdata[4]}\", \"legendgroup\": \"STATE=Rajasthan\", \"marker\": {\"color\": \"#636efa\", \"size\": [1233802420, 385111923, 370432373, 232703276, 165984623, 165322707, 143742564, 138029511, 127808070, 88332292, 85101774, 64867148, 58711904, 48347737, 48196946, 47474109, 36723865, 23524459, 21014362, 19725115, 4218568, 3117190, 2827638, 2402250, 352929], \"sizemode\": \"area\", \"sizeref\": 16504866.8925, \"symbol\": \"circle\"}, \"mode\": \"markers\", \"name\": \"STATE=Rajasthan\", \"showlegend\": true, \"type\": \"scatter\", \"x\": [1233802420, 385111923, 370432373, 232703276, 165984623, 165322707, 143742564, 138029511, 127808070, 88332292, 85101774, 64867148, 58711904, 48347737, 48196946, 47474109, 36723865, 23524459, 21014362, 19725115, 4218568, 3117190, 2827638, 2402250, 352929], \"xaxis\": \"x\", \"y\": [0, 7278041, 85824156, 1827380, 0, 22000000, 5825431, 58573744, 0, 60936530, 8319942, 22121569, 1746729, 0, 15602872, 3278401, 15163379, 1060314, 3631287, 100000, 0, 0, 2719583, 0, 0], \"yaxis\": \"y\"}, {\"customdata\": [[\"PINAKI MISRA\", \"BJD\", \"PURI\", \"Odisha\", \"Yes\"], [\"Sangeeta Kumari Singh Deo\", \"BJP\", \"BOLANGIR\", \"Odisha\", \"Yes\"], [\"NITESH GANGA DEB\", \"BJP\", \"SAMBALPUR\", \"Odisha\", \"Yes\"], [\"BHARTRUHARI MAHTAB\", \"BJD\", \"CUTTACK\", \"Odisha\", \"Yes\"], [\"Jual Oram\", \"BJP\", \"SUNDARGARH\", \"Odisha\", \"Yes\"], [\"RAJASHREE MALLICK\", \"BJD\", \"JAGATSINGHPUR\", \"Odisha\", \"Yes\"], [\"MANJULATA MANDAL\", \"BJD\", \"BHADRAK\", \"Odisha\", \"Yes\"], [\"SAPTAGIRI SANKAR ULAKA\", \"INC\", \"KORAPUT\", \"Odisha\", \"Yes\"], [\"APARAJITA SARANGI\", \"BJP\", \"BHUBANESWAR\", \"Odisha\", \"Yes\"], [\"Anubhav Mohanty\", \"BJD\", \"KENDRAPARA\", \"Odisha\", \"Yes\"], [\"SARMISTHA SETHI\", \"BJD\", \"JAJPUR\", \"Odisha\", \"Yes\"], [\"MAHESH SAHOO\", \"BJD\", \"DHENKANAL\", \"Odisha\", \"Yes\"], [\"CHANDRA SEKHAR SAHU\", \"BJD\", \"BERHAMPUR\", \"Odisha\", \"Yes\"], [\"Suresh Pujari\", \"BJP\", \"BARGARH\", \"Odisha\", \"Yes\"], [\"BASANTA KUMAR PANDA\", \"BJP\", \"KALAHANDI\", \"Odisha\", \"Yes\"], [\"RAMESH CHANDRA MAJHI\", \"BJD\", \"NABARANGPUR\", \"Odisha\", \"Yes\"], [\"BISHWESWAR TUDU\", \"BJP\", \"MAYURBHANJ\", \"Odisha\", \"Yes\"], [\"PRATAP CHANDRA SARANGI\", \"BJP\", \"BALASORE\", \"Odisha\", \"Yes\"], [\"ACHYUTANANDA SAMANTA\", \"BJD\", \"KANDHAMAL\", \"Odisha\", \"Yes\"], [\"Pramila Bisoyi\", \"BJD\", \"ASKA\", \"Odisha\", \"Yes\"]], \"hoverlabel\": {\"namelength\": 0}, \"hovertemplate\": \"STATE=%{customdata[3]}<br>ASSETS=%{marker.size}<br>LIABILITIES=%{y}<br>NAME=%{customdata[0]}<br>PARTY=%{customdata[1]}<br>CONSTITUENCY=%{customdata[2]}<br>WINNER=%{customdata[4]}\", \"legendgroup\": \"STATE=Odisha\", \"marker\": {\"color\": \"#EF553B\", \"size\": [1174701344, 379590851, 269543587, 106894976, 74185014, 40023972, 39417891, 37587560, 31677600, 22309172, 15837082, 14529286, 11716989, 11673429, 9547000, 8100600, 2742000, 1346236, 1244722, 732470], \"sizemode\": \"area\", \"sizeref\": 16504866.8925, \"symbol\": \"circle\"}, \"mode\": \"markers\", \"name\": \"STATE=Odisha\", \"showlegend\": true, \"type\": \"scatter\", \"x\": [1174701344, 379590851, 269543587, 106894976, 74185014, 40023972, 39417891, 37587560, 31677600, 22309172, 15837082, 14529286, 11716989, 11673429, 9547000, 8100600, 2742000, 1346236, 1244722, 732470], \"xaxis\": \"x\", \"y\": [21932742, 7500000, 10337195, 0, 12743330, 1433305, 8958149, 1217963, 4329959, 4133506, 0, 0, 0, 0, 0, 771000, 400000, 160, 0, 0], \"yaxis\": \"y\"}, {\"customdata\": [[\"BADRUDDIN AJMAL\", \"AIUDF\", \"DHUBRI\", \"Assam\", \"Yes\"], [\"QUEEN OJA\", \"BJP\", \"GAUHATI\", \"Assam\", \"Yes\"], [\"Pradyut Bordoloi\", \"INC\", \"NOWGONG\", \"Assam\", \"Yes\"], [\"RAJDEEP ROY\", \"BJP\", \"SILCHAR\", \"Assam\", \"Yes\"], [\"HOREN SING BEY\", \"BJP\", \"AUTONOMOUS DISTRICT\", \"Assam\", \"Yes\"], [\"PALLAB LOCHAN DAS\", \"BJP\", \"TEZPUR\", \"Assam\", \"Yes\"], [\"PRADAN BARUAH\", \"BJP\", \"LAKHIMPUR\", \"Assam\", \"Yes\"], [\"Gaurav Gogoi\", \"INC\", \"KALIABOR\", \"Assam\", \"Yes\"], [\"Naba Kumar Sarania\", \"IND\", \"KOKRAJHAR\", \"Assam\", \"Yes\"], [\"TOPON KUMAR GOGOI\", \"BJP\", \"JORHAT\", \"Assam\", \"Yes\"], [\"Abdul Khaleque\", \"INC\", \"BARPETA\", \"Assam\", \"Yes\"], [\"DILIP SAIKIA\", \"BJP\", \"MANGALDOI\", \"Assam\", \"Yes\"], [\"RAMESWAR TELI\", \"BJP\", \"DIBRUGARH\", \"Assam\", \"Yes\"], [\"KRIPANATH MALLAH\", \"BJP\", \"KARIMGANJ\", \"Assam\", \"Yes\"]], \"hoverlabel\": {\"namelength\": 0}, \"hovertemplate\": \"STATE=%{customdata[3]}<br>ASSETS=%{marker.size}<br>LIABILITIES=%{y}<br>NAME=%{customdata[0]}<br>PARTY=%{customdata[1]}<br>CONSTITUENCY=%{customdata[2]}<br>WINNER=%{customdata[4]}\", \"legendgroup\": \"STATE=Assam\", \"marker\": {\"color\": \"#00cc96\", \"size\": [788064044, 630219570, 74143272, 29901767, 20693570, 14445139, 14307978, 13727834, 13013994, 12597461, 7398753, 6206286, 4370067, 1871040], \"sizemode\": \"area\", \"sizeref\": 16504866.8925, \"symbol\": \"circle\"}, \"mode\": \"markers\", \"name\": \"STATE=Assam\", \"showlegend\": true, \"type\": \"scatter\", \"x\": [788064044, 630219570, 74143272, 29901767, 20693570, 14445139, 14307978, 13727834, 13013994, 12597461, 7398753, 6206286, 4370067, 1871040], \"xaxis\": \"x\", \"y\": [10159381, 34034178, 4011152, 6976701, 5956209, 0, 5839285, 1250000, 175069, 455398, 2703693, 0, 0, 0], \"yaxis\": \"y\"}, {\"customdata\": [[\"JAYANT SINHA\", \"BJP\", \"HAZARIBAGH\", \"Jharkhand\", \"Yes\"], [\"Nishikant Dubey\", \"BJP\", \"GODDA\", \"Jharkhand\", \"Yes\"], [\"SUNIL KUMAR SINGH\", \"BJP\", \"CHATRA\", \"Jharkhand\", \"Yes\"], [\"ANNPURNA DEVI\", \"BJP\", \"KODARMA\", \"Jharkhand\", \"Yes\"], [\"ARJUN MUNDA\", \"BJP\", \"KHUNTI\", \"Jharkhand\", \"Yes\"], [\"VISHNU DAYAL RAM\", \"BJP\", \"PALAMAU\", \"Jharkhand\", \"Yes\"], [\"Bidyut Baran Mahato\", \"BJP\", \"JAMSHEDPUR\", \"Jharkhand\", \"Yes\"], [\"PASHUPATI NATH SINGH\", \"BJP\", \"DHANBAD\", \"Jharkhand\", \"Yes\"], [\"GEETA KORA\", \"INC\", \"SINGHBHUM\", \"Jharkhand\", \"Yes\"], [\"SANJAY SETH\", \"BJP\", \"RANCHI\", \"Jharkhand\", \"Yes\"], [\"Chandra Prakash Choudhary\", \"AJSUP\", \"GIRIDIH\", \"Jharkhand\", \"Yes\"], [\"SUDARSHAN BHAGAT\", \"BJP\", \"LOHARDAGA\", \"Jharkhand\", \"Yes\"], [\"VIJAY KUMAR HANSDAK\", \"JMM\", \"RAJMAHAL\", \"Jharkhand\", \"Yes\"], [\"SUNIL SOREN\", \"BJP\", \"DUMKA\", \"Jharkhand\", \"Yes\"]], \"hoverlabel\": {\"namelength\": 0}, \"hovertemplate\": \"STATE=%{customdata[3]}<br>ASSETS=%{marker.size}<br>LIABILITIES=%{y}<br>NAME=%{customdata[0]}<br>PARTY=%{customdata[1]}<br>CONSTITUENCY=%{customdata[2]}<br>WINNER=%{customdata[4]}\", \"legendgroup\": \"STATE=Jharkhand\", \"marker\": {\"color\": \"#ab63fa\", \"size\": [770749002, 462757500, 226209137, 97636939, 91507865, 32273873, 27750671, 27286918, 25249018, 14044267, 13456889, 12947303, 12919555, 4737559], \"sizemode\": \"area\", \"sizeref\": 16504866.8925, \"symbol\": \"circle\"}, \"mode\": \"markers\", \"name\": \"STATE=Jharkhand\", \"showlegend\": true, \"type\": \"scatter\", \"x\": [770749002, 462757500, 226209137, 97636939, 91507865, 32273873, 27750671, 27286918, 25249018, 14044267, 13456889, 12947303, 12919555, 4737559], \"xaxis\": \"x\", \"y\": [193271437, 0, 1889051, 3189066, 27106434, 90922, 2961830, 0, 1928508, 100000, 1330000, 525000, 2743560, 685516], \"yaxis\": \"y\"}, {\"customdata\": [[\"DELKAR MOHANBHAI SANJIBHAI\", \"IND\", \"DADRA AND NAGAR HAVELI\", \"Dadra & Nagar Haveli\", \"Yes\"]], \"hoverlabel\": {\"namelength\": 0}, \"hovertemplate\": \"STATE=%{customdata[3]}<br>ASSETS=%{marker.size}<br>LIABILITIES=%{y}<br>NAME=%{customdata[0]}<br>PARTY=%{customdata[1]}<br>CONSTITUENCY=%{customdata[2]}<br>WINNER=%{customdata[4]}\", \"legendgroup\": \"STATE=Dadra & Nagar Haveli\", \"marker\": {\"color\": \"#FFA15A\", \"size\": [708885980], \"sizemode\": \"area\", \"sizeref\": 16504866.8925, \"symbol\": \"circle\"}, \"mode\": \"markers\", \"name\": \"STATE=Dadra & Nagar Haveli\", \"showlegend\": true, \"type\": \"scatter\", \"x\": [708885980], \"xaxis\": \"x\", \"y\": [37268162], \"yaxis\": \"y\"}, {\"customdata\": [[\"MOHAMMAD AKBAR LONE\", \"JKN\", \"BARAMULLA\", \"Jammu & Kashmir\", \"Yes\"], [\"Farooq Abdullah\", \"JKN\", \"SRINAGAR\", \"Jammu & Kashmir\", \"Yes\"], [\"HASNAIN MASOODI\", \"JKN\", \"ANANTNAG\", \"Jammu & Kashmir\", \"Yes\"], [\"DR. JITENDRA SINGH\", \"BJP\", \"UDHAMPUR\", \"Jammu & Kashmir\", \"Yes\"], [\"Jugal Kishore\", \"BJP\", \"JAMMU\", \"Jammu & Kashmir\", \"Yes\"], [\"Jamyang Tsering Namgyal\", \"BJP\", \"LADAKH\", \"Jammu & Kashmir\", \"Yes\"]], \"hoverlabel\": {\"namelength\": 0}, \"hovertemplate\": \"STATE=%{customdata[3]}<br>ASSETS=%{marker.size}<br>LIABILITIES=%{y}<br>NAME=%{customdata[0]}<br>PARTY=%{customdata[1]}<br>CONSTITUENCY=%{customdata[2]}<br>WINNER=%{customdata[4]}\", \"legendgroup\": \"STATE=Jammu & Kashmir\", \"marker\": {\"color\": \"#19d3f3\", \"size\": [597434000, 121904435, 87620672, 70827203, 56481801, 981904], \"sizemode\": \"area\", \"sizeref\": 16504866.8925, \"symbol\": \"circle\"}, \"mode\": \"markers\", \"name\": \"STATE=Jammu & Kashmir\", \"showlegend\": true, \"type\": \"scatter\", \"x\": [597434000, 121904435, 87620672, 70827203, 56481801, 981904], \"xaxis\": \"x\", \"y\": [104935, 0, 0, 0, 350040219, 0], \"yaxis\": \"y\"}, {\"customdata\": [[\"VINCENT H. PALA\", \"INC\", \"SHILLONG\", \"Meghalaya\", \"Yes\"], [\"AGATHA K. SANGMA\", \"NPEP\", \"TURA\", \"Meghalaya\", \"Yes\"]], \"hoverlabel\": {\"namelength\": 0}, \"hovertemplate\": \"STATE=%{customdata[3]}<br>ASSETS=%{marker.size}<br>LIABILITIES=%{y}<br>NAME=%{customdata[0]}<br>PARTY=%{customdata[1]}<br>CONSTITUENCY=%{customdata[2]}<br>WINNER=%{customdata[4]}\", \"legendgroup\": \"STATE=Meghalaya\", \"marker\": {\"color\": \"#FF6692\", \"size\": [549515421, 29406813], \"sizemode\": \"area\", \"sizeref\": 16504866.8925, \"symbol\": \"circle\"}, \"mode\": \"markers\", \"name\": \"STATE=Meghalaya\", \"showlegend\": true, \"type\": \"scatter\", \"x\": [549515421, 29406813], \"xaxis\": \"x\", \"y\": [0, 0], \"yaxis\": \"y\"}, {\"customdata\": [[\"KIRRON KHER\", \"BJP\", \"CHANDIGARH\", \"Chandigarh\", \"Yes\"]], \"hoverlabel\": {\"namelength\": 0}, \"hovertemplate\": \"STATE=%{customdata[3]}<br>ASSETS=%{marker.size}<br>LIABILITIES=%{y}<br>NAME=%{customdata[0]}<br>PARTY=%{customdata[1]}<br>CONSTITUENCY=%{customdata[2]}<br>WINNER=%{customdata[4]}\", \"legendgroup\": \"STATE=Chandigarh\", \"marker\": {\"color\": \"#B6E880\", \"size\": [474983574], \"sizemode\": \"area\", \"sizeref\": 16504866.8925, \"symbol\": \"circle\"}, \"mode\": \"markers\", \"name\": \"STATE=Chandigarh\", \"showlegend\": true, \"type\": \"scatter\", \"x\": [474983574], \"xaxis\": \"x\", \"y\": [6279188], \"yaxis\": \"y\"}, {\"customdata\": [[\"C. R. Patil\", \"BJP\", \"NAVSARI\", \"Gujarat\", \"Yes\"], [\"SHARDABEN ANILBHAI PATEL\", \"BJP\", \"MAHESANA\", \"Gujarat\", \"Yes\"], [\"POONAMBEN HEMATBHAI MAADAM\", \"BJP\", \"JAMNAGAR\", \"Gujarat\", \"Yes\"], [\"AMIT SHAH\", \"BJP\", \"GANDHINAGAR\", \"Gujarat\", \"Yes\"], [\"RAMESHBHAI LAVJIBHAI DHADUK\", \"BJP\", \"PORBANDAR\", \"Gujarat\", \"Yes\"], [\"DR. KIRIT P. SOLANKI\", \"BJP\", \"AHMEDABAD WEST\", \"Gujarat\", \"Yes\"], [\"Dr. MUNJAPARA MAHENDRABHAI\", \"BJP\", \"SURENDRANAGAR\", \"Gujarat\", \"Yes\"], [\"PATEL MITESH RAMESHBHAI (BAKABHAI)\", \"BJP\", \"ANAND\", \"Gujarat\", \"Yes\"], [\"Patel Hasmukhbhai Somabhai\", \"BJP\", \"AHMEDABAD EAST\", \"Gujarat\", \"Yes\"], [\"KUNDARIA MOHANBHAI KALYANJIBHAI\", \"BJP\", \"RAJKOT\", \"Gujarat\", \"Yes\"], [\"Dr.K.C.PATEL\", \"BJP\", \"VALSAD\", \"Gujarat\", \"Yes\"], [\"DABHI BHARATSINHJI SHANKARJI\", \"BJP\", \"PATAN\", \"Gujarat\", \"Yes\"], [\"PARBATBHAI SAVABHAI PATEL\", \"BJP\", \"BANASKANTHA\", \"Gujarat\", \"Yes\"], [\"Kachhadiya Naranbhai Bhikhabhai\", \"BJP\", \"AMRELI\", \"Gujarat\", \"Yes\"], [\"CHAVDA VINOD LAKHAMSHI\", \"BJP\", \"KACHCHH\", \"Gujarat\", \"Yes\"], [\"RANJANBEN BHATT\", \"BJP\", \"VADODARA\", \"Gujarat\", \"Yes\"], [\"PARBHUBHAI NAGARBHAI VASAVA\", \"BJP\", \"BARDOLI\", \"Gujarat\", \"Yes\"], [\"JASHVANTSINH SUMANBHAI BHABHOR\", \"BJP\", \"DAHOD\", \"Gujarat\", \"Yes\"], [\"RATHOD DIPSINH SHANKARSINH\", \"BJP\", \"SABARKANTHA\", \"Gujarat\", \"Yes\"], [\"Darshana Vikram Jardosh\", \"BJP\", \"SURAT\", \"Gujarat\", \"Yes\"], [\"DR.BHARATIBEN DHIRUBHAI SHIYAL\", \"BJP\", \"BHAVNAGAR\", \"Gujarat\", \"Yes\"], [\"Chauhan Devusinh\", \"BJP\", \"KHEDA\", \"Gujarat\", \"Yes\"], [\"CHUDASAMA RAJESHBHAI NARANBHAI\", \"BJP\", \"JUNAGADH\", \"Gujarat\", \"Yes\"], [\"Ratansinh Magansinh Rathod\", \"BJP\", \"PANCHMAHAL\", \"Gujarat\", \"Yes\"], [\"RATHVA GITABEN VAJESINGBHAI\", \"BJP\", \"CHHOTA UDAIPUR\", \"Gujarat\", \"Yes\"], [\"Mansukhbhai Dhanjibhai Vasava\", \"BJP\", \"BHARUCH\", \"Gujarat\", \"Yes\"]], \"hoverlabel\": {\"namelength\": 0}, \"hovertemplate\": \"STATE=%{customdata[3]}<br>ASSETS=%{marker.size}<br>LIABILITIES=%{y}<br>NAME=%{customdata[0]}<br>PARTY=%{customdata[1]}<br>CONSTITUENCY=%{customdata[2]}<br>WINNER=%{customdata[4]}\", \"legendgroup\": \"STATE=Gujarat\", \"marker\": {\"color\": \"#FF97FF\", \"size\": [446044269, 440308300, 427331034, 403275307, 357564783, 89474039, 79084513, 77043053, 74699690, 68818120, 68239480, 47373221, 41819177, 35900763, 33508455, 29426428, 28350217, 27070480, 23997443, 23872876, 17753161, 13023202, 10866041, 10260663, 8634660, 6835957], \"sizemode\": \"area\", \"sizeref\": 16504866.8925, \"symbol\": \"circle\"}, \"mode\": \"markers\", \"name\": \"STATE=Gujarat\", \"showlegend\": true, \"type\": \"scatter\", \"x\": [446044269, 440308300, 427331034, 403275307, 357564783, 89474039, 79084513, 77043053, 74699690, 68818120, 68239480, 47373221, 41819177, 35900763, 33508455, 29426428, 28350217, 27070480, 23997443, 23872876, 17753161, 13023202, 10866041, 10260663, 8634660, 6835957], \"xaxis\": \"x\", \"y\": [56846658, 7477793, 98632194, 4769587, 217944697, 0, 14822528, 7810840, 6252577, 16566856, 0, 5613860, 4500000, 828961, 12458607, 0, 3676869, 0, 0, 0, 3689036, 995240, 1481768, 1081611, 0, 0], \"yaxis\": \"y\"}, {\"customdata\": [[\"RAO INDERJIT SINGH\", \"BJP\", \"GURGAON\", \"Haryana\", \"Yes\"], [\"KRISHAN PAL\", \"BJP\", \"FARIDABAD\", \"Haryana\", \"Yes\"], [\"RAMESH CHANDER KAUSHIK\", \"BJP\", \"SONIPAT\", \"Haryana\", \"Yes\"], [\"BRIJENDRA SINGH\", \"BJP\", \"HISAR\", \"Haryana\", \"Yes\"], [\"Dharambir Singh S/o Bhale Ram\", \"BJP\", \"BHIWANI-MAHENDRAGARH\", \"Haryana\", \"Yes\"], [\"RATTAN LAL KATARIA\", \"BJP\", \"AMBALA\", \"Haryana\", \"Yes\"], [\"Sunita Duggal\", \"BJP\", \"SIRSA\", \"Haryana\", \"Yes\"], [\"ARVIND KUMAR SHARMA\", \"BJP\", \"ROHTAK\", \"Haryana\", \"Yes\"], [\"NAYAB SINGH\", \"BJP\", \"KURUKSHETRA\", \"Haryana\", \"Yes\"], [\"Sanjay Bhatia\", \"BJP\", \"KARNAL\", \"Haryana\", \"Yes\"]], \"hoverlabel\": {\"namelength\": 0}, \"hovertemplate\": \"STATE=%{customdata[3]}<br>ASSETS=%{marker.size}<br>LIABILITIES=%{y}<br>NAME=%{customdata[0]}<br>PARTY=%{customdata[1]}<br>CONSTITUENCY=%{customdata[2]}<br>WINNER=%{customdata[4]}\", \"legendgroup\": \"STATE=Haryana\", \"marker\": {\"color\": \"#FECB52\", \"size\": [420970754, 369652786, 235859266, 146408734, 60642205, 54361499, 42596349, 41079284, 35785621, 2256739], \"sizemode\": \"area\", \"sizeref\": 16504866.8925, \"symbol\": \"circle\"}, \"mode\": \"markers\", \"name\": \"STATE=Haryana\", \"showlegend\": true, \"type\": \"scatter\", \"x\": [420970754, 369652786, 235859266, 146408734, 60642205, 54361499, 42596349, 41079284, 35785621, 2256739], \"xaxis\": \"x\", \"y\": [31500000, 105593242, 0, 27225637, 240000, 188861, 2500000, 16778090, 5720000, 500000], \"yaxis\": \"y\"}, {\"customdata\": [[\"KHALILUR RAHAMAN\", \"AITC\", \"JANGIPUR\", \"West Bengal\", \"Yes\"], [\"ADHIKARI DEEPAK (DEV)\", \"AITC\", \"GHATAL\", \"West Bengal\", \"Yes\"], [\"ABU HASEM KHAN CHOWDHURY (DALU)\", \"INC\", \"MALDAHA DAKSHIN\", \"West Bengal\", \"Yes\"], [\"KALYAN BANERJEE\", \"AITC\", \"SRERAMPUR\", \"West Bengal\", \"Yes\"], [\"RAJU BISTA\", \"BJP\", \"DARJEELING\", \"West Bengal\", \"Yes\"], [\"ADHIR RANJAN CHOWDHURY\", \"INC\", \"BAHARAMPUR\", \"West Bengal\", \"Yes\"], [\"BANDYOPADHYAY SUDIP\", \"AITC\", \"KOLKATA UTTAR\", \"West Bengal\", \"Yes\"], [\"BABUL SUPRIYO\", \"BJP\", \"ASANSOL\", \"West Bengal\", \"Yes\"], [\"SATABDI ROY\", \"AITC\", \"BIRBHUM\", \"West Bengal\", \"Yes\"], [\"SOUGATA RAY\", \"AITC\", \"DUM DUM\", \"West Bengal\", \"Yes\"], [\"Dr. Kakoli Ghoshdastidar\", \"AITC\", \"BARASAT\", \"West Bengal\", \"Yes\"], [\"Adhikari Dibyendu\", \"AITC\", \"TAMLUK\", \"West Bengal\", \"Yes\"], [\"LOCKET CHATTERJEE\", \"BJP\", \"HOOGHLY\", \"West Bengal\", \"Yes\"], [\"Adhikari Sisir\", \"AITC\", \"KANTHI\", \"West Bengal\", \"Yes\"], [\"Nusrat Jahan Ruhi\", \"AITC\", \"BASIRHAT\", \"West Bengal\", \"Yes\"], [\"SAJDA AHMED\", \"AITC\", \"ULUBERIA\", \"West Bengal\", \"Yes\"], [\"PRATIMA MONDAL\", \"AITC\", \"JAYNAGAR\", \"West Bengal\", \"Yes\"], [\"S.S AHLUWALIA\", \"BJP\", \"BARDHAMAN DURGAPUR\", \"West Bengal\", \"Yes\"], [\"MAHUA MOITRA\", \"AITC\", \"KRISHNANAGAR\", \"West Bengal\", \"Yes\"], [\"MIMI CHAKRABORTY\", \"AITC\", \"JADAVPUR\", \"West Bengal\", \"Yes\"], [\"SUNIL KUMAR MONDAL\", \"AITC\", \"BARDHAMAN PURBA\", \"West Bengal\", \"Yes\"], [\"DR. SUBHAS SARKAR\", \"BJP\", \"BANKURA\", \"West Bengal\", \"Yes\"], [\"JAGANNATH SARKAR\", \"BJP\", \"RANAGHAT\", \"West Bengal\", \"Yes\"], [\"ABHISHEK BANERJEE\", \"AITC\", \"DIAMOND HARBOUR\", \"West Bengal\", \"Yes\"], [\"Prasun Banerjee\", \"AITC\", \"HOWRAH\", \"West Bengal\", \"Yes\"], [\"APARUPA PODDAR (AFRIN ALI)\", \"AITC\", \"ARAMBAGH\", \"West Bengal\", \"Yes\"], [\"Dr. JAYANTA KUMAR ROY\", \"BJP\", \"JALPAIGURI\", \"West Bengal\", \"Yes\"], [\"CHOUDHURY MOHAN JATUA\", \"AITC\", \"MATHURAPUR\", \"West Bengal\", \"Yes\"], [\"Kunar Hembram\", \"BJP\", \"JHARGRAM\", \"West Bengal\", \"Yes\"], [\"Mala Roy\", \"AITC\", \"KOLKATA DAKSHIN\", \"West Bengal\", \"Yes\"], [\"KHAGEN MURMU\", \"BJP\", \"MALDAHA UTTAR\", \"West Bengal\", \"Yes\"], [\"NISITH PRAMANIK\", \"BJP\", \"COOCH BEHAR\", \"West Bengal\", \"Yes\"], [\"ABU TAHER KHAN\", \"AITC\", \"MURSHIDABAD\", \"West Bengal\", \"Yes\"], [\"KHAN SAUMITRA\", \"BJP\", \"BISHNUPUR\", \"West Bengal\", \"Yes\"], [\"ARJUN SINGH\", \"BJP\", \"BARRACKPORE\", \"West Bengal\", \"Yes\"], [\"DEBASREE CHAUDHURI\", \"BJP\", \"RAIGANJ\", \"West Bengal\", \"Yes\"], [\"Sukanta Majumdar\", \"BJP\", \"BALURGHAT\", \"West Bengal\", \"Yes\"], [\"SHANTANU THAKUR\", \"BJP\", \"BANGAON\", \"West Bengal\", \"Yes\"], [\"Dilip Ghosh\", \"BJP\", \"MEDINIPUR\", \"West Bengal\", \"Yes\"], [\"JYOTIRMAY SINGH MAHATO\", \"BJP\", \"PURULIA\", \"West Bengal\", \"Yes\"], [\"JOHN BARLA\", \"BJP\", \"ALIPURDUARS\", \"West Bengal\", \"Yes\"], [\"ASIT KUMAR MAL\", \"AITC\", \"BOLPUR\", \"West Bengal\", \"Yes\"]], \"hoverlabel\": {\"namelength\": 0}, \"hovertemplate\": \"STATE=%{customdata[3]}<br>ASSETS=%{marker.size}<br>LIABILITIES=%{y}<br>NAME=%{customdata[0]}<br>PARTY=%{customdata[1]}<br>CONSTITUENCY=%{customdata[2]}<br>WINNER=%{customdata[4]}\", \"legendgroup\": \"STATE=West Bengal\", \"marker\": {\"color\": \"#636efa\", \"size\": [368306705, 317320579, 270959520, 175968902, 151106062, 101315437, 61176355, 59234826, 48652722, 42518790, 40531018, 37687867, 35655698, 33979650, 29088391, 28351569, 27471675, 26521750, 26495250, 24398786, 20371283, 19799440, 17622476, 13794320, 13216066, 12527597, 11625047, 10667304, 10387498, 10308401, 10232439, 9629810, 8926616, 8656777, 8055691, 6139123, 5825866, 5265388, 4536462, 2250540, 1418730, 1310691], \"sizemode\": \"area\", \"sizeref\": 16504866.8925, \"symbol\": \"circle\"}, \"mode\": \"markers\", \"name\": \"STATE=West Bengal\", \"showlegend\": true, \"type\": \"scatter\", \"x\": [368306705, 317320579, 270959520, 175968902, 151106062, 101315437, 61176355, 59234826, 48652722, 42518790, 40531018, 37687867, 35655698, 33979650, 29088391, 28351569, 27471675, 26521750, 26495250, 24398786, 20371283, 19799440, 17622476, 13794320, 13216066, 12527597, 11625047, 10667304, 10387498, 10308401, 10232439, 9629810, 8926616, 8656777, 8055691, 6139123, 5825866, 5265388, 4536462, 2250540, 1418730, 1310691], \"xaxis\": \"x\", \"y\": [2248968, 7879681, 728107, 5522403, 27428941, 8506984, 0, 5722184, 18604443, 0, 1496059, 8397501, 0, 0, 16881608, 5322615, 0, 744076, 671138, 1900788, 148598, 3261495, 0, 0, 0, 4244000, 1352581, 0, 565000, 0, 1070914, 0, 1350000, 1077120, 1100000, 823416, 2168170, 0, 0, 456100, 0, 0], \"yaxis\": \"y\"}, {\"customdata\": [[\"Dr. SHASHI THAROOR\", \"INC\", \"THIRUVANANTHAPURAM\", \"Kerala\", \"Yes\"], [\"Rahul Gandhi\", \"INC\", \"WAYANAD\", \"Kerala\", \"Yes\"], [\"Adv. ADOOR PRAKASH\", \"INC\", \"ATTINGAL\", \"Kerala\", \"Yes\"], [\"K. MURALEEDHARAN\", \"INC\", \"VADAKARA\", \"Kerala\", \"Yes\"], [\"P.K. Kunhalikutty\", \"IUML\", \"MALAPPURAM\", \"Kerala\", \"Yes\"], [\"K. SUDHAKARAN\", \"INC\", \"KANNUR\", \"Kerala\", \"Yes\"], [\"Thomas Chazhikadan\", \"KEC(M)\", \"KOTTAYAM\", \"Kerala\", \"Yes\"], [\"Rajmohan Unnithan\", \"INC\", \"KASARAGOD\", \"Kerala\", \"Yes\"], [\"BENNY BEHANAN\", \"INC\", \"CHALAKUDY\", \"Kerala\", \"Yes\"], [\"N.K.Premachandran\", \"RSP\", \"KOLLAM\", \"Kerala\", \"Yes\"], [\"Adv. A M ARIFF\", \"CPI(M)\", \"ALAPPUZHA\", \"Kerala\", \"Yes\"], [\"Adv. DEAN KURIAKOSE\", \"INC\", \"IDUKKI\", \"Kerala\", \"Yes\"], [\"KODIKUNNIL SURESH\", \"INC\", \"MAVELIKKARA\", \"Kerala\", \"Yes\"], [\"M.K.RAGHAVAN\", \"INC\", \"KOZHIKODE\", \"Kerala\", \"Yes\"], [\"T. N. PRATHAPAN\", \"INC\", \"THRISSUR\", \"Kerala\", \"Yes\"], [\"E. T. Mohammed Basheer\", \"IUML\", \"PONNANI\", \"Kerala\", \"Yes\"], [\"HIBI EDEN\", \"INC\", \"ERNAKULAM\", \"Kerala\", \"Yes\"], [\"V K SREEKANDAN\", \"INC\", \"PALAKKAD\", \"Kerala\", \"Yes\"], [\"ANTO ANTONY\", \"INC\", \"PATHANAMTHITTA\", \"Kerala\", \"Yes\"], [\"RAMYA HARIDAS\", \"INC\", \"ALATHUR\", \"Kerala\", \"Yes\"]], \"hoverlabel\": {\"namelength\": 0}, \"hovertemplate\": \"STATE=%{customdata[3]}<br>ASSETS=%{marker.size}<br>LIABILITIES=%{y}<br>NAME=%{customdata[0]}<br>PARTY=%{customdata[1]}<br>CONSTITUENCY=%{customdata[2]}<br>WINNER=%{customdata[4]}\", \"legendgroup\": \"STATE=Kerala\", \"marker\": {\"color\": \"#EF553B\", \"size\": [350022585, 158877063, 144098612, 114379340, 52932535, 29699206, 26027478, 21570257, 20461931, 17500650, 15268906, 13395011, 12965129, 12502009, 8609349, 8103274, 7908467, 6356399, 6075876, 1152816], \"sizemode\": \"area\", \"sizeref\": 16504866.8925, \"symbol\": \"circle\"}, \"mode\": \"markers\", \"name\": \"STATE=Kerala\", \"showlegend\": true, \"type\": \"scatter\", \"x\": [350022585, 158877063, 144098612, 114379340, 52932535, 29699206, 26027478, 21570257, 20461931, 17500650, 15268906, 13395011, 12965129, 12502009, 8609349, 8103274, 7908467, 6356399, 6075876, 1152816], \"xaxis\": \"x\", \"y\": [0, 7201904, 27622685, 0, 0, 7468633, 495778, 862257, 915938, 3270587, 2220700, 10000000, 982819, 3174805, 2978120, 0, 200000, 2709000, 7723227, 0], \"yaxis\": \"y\"}, {\"customdata\": [[\"Veena Devi (W/o Dinesh Prasad Singh)\", \"LJP\", \"VAISHALI\", \"Bihar\", \"Yes\"], [\"RAMA DEVI\", \"BJP\", \"SHEOHAR\", \"Bihar\", \"Yes\"], [\"Ajay Nishad\", \"BJP\", \"MUZAFFARPUR\", \"Bihar\", \"Yes\"], [\"RAVI SHANKAR PRASAD\", \"BJP\", \"PATNA SAHIB\", \"Bihar\", \"Yes\"], [\"DR. SANJAY JAISWAL\", \"BJP\", \"PASCHIM CHAMPARAN\", \"Bihar\", \"Yes\"], [\"Nityanand Rai\", \"BJP\", \"UJIARPUR\", \"Bihar\", \"Yes\"], [\"Chandan Singh\", \"LJP\", \"NAWADA\", \"Bihar\", \"Yes\"], [\"SUSHIL KUMAR SINGH\", \"BJP\", \"AURANGABAD\", \"Bihar\", \"Yes\"], [\"CHANDESHWAR PRASAD\", \"JD(U)\", \"JAHANABAD\", \"Bihar\", \"Yes\"], [\"Choudhary Mehboob Ali Kaiser\", \"LJP\", \"KHAGARIA\", \"Bihar\", \"Yes\"], [\"Dr. Mohammad Jawed\", \"INC\", \"KISHANGANJ\", \"Bihar\", \"Yes\"], [\"RAJIV RANJAN SINGH ALIAS LALAN SINGH\", \"JD(U)\", \"MUNGER\", \"Bihar\", \"Yes\"], [\"Ramprit Mandal\", \"JD(U)\", \"JHANJHARPUR\", \"Bihar\", \"Yes\"], [\"Giriraj Singh\", \"BJP\", \"BEGUSARAI\", \"Bihar\", \"Yes\"], [\"Rajiv Pratap Rudy\", \"BJP\", \"SARAN\", \"Bihar\", \"Yes\"], [\"R. K. Singh\", \"BJP\", \"ARRAH\", \"Bihar\", \"Yes\"], [\"PASHU PATI KUMAR PARAS\", \"LJP\", \"HAJIPUR (SC)\", \"Bihar\", \"Yes\"], [\"Sunil Kumar Pintu\", \"JD(U)\", \"SITAMARHI\", \"Bihar\", \"Yes\"], [\"ASHOK KUMAR YADAV\", \"BJP\", \"MADHUBANI\", \"Bihar\", \"Yes\"], [\"MAHABALI SINGH\", \"JD(U)\", \"KARAKAT\", \"Bihar\", \"Yes\"], [\"SANTOSH KUMAR\", \"JD(U)\", \"PURNIA\", \"Bihar\", \"Yes\"], [\"Ashwini Kumar Choubey\", \"BJP\", \"BUXAR\", \"Bihar\", \"Yes\"], [\"Dinesh Chandra Yadav\", \"JD(U)\", \"MADHEPURA\", \"Bihar\", \"Yes\"], [\"RADHA MOHAN SINGH\", \"BJP\", \"PURVI CHAMPARAN\", \"Bihar\", \"Yes\"], [\"DR. ALOK KUMAR SUMAN\", \"JD(U)\", \"GOPALGANJ (SC)\", \"Bihar\", \"Yes\"], [\"CHHEDI PASWAN\", \"BJP\", \"SASARAM (SC)\", \"Bihar\", \"Yes\"], [\"Kaushlendra Kumar\", \"JD(U)\", \"NALANDA\", \"Bihar\", \"Yes\"], [\"RAM KRIPAL YADAV\", \"BJP\", \"PATALIPUTRA\", \"Bihar\", \"Yes\"], [\"Dileshwar Kamait\", \"JD(U)\", \"SUPAUL\", \"Bihar\", \"Yes\"], [\"GIRIDHARI YADAV\", \"JD(U)\", \"BANKA\", \"Bihar\", \"Yes\"], [\"Kavita Singh\", \"JD(U)\", \"SIWAN\", \"Bihar\", \"Yes\"], [\"Gopal Jee Thakur\", \"BJP\", \"DARBHANGA\", \"Bihar\", \"Yes\"], [\"CHIRAG KUMAR PASWAN\", \"LJP\", \"JAMUI (SC)\", \"Bihar\", \"Yes\"], [\"BAIDYANATH PRASAD MAHTO\", \"JD(U)\", \"VALMIKI NAGAR\", \"Bihar\", \"Yes\"], [\"Ramchandra Paswan\", \"LJP\", \"SAMASTIPUR (SC)\", \"Bihar\", \"Yes\"], [\"DULAL CHANDRA GOSWAMI\", \"JD(U)\", \"KATIHAR\", \"Bihar\", \"Yes\"], [\"Vijay Kumar\", \"JD(U)\", \"GAYA (SC)\", \"Bihar\", \"Yes\"], [\"NARESH YADAV\", \"BSP\", \"AURANGABAD\", \"Bihar\", \"Yes\"], [\"Janardan Singh 'Sigriwal\\\"\", \"BJP\", \"MAHARAJGANJ\", \"Bihar\", \"Yes\"], [\"AJAY KUMAR MANDAL\", \"JD(U)\", \"BHAGALPUR\", \"Bihar\", \"Yes\"], [\"PRADEEP KUMAR SINGH\", \"BJP\", \"ARARIA\", \"Bihar\", \"Yes\"]], \"hoverlabel\": {\"namelength\": 0}, \"hovertemplate\": \"STATE=%{customdata[3]}<br>ASSETS=%{marker.size}<br>LIABILITIES=%{y}<br>NAME=%{customdata[0]}<br>PARTY=%{customdata[1]}<br>CONSTITUENCY=%{customdata[2]}<br>WINNER=%{customdata[4]}\", \"legendgroup\": \"STATE=Bihar\", \"marker\": {\"color\": \"#00cc96\", \"size\": [337284632, 328364940, 298867486, 235275591, 199404885, 187007570, 176720167, 167895109, 139271693, 109788313, 90973803, 88324866, 88119686, 83024577, 80740349, 79971720, 62834200, 60717031, 46699125, 43442051, 41036294, 40183612, 37420953, 33791375, 32739903, 32152250, 29251651, 29213467, 23441606, 19816050, 19325264, 19301808, 18466066, 17934888, 17375975, 13302734, 12766141, 12674177, 10451986, 6801126, 5010577], \"sizemode\": \"area\", \"sizeref\": 16504866.8925, \"symbol\": \"circle\"}, \"mode\": \"markers\", \"name\": \"STATE=Bihar\", \"showlegend\": true, \"type\": \"scatter\", \"x\": [337284632, 328364940, 298867486, 235275591, 199404885, 187007570, 176720167, 167895109, 139271693, 109788313, 90973803, 88324866, 88119686, 83024577, 80740349, 79971720, 62834200, 60717031, 46699125, 43442051, 41036294, 40183612, 37420953, 33791375, 32739903, 32152250, 29251651, 29213467, 23441606, 19816050, 19325264, 19301808, 18466066, 17934888, 17375975, 13302734, 12766141, 12674177, 10451986, 6801126, 5010577], \"xaxis\": \"x\", \"y\": [112089220, 0, 15714320, 0, 67370030, 357561, 4722200, 3746607, 0, 0, 5383958, 7534918, 1000000, 12236000, 0, 0, 6744375, 10277790, 7892847, 3000000, 2500000, 1350667, 700000, 1146627, 3576376, 2214842, 2712389, 1717310, 0, 405701, 412511, 1039660, 0, 2915945, 999057, 3130766, 3148932, 824000, 376000, 5364747, 1159200], \"yaxis\": \"y\"}, {\"customdata\": [[\"LALUBHAI BABUBHAI PATEL\", \"BJP\", \"DAMAN & DIU\", \"Daman & Diu\", \"Yes\"]], \"hoverlabel\": {\"namelength\": 0}, \"hovertemplate\": \"STATE=%{customdata[3]}<br>ASSETS=%{marker.size}<br>LIABILITIES=%{y}<br>NAME=%{customdata[0]}<br>PARTY=%{customdata[1]}<br>CONSTITUENCY=%{customdata[2]}<br>WINNER=%{customdata[4]}\", \"legendgroup\": \"STATE=Daman & Diu\", \"marker\": {\"color\": \"#ab63fa\", \"size\": [213993750], \"sizemode\": \"area\", \"sizeref\": 16504866.8925, \"symbol\": \"circle\"}, \"mode\": \"markers\", \"name\": \"STATE=Daman & Diu\", \"showlegend\": true, \"type\": \"scatter\", \"x\": [213993750], \"xaxis\": \"x\", \"y\": [9969514], \"yaxis\": \"y\"}, {\"customdata\": [[\"JYOTSNA CHARANDAS MAHANT\", \"INC\", \"KORBA\", \"Chhattisgarh\", \"Yes\"], [\"Sunil Kumar Soni\", \"BJP\", \"RAIPUR\", \"Chhattisgarh\", \"Yes\"], [\"VIJAY BAGHEL\", \"BJP\", \"DURG\", \"Chhattisgarh\", \"Yes\"], [\"MOHAN MANDAVI\", \"BJP\", \"KANKER\", \"Chhattisgarh\", \"Yes\"], [\"Renuka Singh Saruta\", \"BJP\", \"SARGUJA\", \"Chhattisgarh\", \"Yes\"], [\"SANTOSH PANDEY\", \"BJP\", \"RAJNANDGAON\", \"Chhattisgarh\", \"Yes\"], [\"GUHARAM AJGALLEY\", \"BJP\", \"JANJGIR-CHAMPA\", \"Chhattisgarh\", \"Yes\"], [\"CHUNNI LAL SAHU\", \"BJP\", \"MAHASAMUND\", \"Chhattisgarh\", \"Yes\"], [\"ARUN SAO\", \"BJP\", \"BILASPUR\", \"Chhattisgarh\", \"Yes\"], [\"DEEPAK BAIJ\", \"INC\", \"BASTAR\", \"Chhattisgarh\", \"Yes\"], [\"GOMATI SAI\", \"BJP\", \"RAIGARH\", \"Chhattisgarh\", \"Yes\"]], \"hoverlabel\": {\"namelength\": 0}, \"hovertemplate\": \"STATE=%{customdata[3]}<br>ASSETS=%{marker.size}<br>LIABILITIES=%{y}<br>NAME=%{customdata[0]}<br>PARTY=%{customdata[1]}<br>CONSTITUENCY=%{customdata[2]}<br>WINNER=%{customdata[4]}\", \"legendgroup\": \"STATE=Chhattisgarh\", \"marker\": {\"color\": \"#FFA15A\", \"size\": [150639697, 46068126, 34429027, 28675553, 27682493, 24861970, 18400837, 17591683, 13544588, 7721293, 7043539], \"sizemode\": \"area\", \"sizeref\": 16504866.8925, \"symbol\": \"circle\"}, \"mode\": \"markers\", \"name\": \"STATE=Chhattisgarh\", \"showlegend\": true, \"type\": \"scatter\", \"x\": [150639697, 46068126, 34429027, 28675553, 27682493, 24861970, 18400837, 17591683, 13544588, 7721293, 7043539], \"xaxis\": \"x\", \"y\": [0, 2482214, 8748686, 679000, 3251275, 1519820, 0, 1383014, 50000, 1801236, 0], \"yaxis\": \"y\"}, {\"customdata\": [[\"Tapir Gao\", \"BJP\", \"ARUNACHAL EAST\", \"Arunachal Pradesh\", \"Yes\"], [\"KIREN RIJIJU\", \"BJP\", \"ARUNACHAL WEST\", \"Arunachal Pradesh\", \"Yes\"]], \"hoverlabel\": {\"namelength\": 0}, \"hovertemplate\": \"STATE=%{customdata[3]}<br>ASSETS=%{marker.size}<br>LIABILITIES=%{y}<br>NAME=%{customdata[0]}<br>PARTY=%{customdata[1]}<br>CONSTITUENCY=%{customdata[2]}<br>WINNER=%{customdata[4]}\", \"legendgroup\": \"STATE=Arunachal Pradesh\", \"marker\": {\"color\": \"#19d3f3\", \"size\": [136628259, 15279000], \"sizemode\": \"area\", \"sizeref\": 16504866.8925, \"symbol\": \"circle\"}, \"mode\": \"markers\", \"name\": \"STATE=Arunachal Pradesh\", \"showlegend\": true, \"type\": \"scatter\", \"x\": [136628259, 15279000], \"xaxis\": \"x\", \"y\": [0, 0], \"yaxis\": \"y\"}, {\"customdata\": [[\"KULDEEP RAI SHARMA\", \"INC\", \"ANDAMAN & NICOBAR ISLANDS\", \"Andaman & Nicobar Islands\", \"Yes\"]], \"hoverlabel\": {\"namelength\": 0}, \"hovertemplate\": \"STATE=%{customdata[3]}<br>ASSETS=%{marker.size}<br>LIABILITIES=%{y}<br>NAME=%{customdata[0]}<br>PARTY=%{customdata[1]}<br>CONSTITUENCY=%{customdata[2]}<br>WINNER=%{customdata[4]}\", \"legendgroup\": \"STATE=Andaman & Nicobar Islands\", \"marker\": {\"color\": \"#FF6692\", \"size\": [132233012], \"sizemode\": \"area\", \"sizeref\": 16504866.8925, \"symbol\": \"circle\"}, \"mode\": \"markers\", \"name\": \"STATE=Andaman & Nicobar Islands\", \"showlegend\": true, \"type\": \"scatter\", \"x\": [132233012], \"xaxis\": \"x\", \"y\": [80450870], \"yaxis\": \"y\"}, {\"customdata\": [[\"C LALROSANGA\", \"MNF\", \"MIZORAM\", \"Mizoram\", \"Yes\"]], \"hoverlabel\": {\"namelength\": 0}, \"hovertemplate\": \"STATE=%{customdata[3]}<br>ASSETS=%{marker.size}<br>LIABILITIES=%{y}<br>NAME=%{customdata[0]}<br>PARTY=%{customdata[1]}<br>CONSTITUENCY=%{customdata[2]}<br>WINNER=%{customdata[4]}\", \"legendgroup\": \"STATE=Mizoram\", \"marker\": {\"color\": \"#B6E880\", \"size\": [131201374], \"sizemode\": \"area\", \"sizeref\": 16504866.8925, \"symbol\": \"circle\"}, \"mode\": \"markers\", \"name\": \"STATE=Mizoram\", \"showlegend\": true, \"type\": \"scatter\", \"x\": [131201374], \"xaxis\": \"x\", \"y\": [0], \"yaxis\": \"y\"}, {\"customdata\": [[\"Tokheho Yepthomi\", \"NDPP\", \"NAGALAND\", \"Nagaland\", \"Yes\"]], \"hoverlabel\": {\"namelength\": 0}, \"hovertemplate\": \"STATE=%{customdata[3]}<br>ASSETS=%{marker.size}<br>LIABILITIES=%{y}<br>NAME=%{customdata[0]}<br>PARTY=%{customdata[1]}<br>CONSTITUENCY=%{customdata[2]}<br>WINNER=%{customdata[4]}\", \"legendgroup\": \"STATE=Nagaland\", \"marker\": {\"color\": \"#FF97FF\", \"size\": [128117474], \"sizemode\": \"area\", \"sizeref\": 16504866.8925, \"symbol\": \"circle\"}, \"mode\": \"markers\", \"name\": \"STATE=Nagaland\", \"showlegend\": true, \"type\": \"scatter\", \"x\": [128117474], \"xaxis\": \"x\", \"y\": [18600000], \"yaxis\": \"y\"}, {\"customdata\": [[\"Ve. VAITHILINGAM\", \"INC\", \"PUDUCHERRY\", \"Puducherry\", \"Yes\"]], \"hoverlabel\": {\"namelength\": 0}, \"hovertemplate\": \"STATE=%{customdata[3]}<br>ASSETS=%{marker.size}<br>LIABILITIES=%{y}<br>NAME=%{customdata[0]}<br>PARTY=%{customdata[1]}<br>CONSTITUENCY=%{customdata[2]}<br>WINNER=%{customdata[4]}\", \"legendgroup\": \"STATE=Puducherry\", \"marker\": {\"color\": \"#FECB52\", \"size\": [108015548], \"sizemode\": \"area\", \"sizeref\": 16504866.8925, \"symbol\": \"circle\"}, \"mode\": \"markers\", \"name\": \"STATE=Puducherry\", \"showlegend\": true, \"type\": \"scatter\", \"x\": [108015548], \"xaxis\": \"x\", \"y\": [520989], \"yaxis\": \"y\"}, {\"customdata\": [[\"Kishan Kapoor\", \"BJP\", \"KANGRA\", \"Himachal Pradesh\", \"Yes\"], [\"ANURAG SINGH THAKUR\", \"BJP\", \"HAMIRPUR\", \"Himachal Pradesh\", \"Yes\"], [\"RAM SWAROOP SHARMA\", \"BJP\", \"MANDI\", \"Himachal Pradesh\", \"Yes\"], [\"SURESH KUMAR KASHYAP\", \"BJP\", \"SHIMLA\", \"Himachal Pradesh\", \"Yes\"]], \"hoverlabel\": {\"namelength\": 0}, \"hovertemplate\": \"STATE=%{customdata[3]}<br>ASSETS=%{marker.size}<br>LIABILITIES=%{y}<br>NAME=%{customdata[0]}<br>PARTY=%{customdata[1]}<br>CONSTITUENCY=%{customdata[2]}<br>WINNER=%{customdata[4]}\", \"legendgroup\": \"STATE=Himachal Pradesh\", \"marker\": {\"color\": \"#636efa\", \"size\": [85841247, 56770463, 15724337, 15705738], \"sizemode\": \"area\", \"sizeref\": 16504866.8925, \"symbol\": \"circle\"}, \"mode\": \"markers\", \"name\": \"STATE=Himachal Pradesh\", \"showlegend\": true, \"type\": \"scatter\", \"x\": [85841247, 56770463, 15724337, 15705738], \"xaxis\": \"x\", \"y\": [3605161, 1085145, 783963, 7873806], \"yaxis\": \"y\"}, {\"customdata\": [[\"COSME FRANCISCO CAITANO SARDINHA\", \"INC\", \"SOUTH GOA\", \"Goa\", \"Yes\"], [\"SHRIPAD YESSO NAIK\", \"BJP\", \"NORTH GOA\", \"Goa\", \"Yes\"]], \"hoverlabel\": {\"namelength\": 0}, \"hovertemplate\": \"STATE=%{customdata[3]}<br>ASSETS=%{marker.size}<br>LIABILITIES=%{y}<br>NAME=%{customdata[0]}<br>PARTY=%{customdata[1]}<br>CONSTITUENCY=%{customdata[2]}<br>WINNER=%{customdata[4]}\", \"legendgroup\": \"STATE=Goa\", \"marker\": {\"color\": \"#EF553B\", \"size\": [79402232, 65795623], \"sizemode\": \"area\", \"sizeref\": 16504866.8925, \"symbol\": \"circle\"}, \"mode\": \"markers\", \"name\": \"STATE=Goa\", \"showlegend\": true, \"type\": \"scatter\", \"x\": [79402232, 65795623], \"xaxis\": \"x\", \"y\": [0, 1491387], \"yaxis\": \"y\"}, {\"customdata\": [[\"DR RAJKUMAR RANJAN SINGH\", \"BJP\", \"INNER MANIPUR\", \"Manipur\", \"Yes\"], [\"Lorho S. Pfoze\", \"NPF\", \"OUTER MANIPUR\", \"Manipur\", \"Yes\"]], \"hoverlabel\": {\"namelength\": 0}, \"hovertemplate\": \"STATE=%{customdata[3]}<br>ASSETS=%{marker.size}<br>LIABILITIES=%{y}<br>NAME=%{customdata[0]}<br>PARTY=%{customdata[1]}<br>CONSTITUENCY=%{customdata[2]}<br>WINNER=%{customdata[4]}\", \"legendgroup\": \"STATE=Manipur\", \"marker\": {\"color\": \"#00cc96\", \"size\": [19616174, 13709352], \"sizemode\": \"area\", \"sizeref\": 16504866.8925, \"symbol\": \"circle\"}, \"mode\": \"markers\", \"name\": \"STATE=Manipur\", \"showlegend\": true, \"type\": \"scatter\", \"x\": [19616174, 13709352], \"xaxis\": \"x\", \"y\": [0, 0], \"yaxis\": \"y\"}, {\"customdata\": [[\"Rebati Tripura\", \"BJP\", \"TRIPURA EAST\", \"Tripura\", \"Yes\"], [\"Pratima Bhoumik\", \"BJP\", \"TRIPURA WEST\", \"Tripura\", \"Yes\"]], \"hoverlabel\": {\"namelength\": 0}, \"hovertemplate\": \"STATE=%{customdata[3]}<br>ASSETS=%{marker.size}<br>LIABILITIES=%{y}<br>NAME=%{customdata[0]}<br>PARTY=%{customdata[1]}<br>CONSTITUENCY=%{customdata[2]}<br>WINNER=%{customdata[4]}\", \"legendgroup\": \"STATE=Tripura\", \"marker\": {\"color\": \"#ab63fa\", \"size\": [1948315, 642398], \"sizemode\": \"area\", \"sizeref\": 16504866.8925, \"symbol\": \"circle\"}, \"mode\": \"markers\", \"name\": \"STATE=Tripura\", \"showlegend\": true, \"type\": \"scatter\", \"x\": [1948315, 642398], \"xaxis\": \"x\", \"y\": [0, 0], \"yaxis\": \"y\"}, {\"customdata\": [[\"MOHAMMED FAIZAL PP\", \"NCP\", \"LAKSHADWEEP\", \"Lakshadweep\", \"Yes\"]], \"hoverlabel\": {\"namelength\": 0}, \"hovertemplate\": \"STATE=%{customdata[3]}<br>ASSETS=%{marker.size}<br>LIABILITIES=%{y}<br>NAME=%{customdata[0]}<br>PARTY=%{customdata[1]}<br>CONSTITUENCY=%{customdata[2]}<br>WINNER=%{customdata[4]}\", \"legendgroup\": \"STATE=Lakshadweep\", \"marker\": {\"color\": \"#FFA15A\", \"size\": [938641], \"sizemode\": \"area\", \"sizeref\": 16504866.8925, \"symbol\": \"circle\"}, \"mode\": \"markers\", \"name\": \"STATE=Lakshadweep\", \"showlegend\": true, \"type\": \"scatter\", \"x\": [938641], \"xaxis\": \"x\", \"y\": [0], \"yaxis\": \"y\"}, {\"customdata\": [[\"INDRA HANG SUBBA\", \"SKM\", \"SIKKIM\", \"Sikkim\", \"Yes\"]], \"hoverlabel\": {\"namelength\": 0}, \"hovertemplate\": \"STATE=%{customdata[3]}<br>ASSETS=%{marker.size}<br>LIABILITIES=%{y}<br>NAME=%{customdata[0]}<br>PARTY=%{customdata[1]}<br>CONSTITUENCY=%{customdata[2]}<br>WINNER=%{customdata[4]}\", \"legendgroup\": \"STATE=Sikkim\", \"marker\": {\"color\": \"#19d3f3\", \"size\": [478817], \"sizemode\": \"area\", \"sizeref\": 16504866.8925, \"symbol\": \"circle\"}, \"mode\": \"markers\", \"name\": \"STATE=Sikkim\", \"showlegend\": true, \"type\": \"scatter\", \"x\": [478817], \"xaxis\": \"x\", \"y\": [0], \"yaxis\": \"y\"}],\n",
              "                        {\"legend\": {\"itemsizing\": \"constant\", \"tracegroupgap\": 0}, \"margin\": {\"t\": 60}, \"template\": {\"data\": {\"bar\": [{\"error_x\": {\"color\": \"#f2f5fa\"}, \"error_y\": {\"color\": \"#f2f5fa\"}, \"marker\": {\"line\": {\"color\": \"rgb(17,17,17)\", \"width\": 0.5}}, \"type\": \"bar\"}], \"barpolar\": [{\"marker\": {\"line\": {\"color\": \"rgb(17,17,17)\", \"width\": 0.5}}, \"type\": \"barpolar\"}], \"carpet\": [{\"aaxis\": {\"endlinecolor\": \"#A2B1C6\", \"gridcolor\": \"#506784\", \"linecolor\": \"#506784\", \"minorgridcolor\": \"#506784\", \"startlinecolor\": \"#A2B1C6\"}, \"baxis\": {\"endlinecolor\": \"#A2B1C6\", \"gridcolor\": \"#506784\", \"linecolor\": \"#506784\", \"minorgridcolor\": \"#506784\", \"startlinecolor\": \"#A2B1C6\"}, \"type\": \"carpet\"}], \"choropleth\": [{\"colorbar\": {\"outlinewidth\": 0, \"ticks\": \"\"}, \"type\": \"choropleth\"}], \"contour\": [{\"colorbar\": {\"outlinewidth\": 0, \"ticks\": \"\"}, \"colorscale\": [[0.0, \"#0d0887\"], [0.1111111111111111, \"#46039f\"], [0.2222222222222222, \"#7201a8\"], [0.3333333333333333, \"#9c179e\"], [0.4444444444444444, \"#bd3786\"], [0.5555555555555556, \"#d8576b\"], [0.6666666666666666, \"#ed7953\"], [0.7777777777777778, \"#fb9f3a\"], [0.8888888888888888, \"#fdca26\"], [1.0, \"#f0f921\"]], \"type\": \"contour\"}], \"contourcarpet\": [{\"colorbar\": {\"outlinewidth\": 0, \"ticks\": \"\"}, \"type\": \"contourcarpet\"}], \"heatmap\": [{\"colorbar\": {\"outlinewidth\": 0, \"ticks\": \"\"}, \"colorscale\": [[0.0, \"#0d0887\"], [0.1111111111111111, \"#46039f\"], [0.2222222222222222, \"#7201a8\"], [0.3333333333333333, \"#9c179e\"], [0.4444444444444444, \"#bd3786\"], [0.5555555555555556, \"#d8576b\"], [0.6666666666666666, \"#ed7953\"], [0.7777777777777778, \"#fb9f3a\"], [0.8888888888888888, \"#fdca26\"], [1.0, \"#f0f921\"]], \"type\": \"heatmap\"}], \"heatmapgl\": [{\"colorbar\": {\"outlinewidth\": 0, \"ticks\": \"\"}, \"colorscale\": [[0.0, \"#0d0887\"], [0.1111111111111111, \"#46039f\"], [0.2222222222222222, \"#7201a8\"], [0.3333333333333333, \"#9c179e\"], [0.4444444444444444, \"#bd3786\"], [0.5555555555555556, \"#d8576b\"], [0.6666666666666666, \"#ed7953\"], [0.7777777777777778, \"#fb9f3a\"], [0.8888888888888888, \"#fdca26\"], [1.0, \"#f0f921\"]], \"type\": \"heatmapgl\"}], \"histogram\": [{\"marker\": {\"colorbar\": {\"outlinewidth\": 0, \"ticks\": \"\"}}, \"type\": \"histogram\"}], \"histogram2d\": [{\"colorbar\": {\"outlinewidth\": 0, \"ticks\": \"\"}, \"colorscale\": [[0.0, \"#0d0887\"], [0.1111111111111111, \"#46039f\"], [0.2222222222222222, \"#7201a8\"], [0.3333333333333333, \"#9c179e\"], [0.4444444444444444, \"#bd3786\"], [0.5555555555555556, \"#d8576b\"], [0.6666666666666666, \"#ed7953\"], [0.7777777777777778, \"#fb9f3a\"], [0.8888888888888888, \"#fdca26\"], [1.0, \"#f0f921\"]], \"type\": \"histogram2d\"}], \"histogram2dcontour\": [{\"colorbar\": {\"outlinewidth\": 0, \"ticks\": \"\"}, \"colorscale\": [[0.0, \"#0d0887\"], [0.1111111111111111, \"#46039f\"], [0.2222222222222222, \"#7201a8\"], [0.3333333333333333, \"#9c179e\"], [0.4444444444444444, \"#bd3786\"], [0.5555555555555556, \"#d8576b\"], [0.6666666666666666, \"#ed7953\"], [0.7777777777777778, \"#fb9f3a\"], [0.8888888888888888, \"#fdca26\"], [1.0, \"#f0f921\"]], \"type\": \"histogram2dcontour\"}], \"mesh3d\": [{\"colorbar\": {\"outlinewidth\": 0, \"ticks\": \"\"}, \"type\": \"mesh3d\"}], \"parcoords\": [{\"line\": {\"colorbar\": {\"outlinewidth\": 0, \"ticks\": \"\"}}, \"type\": \"parcoords\"}], \"pie\": [{\"automargin\": true, \"type\": \"pie\"}], \"scatter\": [{\"marker\": {\"line\": {\"color\": \"#283442\"}}, \"type\": \"scatter\"}], \"scatter3d\": [{\"line\": {\"colorbar\": {\"outlinewidth\": 0, \"ticks\": \"\"}}, \"marker\": {\"colorbar\": {\"outlinewidth\": 0, \"ticks\": \"\"}}, \"type\": \"scatter3d\"}], \"scattercarpet\": [{\"marker\": {\"colorbar\": {\"outlinewidth\": 0, \"ticks\": \"\"}}, \"type\": \"scattercarpet\"}], \"scattergeo\": [{\"marker\": {\"colorbar\": {\"outlinewidth\": 0, \"ticks\": \"\"}}, \"type\": \"scattergeo\"}], \"scattergl\": [{\"marker\": {\"line\": {\"color\": \"#283442\"}}, \"type\": \"scattergl\"}], \"scattermapbox\": [{\"marker\": {\"colorbar\": {\"outlinewidth\": 0, \"ticks\": \"\"}}, \"type\": \"scattermapbox\"}], \"scatterpolar\": [{\"marker\": {\"colorbar\": {\"outlinewidth\": 0, \"ticks\": \"\"}}, \"type\": \"scatterpolar\"}], \"scatterpolargl\": [{\"marker\": {\"colorbar\": {\"outlinewidth\": 0, \"ticks\": \"\"}}, \"type\": \"scatterpolargl\"}], \"scatterternary\": [{\"marker\": {\"colorbar\": {\"outlinewidth\": 0, \"ticks\": \"\"}}, \"type\": \"scatterternary\"}], \"surface\": [{\"colorbar\": {\"outlinewidth\": 0, \"ticks\": \"\"}, \"colorscale\": [[0.0, \"#0d0887\"], [0.1111111111111111, \"#46039f\"], [0.2222222222222222, \"#7201a8\"], [0.3333333333333333, \"#9c179e\"], [0.4444444444444444, \"#bd3786\"], [0.5555555555555556, \"#d8576b\"], [0.6666666666666666, \"#ed7953\"], [0.7777777777777778, \"#fb9f3a\"], [0.8888888888888888, \"#fdca26\"], [1.0, \"#f0f921\"]], \"type\": \"surface\"}], \"table\": [{\"cells\": {\"fill\": {\"color\": \"#506784\"}, \"line\": {\"color\": \"rgb(17,17,17)\"}}, \"header\": {\"fill\": {\"color\": \"#2a3f5f\"}, \"line\": {\"color\": \"rgb(17,17,17)\"}}, \"type\": \"table\"}]}, \"layout\": {\"annotationdefaults\": {\"arrowcolor\": \"#f2f5fa\", \"arrowhead\": 0, \"arrowwidth\": 1}, \"coloraxis\": {\"colorbar\": {\"outlinewidth\": 0, \"ticks\": \"\"}}, \"colorscale\": {\"diverging\": [[0, \"#8e0152\"], [0.1, \"#c51b7d\"], [0.2, \"#de77ae\"], [0.3, \"#f1b6da\"], [0.4, \"#fde0ef\"], [0.5, \"#f7f7f7\"], [0.6, \"#e6f5d0\"], [0.7, \"#b8e186\"], [0.8, \"#7fbc41\"], [0.9, \"#4d9221\"], [1, \"#276419\"]], \"sequential\": [[0.0, \"#0d0887\"], [0.1111111111111111, \"#46039f\"], [0.2222222222222222, \"#7201a8\"], [0.3333333333333333, \"#9c179e\"], [0.4444444444444444, \"#bd3786\"], [0.5555555555555556, \"#d8576b\"], [0.6666666666666666, \"#ed7953\"], [0.7777777777777778, \"#fb9f3a\"], [0.8888888888888888, \"#fdca26\"], [1.0, \"#f0f921\"]], \"sequentialminus\": [[0.0, \"#0d0887\"], [0.1111111111111111, \"#46039f\"], [0.2222222222222222, \"#7201a8\"], [0.3333333333333333, \"#9c179e\"], [0.4444444444444444, \"#bd3786\"], [0.5555555555555556, \"#d8576b\"], [0.6666666666666666, \"#ed7953\"], [0.7777777777777778, \"#fb9f3a\"], [0.8888888888888888, \"#fdca26\"], [1.0, \"#f0f921\"]]}, \"colorway\": [\"#636efa\", \"#EF553B\", \"#00cc96\", \"#ab63fa\", \"#FFA15A\", \"#19d3f3\", \"#FF6692\", \"#B6E880\", \"#FF97FF\", \"#FECB52\"], \"font\": {\"color\": \"#f2f5fa\"}, \"geo\": {\"bgcolor\": \"rgb(17,17,17)\", \"lakecolor\": \"rgb(17,17,17)\", \"landcolor\": \"rgb(17,17,17)\", \"showlakes\": true, \"showland\": true, \"subunitcolor\": \"#506784\"}, \"hoverlabel\": {\"align\": \"left\"}, \"hovermode\": \"closest\", \"mapbox\": {\"style\": \"dark\"}, \"paper_bgcolor\": \"rgb(17,17,17)\", \"plot_bgcolor\": \"rgb(17,17,17)\", \"polar\": {\"angularaxis\": {\"gridcolor\": \"#506784\", \"linecolor\": \"#506784\", \"ticks\": \"\"}, \"bgcolor\": \"rgb(17,17,17)\", \"radialaxis\": {\"gridcolor\": \"#506784\", \"linecolor\": \"#506784\", \"ticks\": \"\"}}, \"scene\": {\"xaxis\": {\"backgroundcolor\": \"rgb(17,17,17)\", \"gridcolor\": \"#506784\", \"gridwidth\": 2, \"linecolor\": \"#506784\", \"showbackground\": true, \"ticks\": \"\", \"zerolinecolor\": \"#C8D4E3\"}, \"yaxis\": {\"backgroundcolor\": \"rgb(17,17,17)\", \"gridcolor\": \"#506784\", \"gridwidth\": 2, \"linecolor\": \"#506784\", \"showbackground\": true, \"ticks\": \"\", \"zerolinecolor\": \"#C8D4E3\"}, \"zaxis\": {\"backgroundcolor\": \"rgb(17,17,17)\", \"gridcolor\": \"#506784\", \"gridwidth\": 2, \"linecolor\": \"#506784\", \"showbackground\": true, \"ticks\": \"\", \"zerolinecolor\": \"#C8D4E3\"}}, \"shapedefaults\": {\"line\": {\"color\": \"#f2f5fa\"}}, \"sliderdefaults\": {\"bgcolor\": \"#C8D4E3\", \"bordercolor\": \"rgb(17,17,17)\", \"borderwidth\": 1, \"tickwidth\": 0}, \"ternary\": {\"aaxis\": {\"gridcolor\": \"#506784\", \"linecolor\": \"#506784\", \"ticks\": \"\"}, \"baxis\": {\"gridcolor\": \"#506784\", \"linecolor\": \"#506784\", \"ticks\": \"\"}, \"bgcolor\": \"rgb(17,17,17)\", \"caxis\": {\"gridcolor\": \"#506784\", \"linecolor\": \"#506784\", \"ticks\": \"\"}}, \"title\": {\"x\": 0.05}, \"updatemenudefaults\": {\"bgcolor\": \"#506784\", \"borderwidth\": 0}, \"xaxis\": {\"automargin\": true, \"gridcolor\": \"#283442\", \"linecolor\": \"#506784\", \"ticks\": \"\", \"title\": {\"standoff\": 15}, \"zerolinecolor\": \"#283442\", \"zerolinewidth\": 2}, \"yaxis\": {\"automargin\": true, \"gridcolor\": \"#283442\", \"linecolor\": \"#506784\", \"ticks\": \"\", \"title\": {\"standoff\": 15}, \"zerolinecolor\": \"#283442\", \"zerolinewidth\": 2}}}, \"title\": {\"text\": \"Assets vs Liabilities for the Winning Politicians\"}, \"xaxis\": {\"anchor\": \"y\", \"domain\": [0.0, 1.0], \"title\": {\"text\": \"ASSETS\"}}, \"yaxis\": {\"anchor\": \"x\", \"domain\": [0.0, 1.0], \"title\": {\"text\": \"LIABILITIES\"}}},\n",
              "                        {\"responsive\": true}\n",
              "                    ).then(function(){\n",
              "                            \n",
              "var gd = document.getElementById('49aecc57-a229-45c6-97fd-d132d7fc3cae');\n",
              "var x = new MutationObserver(function (mutations, observer) {{\n",
              "        var display = window.getComputedStyle(gd).display;\n",
              "        if (!display || display === 'none') {{\n",
              "            console.log([gd, 'removed!']);\n",
              "            Plotly.purge(gd);\n",
              "            observer.disconnect();\n",
              "        }}\n",
              "}});\n",
              "\n",
              "// Listen for the removal of the full notebook cells\n",
              "var notebookContainer = gd.closest('#notebook-container');\n",
              "if (notebookContainer) {{\n",
              "    x.observe(notebookContainer, {childList: true});\n",
              "}}\n",
              "\n",
              "// Listen for the clearing of the current output cell\n",
              "var outputEl = gd.closest('.output');\n",
              "if (outputEl) {{\n",
              "    x.observe(outputEl, {childList: true});\n",
              "}}\n",
              "\n",
              "                        })\n",
              "                };\n",
              "                \n",
              "            </script>\n",
              "        </div>\n",
              "</body>\n",
              "</html>"
            ]
          },
          "metadata": {}
        }
      ]
    },
    {
      "cell_type": "markdown",
      "metadata": {
        "id": "CXaonKO1niyj"
      },
      "source": [
        "Sau khi vẽ biểu đồ phân tán (scatter plot) thì ta thấy dữ liệu không có dạng tuyến tính nên không có mối tương quan hợp lệ nào có thể được suy ra đối với tài sản và nợ phải trả."
      ]
    },
    {
      "cell_type": "markdown",
      "metadata": {
        "id": "fmvxW_yToZzy"
      },
      "source": [
        "## **DỰ ĐOÁN**"
      ]
    },
    {
      "cell_type": "markdown",
      "metadata": {
        "id": "r3XngUkhaOI8"
      },
      "source": [
        "**Dự đoán người chiến thắng bằng cách sử dụng Random Forest**"
      ]
    },
    {
      "cell_type": "code",
      "metadata": {
        "id": "OqwFVSn7h4ib"
      },
      "source": [
        "vote_df=df_exclude_NOTA.copy()\n",
        "vote_df['GENDER'].replace({'MALE':1,'FEMALE':2},inplace=True)\n",
        "vote_df['CATEGORY'].replace({'GENERAL':1,'SC':2,'ST':3},inplace=True)\n",
        "i=1\n",
        "parties_dict={}\n",
        "for j in vote_df['PARTY']:\n",
        "    if j in parties_dict:\n",
        "        continue\n",
        "    else:\n",
        "        parties_dict[j]=i\n",
        "        i+=1\n",
        "vote_df['PARTY'].replace(parties_dict,inplace=True)\n",
        "a=1\n",
        "edu_dict={}\n",
        "for b in vote_df['EDUCATION']:\n",
        "    if b in edu_dict:\n",
        "        continue\n",
        "    else:\n",
        "        edu_dict[b]=a\n",
        "        a+=1\n",
        "vote_df['EDUCATION'].replace(edu_dict,inplace=True)"
      ],
      "execution_count": null,
      "outputs": []
    },
    {
      "cell_type": "markdown",
      "metadata": {
        "id": "5_5M842UoRMR"
      },
      "source": [
        "Để dự đoán ứng cử viên chiến thắng, trước tiên chúng ta cần chọn các cột cần thiết để dự đoán và loại trừ tất cả các cột dư thừa. Ngoài ra, chúng tôi muốn phân loại các cột thành các cột phân loại & số"
      ]
    },
    {
      "cell_type": "code",
      "metadata": {
        "id": "wEpkvTh6aPMp"
      },
      "source": [
        "df0 = vote_df[['STATE','CONSTITUENCY','WINNER','PARTY','SYMBOL','GENDER','CRIMINAL CASES','AGE',\n",
        "               'CATEGORY','EDUCATION','TOTAL VOTES','TOTAL ELECTORS','ASSETS','LIABILITIES']]\n",
        "num_cols = ['PARTY','EDUCATION','CRIMINAL CASES','AGE','TOTAL VOTES','TOTAL ELECTORS','ASSETS','CATEGORY','LIABILITIES','GENDER']"
      ],
      "execution_count": null,
      "outputs": []
    },
    {
      "cell_type": "markdown",
      "metadata": {
        "id": "4pEtRlmMbBa6"
      },
      "source": [
        "Vì tập dữ liệu không cân đối nên để cân bằng tập dữ liệu, chúng ta cần lấy mẫu lên hoặc lấy mẫu xuống tập dữ liệu. Việc lấy mẫu xuống của lớp đa số có thể làm mất đi một số thông tin quan trọng. Vì vậy, chúng tôi sẽ lấy mẫu lớp thiểu số bằng cách sử dụng **resample**. Trước khi làm điều đó, chúng ta cần chia tỷ lệ các cột phân loại bằng **get_dummies** và các cột số bằng thư viện **StandardScaler**."
      ]
    },
    {
      "cell_type": "markdown",
      "metadata": {
        "id": "oRriYHIcZaxW"
      },
      "source": [
        "**Data Scaling** "
      ]
    },
    {
      "cell_type": "code",
      "metadata": {
        "id": "g_Lx4t0yZfsl",
        "colab": {
          "base_uri": "https://localhost:8080/",
          "height": 286
        },
        "outputId": "9dfdcc5c-582b-4612-ab7c-4a47e7a7aef6"
      },
      "source": [
        "dataset = pd.get_dummies(df0)\n",
        "from sklearn.preprocessing import StandardScaler\n",
        "standardScaler = StandardScaler()\n",
        "columns_to_scale = num_cols\n",
        "dataset[columns_to_scale] = standardScaler.fit_transform(dataset[columns_to_scale]) \n",
        "dataset.head()"
      ],
      "execution_count": null,
      "outputs": [
        {
          "output_type": "execute_result",
          "data": {
            "text/html": [
              "<div>\n",
              "<style scoped>\n",
              "    .dataframe tbody tr th:only-of-type {\n",
              "        vertical-align: middle;\n",
              "    }\n",
              "\n",
              "    .dataframe tbody tr th {\n",
              "        vertical-align: top;\n",
              "    }\n",
              "\n",
              "    .dataframe thead th {\n",
              "        text-align: right;\n",
              "    }\n",
              "</style>\n",
              "<table border=\"1\" class=\"dataframe\">\n",
              "  <thead>\n",
              "    <tr style=\"text-align: right;\">\n",
              "      <th></th>\n",
              "      <th>WINNER</th>\n",
              "      <th>PARTY</th>\n",
              "      <th>GENDER</th>\n",
              "      <th>CRIMINAL CASES</th>\n",
              "      <th>AGE</th>\n",
              "      <th>CATEGORY</th>\n",
              "      <th>EDUCATION</th>\n",
              "      <th>TOTAL VOTES</th>\n",
              "      <th>TOTAL ELECTORS</th>\n",
              "      <th>ASSETS</th>\n",
              "      <th>LIABILITIES</th>\n",
              "      <th>STATE_Andaman &amp; Nicobar Islands</th>\n",
              "      <th>STATE_Andhra Pradesh</th>\n",
              "      <th>STATE_Arunachal Pradesh</th>\n",
              "      <th>STATE_Assam</th>\n",
              "      <th>STATE_Bihar</th>\n",
              "      <th>STATE_Chandigarh</th>\n",
              "      <th>STATE_Chhattisgarh</th>\n",
              "      <th>STATE_Dadra &amp; Nagar Haveli</th>\n",
              "      <th>STATE_Daman &amp; Diu</th>\n",
              "      <th>STATE_Goa</th>\n",
              "      <th>STATE_Gujarat</th>\n",
              "      <th>STATE_Haryana</th>\n",
              "      <th>STATE_Himachal Pradesh</th>\n",
              "      <th>STATE_Jammu &amp; Kashmir</th>\n",
              "      <th>STATE_Jharkhand</th>\n",
              "      <th>STATE_Karnataka</th>\n",
              "      <th>STATE_Kerala</th>\n",
              "      <th>STATE_Lakshadweep</th>\n",
              "      <th>STATE_Madhya Pradesh</th>\n",
              "      <th>STATE_Maharashtra</th>\n",
              "      <th>STATE_Manipur</th>\n",
              "      <th>STATE_Meghalaya</th>\n",
              "      <th>STATE_Mizoram</th>\n",
              "      <th>STATE_NCT OF Delhi</th>\n",
              "      <th>STATE_Nagaland</th>\n",
              "      <th>STATE_Odisha</th>\n",
              "      <th>STATE_Puducherry</th>\n",
              "      <th>STATE_Punjab</th>\n",
              "      <th>STATE_Rajasthan</th>\n",
              "      <th>...</th>\n",
              "      <th>SYMBOL_Mixee</th>\n",
              "      <th>SYMBOL_Nagara</th>\n",
              "      <th>SYMBOL_Nangol</th>\n",
              "      <th>SYMBOL_Pan</th>\n",
              "      <th>SYMBOL_Pen Nib with Seven Rays</th>\n",
              "      <th>SYMBOL_Plastering Trowel</th>\n",
              "      <th>SYMBOL_Plough</th>\n",
              "      <th>SYMBOL_Pot</th>\n",
              "      <th>SYMBOL_Pressure Cooker</th>\n",
              "      <th>SYMBOL_Refrigerator</th>\n",
              "      <th>SYMBOL_Ring</th>\n",
              "      <th>SYMBOL_Rising Sun</th>\n",
              "      <th>SYMBOL_Road Roller</th>\n",
              "      <th>SYMBOL_SHIP</th>\n",
              "      <th>SYMBOL_Saw</th>\n",
              "      <th>SYMBOL_Scales</th>\n",
              "      <th>SYMBOL_Scissors</th>\n",
              "      <th>SYMBOL_Sewing Machine</th>\n",
              "      <th>SYMBOL_Sitar</th>\n",
              "      <th>SYMBOL_Spade &amp; Stoker</th>\n",
              "      <th>SYMBOL_Spanner</th>\n",
              "      <th>SYMBOL_Spectacles</th>\n",
              "      <th>SYMBOL_Star</th>\n",
              "      <th>SYMBOL_Stethoscope</th>\n",
              "      <th>SYMBOL_Table</th>\n",
              "      <th>SYMBOL_Table Lamp</th>\n",
              "      <th>SYMBOL_Telephone</th>\n",
              "      <th>SYMBOL_Television</th>\n",
              "      <th>SYMBOL_Tent</th>\n",
              "      <th>SYMBOL_Throwing a Javelin</th>\n",
              "      <th>SYMBOL_Tiller</th>\n",
              "      <th>SYMBOL_Tractor Chalata Kisan</th>\n",
              "      <th>SYMBOL_Triangle</th>\n",
              "      <th>SYMBOL_Truck</th>\n",
              "      <th>SYMBOL_Two Leaves</th>\n",
              "      <th>SYMBOL_Tyres</th>\n",
              "      <th>SYMBOL_Umbrella</th>\n",
              "      <th>SYMBOL_Walking Stick</th>\n",
              "      <th>SYMBOL_Water Melon</th>\n",
              "      <th>SYMBOL_Whistle</th>\n",
              "    </tr>\n",
              "  </thead>\n",
              "  <tbody>\n",
              "    <tr>\n",
              "      <th>0</th>\n",
              "      <td>1</td>\n",
              "      <td>-0.628979</td>\n",
              "      <td>-0.382872</td>\n",
              "      <td>6.620242</td>\n",
              "      <td>-0.023051</td>\n",
              "      <td>2.251127</td>\n",
              "      <td>-1.242514</td>\n",
              "      <td>0.332957</td>\n",
              "      <td>-0.538876</td>\n",
              "      <td>-0.311731</td>\n",
              "      <td>-0.218126</td>\n",
              "      <td>0</td>\n",
              "      <td>0</td>\n",
              "      <td>0</td>\n",
              "      <td>0</td>\n",
              "      <td>0</td>\n",
              "      <td>0</td>\n",
              "      <td>0</td>\n",
              "      <td>0</td>\n",
              "      <td>0</td>\n",
              "      <td>0</td>\n",
              "      <td>0</td>\n",
              "      <td>0</td>\n",
              "      <td>0</td>\n",
              "      <td>0</td>\n",
              "      <td>0</td>\n",
              "      <td>0</td>\n",
              "      <td>0</td>\n",
              "      <td>0</td>\n",
              "      <td>0</td>\n",
              "      <td>0</td>\n",
              "      <td>0</td>\n",
              "      <td>0</td>\n",
              "      <td>0</td>\n",
              "      <td>0</td>\n",
              "      <td>0</td>\n",
              "      <td>0</td>\n",
              "      <td>0</td>\n",
              "      <td>0</td>\n",
              "      <td>0</td>\n",
              "      <td>...</td>\n",
              "      <td>0</td>\n",
              "      <td>0</td>\n",
              "      <td>0</td>\n",
              "      <td>0</td>\n",
              "      <td>0</td>\n",
              "      <td>0</td>\n",
              "      <td>0</td>\n",
              "      <td>0</td>\n",
              "      <td>0</td>\n",
              "      <td>0</td>\n",
              "      <td>0</td>\n",
              "      <td>0</td>\n",
              "      <td>0</td>\n",
              "      <td>0</td>\n",
              "      <td>0</td>\n",
              "      <td>0</td>\n",
              "      <td>0</td>\n",
              "      <td>0</td>\n",
              "      <td>0</td>\n",
              "      <td>0</td>\n",
              "      <td>0</td>\n",
              "      <td>0</td>\n",
              "      <td>0</td>\n",
              "      <td>0</td>\n",
              "      <td>0</td>\n",
              "      <td>0</td>\n",
              "      <td>0</td>\n",
              "      <td>0</td>\n",
              "      <td>0</td>\n",
              "      <td>0</td>\n",
              "      <td>0</td>\n",
              "      <td>0</td>\n",
              "      <td>0</td>\n",
              "      <td>0</td>\n",
              "      <td>0</td>\n",
              "      <td>0</td>\n",
              "      <td>0</td>\n",
              "      <td>0</td>\n",
              "      <td>0</td>\n",
              "      <td>0</td>\n",
              "    </tr>\n",
              "    <tr>\n",
              "      <th>1</th>\n",
              "      <td>0</td>\n",
              "      <td>-0.583879</td>\n",
              "      <td>-0.382872</td>\n",
              "      <td>-0.190426</td>\n",
              "      <td>0.145491</td>\n",
              "      <td>2.251127</td>\n",
              "      <td>-0.872637</td>\n",
              "      <td>0.103781</td>\n",
              "      <td>-0.538876</td>\n",
              "      <td>-0.274420</td>\n",
              "      <td>-0.211243</td>\n",
              "      <td>0</td>\n",
              "      <td>0</td>\n",
              "      <td>0</td>\n",
              "      <td>0</td>\n",
              "      <td>0</td>\n",
              "      <td>0</td>\n",
              "      <td>0</td>\n",
              "      <td>0</td>\n",
              "      <td>0</td>\n",
              "      <td>0</td>\n",
              "      <td>0</td>\n",
              "      <td>0</td>\n",
              "      <td>0</td>\n",
              "      <td>0</td>\n",
              "      <td>0</td>\n",
              "      <td>0</td>\n",
              "      <td>0</td>\n",
              "      <td>0</td>\n",
              "      <td>0</td>\n",
              "      <td>0</td>\n",
              "      <td>0</td>\n",
              "      <td>0</td>\n",
              "      <td>0</td>\n",
              "      <td>0</td>\n",
              "      <td>0</td>\n",
              "      <td>0</td>\n",
              "      <td>0</td>\n",
              "      <td>0</td>\n",
              "      <td>0</td>\n",
              "      <td>...</td>\n",
              "      <td>0</td>\n",
              "      <td>0</td>\n",
              "      <td>0</td>\n",
              "      <td>0</td>\n",
              "      <td>0</td>\n",
              "      <td>0</td>\n",
              "      <td>0</td>\n",
              "      <td>0</td>\n",
              "      <td>0</td>\n",
              "      <td>0</td>\n",
              "      <td>0</td>\n",
              "      <td>0</td>\n",
              "      <td>0</td>\n",
              "      <td>0</td>\n",
              "      <td>0</td>\n",
              "      <td>0</td>\n",
              "      <td>0</td>\n",
              "      <td>0</td>\n",
              "      <td>0</td>\n",
              "      <td>0</td>\n",
              "      <td>0</td>\n",
              "      <td>0</td>\n",
              "      <td>0</td>\n",
              "      <td>0</td>\n",
              "      <td>0</td>\n",
              "      <td>0</td>\n",
              "      <td>0</td>\n",
              "      <td>0</td>\n",
              "      <td>0</td>\n",
              "      <td>0</td>\n",
              "      <td>0</td>\n",
              "      <td>0</td>\n",
              "      <td>0</td>\n",
              "      <td>0</td>\n",
              "      <td>0</td>\n",
              "      <td>0</td>\n",
              "      <td>0</td>\n",
              "      <td>0</td>\n",
              "      <td>0</td>\n",
              "      <td>0</td>\n",
              "    </tr>\n",
              "    <tr>\n",
              "      <th>2</th>\n",
              "      <td>0</td>\n",
              "      <td>-0.538780</td>\n",
              "      <td>-0.382872</td>\n",
              "      <td>0.202498</td>\n",
              "      <td>-0.023051</td>\n",
              "      <td>2.251127</td>\n",
              "      <td>-1.242514</td>\n",
              "      <td>0.085873</td>\n",
              "      <td>-0.538876</td>\n",
              "      <td>-0.230717</td>\n",
              "      <td>-0.049632</td>\n",
              "      <td>0</td>\n",
              "      <td>0</td>\n",
              "      <td>0</td>\n",
              "      <td>0</td>\n",
              "      <td>0</td>\n",
              "      <td>0</td>\n",
              "      <td>0</td>\n",
              "      <td>0</td>\n",
              "      <td>0</td>\n",
              "      <td>0</td>\n",
              "      <td>0</td>\n",
              "      <td>0</td>\n",
              "      <td>0</td>\n",
              "      <td>0</td>\n",
              "      <td>0</td>\n",
              "      <td>0</td>\n",
              "      <td>0</td>\n",
              "      <td>0</td>\n",
              "      <td>0</td>\n",
              "      <td>0</td>\n",
              "      <td>0</td>\n",
              "      <td>0</td>\n",
              "      <td>0</td>\n",
              "      <td>0</td>\n",
              "      <td>0</td>\n",
              "      <td>0</td>\n",
              "      <td>0</td>\n",
              "      <td>0</td>\n",
              "      <td>0</td>\n",
              "      <td>...</td>\n",
              "      <td>0</td>\n",
              "      <td>0</td>\n",
              "      <td>0</td>\n",
              "      <td>0</td>\n",
              "      <td>0</td>\n",
              "      <td>0</td>\n",
              "      <td>0</td>\n",
              "      <td>0</td>\n",
              "      <td>0</td>\n",
              "      <td>0</td>\n",
              "      <td>0</td>\n",
              "      <td>0</td>\n",
              "      <td>0</td>\n",
              "      <td>0</td>\n",
              "      <td>0</td>\n",
              "      <td>0</td>\n",
              "      <td>0</td>\n",
              "      <td>0</td>\n",
              "      <td>0</td>\n",
              "      <td>0</td>\n",
              "      <td>0</td>\n",
              "      <td>0</td>\n",
              "      <td>0</td>\n",
              "      <td>0</td>\n",
              "      <td>0</td>\n",
              "      <td>0</td>\n",
              "      <td>0</td>\n",
              "      <td>0</td>\n",
              "      <td>0</td>\n",
              "      <td>0</td>\n",
              "      <td>0</td>\n",
              "      <td>0</td>\n",
              "      <td>0</td>\n",
              "      <td>0</td>\n",
              "      <td>0</td>\n",
              "      <td>0</td>\n",
              "      <td>0</td>\n",
              "      <td>0</td>\n",
              "      <td>0</td>\n",
              "      <td>0</td>\n",
              "    </tr>\n",
              "    <tr>\n",
              "      <th>4</th>\n",
              "      <td>1</td>\n",
              "      <td>-0.628979</td>\n",
              "      <td>-0.382872</td>\n",
              "      <td>0.464446</td>\n",
              "      <td>0.482577</td>\n",
              "      <td>0.816718</td>\n",
              "      <td>-0.502761</td>\n",
              "      <td>1.387657</td>\n",
              "      <td>0.876978</td>\n",
              "      <td>-0.139047</td>\n",
              "      <td>-0.124477</td>\n",
              "      <td>0</td>\n",
              "      <td>0</td>\n",
              "      <td>0</td>\n",
              "      <td>0</td>\n",
              "      <td>0</td>\n",
              "      <td>0</td>\n",
              "      <td>0</td>\n",
              "      <td>0</td>\n",
              "      <td>0</td>\n",
              "      <td>0</td>\n",
              "      <td>0</td>\n",
              "      <td>0</td>\n",
              "      <td>0</td>\n",
              "      <td>0</td>\n",
              "      <td>0</td>\n",
              "      <td>0</td>\n",
              "      <td>0</td>\n",
              "      <td>0</td>\n",
              "      <td>0</td>\n",
              "      <td>0</td>\n",
              "      <td>0</td>\n",
              "      <td>0</td>\n",
              "      <td>0</td>\n",
              "      <td>0</td>\n",
              "      <td>0</td>\n",
              "      <td>0</td>\n",
              "      <td>0</td>\n",
              "      <td>0</td>\n",
              "      <td>0</td>\n",
              "      <td>...</td>\n",
              "      <td>0</td>\n",
              "      <td>0</td>\n",
              "      <td>0</td>\n",
              "      <td>0</td>\n",
              "      <td>0</td>\n",
              "      <td>0</td>\n",
              "      <td>0</td>\n",
              "      <td>0</td>\n",
              "      <td>0</td>\n",
              "      <td>0</td>\n",
              "      <td>0</td>\n",
              "      <td>0</td>\n",
              "      <td>0</td>\n",
              "      <td>0</td>\n",
              "      <td>0</td>\n",
              "      <td>0</td>\n",
              "      <td>0</td>\n",
              "      <td>0</td>\n",
              "      <td>0</td>\n",
              "      <td>0</td>\n",
              "      <td>0</td>\n",
              "      <td>0</td>\n",
              "      <td>0</td>\n",
              "      <td>0</td>\n",
              "      <td>0</td>\n",
              "      <td>0</td>\n",
              "      <td>0</td>\n",
              "      <td>0</td>\n",
              "      <td>0</td>\n",
              "      <td>0</td>\n",
              "      <td>0</td>\n",
              "      <td>0</td>\n",
              "      <td>0</td>\n",
              "      <td>0</td>\n",
              "      <td>0</td>\n",
              "      <td>0</td>\n",
              "      <td>0</td>\n",
              "      <td>0</td>\n",
              "      <td>0</td>\n",
              "      <td>0</td>\n",
              "    </tr>\n",
              "    <tr>\n",
              "      <th>5</th>\n",
              "      <td>0</td>\n",
              "      <td>-0.493681</td>\n",
              "      <td>-0.382872</td>\n",
              "      <td>-0.190426</td>\n",
              "      <td>-0.444408</td>\n",
              "      <td>0.816718</td>\n",
              "      <td>-0.872637</td>\n",
              "      <td>0.559766</td>\n",
              "      <td>0.876978</td>\n",
              "      <td>0.005336</td>\n",
              "      <td>0.028103</td>\n",
              "      <td>0</td>\n",
              "      <td>0</td>\n",
              "      <td>0</td>\n",
              "      <td>0</td>\n",
              "      <td>0</td>\n",
              "      <td>0</td>\n",
              "      <td>0</td>\n",
              "      <td>0</td>\n",
              "      <td>0</td>\n",
              "      <td>0</td>\n",
              "      <td>0</td>\n",
              "      <td>0</td>\n",
              "      <td>0</td>\n",
              "      <td>0</td>\n",
              "      <td>0</td>\n",
              "      <td>0</td>\n",
              "      <td>0</td>\n",
              "      <td>0</td>\n",
              "      <td>0</td>\n",
              "      <td>0</td>\n",
              "      <td>0</td>\n",
              "      <td>0</td>\n",
              "      <td>0</td>\n",
              "      <td>0</td>\n",
              "      <td>0</td>\n",
              "      <td>0</td>\n",
              "      <td>0</td>\n",
              "      <td>0</td>\n",
              "      <td>0</td>\n",
              "      <td>...</td>\n",
              "      <td>0</td>\n",
              "      <td>0</td>\n",
              "      <td>0</td>\n",
              "      <td>0</td>\n",
              "      <td>0</td>\n",
              "      <td>0</td>\n",
              "      <td>0</td>\n",
              "      <td>0</td>\n",
              "      <td>0</td>\n",
              "      <td>0</td>\n",
              "      <td>0</td>\n",
              "      <td>0</td>\n",
              "      <td>0</td>\n",
              "      <td>0</td>\n",
              "      <td>0</td>\n",
              "      <td>0</td>\n",
              "      <td>0</td>\n",
              "      <td>0</td>\n",
              "      <td>0</td>\n",
              "      <td>0</td>\n",
              "      <td>0</td>\n",
              "      <td>0</td>\n",
              "      <td>0</td>\n",
              "      <td>0</td>\n",
              "      <td>0</td>\n",
              "      <td>0</td>\n",
              "      <td>0</td>\n",
              "      <td>0</td>\n",
              "      <td>0</td>\n",
              "      <td>0</td>\n",
              "      <td>0</td>\n",
              "      <td>0</td>\n",
              "      <td>0</td>\n",
              "      <td>0</td>\n",
              "      <td>0</td>\n",
              "      <td>0</td>\n",
              "      <td>0</td>\n",
              "      <td>0</td>\n",
              "      <td>0</td>\n",
              "      <td>0</td>\n",
              "    </tr>\n",
              "  </tbody>\n",
              "</table>\n",
              "<p>5 rows × 712 columns</p>\n",
              "</div>"
            ],
            "text/plain": [
              "   WINNER     PARTY  ...  SYMBOL_Water Melon  SYMBOL_Whistle\n",
              "0       1 -0.628979  ...                   0               0\n",
              "1       0 -0.583879  ...                   0               0\n",
              "2       0 -0.538780  ...                   0               0\n",
              "4       1 -0.628979  ...                   0               0\n",
              "5       0 -0.493681  ...                   0               0\n",
              "\n",
              "[5 rows x 712 columns]"
            ]
          },
          "metadata": {},
          "execution_count": 67
        }
      ]
    },
    {
      "cell_type": "markdown",
      "metadata": {
        "id": "4-NAr3PPZ-FW"
      },
      "source": [
        "**Up-Sampling (Lấy mẫu ngược tầng lớp thiểu số)**"
      ]
    },
    {
      "cell_type": "code",
      "metadata": {
        "id": "CwEUV3gUwlIF",
        "colab": {
          "base_uri": "https://localhost:8080/"
        },
        "outputId": "c0589d9b-9b5d-49e1-bdc8-3e7ee7ec447a"
      },
      "source": [
        "from sklearn.utils import resample\n",
        "df_not_winner = dataset[dataset.WINNER == 0]\n",
        "df_winner = dataset[dataset.WINNER == 1]\n",
        "df_winner_upsampled = resample(df_winner, replace = True,n_samples = 1479, random_state = 0) \n",
        "df_total_upsampled = pd.concat([df_not_winner, df_winner_upsampled])\n",
        "df_total_upsampled .WINNER.value_counts()"
      ],
      "execution_count": null,
      "outputs": [
        {
          "output_type": "execute_result",
          "data": {
            "text/plain": [
              "1    1479\n",
              "0    1479\n",
              "Name: WINNER, dtype: int64"
            ]
          },
          "metadata": {},
          "execution_count": 69
        }
      ]
    },
    {
      "cell_type": "markdown",
      "metadata": {
        "id": "zbVCTuFZcH44"
      },
      "source": [
        "Bây giờ như chúng ta có thể thấy tập dữ liệu đã được cân bằng nên chúng tôi có thể chia tập dữ liệu bây giờ thành các biến phụ thuộc & độc lập"
      ]
    },
    {
      "cell_type": "code",
      "metadata": {
        "id": "1unirfphZjG9"
      },
      "source": [
        "y = df_total_upsampled['WINNER']\n",
        "X = df_total_upsampled.drop(['WINNER'], axis = 1)"
      ],
      "execution_count": null,
      "outputs": []
    },
    {
      "cell_type": "markdown",
      "metadata": {
        "id": "MR6PNfhMYOOZ"
      },
      "source": [
        "**Random Forest Classifier**\n"
      ]
    },
    {
      "cell_type": "markdown",
      "metadata": {
        "id": "RAHVefusYmev"
      },
      "source": [
        "Chúng tôi sẽ sử dụng ***Random Forest Classifier*** để dự đoán những người chiến thắng trong cuộc bầu cử. Để biết số cây tối ưu cần thiết để dự đoán kết quả với độ chính xác cao nhất, chúng tôi sẽ vẽ biểu đồ điểm chính xác cho các giá trị khác nhau của k và sẽ chọn giá trị k mang lại độ chính xác cao nhất."
      ]
    },
    {
      "cell_type": "code",
      "metadata": {
        "colab": {
          "base_uri": "https://localhost:8080/",
          "height": 542
        },
        "id": "Y227g43bXVeO",
        "outputId": "554c1cd8-49a3-406b-f91f-bcfb652013bb"
      },
      "source": [
        "from sklearn.ensemble import RandomForestClassifier\n",
        "from sklearn.model_selection import cross_val_score\n",
        "rfc_scores = []\n",
        "for k in range(1,50):\n",
        "    randomforest_classifier= RandomForestClassifier(n_estimators=k,random_state=0)\n",
        "    score=cross_val_score(randomforest_classifier,X,y,cv=10)\n",
        "    rfc_scores.append(score.mean())\n",
        "\n",
        "fig=px.scatter(x=[k for k in range(1, 50)],y= rfc_scores,color=rfc_scores,size=rfc_scores)\n",
        "fig.update_layout(title_text='Random Forest Classifier scores for different K values',template='plotly_dark')\n",
        "fig.show()"
      ],
      "execution_count": null,
      "outputs": [
        {
          "output_type": "display_data",
          "data": {
            "text/html": [
              "<html>\n",
              "<head><meta charset=\"utf-8\" /></head>\n",
              "<body>\n",
              "    <div>\n",
              "            <script src=\"https://cdnjs.cloudflare.com/ajax/libs/mathjax/2.7.5/MathJax.js?config=TeX-AMS-MML_SVG\"></script><script type=\"text/javascript\">if (window.MathJax) {MathJax.Hub.Config({SVG: {font: \"STIX-Web\"}});}</script>\n",
              "                <script type=\"text/javascript\">window.PlotlyConfig = {MathJaxConfig: 'local'};</script>\n",
              "        <script src=\"https://cdn.plot.ly/plotly-latest.min.js\"></script>    \n",
              "            <div id=\"6d1da9fd-247c-48a7-a038-415e740706c0\" class=\"plotly-graph-div\" style=\"height:525px; width:100%;\"></div>\n",
              "            <script type=\"text/javascript\">\n",
              "                \n",
              "                    window.PLOTLYENV=window.PLOTLYENV || {};\n",
              "                    \n",
              "                if (document.getElementById(\"6d1da9fd-247c-48a7-a038-415e740706c0\")) {\n",
              "                    Plotly.newPlot(\n",
              "                        '6d1da9fd-247c-48a7-a038-415e740706c0',\n",
              "                        [{\"hoverlabel\": {\"namelength\": 0}, \"hovertemplate\": \"x=%{x}<br>y=%{y}<br>size=%{marker.size}<br>color=%{marker.color}\", \"legendgroup\": \"\", \"marker\": {\"color\": [0.90873453962437, 0.933392120934494, 0.9428744846541457, 0.9496300961978926, 0.9476122308749428, 0.9536944571690336, 0.9503183692166743, 0.9550469537333944, 0.9523465414567109, 0.9540345854328907, 0.9530199267063674, 0.9564017407237747, 0.9550492441594137, 0.9567361429225836, 0.9547079706825471, 0.9563983050847458, 0.9560616124599175, 0.9570751259734311, 0.9580897846999543, 0.9577519468621164, 0.956400595510765, 0.9580897846999543, 0.9560627576729273, 0.9567384333486029, 0.9570762711864408, 0.9570762711864408, 0.9570762711864408, 0.9574141090242787, 0.9570762711864408, 0.958427622537792, 0.9567372881355933, 0.9580897846999543, 0.9577508016491068, 0.9584264773247824, 0.9574141090242785, 0.9580897846999543, 0.957075125973431, 0.957412963811269, 0.9567361429225836, 0.9560593220338983, 0.956060467246908, 0.9560593220338983, 0.9560593220338983, 0.9570739807604214, 0.9567349977095739, 0.9577508016491068, 0.957412963811269, 0.9574118185982593, 0.9567361429225836], \"coloraxis\": \"coloraxis\", \"size\": [0.90873453962437, 0.933392120934494, 0.9428744846541457, 0.9496300961978926, 0.9476122308749428, 0.9536944571690336, 0.9503183692166743, 0.9550469537333944, 0.9523465414567109, 0.9540345854328907, 0.9530199267063674, 0.9564017407237747, 0.9550492441594137, 0.9567361429225836, 0.9547079706825471, 0.9563983050847458, 0.9560616124599175, 0.9570751259734311, 0.9580897846999543, 0.9577519468621164, 0.956400595510765, 0.9580897846999543, 0.9560627576729273, 0.9567384333486029, 0.9570762711864408, 0.9570762711864408, 0.9570762711864408, 0.9574141090242787, 0.9570762711864408, 0.958427622537792, 0.9567372881355933, 0.9580897846999543, 0.9577508016491068, 0.9584264773247824, 0.9574141090242785, 0.9580897846999543, 0.957075125973431, 0.957412963811269, 0.9567361429225836, 0.9560593220338983, 0.956060467246908, 0.9560593220338983, 0.9560593220338983, 0.9570739807604214, 0.9567349977095739, 0.9577508016491068, 0.957412963811269, 0.9574118185982593, 0.9567361429225836], \"sizemode\": \"area\", \"sizeref\": 0.00239606905634448, \"symbol\": \"circle\"}, \"mode\": \"markers\", \"name\": \"\", \"showlegend\": false, \"type\": \"scatter\", \"x\": [1, 2, 3, 4, 5, 6, 7, 8, 9, 10, 11, 12, 13, 14, 15, 16, 17, 18, 19, 20, 21, 22, 23, 24, 25, 26, 27, 28, 29, 30, 31, 32, 33, 34, 35, 36, 37, 38, 39, 40, 41, 42, 43, 44, 45, 46, 47, 48, 49], \"xaxis\": \"x\", \"y\": [0.90873453962437, 0.933392120934494, 0.9428744846541457, 0.9496300961978926, 0.9476122308749428, 0.9536944571690336, 0.9503183692166743, 0.9550469537333944, 0.9523465414567109, 0.9540345854328907, 0.9530199267063674, 0.9564017407237747, 0.9550492441594137, 0.9567361429225836, 0.9547079706825471, 0.9563983050847458, 0.9560616124599175, 0.9570751259734311, 0.9580897846999543, 0.9577519468621164, 0.956400595510765, 0.9580897846999543, 0.9560627576729273, 0.9567384333486029, 0.9570762711864408, 0.9570762711864408, 0.9570762711864408, 0.9574141090242787, 0.9570762711864408, 0.958427622537792, 0.9567372881355933, 0.9580897846999543, 0.9577508016491068, 0.9584264773247824, 0.9574141090242785, 0.9580897846999543, 0.957075125973431, 0.957412963811269, 0.9567361429225836, 0.9560593220338983, 0.956060467246908, 0.9560593220338983, 0.9560593220338983, 0.9570739807604214, 0.9567349977095739, 0.9577508016491068, 0.957412963811269, 0.9574118185982593, 0.9567361429225836], \"yaxis\": \"y\"}],\n",
              "                        {\"coloraxis\": {\"colorbar\": {\"title\": {\"text\": \"color\"}}, \"colorscale\": [[0.0, \"#0d0887\"], [0.1111111111111111, \"#46039f\"], [0.2222222222222222, \"#7201a8\"], [0.3333333333333333, \"#9c179e\"], [0.4444444444444444, \"#bd3786\"], [0.5555555555555556, \"#d8576b\"], [0.6666666666666666, \"#ed7953\"], [0.7777777777777778, \"#fb9f3a\"], [0.8888888888888888, \"#fdca26\"], [1.0, \"#f0f921\"]]}, \"legend\": {\"itemsizing\": \"constant\", \"tracegroupgap\": 0}, \"margin\": {\"t\": 60}, \"template\": {\"data\": {\"bar\": [{\"error_x\": {\"color\": \"#f2f5fa\"}, \"error_y\": {\"color\": \"#f2f5fa\"}, \"marker\": {\"line\": {\"color\": \"rgb(17,17,17)\", \"width\": 0.5}}, \"type\": \"bar\"}], \"barpolar\": [{\"marker\": {\"line\": {\"color\": \"rgb(17,17,17)\", \"width\": 0.5}}, \"type\": \"barpolar\"}], \"carpet\": [{\"aaxis\": {\"endlinecolor\": \"#A2B1C6\", \"gridcolor\": \"#506784\", \"linecolor\": \"#506784\", \"minorgridcolor\": \"#506784\", \"startlinecolor\": \"#A2B1C6\"}, \"baxis\": {\"endlinecolor\": \"#A2B1C6\", \"gridcolor\": \"#506784\", \"linecolor\": \"#506784\", \"minorgridcolor\": \"#506784\", \"startlinecolor\": \"#A2B1C6\"}, \"type\": \"carpet\"}], \"choropleth\": [{\"colorbar\": {\"outlinewidth\": 0, \"ticks\": \"\"}, \"type\": \"choropleth\"}], \"contour\": [{\"colorbar\": {\"outlinewidth\": 0, \"ticks\": \"\"}, \"colorscale\": [[0.0, \"#0d0887\"], [0.1111111111111111, \"#46039f\"], [0.2222222222222222, \"#7201a8\"], [0.3333333333333333, \"#9c179e\"], [0.4444444444444444, \"#bd3786\"], [0.5555555555555556, \"#d8576b\"], [0.6666666666666666, \"#ed7953\"], [0.7777777777777778, \"#fb9f3a\"], [0.8888888888888888, \"#fdca26\"], [1.0, \"#f0f921\"]], \"type\": \"contour\"}], \"contourcarpet\": [{\"colorbar\": {\"outlinewidth\": 0, \"ticks\": \"\"}, \"type\": \"contourcarpet\"}], \"heatmap\": [{\"colorbar\": {\"outlinewidth\": 0, \"ticks\": \"\"}, \"colorscale\": [[0.0, \"#0d0887\"], [0.1111111111111111, \"#46039f\"], [0.2222222222222222, \"#7201a8\"], [0.3333333333333333, \"#9c179e\"], [0.4444444444444444, \"#bd3786\"], [0.5555555555555556, \"#d8576b\"], [0.6666666666666666, \"#ed7953\"], [0.7777777777777778, \"#fb9f3a\"], [0.8888888888888888, \"#fdca26\"], [1.0, \"#f0f921\"]], \"type\": \"heatmap\"}], \"heatmapgl\": [{\"colorbar\": {\"outlinewidth\": 0, \"ticks\": \"\"}, \"colorscale\": [[0.0, \"#0d0887\"], [0.1111111111111111, \"#46039f\"], [0.2222222222222222, \"#7201a8\"], [0.3333333333333333, \"#9c179e\"], [0.4444444444444444, \"#bd3786\"], [0.5555555555555556, \"#d8576b\"], [0.6666666666666666, \"#ed7953\"], [0.7777777777777778, \"#fb9f3a\"], [0.8888888888888888, \"#fdca26\"], [1.0, \"#f0f921\"]], \"type\": \"heatmapgl\"}], \"histogram\": [{\"marker\": {\"colorbar\": {\"outlinewidth\": 0, \"ticks\": \"\"}}, \"type\": \"histogram\"}], \"histogram2d\": [{\"colorbar\": {\"outlinewidth\": 0, \"ticks\": \"\"}, \"colorscale\": [[0.0, \"#0d0887\"], [0.1111111111111111, \"#46039f\"], [0.2222222222222222, \"#7201a8\"], [0.3333333333333333, \"#9c179e\"], [0.4444444444444444, \"#bd3786\"], [0.5555555555555556, \"#d8576b\"], [0.6666666666666666, \"#ed7953\"], [0.7777777777777778, \"#fb9f3a\"], [0.8888888888888888, \"#fdca26\"], [1.0, \"#f0f921\"]], \"type\": \"histogram2d\"}], \"histogram2dcontour\": [{\"colorbar\": {\"outlinewidth\": 0, \"ticks\": \"\"}, \"colorscale\": [[0.0, \"#0d0887\"], [0.1111111111111111, \"#46039f\"], [0.2222222222222222, \"#7201a8\"], [0.3333333333333333, \"#9c179e\"], [0.4444444444444444, \"#bd3786\"], [0.5555555555555556, \"#d8576b\"], [0.6666666666666666, \"#ed7953\"], [0.7777777777777778, \"#fb9f3a\"], [0.8888888888888888, \"#fdca26\"], [1.0, \"#f0f921\"]], \"type\": \"histogram2dcontour\"}], \"mesh3d\": [{\"colorbar\": {\"outlinewidth\": 0, \"ticks\": \"\"}, \"type\": \"mesh3d\"}], \"parcoords\": [{\"line\": {\"colorbar\": {\"outlinewidth\": 0, \"ticks\": \"\"}}, \"type\": \"parcoords\"}], \"pie\": [{\"automargin\": true, \"type\": \"pie\"}], \"scatter\": [{\"marker\": {\"line\": {\"color\": \"#283442\"}}, \"type\": \"scatter\"}], \"scatter3d\": [{\"line\": {\"colorbar\": {\"outlinewidth\": 0, \"ticks\": \"\"}}, \"marker\": {\"colorbar\": {\"outlinewidth\": 0, \"ticks\": \"\"}}, \"type\": \"scatter3d\"}], \"scattercarpet\": [{\"marker\": {\"colorbar\": {\"outlinewidth\": 0, \"ticks\": \"\"}}, \"type\": \"scattercarpet\"}], \"scattergeo\": [{\"marker\": {\"colorbar\": {\"outlinewidth\": 0, \"ticks\": \"\"}}, \"type\": \"scattergeo\"}], \"scattergl\": [{\"marker\": {\"line\": {\"color\": \"#283442\"}}, \"type\": \"scattergl\"}], \"scattermapbox\": [{\"marker\": {\"colorbar\": {\"outlinewidth\": 0, \"ticks\": \"\"}}, \"type\": \"scattermapbox\"}], \"scatterpolar\": [{\"marker\": {\"colorbar\": {\"outlinewidth\": 0, \"ticks\": \"\"}}, \"type\": \"scatterpolar\"}], \"scatterpolargl\": [{\"marker\": {\"colorbar\": {\"outlinewidth\": 0, \"ticks\": \"\"}}, \"type\": \"scatterpolargl\"}], \"scatterternary\": [{\"marker\": {\"colorbar\": {\"outlinewidth\": 0, \"ticks\": \"\"}}, \"type\": \"scatterternary\"}], \"surface\": [{\"colorbar\": {\"outlinewidth\": 0, \"ticks\": \"\"}, \"colorscale\": [[0.0, \"#0d0887\"], [0.1111111111111111, \"#46039f\"], [0.2222222222222222, \"#7201a8\"], [0.3333333333333333, \"#9c179e\"], [0.4444444444444444, \"#bd3786\"], [0.5555555555555556, \"#d8576b\"], [0.6666666666666666, \"#ed7953\"], [0.7777777777777778, \"#fb9f3a\"], [0.8888888888888888, \"#fdca26\"], [1.0, \"#f0f921\"]], \"type\": \"surface\"}], \"table\": [{\"cells\": {\"fill\": {\"color\": \"#506784\"}, \"line\": {\"color\": \"rgb(17,17,17)\"}}, \"header\": {\"fill\": {\"color\": \"#2a3f5f\"}, \"line\": {\"color\": \"rgb(17,17,17)\"}}, \"type\": \"table\"}]}, \"layout\": {\"annotationdefaults\": {\"arrowcolor\": \"#f2f5fa\", \"arrowhead\": 0, \"arrowwidth\": 1}, \"coloraxis\": {\"colorbar\": {\"outlinewidth\": 0, \"ticks\": \"\"}}, \"colorscale\": {\"diverging\": [[0, \"#8e0152\"], [0.1, \"#c51b7d\"], [0.2, \"#de77ae\"], [0.3, \"#f1b6da\"], [0.4, \"#fde0ef\"], [0.5, \"#f7f7f7\"], [0.6, \"#e6f5d0\"], [0.7, \"#b8e186\"], [0.8, \"#7fbc41\"], [0.9, \"#4d9221\"], [1, \"#276419\"]], \"sequential\": [[0.0, \"#0d0887\"], [0.1111111111111111, \"#46039f\"], [0.2222222222222222, \"#7201a8\"], [0.3333333333333333, \"#9c179e\"], [0.4444444444444444, \"#bd3786\"], [0.5555555555555556, \"#d8576b\"], [0.6666666666666666, \"#ed7953\"], [0.7777777777777778, \"#fb9f3a\"], [0.8888888888888888, \"#fdca26\"], [1.0, \"#f0f921\"]], \"sequentialminus\": [[0.0, \"#0d0887\"], [0.1111111111111111, \"#46039f\"], [0.2222222222222222, \"#7201a8\"], [0.3333333333333333, \"#9c179e\"], [0.4444444444444444, \"#bd3786\"], [0.5555555555555556, \"#d8576b\"], [0.6666666666666666, \"#ed7953\"], [0.7777777777777778, \"#fb9f3a\"], [0.8888888888888888, \"#fdca26\"], [1.0, \"#f0f921\"]]}, \"colorway\": [\"#636efa\", \"#EF553B\", \"#00cc96\", \"#ab63fa\", \"#FFA15A\", \"#19d3f3\", \"#FF6692\", \"#B6E880\", \"#FF97FF\", \"#FECB52\"], \"font\": {\"color\": \"#f2f5fa\"}, \"geo\": {\"bgcolor\": \"rgb(17,17,17)\", \"lakecolor\": \"rgb(17,17,17)\", \"landcolor\": \"rgb(17,17,17)\", \"showlakes\": true, \"showland\": true, \"subunitcolor\": \"#506784\"}, \"hoverlabel\": {\"align\": \"left\"}, \"hovermode\": \"closest\", \"mapbox\": {\"style\": \"dark\"}, \"paper_bgcolor\": \"rgb(17,17,17)\", \"plot_bgcolor\": \"rgb(17,17,17)\", \"polar\": {\"angularaxis\": {\"gridcolor\": \"#506784\", \"linecolor\": \"#506784\", \"ticks\": \"\"}, \"bgcolor\": \"rgb(17,17,17)\", \"radialaxis\": {\"gridcolor\": \"#506784\", \"linecolor\": \"#506784\", \"ticks\": \"\"}}, \"scene\": {\"xaxis\": {\"backgroundcolor\": \"rgb(17,17,17)\", \"gridcolor\": \"#506784\", \"gridwidth\": 2, \"linecolor\": \"#506784\", \"showbackground\": true, \"ticks\": \"\", \"zerolinecolor\": \"#C8D4E3\"}, \"yaxis\": {\"backgroundcolor\": \"rgb(17,17,17)\", \"gridcolor\": \"#506784\", \"gridwidth\": 2, \"linecolor\": \"#506784\", \"showbackground\": true, \"ticks\": \"\", \"zerolinecolor\": \"#C8D4E3\"}, \"zaxis\": {\"backgroundcolor\": \"rgb(17,17,17)\", \"gridcolor\": \"#506784\", \"gridwidth\": 2, \"linecolor\": \"#506784\", \"showbackground\": true, \"ticks\": \"\", \"zerolinecolor\": \"#C8D4E3\"}}, \"shapedefaults\": {\"line\": {\"color\": \"#f2f5fa\"}}, \"sliderdefaults\": {\"bgcolor\": \"#C8D4E3\", \"bordercolor\": \"rgb(17,17,17)\", \"borderwidth\": 1, \"tickwidth\": 0}, \"ternary\": {\"aaxis\": {\"gridcolor\": \"#506784\", \"linecolor\": \"#506784\", \"ticks\": \"\"}, \"baxis\": {\"gridcolor\": \"#506784\", \"linecolor\": \"#506784\", \"ticks\": \"\"}, \"bgcolor\": \"rgb(17,17,17)\", \"caxis\": {\"gridcolor\": \"#506784\", \"linecolor\": \"#506784\", \"ticks\": \"\"}}, \"title\": {\"x\": 0.05}, \"updatemenudefaults\": {\"bgcolor\": \"#506784\", \"borderwidth\": 0}, \"xaxis\": {\"automargin\": true, \"gridcolor\": \"#283442\", \"linecolor\": \"#506784\", \"ticks\": \"\", \"title\": {\"standoff\": 15}, \"zerolinecolor\": \"#283442\", \"zerolinewidth\": 2}, \"yaxis\": {\"automargin\": true, \"gridcolor\": \"#283442\", \"linecolor\": \"#506784\", \"ticks\": \"\", \"title\": {\"standoff\": 15}, \"zerolinecolor\": \"#283442\", \"zerolinewidth\": 2}}}, \"title\": {\"text\": \"Random Forest Classifier scores for different K values\"}, \"xaxis\": {\"anchor\": \"y\", \"domain\": [0.0, 1.0], \"title\": {\"text\": \"x\"}}, \"yaxis\": {\"anchor\": \"x\", \"domain\": [0.0, 1.0], \"title\": {\"text\": \"y\"}}},\n",
              "                        {\"responsive\": true}\n",
              "                    ).then(function(){\n",
              "                            \n",
              "var gd = document.getElementById('6d1da9fd-247c-48a7-a038-415e740706c0');\n",
              "var x = new MutationObserver(function (mutations, observer) {{\n",
              "        var display = window.getComputedStyle(gd).display;\n",
              "        if (!display || display === 'none') {{\n",
              "            console.log([gd, 'removed!']);\n",
              "            Plotly.purge(gd);\n",
              "            observer.disconnect();\n",
              "        }}\n",
              "}});\n",
              "\n",
              "// Listen for the removal of the full notebook cells\n",
              "var notebookContainer = gd.closest('#notebook-container');\n",
              "if (notebookContainer) {{\n",
              "    x.observe(notebookContainer, {childList: true});\n",
              "}}\n",
              "\n",
              "// Listen for the clearing of the current output cell\n",
              "var outputEl = gd.closest('.output');\n",
              "if (outputEl) {{\n",
              "    x.observe(outputEl, {childList: true});\n",
              "}}\n",
              "\n",
              "                        })\n",
              "                };\n",
              "                \n",
              "            </script>\n",
              "        </div>\n",
              "</body>\n",
              "</html>"
            ]
          },
          "metadata": {}
        }
      ]
    },
    {
      "cell_type": "markdown",
      "metadata": {
        "id": "GeM-WXQBYv4Z"
      },
      "source": [
        "Như chúng ta có thể thấy từ đồ thị, độ chính xác của đồ thị là lớn nhất ở k = 30. Do đó, chúng tôi sẽ chọn n_estimators = 30."
      ]
    },
    {
      "cell_type": "code",
      "metadata": {
        "id": "htlF-zpEYths",
        "colab": {
          "base_uri": "https://localhost:8080/"
        },
        "outputId": "6fef6323-96c6-4b7f-864f-95fa1210317c"
      },
      "source": [
        "-randomforest_classifier= RandomForestClassifier(n_estimators=30,random_state=0)\n",
        "score=cross_val_score(randomforest_classifier,X,y,cv=10)\n",
        "print('% Accuracy :', round(score.mean()*100,4))"
      ],
      "execution_count": null,
      "outputs": [
        {
          "output_type": "stream",
          "name": "stdout",
          "text": [
            "% Accuracy : 95.8428\n"
          ]
        }
      ]
    },
    {
      "cell_type": "markdown",
      "metadata": {
        "id": "ippOx9ucEZ_b"
      },
      "source": [
        "Chúng tôi đã đạt được độ chính xác khoảng 95.8% bằng cách sử dụng Bộ phân loại rừng ngẫu nhiên."
      ]
    },
    {
      "cell_type": "markdown",
      "metadata": {
        "id": "ZmC3DftJo3I7"
      },
      "source": [
        "## **TỔNG KẾT**"
      ]
    },
    {
      "cell_type": "markdown",
      "metadata": {
        "id": "BEb-C4xyanEi"
      },
      "source": [
        "**Sau khi phân tích mô hình bỏ phiếu của người Ấn Độ, chúng tôi đã đưa ra một số kết luận như sau:**\n",
        "\n",
        "1. Vào năm 2019, **Đảng Bharatiya Janata (BJP)** đã **giành được nhiều ghế nhất trên toàn Ấn Độ** - chiếm ưu thế rõ ràng hơn so với các đảng phái còn lại. Sự tiếp cận do họ tạo ra đã thực sự khiến họ khẳng định được vị trí của mình trong Lok Sabha.\n",
        "2. Nói chung, **giáo dục** được coi là **một yếu tố quan trọng** trong khi bỏ phiếu. Khoảng **72% trở lên** trong số những người chiến thắng có bằng cấp và tốt nghiệp. Đây là một yếu tố quan trọng đối với một quốc gia đang phát triển như Ấn Độ - nơi chúng ta cần những chính trị gia có học thức để lãnh đạo đất nước.\n",
        "3. Sự tham gia của các **ứng cử viên nữ ít hơn nhiều so với các ứng cử viên nam**. Tỷ lệ giới tính cân bằng sẽ tốt hơn vì mọi người từ các thành phần khác nhau đều đóng góp vào sự tiến bộ của xã hội làm cho nó ngày một tốt hơn.\n",
        "4. **Độ tuổi trung bình của các ứng cử viên khá cao**. Nó có thể là một lợi thế đối với các ứng cử viên trẻ tuổi có khả năng lãnh đạo quốc gia tranh cử. Mặc dù không chắc chắn rằng các chính trị gia lớn tuổi sẽ không thể thực hiện tốt nhiệm vụ của họ - nhưng nó đi kèm với rủi ro về sức khỏe và các vấn đề liên quan đến tuổi tác.\n",
        "5. Các **ứng cử viên trúng cử có tiền án** là một **mối quan tâm nghiêm trọng** vì những người được người dân bầu chọn - gián tiếp là bộ mặt của quốc gia. Họ nên có một hình mẫu tốt hơn là một người không được xã hội tôn trọng.\n",
        "6. Như dự đoán của chúng tôi đã đề xuất, chúng tôi đã đạt **độ chính xác 95,8%** trong việc ước tính những người tham gia chiến thắng bằng cách sử dụng mô hình Random Forest."
      ]
    },
    {
      "cell_type": "code",
      "metadata": {
        "id": "NTpXov78l3M6"
      },
      "source": [
        ""
      ],
      "execution_count": null,
      "outputs": []
    }
  ]
}